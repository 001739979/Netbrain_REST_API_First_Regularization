{
 "cells": [
  {
   "cell_type": "code",
   "execution_count": 3,
   "metadata": {},
   "outputs": [
    {
     "data": {
      "text/plain": [
       "'Get tenants failed! - {\"statusCode\":795005,\"statusDescription\":\"Invalid token.\"}'"
      ]
     },
     "execution_count": 3,
     "metadata": {},
     "output_type": "execute_result"
    }
   ],
   "source": [
    "# import python modules \n",
    "import json\n",
    "import requests\n",
    "import time\n",
    "import urllib3\n",
    "import pprint\n",
    "urllib3.disable_warnings(urllib3.exceptions.InsecureRequestWarning)\n",
    "\n",
    "token = \"9754243a-259c-4656-9f17-a8d1033416c1\"\n",
    "nb_url = \"http://192.168.28.79\"  \n",
    "\n",
    "def getTenants(nb_url, token):\n",
    "    full_url = nb_url + \"/ServicesAPI/API/V1/CMDB/Tenants\"\n",
    "    # Set proper headers\n",
    "    headers = {'Content-Type': 'application/json', 'Accept': 'application/json'}\n",
    "    headers[\"Token\"]=token\n",
    "    try:\n",
    "        # Do the HTTP request\n",
    "        response = requests.get(full_url, headers=headers, verify=False)\n",
    "        # Check for HTTP codes other than 200\n",
    "        if response.status_code == 200:\n",
    "            # Decode the JSON response into a dictionary and use the data\n",
    "            result = response.json()\n",
    "            return (result)\n",
    "        else:\n",
    "            return (\"Get tenants failed! - \" + str(response.text))\n",
    "    except Exception as e: return (str(e))\n",
    "\n",
    "allT = getTenants(nb_url, token)\n",
    "allT"
   ]
  },
  {
   "cell_type": "code",
   "execution_count": 4,
   "metadata": {},
   "outputs": [
    {
     "data": {
      "text/plain": [
       "{'tenants': [{'tenantId': 'fb24f3f0-81a7-1929-4b8f-99106c23fa5b',\n",
       "   'tenantName': 'Initial Tenant'}],\n",
       " 'statusCode': 790200,\n",
       " 'statusDescription': 'Success.'}"
      ]
     },
     "execution_count": 4,
     "metadata": {},
     "output_type": "execute_result"
    }
   ],
   "source": [
    "token = \"d7163e3c-ba2d-467c-8718-92e96eb66d43\"\n",
    "nb_url = \"http://192.168.28.79\"  \n",
    "\n",
    "def getTenants(nb_url, token):\n",
    "    full_url = nb_url + \"/ServicesAPI/API/V1/CMDB/Tenants\"\n",
    "    # Set proper headers\n",
    "    headers = {'Content-Type': 'application/json', 'Accept': 'application/json'}\n",
    "    headers[\"Token\"]=token\n",
    "    try:\n",
    "        # Do the HTTP request\n",
    "        response = requests.get(full_url, headers=headers, verify=True)\n",
    "        # Check for HTTP codes other than 200\n",
    "        if response.status_code == 200:\n",
    "            # Decode the JSON response into a dictionary and use the data\n",
    "            result = response.json()\n",
    "            return (result)\n",
    "        else:\n",
    "            return (\"Get tenants failed! - \" + str(response.text))\n",
    "    except Exception as e: return (str(e))\n",
    "\n",
    "allT = getTenants(nb_url, token)\n",
    "allT"
   ]
  },
  {
   "cell_type": "code",
   "execution_count": null,
   "metadata": {},
   "outputs": [],
   "source": []
  }
 ],
 "metadata": {
  "kernelspec": {
   "display_name": "Python 3",
   "language": "python",
   "name": "python3"
  },
  "language_info": {
   "codemirror_mode": {
    "name": "ipython",
    "version": 3
   },
   "file_extension": ".py",
   "mimetype": "text/x-python",
   "name": "python",
   "nbconvert_exporter": "python",
   "pygments_lexer": "ipython3",
   "version": "3.7.1"
  }
 },
 "nbformat": 4,
 "nbformat_minor": 2
}
