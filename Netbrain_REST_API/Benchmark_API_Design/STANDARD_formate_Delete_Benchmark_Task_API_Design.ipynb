{
 "cells": [
  {
   "cell_type": "markdown",
   "metadata": {},
   "source": [
    "# Benchmark API Design"
   ]
  },
  {
   "cell_type": "markdown",
   "metadata": {},
   "source": [
    "## ***DELETE*** /V1/CMDB/Benchmark/Tasks/{task_name}\n",
    "This API call is used to delete a benchmark task definition by task name. It doesn't impact running task.\n",
    "\n",
    "* ## Detail Information\n",
    "\n",
    "> **Title** : Delete Benchmark Task API<br>\n",
    "\n",
    "> **Version** : 01/24/2019.\n",
    "\n",
    "> **API Server URL** : http(s)://\"IP address of NetBrain Web API Server\"/ServicesAPI/API/V1/CMDB/Benchmark/Tasks/{task_name}\n",
    "\n",
    "> **Authentication** : \n",
    "\n",
    ">|**Type**|**In**|**Name**|\n",
    "|------|------|------|\n",
    "|<img width=100/>|<img width=100/>|<img width=500/>|\n",
    "|Bearer Authentication| Headers | Authentication token | \n",
    "\n",
    "* ## Request body(****required***)\n",
    "\n",
    ">No request body\n",
    "\n",
    "* ## Path Parameters(****required***)\n",
    "\n",
    "> |**Name**|**Type**|**Description**|\n",
    "|------|------|------|\n",
    "|<img width=100/>|<img width=100/>|<img width=500/>|\n",
    "| taskname* | string  | The name of benchmark task which created by user calling the Add Benchmark API|\n",
    "\n",
    "* ## Headers\n",
    "\n",
    "> **Data Format Headers**\n",
    "\n",
    "> |**Name**|**Type**|**Description**|\n",
    "|------|------|------|\n",
    "|<img width=100/>|<img width=100/>|<img width=500/>|\n",
    "| Content-Type | string  | support \"application/json\" |\n",
    "| Accept | string  | support \"application/json\" |\n",
    "\n",
    "> **Authorization Headers**\n",
    "\n",
    ">|**Name**|**Type**|**Description**|\n",
    "|------|------|------|\n",
    "|<img width=100/>|<img width=100/>|<img width=500/>|\n",
    "| token | string  | Authentication token, get from login API. |\n",
    "\n",
    "* ## Response\n",
    "\n",
    "> |**Name**|**Type**|**Description**|\n",
    "|------|------|------|\n",
    "|<img width=100/>|<img width=100/>|<img width=500/>|\n",
    "|statusCode| integer | Code issued by NetBrain server indicating the execution result.  |\n",
    "|statusDescription| string | The explanation of the status code. |\n",
    "\n",
    "> ***Example***"
   ]
  },
  {
   "cell_type": "code",
   "execution_count": null,
   "metadata": {},
   "outputs": [],
   "source": [
    "{\n",
    "    \"statusCode\": 790200,\n",
    "    \"statusDescription\": \"Success.\"\n",
    "}"
   ]
  },
  {
   "cell_type": "markdown",
   "metadata": {},
   "source": [
    "* # Full Example :"
   ]
  },
  {
   "cell_type": "code",
   "execution_count": 8,
   "metadata": {},
   "outputs": [
    {
     "name": "stdout",
     "output_type": "stream",
     "text": [
      "{'statusCode': 790200, 'statusDescription': 'Success.'}\n"
     ]
    }
   ],
   "source": [
    "# import python modules \n",
    "import requests\n",
    "import time\n",
    "import urllib3\n",
    "import pprint\n",
    "import json\n",
    "urllib3.disable_warnings(urllib3.exceptions.InsecureRequestWarning)\n",
    "\n",
    "token = \"dbd4e523-5964-4c2d-ba8f-da018cfb6299\"\n",
    "task_name = \"Scheduled System DiscoveryGDL\"\n",
    "nb_url = \"http://192.168.28.79\"\n",
    "\n",
    "full_url = nb_url + \"/ServicesAPI/API/V1/CMDB/Benchmark/Tasks/\" + task_name\n",
    "\n",
    "headers = {'Content-Type': 'application/json', 'Accept': 'application/json'}\n",
    "headers[\"Token\"] = token\n",
    "\n",
    "try:\n",
    "    response = requests.delete(full_url, headers=headers, verify=False)\n",
    "    if response.status_code == 200:\n",
    "        result = response.json()\n",
    "        print (result)\n",
    "    else:\n",
    "        print (\"Benchmark Task running Failed! - \" + str(response.text))\n",
    "except Exception as e:\n",
    "    print (str(e)) "
   ]
  },
  {
   "cell_type": "markdown",
   "metadata": {},
   "source": [
    "* # cURL Code from Postman"
   ]
  },
  {
   "cell_type": "code",
   "execution_count": null,
   "metadata": {},
   "outputs": [],
   "source": [
    "curl -X DELETE \\\n",
    "  http://192.168.28.79/ServicesAPI/API/V1/CMDB/Benchmark/Tasks/Scheduled%20System%20DiscoveryGDL \\\n",
    "  -H 'Postman-Token: 2e8959b4-202f-40a3-bd4b-e13c6d02a728' \\\n",
    "  -H 'Token: 35c83b3a-2c2c-4332-9d73-e21f2174904f' \\\n",
    "  -H 'cache-control: no-cache'"
   ]
  },
  {
   "cell_type": "markdown",
   "metadata": {},
   "source": [
    "* # Error Examples:"
   ]
  },
  {
   "cell_type": "code",
   "execution_count": null,
   "metadata": {},
   "outputs": [],
   "source": [
    "###################################################################################################################    \n",
    "\n",
    "\"\"\"Error 1: empty task_name\"\"\"\n",
    "\n",
    "Input:\n",
    "    task_name = \"\"\n",
    "\n",
    "Response:\n",
    "    \"Benchmark Task running Failed! - \n",
    "        {\n",
    "            \"statusCode\":793405,\n",
    "            \"statusDescription\":\"Method is not supported\"\n",
    "        }\"\n",
    "        \n",
    "###################################################################################################################    \n",
    "\n",
    "\"\"\"Error 2: the benchmark task with provided task_name does not exist\"\"\"\n",
    "\n",
    "Input:\n",
    "    task_name = \"Scheduled System DiscoveryGDL\"\n",
    "\n",
    "Response:\n",
    "    \"Benchmark Task running Failed! - \n",
    "        {\n",
    "            \"statusCode\":794004,\n",
    "            \"statusDescription\":\"Task 'Scheduled System DiscoveryGDL' does not exist.\"\n",
    "        }\""
   ]
  }
 ],
 "metadata": {
  "kernelspec": {
   "display_name": "Python 3",
   "language": "python",
   "name": "python3"
  },
  "language_info": {
   "codemirror_mode": {
    "name": "ipython",
    "version": 3
   },
   "file_extension": ".py",
   "mimetype": "text/x-python",
   "name": "python",
   "nbconvert_exporter": "python",
   "pygments_lexer": "ipython3",
   "version": "3.7.1"
  }
 },
 "nbformat": 4,
 "nbformat_minor": 2
}
