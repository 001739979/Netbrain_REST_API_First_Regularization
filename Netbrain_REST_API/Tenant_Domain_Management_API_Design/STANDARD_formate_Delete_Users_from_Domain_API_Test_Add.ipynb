{
 "cells": [
  {
   "cell_type": "code",
   "execution_count": 10,
   "metadata": {},
   "outputs": [
    {
     "name": "stdout",
     "output_type": "stream",
     "text": [
      "{'statusCode': 790200, 'statusDescription': 'Success.'}\n"
     ]
    }
   ],
   "source": [
    "# import python modules \n",
    "import requests\n",
    "import time\n",
    "import urllib3\n",
    "import pprint\n",
    "import json\n",
    "urllib3.disable_warnings(urllib3.exceptions.InsecureRequestWarning)\n",
    "\n",
    "# Set the request inputs\n",
    "token = \"220d6462-ba64-4058-83cb-affb2d55de78\"\n",
    "nb_url = \"http://192.168.28.79\"\n",
    "full_url = nb_url + \"/ServicesAPI/API/V1/CMDB/Domains/Users\"\n",
    "headers = {'Content-Type': 'application/json', 'Accept': 'application/json'}\n",
    "headers[\"Token\"] = token\n",
    "\n",
    "'''domainId = \"bcae6de1-55b3-45c2-9dbd-ced9bf14b1e0\" \n",
    "users = [ \"gongdaiAdmin\"] '''\n",
    "\n",
    "domainId = \"9f43080f-d502-4ddb-9c76-006c3ef665ad\" \n",
    "users = [\"gdluserTest\"] \n",
    "\n",
    "body = {\n",
    "    \"domainId\": domainId, \n",
    "    \"users\": users\n",
    "}\n",
    "\n",
    "try:\n",
    "    response = requests.put(full_url, data = json.dumps(body), headers = headers, verify = False)\n",
    "    if response.status_code == 200:\n",
    "        result = response.json()\n",
    "        print (result)\n",
    "    else:\n",
    "        print (\"Delete users from domain failed! - \" + str(response.text))\n",
    "    \n",
    "except Exception as e:\n",
    "    print (str(e)) "
   ]
  },
  {
   "cell_type": "code",
   "execution_count": null,
   "metadata": {},
   "outputs": [],
   "source": [
    "Delete users from domain failed! - \n",
    "{\"statusCode\":791000,\"statusDescription\":\"Null parameter: the parameter 'users' cannot be null.\"}\n",
    "\n",
    "Delete users from domain failed! - \n",
    "{\"statusCode\":794011,\"statusDescription\":\"Operation failed. Reason: A user with system or tenant admin permissions is contained in the user list.\"}"
   ]
  }
 ],
 "metadata": {
  "kernelspec": {
   "display_name": "Python 3",
   "language": "python",
   "name": "python3"
  },
  "language_info": {
   "codemirror_mode": {
    "name": "ipython",
    "version": 3
   },
   "file_extension": ".py",
   "mimetype": "text/x-python",
   "name": "python",
   "nbconvert_exporter": "python",
   "pygments_lexer": "ipython3",
   "version": "3.7.1"
  }
 },
 "nbformat": 4,
 "nbformat_minor": 2
}
