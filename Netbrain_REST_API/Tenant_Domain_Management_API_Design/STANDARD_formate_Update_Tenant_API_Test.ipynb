{
 "cells": [
  {
   "cell_type": "markdown",
   "metadata": {},
   "source": [
    "# Tenant Domain Management API Design"
   ]
  },
  {
   "cell_type": "markdown",
   "metadata": {},
   "source": [
    "## ***PUT*** /V1/CMDB/Tenants\n",
    "Calling this API to update a tenant specified by tenant id (how to get ID? see Get All Tenants).\n",
    "\n",
    "* ## Detail Information\n",
    "\n",
    "> **Title** : Update Tenant API<br>\n",
    "\n",
    "> **Version** : 02/05/2019.\n",
    "\n",
    "> **API Server URL** : http(s)://IP address of NetBrain Web API Server/ServicesAPI/API/V1/CMDB/Tenants\t\n",
    "\n",
    "> **Authentication** : \n",
    "\n",
    ">|**Type**|**In**|**Name**|\n",
    "|------|------|------|\n",
    "|<img width=100/>|<img width=100/>|<img width=500/>|\n",
    "|Bearer Authentication| Headers | Authentication token | \n",
    "\n",
    "* ## Request body(****required***)\n",
    "\n",
    ">|**Name**|**Type**|**Description**|\n",
    "|------|------|------|\n",
    "|<img width=100/>|<img width=100/>|<img width=500/>|\n",
    "|tenantId* | string | The tenant ID.  |\n",
    "|tenantName* | string  | The name of the created tenant.  |\n",
    "|maximumNodes | integer  | The maximum license nodes that the tenant owns. The number must be greater than 0.  |\n",
    "|description | string  | The description about the tenant.  |\n",
    "|maximumPorts | integer  | The maximum SDN physical ports that the tenant owns. >= 0. |\n",
    "|maximumCPU | integer  | The maximum SDN physical CPU's that the tenant owns. >= 0.  |\n",
    "\n",
    "> ***Example***"
   ]
  },
  {
   "cell_type": "code",
   "execution_count": null,
   "metadata": {},
   "outputs": [],
   "source": [
    "{\n",
    "    \"tenantId\": \"4e75247a-309c-4231-96a5-823b6cb1e78d\",\n",
    "    \"tenantName\": \"TenantName\",\n",
    "    \"description\": \"Description\",\n",
    "    \"maximumNodes\": 5\n",
    "}"
   ]
  },
  {
   "cell_type": "markdown",
   "metadata": {},
   "source": [
    "* ## Parameters(****required***)\n",
    "\n",
    ">No parameters required.\n",
    "\n",
    "* ## Headers\n",
    "\n",
    "> **Data Format Headers**\n",
    "\n",
    "> |**Name**|**Type**|**Description**|\n",
    "|------|------|------|\n",
    "|<img width=100/>|<img width=100/>|<img width=500/>|\n",
    "| Content-Type | string  | support \"application/json\" |\n",
    "| Accept | string  | support \"application/json\" |\n",
    "\n",
    "> **Authorization Headers**\n",
    "\n",
    "> |**Name**|**Type**|**Description**|\n",
    "|------|------|------|\n",
    "|<img width=100/>|<img width=100/>|<img width=500/>|\n",
    "| token | string  | Authentication token, get from login API. |\n",
    "\n",
    "* ## Response\n",
    "\n",
    ">|**Name**|**Type**|**Description**|\n",
    "|------|------|------|\n",
    "|<img width=100/>|<img width=100/>|<img width=500/>|\n",
    "|statusCode| integer | The returned status code of executing the API.  |\n",
    "|statusDescription| string | The explanation of the status code.  |\n",
    "\n",
    "> ***Example***"
   ]
  },
  {
   "cell_type": "code",
   "execution_count": null,
   "metadata": {},
   "outputs": [],
   "source": [
    "{\n",
    "    \"statusCode\": 790200,\n",
    "    \"statusDescription\": \"success\"\n",
    "}"
   ]
  },
  {
   "cell_type": "markdown",
   "metadata": {},
   "source": [
    "* # Full Example:"
   ]
  },
  {
   "cell_type": "code",
   "execution_count": 1,
   "metadata": {},
   "outputs": [
    {
     "name": "stdout",
     "output_type": "stream",
     "text": [
      "{'statusCode': 790200, 'statusDescription': 'Success.'}\n"
     ]
    }
   ],
   "source": [
    "# import python modules \n",
    "import requests\n",
    "import time\n",
    "import urllib3\n",
    "import pprint\n",
    "import json\n",
    "urllib3.disable_warnings(urllib3.exceptions.InsecureRequestWarning)\n",
    "\n",
    "# Set the request inputs\n",
    "token = \"855b2da0-306b-4c29-b37f-be09e33e2d02\"\n",
    "nb_url = \"http://192.168.28.79\"\n",
    "full_url = nb_url + \"/ServicesAPI/API/V1/CMDB/Tenants\"\n",
    "headers = {'Content-Type': 'application/json', 'Accept': 'application/json'}\n",
    "headers[\"Token\"] = token\n",
    "\n",
    "tenantId = \"2492adc4-6014-4c1f-b2d3-be4dadc4dd3e\"\n",
    "tenantName = \"testTenantNewName\"\n",
    "maximumNodes = 10\n",
    "\n",
    "body = {\n",
    "    \"tenantId\" : tenantId,\n",
    "    \"tenantName\" : tenantName,\n",
    "    \"maximumNodes\" : maximumNodes\n",
    "}\n",
    "\n",
    "try:\n",
    "    response = requests.put(full_url, data = json.dumps(body), headers = headers, verify = False)\n",
    "    if response.status_code == 200:\n",
    "        result = response.json()\n",
    "        print (result)\n",
    "    else:\n",
    "        print (\"Add tenant failed! - \" + str(response.text))\n",
    "    \n",
    "except Exception as e:\n",
    "    print (str(e)) "
   ]
  },
  {
   "cell_type": "markdown",
   "metadata": {},
   "source": [
    "* # cURL Code from Postman:"
   ]
  },
  {
   "cell_type": "code",
   "execution_count": null,
   "metadata": {},
   "outputs": [],
   "source": [
    "curl -X PUT \\\n",
    "  http://192.168.28.79/ServicesAPI/API/V1/CMDB/Tenants \\\n",
    "  -H 'Content-Type: application/json' \\\n",
    "  -H 'Postman-Token: 9b324059-cd0d-45ac-926e-cc7fcfe0f9b8' \\\n",
    "  -H 'cache-control: no-cache' \\\n",
    "  -H 'token: 855b2da0-306b-4c29-b37f-be09e33e2d02' \\\n",
    "  -d '{\n",
    "        \"tenantId\": \"2492adc4-6014-4c1f-b2d3-be4dadc4dd3e\",\n",
    "        \"tenantName\": \"testTenantNewName2\",\n",
    "        \"description\": \"Description\",\n",
    "        \"maximumNodes\": 5\n",
    "    }'"
   ]
  },
  {
   "cell_type": "markdown",
   "metadata": {},
   "source": [
    "* # Error Examples:"
   ]
  },
  {
   "cell_type": "code",
   "execution_count": null,
   "metadata": {},
   "outputs": [],
   "source": [
    "###################################################################################################################    \n",
    "\n",
    "\"\"\"Error 1: empty inputs\"\"\"\n",
    "\n",
    "Input:\n",
    "        \n",
    "        tenantId = \"\" # Can not be null.\n",
    "        tenantName = \"\"\n",
    "        maximumNodes = None\n",
    "        \n",
    "Response:\n",
    "    \n",
    "        # tenantId = \"\" \n",
    "        \"Add tenant failed! - \n",
    "            {\n",
    "                \"statusCode\":791000,\n",
    "                \"statusDescription\":\"Null parameter: the parameter 'tenantId' cannot be null.\"\n",
    "            }\"\n",
    "          \n",
    "        \"\"\"\"\"\"\"\"\"\"\"\"\"\"\"\"\"\"\"\"\"\"\"\"\"\"\"\"\"\"\"\"\"\"\"\"\"\"\"\"\"\"\"\"\"\"\"\"\"\"\"\"\"\"\"\"\"\"\"\"\"\"\"\"\"\"\"\"\"\"\"\"\"\"\"\"\"\"\"\"\"\"\"\"\"\n",
    "        # tenantName = \"\" \n",
    "        \"{\n",
    "            'statusCode': 790200, \n",
    "            'statusDescription': 'Success.'\n",
    "        }\"\n",
    "          \n",
    "        \"\"\"\"\"\"\"\"\"\"\"\"\"\"\"\"\"\"\"\"\"\"\"\"\"\"\"\"\"\"\"\"\"\"\"\"\"\"\"\"\"\"\"\"\"\"\"\"\"\"\"\"\"\"\"\"\"\"\"\"\"\"\"\"\"\"\"\"\"\"\"\"\"\"\"\"\"\"\"\"\"\"\"\"\"\n",
    "        # maximumNodes = None \n",
    "        \"{\n",
    "            'statusCode': 790200, \n",
    "            'statusDescription': 'Success.'\n",
    "        }\"\n",
    "        \n",
    "###################################################################################################################    \n",
    "\n",
    "\"\"\"Error 1: wrong tenantId inputs\"\"\"\n",
    "\n",
    "Input:\n",
    "        \n",
    "        tenantId = \"XXXXXXXXXXXXXXXXXXXXXXXXXXXXXXXX\" # No tenant called \"XXXXXXXXXXXXXXXXXXXXXXXXXXXXXXXX\"\n",
    "        tenantName = \"testTenantNewName5\"\n",
    "        maximumNodes = None\n",
    "\n",
    "        \n",
    "Response:\n",
    "    \n",
    "        \"Add tenant failed! - \n",
    "            {\n",
    "                \"statusCode\":791006,\n",
    "                \"statusDescription\":\"tenant with id XXXXXXXXXXXXXXXXXXXXXXXXXXXXXXXX does not exist.\"\n",
    "            }\"\n",
    "        \n",
    "###################################################################################################################    \n",
    "\n",
    "\"\"\"Error 1: duplicate update\"\"\"\"\"\"\"\"\"\"\"\"\"\"\"\"\"\"\"\"\"\"\"\"\"\"\"\"\"\"\"\"\"\"\"\"\"\"\"\"\"\"\"\"\"\"\"\"\"\"\"\"\"\"\"\"\"\"\"\"\"\"\"\"\"\"\"\"\"\"\"\"\"\"\"\"\"\"\"\"\"\"\"\n",
    "\n",
    "Input:\n",
    "        \n",
    "        tenantId = \"2492adc4-6014-4c1f-b2d3-be4dadc4dd3e\" # No any new informations.\n",
    "        tenantName = \"testTenantNewName\"\n",
    "        maximumNodes = 10\n",
    "\n",
    "        \n",
    "Response:\n",
    "    \n",
    "            \"{\n",
    "                'statusCode': 790200, \n",
    "                'statusDescription': 'Success.'\n",
    "            }\"\n",
    "        \n"
   ]
  },
  {
   "cell_type": "code",
   "execution_count": null,
   "metadata": {},
   "outputs": [],
   "source": [
    "'''\n",
    "Some Issues:\n",
    "\n",
    "        1) Success response too simple.\n",
    "        \n",
    "        2) Required parameters not accuracy.\n",
    "        \n",
    "        3) With empty or duplicate attribute values this API also return success, not efficiency.\n",
    "        \n",
    "'''"
   ]
  }
 ],
 "metadata": {
  "kernelspec": {
   "display_name": "Python 3",
   "language": "python",
   "name": "python3"
  },
  "language_info": {
   "codemirror_mode": {
    "name": "ipython",
    "version": 3
   },
   "file_extension": ".py",
   "mimetype": "text/x-python",
   "name": "python",
   "nbconvert_exporter": "python",
   "pygments_lexer": "ipython3",
   "version": "3.7.1"
  }
 },
 "nbformat": 4,
 "nbformat_minor": 2
}
