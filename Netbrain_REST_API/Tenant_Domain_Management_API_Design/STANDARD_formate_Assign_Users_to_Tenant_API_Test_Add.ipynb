{
 "cells": [
  {
   "cell_type": "code",
   "execution_count": 8,
   "metadata": {},
   "outputs": [
    {
     "name": "stdout",
     "output_type": "stream",
     "text": [
      "{'statusCode': 790200, 'statusDescription': 'Success.'}\n"
     ]
    }
   ],
   "source": [
    "# import python modules \n",
    "import requests\n",
    "import time\n",
    "import urllib3\n",
    "import pprint\n",
    "import json\n",
    "urllib3.disable_warnings(urllib3.exceptions.InsecureRequestWarning)\n",
    "\n",
    "# Set the request inputs\n",
    "token = \"855b2da0-306b-4c29-b37f-be09e33e2d02\"\n",
    "nb_url = \"http://192.168.28.79\"\n",
    "full_url = nb_url + \"/ServicesAPI/API/V1/CMDB/Tenants/Users\"\n",
    "headers = {'Content-Type': 'application/json', 'Accept': 'application/json'}\n",
    "headers[\"Token\"] = token\n",
    "\n",
    "'''tenantId = \"6f4e381a-1752-4b84-8a59-6ed6391614cf\"\n",
    "username = \"gongdaiAdmin\"\n",
    "isTenantAdmin = True'''\n",
    "\n",
    "tenantId = \"6f4e381a-1752-4b84-8a59-6ed6391614cf\"\n",
    "username = \"blahblah\"\n",
    "isTenantAdmin = \"hahahahahahah\"\n",
    "\n",
    "body = {\n",
    "        \"tenantId\": tenantId, \n",
    "        \"users\": [{\n",
    "                \"username\": username,\n",
    "                \"isTenantAdmin\": isTenantAdmin\n",
    "            }]\n",
    "    }\n",
    "\n",
    "try:\n",
    "    response = requests.post(full_url, data = json.dumps(body), headers = headers, verify = False)\n",
    "    if response.status_code == 200:\n",
    "        result = response.json()\n",
    "        print (result)\n",
    "    else:\n",
    "        print (\"Assign users to tenant failed! - \" + str(response.text))\n",
    "    \n",
    "except Exception as e:\n",
    "    print (str(e)) "
   ]
  },
  {
   "cell_type": "code",
   "execution_count": null,
   "metadata": {},
   "outputs": [],
   "source": [
    "Assign users to tenant failed! - \n",
    "{\"statusCode\":791000,\"statusDescription\":\"Null parameter: the parameter 'userName' cannot be null.\"}\n",
    "\n",
    "Assign users to tenant failed! - \n",
    "{\"statusCode\":791004,\"statusDescription\":\"Invalid tenant id.\"}\n",
    "\n"
   ]
  }
 ],
 "metadata": {
  "kernelspec": {
   "display_name": "Python 3",
   "language": "python",
   "name": "python3"
  },
  "language_info": {
   "codemirror_mode": {
    "name": "ipython",
    "version": 3
   },
   "file_extension": ".py",
   "mimetype": "text/x-python",
   "name": "python",
   "nbconvert_exporter": "python",
   "pygments_lexer": "ipython3",
   "version": "3.7.1"
  }
 },
 "nbformat": 4,
 "nbformat_minor": 2
}
