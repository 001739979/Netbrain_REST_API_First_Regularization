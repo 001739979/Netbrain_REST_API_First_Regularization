{
 "cells": [
  {
   "cell_type": "markdown",
   "metadata": {},
   "source": [
    "# Tenant Domain Management API Design"
   ]
  },
  {
   "cell_type": "markdown",
   "metadata": {},
   "source": [
    "## ***PUT*** /V1/CMDB/Domains/Users\n",
    "Calling this API to assign users and roles to a specified Domain.\n",
    "\n",
    "* ## Detail Information\n",
    "\n",
    "> **Title** : Remove Users from Domain API<br>\n",
    "\n",
    "> **Version** : 02/05/2019.\n",
    "\n",
    "> **API Server URL** : http(s)://IP address of NetBrain Web API Server/ServicesAPI/API/V1/CMDB/Domains/Users\t\n",
    "\n",
    "> **Authentication** : \n",
    "\n",
    ">|**Type**|**In**|**Name**|\n",
    "|------|------|------|\n",
    "|<img width=100/>|<img width=100/>|<img width=500/>|\n",
    "|Bearer Authentication| Headers | Authentication token | \n",
    "\n",
    "* ## Request body(****required***)\n",
    "\n",
    ">|**Name**|**Type**|**Description**|\n",
    "|------|------|------|\n",
    "|<img width=100/>|<img width=100/>|<img width=500/>|\n",
    "|domainId* | string | The Id of the domain. This field is optional.<br>▪ If this parameter presents, its value will be used;<br>▪ If not, this parameter uses the value of domainId in the SetCurrentDomain;<br>▪ If this parameter cannot get a value by either of the above ways, an error will prompt.|\n",
    "|users* | list of object | List of user info.|\n",
    "\n",
    "* ## Parameters(****required***)\n",
    "\n",
    ">No parameters required.\n",
    "\n",
    "* ## Headers\n",
    "\n",
    "> **Data Format Headers**\n",
    "\n",
    "> |**Name**|**Type**|**Description**|\n",
    "|------|------|------|\n",
    "|<img width=100/>|<img width=100/>|<img width=500/>|\n",
    "| Content-Type | string  | support \"application/json\" |\n",
    "| Accept | string  | support \"application/json\" |\n",
    "\n",
    "> **Authorization Headers**\n",
    "\n",
    "> |**Name**|**Type**|**Description**|\n",
    "|------|------|------|\n",
    "|<img width=100/>|<img width=100/>|<img width=500/>|\n",
    "| token | string  | Authentication token, get from login API. |\n",
    "\n",
    "* ## Response\n",
    "\n",
    ">|**Name**|**Type**|**Description**|\n",
    "|------|------|------|\n",
    "|<img width=100/>|<img width=100/>|<img width=500/>|\n",
    "|statusCode| integer | The returned status code of executing the API.  |\n",
    "|statusDescription| string | The explanation of the status code.  |\n",
    "\n",
    "> ***Example***"
   ]
  },
  {
   "cell_type": "code",
   "execution_count": null,
   "metadata": {},
   "outputs": [],
   "source": [
    "{\n",
    "    \"statusCode\": 790200,\n",
    "    \"statusDescription\": \"string\",\n",
    "}"
   ]
  },
  {
   "cell_type": "markdown",
   "metadata": {},
   "source": [
    "* # Full Example:"
   ]
  },
  {
   "cell_type": "code",
   "execution_count": 10,
   "metadata": {},
   "outputs": [
    {
     "name": "stdout",
     "output_type": "stream",
     "text": [
      "{'statusCode': 790200, 'statusDescription': 'Success.'}\n"
     ]
    }
   ],
   "source": [
    "# import python modules \n",
    "import requests\n",
    "import time\n",
    "import urllib3\n",
    "import pprint\n",
    "import json\n",
    "urllib3.disable_warnings(urllib3.exceptions.InsecureRequestWarning)\n",
    "\n",
    "# Set the request inputs\n",
    "token = \"220d6462-ba64-4058-83cb-affb2d55de78\"\n",
    "nb_url = \"http://192.168.28.79\"\n",
    "full_url = nb_url + \"/ServicesAPI/API/V1/CMDB/Domains/Users\"\n",
    "headers = {'Content-Type': 'application/json', 'Accept': 'application/json'}\n",
    "headers[\"Token\"] = token\n",
    "\n",
    "domainId = \"bcae6de1-55b3-45c2-9dbd-ced9bf14b1e0\" \n",
    "users = [ \"gdluserTest\"] \n",
    "\n",
    "body = {\n",
    "    \"domainId\": domainId, \n",
    "    \"users\": users\n",
    "}\n",
    "\n",
    "try:\n",
    "    response = requests.put(full_url, data = json.dumps(body), headers = headers, verify = False)\n",
    "    if response.status_code == 200:\n",
    "        result = response.json()\n",
    "        print (result)\n",
    "    else:\n",
    "        print (\"Delete users from domain failed! - \" + str(response.text))\n",
    "    \n",
    "except Exception as e:\n",
    "    print (str(e)) "
   ]
  },
  {
   "cell_type": "markdown",
   "metadata": {},
   "source": [
    "* # cURL Code from Postman:"
   ]
  },
  {
   "cell_type": "code",
   "execution_count": null,
   "metadata": {},
   "outputs": [],
   "source": [
    "curl -X PUT \\\n",
    "  http://192.168.28.79/ServicesAPI/API/V1/CMDB/Domains/Users \\\n",
    "  -H 'Content-Type: application/json' \\\n",
    "  -H 'Postman-Token: 0ee44c87-143a-4eaf-8c96-e5a79e6a14a2' \\\n",
    "  -H 'cache-control: no-cache' \\\n",
    "  -H 'token: 4b78f855-6515-4c1f-b4ae-408bfdedcfad' \\\n",
    "  -d '{\n",
    "        \"domainId\": \"bcae6de1-55b3-45c2-9dbd-ced9bf14b1e0\", \n",
    "        \"users\": [ \"gongdaiAdmin\"]\n",
    "    }'"
   ]
  },
  {
   "cell_type": "markdown",
   "metadata": {},
   "source": [
    "* # Error Examples:"
   ]
  },
  {
   "cell_type": "code",
   "execution_count": null,
   "metadata": {},
   "outputs": [],
   "source": [
    "###################################################################################################################    \n",
    "\n",
    "\"\"\"Error 1: empty inputs\"\"\"\n",
    "\n",
    "Input:\n",
    "    \n",
    "        domainId = \"\"  # Can not be null\n",
    "        users = [\"\"]  # Can not be null\n",
    "        \n",
    "Response:\n",
    "    \n",
    "    \"Delete users from domain failed! - \n",
    "    {\n",
    "        \"statusCode\":791000,\n",
    "        \"statusDescription\":\"Null parameter: the parameter 'users' cannot be null.\"\n",
    "    }\"\n",
    "    \n",
    "###################################################################################################################    \n",
    "\n",
    "\"\"\"Error 1: wrong privilege user role\"\"\"\n",
    "\n",
    "Input:\n",
    "    \n",
    "        domainId = \"9f43080f-d502-4ddb-9c76-006c3ef665ad\" \n",
    "        users = [\"gdluserTest\"]  # user as a tenant admin of current tenant or system admin. \n",
    "        \n",
    "Response:\n",
    "    \n",
    "    \"Delete users from domain failed! - \n",
    "    {\n",
    "        \"statusCode\":794011,\n",
    "        \"statusDescription\":\"Operation failed. Reason: \n",
    "                            \"A user with system or tenant admin permissions is contained in the user list.\"\n",
    "    }\""
   ]
  },
  {
   "cell_type": "code",
   "execution_count": null,
   "metadata": {},
   "outputs": [],
   "source": [
    "'''\n",
    "Some issues:\n",
    "\n",
    "        1) success response too simple.\n",
    "        \n",
    "        2) the \"domainID\" can be null, although that is reasonable but wired.\n",
    "        \n",
    "        3) We should mention users when they calling this API, users must clarify the privilege of the other user which \n",
    "           will be remove from the domain first, or ther would be some unexpected error occcured.\n",
    "'''"
   ]
  },
  {
   "cell_type": "code",
   "execution_count": null,
   "metadata": {},
   "outputs": [],
   "source": []
  }
 ],
 "metadata": {
  "kernelspec": {
   "display_name": "Python 3",
   "language": "python",
   "name": "python3"
  },
  "language_info": {
   "codemirror_mode": {
    "name": "ipython",
    "version": 3
   },
   "file_extension": ".py",
   "mimetype": "text/x-python",
   "name": "python",
   "nbconvert_exporter": "python",
   "pygments_lexer": "ipython3",
   "version": "3.7.1"
  }
 },
 "nbformat": 4,
 "nbformat_minor": 2
}
