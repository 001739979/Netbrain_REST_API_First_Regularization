{
 "cells": [
  {
   "cell_type": "markdown",
   "metadata": {},
   "source": [
    "# User API Design"
   ]
  },
  {
   "cell_type": "markdown",
   "metadata": {},
   "source": [
    "## ***PUT*** /V1/CMDB/Users\n",
    "Call this API to modify user information.\n",
    "\n",
    "Note that, all optional fileds are only used to modify the value rather than to clear the value of this filed. so, if this filed is set to null or empty string, no change would be made for this field.\n",
    "\n",
    "The only way to clear a field is delete a user and add this user back with new value.\n",
    "\n",
    "* ## Detail Information\n",
    "\n",
    "> **Title** : Update User API<br>\n",
    "\n",
    "> **Version** : 02/01/2019.\n",
    "\n",
    "> **API Server URL** : http(s)://IP address of NetBrain Web API Server/ServicesAPI/API/V1/CMDB/Users\n",
    "\n",
    "> **Authentication** : \n",
    "\n",
    ">|**Type**|**In**|**Name**|\n",
    "|------|------|------|\n",
    "|<img width=100/>|<img width=100/>|<img width=500/>|\n",
    "|Bearer Authentication| Headers | Authentication token | \n",
    "\n",
    "* ## Request body(****required***)\n",
    "\n",
    ">|**Name**|**Type**|**Description**|\n",
    "|------|------|------|\n",
    "|<img width=100/>|<img width=100/>|<img width=500/>|\n",
    "|username* | string  | The user name. This parameter is required.  |\n",
    "|email* | string  | The email address of the user. This parameter is required. |\n",
    "|firstName* | string  | The first name of the user. This parameter is required.  |\n",
    "|lastName* | string  | The last name of the user. This parameter is required. |\n",
    "|password* | string  | The login password. The allowed length is 6-128 characters by default. This parameter is required.  |\n",
    "|authenticationType | integer |The authentication type for the user account.<br>▪ 1 - Local<br>▪ 2 - External|\n",
    "|phoneNumber | string |The phone number of the user.|\n",
    "|department | string |The department that the user belongs to.|\n",
    "|description | string |Any description about the account.|\n",
    "|allowChangePassword | bool |Specify whether to allow the user to change password independently. This parameter is required.|\n",
    "|deactivatedTime | string |Specify the time when the account is expired.|\n",
    "|isSystemAdmin | bool |Decide whether to allocate system administrator role to the user. This parameter is required.|\n",
    "|tenants | list of tenant object |Specify a list of tenants for the user.<br>Only required if the parameter isSystemAdmin is false.<br>▪ tenantName (string) - the tenant that the user can access.<br>▪ isTenantAdmin (bool) - decide whether to allocate the tenant administrator role to the user. If false, you need to specify a domain for the user to access.<br>▪ allowCreateDomain (bool) - decide whether to allow the user to create domains.<br>▪ domains - required only if the parameter isTenantAdmin is false.<br>---domainName - the domain name.<br>---domainRoles - the role of the domain user.|\n",
    "\n",
    "> ***Example***"
   ]
  },
  {
   "cell_type": "code",
   "execution_count": null,
   "metadata": {},
   "outputs": [],
   "source": [
    "{\n",
    "      \"username\": \"NetBrain\",\n",
    "      \"email\": \"NetBrain@netbrain.com\",\n",
    "      \"firstName\": \"NetBrain\",\n",
    "      \"lastName\": \"NetBrain\",\n",
    "      \"password\": \"NetBrain\",\n",
    "      \"authenticationType\": 1 or 2,\n",
    "      \"phoneNumber\": \"string\",\n",
    "      \"department\": \"string\",\n",
    "      \"description\": \"string\",\n",
    "      \"allowChangePassword\": True or False,\n",
    "      \"deactivatedTime\": \"string\",\n",
    "      \"isSystemAdmin\": True or False,\n",
    "      \"tenants\": [tenants objects ...]\n",
    "}"
   ]
  },
  {
   "cell_type": "markdown",
   "metadata": {},
   "source": [
    "* ## Parameters(****required***)\n",
    "\n",
    ">No parameters required.\n",
    "\n",
    "* ## Headers\n",
    "\n",
    "> **Data Format Headers**\n",
    "\n",
    "> |**Name**|**Type**|**Description**|\n",
    "|------|------|------|\n",
    "|<img width=100/>|<img width=100/>|<img width=500/>|\n",
    "| Content-Type | string  | support \"application/json\" |\n",
    "| Accept | string  | support \"application/json\" |\n",
    "\n",
    "> **Authorization Headers**\n",
    "\n",
    "> |**Name**|**Type**|**Description**|\n",
    "|------|------|------|\n",
    "|<img width=100/>|<img width=100/>|<img width=500/>|\n",
    "| token | string  | Authentication token, get from login API. |\n",
    "\n",
    "* ## Response\n",
    "\n",
    ">|**Name**|**Type**|**Description**|\n",
    "|------|------|------|\n",
    "|<img width=100/>|<img width=100/>|<img width=500/>|\n",
    "|statusCode| integer | The returned status code of executing the API.  |\n",
    "|statusDescription| string | The explanation of the status code.  |\n",
    "\n",
    "> ***Example***"
   ]
  },
  {
   "cell_type": "code",
   "execution_count": null,
   "metadata": {},
   "outputs": [],
   "source": [
    "{\n",
    "    'statusCode': 790200,\n",
    "    'statusDescription': 'Success.'\n",
    "}"
   ]
  },
  {
   "cell_type": "markdown",
   "metadata": {},
   "source": [
    "* # Full Example:"
   ]
  },
  {
   "cell_type": "code",
   "execution_count": 1,
   "metadata": {},
   "outputs": [
    {
     "name": "stdout",
     "output_type": "stream",
     "text": [
      "{'statusCode': 790200, 'statusDescription': 'Success.'}\n"
     ]
    }
   ],
   "source": [
    "# import python modules \n",
    "import requests\n",
    "import time\n",
    "import urllib3\n",
    "import pprint\n",
    "import json\n",
    "urllib3.disable_warnings(urllib3.exceptions.InsecureRequestWarning)\n",
    "\n",
    "# Set the request inputs\n",
    "token = \"005fd6cc-cf08-4742-985b-902503dad2a4\"\n",
    "nb_url = \"http://192.168.28.79\"\n",
    "full_url = nb_url + \"/ServicesAPI/API/V1/CMDB/Users\"\n",
    "headers = {'Content-Type': 'application/json', 'Accept': 'application/json'}\n",
    "headers[\"Token\"] = token\n",
    "\n",
    "username = \"NetBrain2\"\n",
    "email = \"NetBrain2@netbrain.com\"\n",
    "firstName = \"NetBrain\"\n",
    "lastName = \"NetBrain\"\n",
    "password = \"NetBrain\"\n",
    "authenticationType = 1 \n",
    "phoneNumber = \"string\"\n",
    "department = \"string\"\n",
    "description = \"string\"\n",
    "allowChangePassword = True\n",
    "deactivatedTime = \"string\"\n",
    "isSystemAdmin = False\n",
    "tenants = []\n",
    "\n",
    "body = {\n",
    "        \"username\": username,\n",
    "        \"email\": email,\n",
    "        \"firstName\": firstName,\n",
    "        \"lastName\": lastName,\n",
    "        \"password\": password,\n",
    "        \"authenticationType\" : authenticationType,\n",
    "        \"phoneNumber\" : phoneNumber,\n",
    "        \"department\" : department,\n",
    "        \"description\" : description,\n",
    "        \"allowChangePassword\": allowChangePassword,\n",
    "        \"deactivatedTime\" : deactivatedTime,\n",
    "        \"isSystemAdmin\":isSystemAdmin,\n",
    "        \"tenants\" : tenants\n",
    "       }\n",
    "\n",
    "try:\n",
    "    response = requests.put(full_url, data = json.dumps(body), headers = headers, verify = False)\n",
    "    if response.status_code == 200:\n",
    "        result = response.json()\n",
    "        print (result)\n",
    "    else:\n",
    "        print (\"Add New User failed! - \" + str(response.text))\n",
    "    \n",
    "except Exception as e:\n",
    "    print (str(e)) "
   ]
  },
  {
   "cell_type": "markdown",
   "metadata": {},
   "source": [
    "* # cURL Code from Postman:"
   ]
  },
  {
   "cell_type": "code",
   "execution_count": null,
   "metadata": {},
   "outputs": [],
   "source": [
    "curl -X PUT \\\n",
    "  http://192.168.28.79/ServicesAPI/API/V1/CMDB/Users \\\n",
    "  -H 'Content-Type: application/json' \\\n",
    "  -H 'Postman-Token: bd33ab9d-7ce8-498d-a78d-c5b67186d998' \\\n",
    "  -H 'cache-control: no-cache' \\\n",
    "  -H 'token: 005fd6cc-cf08-4742-985b-902503dad2a4' \\\n",
    "  -d '{\n",
    "        \"username\": \"NetBrain1\",\n",
    "        \"email\": \"NetBrain1@netbrain.com\",\n",
    "        \"firstName\": \"NetBrain\",\n",
    "        \"lastName\": \"NetBrain\",\n",
    "        \"password\": \"NetBrain\",\n",
    "        \"authenticationType\" : 1,\n",
    "        \"phoneNumber\" : \"string\",\n",
    "        \"department\" : \"string\",\n",
    "        \"description\" : \"string\",\n",
    "        \"allowChangePassword\": \"True\",\n",
    "        \"deactivatedTime\" : \"string\",\n",
    "        \"isSystemAdmin\":\"True\",\n",
    "        \"tenants\" : []\n",
    "    }'"
   ]
  },
  {
   "cell_type": "markdown",
   "metadata": {},
   "source": [
    "* # Same Examples with Add User API"
   ]
  },
  {
   "cell_type": "code",
   "execution_count": null,
   "metadata": {},
   "outputs": [],
   "source": []
  }
 ],
 "metadata": {
  "kernelspec": {
   "display_name": "Python 3",
   "language": "python",
   "name": "python3"
  },
  "language_info": {
   "codemirror_mode": {
    "name": "ipython",
    "version": 3
   },
   "file_extension": ".py",
   "mimetype": "text/x-python",
   "name": "python",
   "nbconvert_exporter": "python",
   "pygments_lexer": "ipython3",
   "version": "3.7.1"
  }
 },
 "nbformat": 4,
 "nbformat_minor": 2
}
