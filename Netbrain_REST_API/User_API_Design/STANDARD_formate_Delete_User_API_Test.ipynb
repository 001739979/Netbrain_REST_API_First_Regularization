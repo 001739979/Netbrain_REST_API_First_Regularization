{
 "cells": [
  {
   "cell_type": "markdown",
   "metadata": {},
   "source": [
    "# User API Design"
   ]
  },
  {
   "cell_type": "markdown",
   "metadata": {},
   "source": [
    "## ***DELETE*** /V1/CMDB/Users/{userName}\n",
    "Call this API to delete a user account from NetBrain system.\n",
    "\n",
    "* ## Detail Information\n",
    "\n",
    "> **Title** : Delete User API<br>\n",
    "\n",
    "> **Version** : 02/01/2019.\n",
    "\n",
    "> **API Server URL** : http(s)://IP address of NetBrain Web API Server/ServicesAPI/API/V1/CMDB/Users/{userName}\n",
    "\n",
    "> **Authentication** : \n",
    "\n",
    ">|**Type**|**In**|**Name**|\n",
    "|------|------|------|\n",
    "|<img width=100/>|<img width=100/>|<img width=500/>|\n",
    "|Bearer Authentication| Headers | Authentication token | \n",
    "\n",
    "* ## Request body(****required***)\n",
    "\n",
    "> No request body.\n",
    "\n",
    "* ## Path Parameters(****required***)\n",
    "\n",
    ">|**Name**|**Type**|**Description**|\n",
    "|------|------|------|\n",
    "|<img width=100/>|<img width=100/>|<img width=500/>|\n",
    "|username* | string  | The user name of one user account which going to be deleted. |\n",
    "\n",
    "* ## Headers\n",
    "\n",
    "> **Data Format Headers**\n",
    "\n",
    "> |**Name**|**Type**|**Description**|\n",
    "|------|------|------|\n",
    "|<img width=100/>|<img width=100/>|<img width=500/>|\n",
    "| Content-Type | string  | support \"application/json\" |\n",
    "| Accept | string  | support \"application/json\" |\n",
    "\n",
    "> **Authorization Headers**\n",
    "\n",
    "> |**Name**|**Type**|**Description**|\n",
    "|------|------|------|\n",
    "|<img width=100/>|<img width=100/>|<img width=500/>|\n",
    "| token | string  | Authentication token, get from login API. |\n",
    "\n",
    "* ## Response\n",
    "\n",
    ">|**Name**|**Type**|**Description**|\n",
    "|------|------|------|\n",
    "|<img width=100/>|<img width=100/>|<img width=500/>|\n",
    "|statusCode| integer | The returned status code of executing the API.  |\n",
    "|statusDescription| string | The explanation of the status code.  |\n",
    "\n",
    "> ***Example***"
   ]
  },
  {
   "cell_type": "code",
   "execution_count": null,
   "metadata": {},
   "outputs": [],
   "source": [
    "{\n",
    "    'statusCode': 790200,\n",
    "    'statusDescription': 'Success.'\n",
    "}"
   ]
  },
  {
   "cell_type": "markdown",
   "metadata": {},
   "source": [
    "* # Full Example:"
   ]
  },
  {
   "cell_type": "code",
   "execution_count": 1,
   "metadata": {},
   "outputs": [
    {
     "name": "stdout",
     "output_type": "stream",
     "text": [
      "{'statusCode': 790200, 'statusDescription': 'Success.'}\n"
     ]
    }
   ],
   "source": [
    "# import python modules \n",
    "import requests\n",
    "import time\n",
    "import urllib3\n",
    "import pprint\n",
    "import json\n",
    "urllib3.disable_warnings(urllib3.exceptions.InsecureRequestWarning)\n",
    "\n",
    "# Set the request inputs\n",
    "token = \"005fd6cc-cf08-4742-985b-902503dad2a4\"\n",
    "nb_url = \"http://192.168.28.79\"\n",
    "\n",
    "username = \"NetBrain\"\n",
    "full_url = nb_url + \"/ServicesAPI/API/V1/CMDB/Users/\" + str(username)\n",
    "headers = {'Content-Type': 'application/json', 'Accept': 'application/json'}\n",
    "headers[\"Token\"] = token\n",
    "\n",
    "try:\n",
    "    response = requests.delete(full_url, headers = headers, verify = False)\n",
    "    if response.status_code == 200:\n",
    "        result = response.json()\n",
    "        print (result)\n",
    "    else:\n",
    "        print (\"Delete user account failed! - \" + str(response.text))\n",
    "    \n",
    "except Exception as e:\n",
    "    print (str(e)) "
   ]
  },
  {
   "cell_type": "markdown",
   "metadata": {},
   "source": [
    "* # cURL Code from Postman:"
   ]
  },
  {
   "cell_type": "code",
   "execution_count": null,
   "metadata": {},
   "outputs": [],
   "source": [
    "curl -X DELETE \\\n",
    "  http://192.168.28.79/ServicesAPI/API/V1/CMDB/Users/Netbrain1 \\\n",
    "  -H 'Postman-Token: f303ba1f-55ab-43d8-9d39-d00e936a5ef5' \\\n",
    "  -H 'cache-control: no-cache' \\\n",
    "  -H 'token: 005fd6cc-cf08-4742-985b-902503dad2a4'"
   ]
  },
  {
   "cell_type": "markdown",
   "metadata": {},
   "source": [
    "* # Error Examples:"
   ]
  },
  {
   "cell_type": "code",
   "execution_count": null,
   "metadata": {},
   "outputs": [],
   "source": [
    "###################################################################################################################    \n",
    "\n",
    "\"\"\"Error 1: empty inputs\"\"\"\n",
    "\n",
    "Input:\n",
    "        \n",
    "        username = \"\" # Can not be null.\n",
    "\n",
    "Response:\n",
    "    \n",
    "    \"Delete user account failed! - \n",
    "        { \n",
    "            \"statusCode\":793405,\n",
    "            \"statusDescription\":\"Method is not supported\"\n",
    "        }\"\n",
    "\n",
    "###################################################################################################################    \n",
    "\n",
    "\"\"\"Error 2: wrong inputs or duplicate deletion\"\"\"\n",
    "\n",
    "Input:\n",
    "        \n",
    "        username = \"\" # Can not be null.\n",
    "\n",
    "Response:\n",
    "    \n",
    "    \"Delete user account failed! - \n",
    "        {\n",
    "            \"statusCode\":791006,\n",
    "            \"statusDescription\":\"userName Netbrain does not exist.\"\n",
    "        }\"\n",
    "        "
   ]
  },
  {
   "cell_type": "code",
   "execution_count": null,
   "metadata": {},
   "outputs": [],
   "source": [
    "'''\n",
    "Only issue is about the response, no matter success or not.\n",
    "'''"
   ]
  }
 ],
 "metadata": {
  "kernelspec": {
   "display_name": "Python 3",
   "language": "python",
   "name": "python3"
  },
  "language_info": {
   "codemirror_mode": {
    "name": "ipython",
    "version": 3
   },
   "file_extension": ".py",
   "mimetype": "text/x-python",
   "name": "python",
   "nbconvert_exporter": "python",
   "pygments_lexer": "ipython3",
   "version": "3.7.1"
  }
 },
 "nbformat": 4,
 "nbformat_minor": 2
}
