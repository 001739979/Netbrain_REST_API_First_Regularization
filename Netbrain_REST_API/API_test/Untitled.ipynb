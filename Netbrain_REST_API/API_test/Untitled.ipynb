{
 "cells": [
  {
   "cell_type": "markdown",
   "metadata": {},
   "source": [
    "# Authentication and Initialization API STANDARD Formate TEST2\n",
    "OpenAPI version 1.0.0\n",
    "\n",
    "## ***POST*** /V1/Session/{body}/{nb_url}\n",
    "\n",
    " This method creates an authentication token and starts a session with user's body information and netbrain server url.\n",
    "\n",
    "\n",
    "* ## Detail Information\n",
    "\n",
    "> **Title** : Log in API<br>\n",
    "\n",
    "> **Version** : 01/22/2019.\n",
    "\n",
    "> **API Server URL** : http(s):// IP address of your NetBrain Web API Server/ServicesAPI/API/V1/Session\n",
    "\n",
    "> **Authentication** : Not Required.\n",
    "\n",
    "* ## Request body(****required***)\n",
    "\n",
    "> |**Name**|**Type**|**Description**|\n",
    "|------|------|------|\n",
    "|username* | string  | the username to log into your NetBrain domain.  |\n",
    "|password* | string  | the password to log into your NetBrain domain.  |\n",
    "|authentication_id | string  | the authentication ID of an external user through SSO, LDAP/AD or TACACS. This parameter is only required for an external user and the value is alias. |\n",
    "\n",
    "> ***Example*** : "
   ]
  },
  {
   "cell_type": "code",
   "execution_count": 150,
   "metadata": {},
   "outputs": [
    {
     "data": {
      "text/plain": [
       "'b731c807-d7d8-4070-977d-901c9a2a09ac'"
      ]
     },
     "execution_count": 150,
     "metadata": {},
     "output_type": "execute_result"
    }
   ],
   "source": [
    "# import python modules \n",
    "import requests\n",
    "import time\n",
    "import urllib3\n",
    "import pprint\n",
    "urllib3.disable_warnings(urllib3.exceptions.InsecureRequestWarning)\n",
    "\n",
    "# Set the request parameters\n",
    "# Eg. User name=\"NetBrain\", Password=\"Netbrain\" for this code sample.\n",
    "username = \"gongdailiu\"      \n",
    "password = \"1101810209\"      \n",
    "nb_url = \"http://192.168.28.79\"           \n",
    "#token = \"\"\n",
    "full_url = nb_url + \"/ServicesAPI/API/V1/Session\"\n",
    "# Set proper headers\n",
    "#headers = {'Content-Type': 'application/json', 'Accept': 'application/json'}    \n",
    "def getToken(full_url, username, password):\n",
    "    response = requests.post(full_url, auth=(username, password))\n",
    "        # Check for HTTP codes other than 200\n",
    "    if response.status_code == 200:\n",
    "        # Decode the JSON response into a dictionary and use the data\n",
    "        js = response.json()\n",
    "        return js\n",
    "    else:\n",
    "        \"Get token failed! - \" + str(response.text)\n",
    "\n",
    "token = getToken(full_url, username, password)[\"token\"]\n",
    "token"
   ]
  },
  {
   "cell_type": "code",
   "execution_count": 129,
   "metadata": {},
   "outputs": [
    {
     "data": {
      "text/plain": [
       "{'tenants': [{'tenantId': 'fb24f3f0-81a7-1929-4b8f-99106c23fa5b',\n",
       "   'tenantName': 'Initial Tenant'}],\n",
       " 'statusCode': 790200,\n",
       " 'statusDescription': 'Success.'}"
      ]
     },
     "execution_count": 129,
     "metadata": {},
     "output_type": "execute_result"
    }
   ],
   "source": [
    "# Get all Tenants ID and Name.\n",
    "#token = \"a8d714d1-37dd-4a66-bfe4-8e28cf436987\"\n",
    "def getTenants(nb_url, token):\n",
    "    full_url = nb_url + \"/ServicesAPI/API/V1/CMDB/Tenants\"\n",
    "    # Set proper headers\n",
    "    headers = {'Content-Type': 'application/json', 'Accept': 'application/json'}\n",
    "    headers[\"Token\"]=token\n",
    "    try:\n",
    "        # Do the HTTP request\n",
    "        response = requests.get(full_url, headers=headers, verify=False)\n",
    "        # Check for HTTP codes other than 200\n",
    "        if response.status_code == 200:\n",
    "            # Decode the JSON response into a dictionary and use the data\n",
    "            result = response.json()\n",
    "            return (result)\n",
    "        else:\n",
    "            return (\"Get tenants failed! - \" + str(response.text))\n",
    "    except Exception as e: return (str(e))\n",
    "\n",
    "allT = getTenants(nb_url, token)\n",
    "allT\n",
    " # print out the name of all accessible tenants "
   ]
  },
  {
   "cell_type": "code",
   "execution_count": 130,
   "metadata": {},
   "outputs": [
    {
     "name": "stdout",
     "output_type": "stream",
     "text": [
      "{'tenants': [{'tenantId': 'fb24f3f0-81a7-1929-4b8f-99106c23fa5b', 'tenantName': 'Initial Tenant'}], 'statusCode': 790200, 'statusDescription': 'Success.'}\n",
      "21fc0b3f-f3eb-458d-bd5e-4b0409f86d9c\n"
     ]
    }
   ],
   "source": [
    "# Set the request parameters\n",
    "#token = \"35ebbbec-7b2d-4d07-90f9-6b262e435217\"\n",
    "#nb_url = \"http://192.168.28.79\"\n",
    "\n",
    "# Get all Tenants ID and Name.\n",
    "#headers = {'Content-Type': 'application/json', 'Accept': 'application/json'}\n",
    "#headers = {'Content-Type': 'application/json'}\n",
    "#headers = {'Accept': 'application/json'}\n",
    "#headers = {}\n",
    "\n",
    "full_url = nb_url + \"/ServicesAPI/API/V1/CMDB/Tenants\"\n",
    "# Set proper headers\n",
    "#headers = {'Content-Type': 'application/json', 'Accept': 'application/json'}\n",
    "#headers[\"Token\"] = token\n",
    "data = {\"token\":token} \n",
    "\n",
    "# Do the HTTP request\n",
    "####response = requests.get(full_url, token = token, verify = True)\n",
    "response = requests.get(full_url, params = data, verify = True)\n",
    "#response = requests.get(full_url, data = json.dumps(data), verify = True)\n",
    "#response = requests.get(full_url, headers = headers)\n",
    "# Check for HTTP codes other than 200\n",
    "if response.status_code == 200:\n",
    "# Decode the JSON response into a dictionary and use the data\n",
    "    result = response.json()\n",
    "    print(result)# print out the name of all accessible tenants \n",
    "    print (token)\n",
    "else:\n",
    "    print(\"Get tenants failed! - \" + str(response.text))"
   ]
  },
  {
   "cell_type": "code",
   "execution_count": 111,
   "metadata": {},
   "outputs": [
    {
     "name": "stdout",
     "output_type": "stream",
     "text": [
      "Help on function get in module requests.api:\n",
      "\n",
      "get(url, params=None, **kwargs)\n",
      "    Sends a GET request.\n",
      "    \n",
      "    :param url: URL for the new :class:`Request` object.\n",
      "    :param params: (optional) Dictionary, list of tuples or bytes to send\n",
      "        in the body of the :class:`Request`.\n",
      "    :param \\*\\*kwargs: Optional arguments that ``request`` takes.\n",
      "    :return: :class:`Response <Response>` object\n",
      "    :rtype: requests.Response\n",
      "\n"
     ]
    }
   ],
   "source": [
    "help(requests.get)"
   ]
  },
  {
   "cell_type": "code",
   "execution_count": 132,
   "metadata": {},
   "outputs": [
    {
     "data": {
      "text/plain": [
       "{'domains': [], 'statusCode': 790200, 'statusDescription': 'Success.'}"
      ]
     },
     "execution_count": 132,
     "metadata": {},
     "output_type": "execute_result"
    }
   ],
   "source": [
    "tenantId = \"fb24f3f0-81a7-1929-4b8f-99106c23fa5b\"\n",
    "\n",
    "# Get all domains info. If tenantId is None, will present all domains.\n",
    "def getDomains(nb_url, token, tenantId=None):\n",
    "    full_url = nb_url + \"/ServicesAPI/API/V1/CMDB/Domains\"\n",
    "    # Set proper headers\n",
    "    headers = {'Content-Type': 'application/json', 'Accept': 'application/json'}\n",
    "    headers[\"Token\"]=token\n",
    "    data = {\"tenantId\": tenantId}\n",
    "    try:\n",
    "        # Do the HTTP request\n",
    "        response = requests.get(full_url, params=data, headers=headers, verify=False)\n",
    "        # Check for HTTP codes other than 200\n",
    "        if response.status_code == 200:\n",
    "            # Decode the JSON response into a dictionary and use the data\n",
    "            result = response.json()\n",
    "            return (result)\n",
    "        else:\n",
    "            return (\"Get domains failed! - \" + str(response.text))\n",
    "    except Exception as e: return (str(e))\n",
    "    \n",
    "allD = getDomains(nb_url, token)\n",
    "\"\"\"for i in range(len(allD)):\n",
    "    print(allD[i].domainName)\"\"\"\n",
    "allD # print out all accessible tenants in json"
   ]
  },
  {
   "cell_type": "code",
   "execution_count": 133,
   "metadata": {},
   "outputs": [
    {
     "name": "stdout",
     "output_type": "stream",
     "text": [
      "{'statusCode': 790200, 'statusDescription': 'Success.'}\n"
     ]
    }
   ],
   "source": [
    "tenantId = \"fb24f3f0-81a7-1929-4b8f-99106c23fa5b\"\n",
    "domainId = \"0201adc4-ae96-46f0-ae3d-01cdba9e41d6\"#fixed\n",
    "\n",
    "# Login selected domain\n",
    "def loginDomain(nb_url, token, tenantId, domainId):\n",
    "    full_url = nb_url + \"/ServicesAPI/API/V1/Session/CurrentDomain\"\n",
    "    # Set proper headers\n",
    "    headers = {'Content-Type': 'application/json', 'Accept': 'application/json'}\n",
    "    headers[\"Token\"]=token\n",
    "    body = {\n",
    "            \"tenantId\": tenantId,\n",
    "            \"domainId\": domainId\n",
    "        }\n",
    "    try:\n",
    "        # Do the HTTP request\n",
    "        response = requests.put(full_url, data=json.dumps(body), headers=headers, verify=False)\n",
    "        # Check for HTTP codes other than 200\n",
    "        if response.status_code == 200:\n",
    "            # Decode the JSON response into a dictionary and use the data\n",
    "            result = response.json()\n",
    "            return (result)\n",
    "        elif response.status_code != 200:\n",
    "            return (\"Login failed! - \" + str(response.text))\n",
    "    except Exception as e: return (str(e))\n",
    "\n",
    "result = loginDomain(nb_url, token, tenantId, domainId)\n",
    "print(result)# print out the login result of one particular domain. "
   ]
  },
  {
   "cell_type": "code",
   "execution_count": 136,
   "metadata": {},
   "outputs": [
    {
     "data": {
      "text/plain": [
       "'ID Delete Failed - {\"statusCode\":795003,\"statusDescription\":\"Insufficient permissions: the current user has insufficient permissions to perform the requested operation. The user has no tenant or domain access permission.discoverTuneNetworkDevice\"}'"
      ]
     },
     "execution_count": 136,
     "metadata": {},
     "output_type": "execute_result"
    }
   ],
   "source": [
    "taskID = \"e86e73da-1829-fd8e-4f83-98f524533779\"\n",
    "IPlist = [\"192.168.0.1\"]\n",
    "\n",
    "# Delete IPs from discovery task\n",
    "def deleteIPsfromDiscoveryTask(nb_url, token, taskID, IPlist):\n",
    "    # Set proper headers\n",
    "    #headers = {'Content-Type': 'application/json', 'Accept': 'application/json'}\n",
    "    headers[\"Token\"]=token\n",
    "    full_url= nb_url + \"/ServicesAPI/API//V1/CMDB/Discovery/Tasks/\"+str(taskID)+\"/Seeds\"\n",
    "    IPs={\"IPs\": IPlist}\n",
    "    par = {\"token\" : token}\n",
    "    try:\n",
    "        # Do the HTTP request\n",
    "        #response = requests.delete(full_url, data = json.dumps(IPs), headers=headers, verify=False)\n",
    "        response = requests.delete(full_url, data = json.dumps(IPs), params = par, verify=False)\n",
    "        # Check for HTTP codes other than 200\n",
    "        if response.status_code == 200:\n",
    "            # Decode the JSON response into a dictionary and use the data\n",
    "            result = response.json()\n",
    "            return (result)\n",
    "        else:\n",
    "            return (\"ID Delete Failed - \" + str(response.text))\n",
    "    except Exception as e:\n",
    "        return (str(e)) \n",
    "    \n",
    "result = deleteIPsfromDiscoveryTask(nb_url, token, taskID, IPlist)\n",
    "result "
   ]
  },
  {
   "cell_type": "code",
   "execution_count": 149,
   "metadata": {},
   "outputs": [
    {
     "data": {
      "text/plain": [
       "'Session logout failed! - {\"statusCode\":795010,\"statusDescription\":\"Session not exist\"}'"
      ]
     },
     "execution_count": 149,
     "metadata": {},
     "output_type": "execute_result"
    }
   ],
   "source": [
    "token = \"9754243a-259c-4656-9f17-a8d1033416c1\"\n",
    "def logoutSession(nb_url ,token):\n",
    "    full_url = nb_url + \"/ServicesAPI/API/V1/Session\"\n",
    "    # Set proper headers\n",
    "    #headers = {'Content-Type': 'application/json', 'Accept': 'application/json'}\n",
    "    #data = {\"token\":token}\n",
    "    headers[\"token\"] = token\n",
    "    #par = {\"token\" : token}\n",
    "    try:\n",
    "        # Do the HTTP request\n",
    "        #response = requests.delete(full_url, data=json.dumps(data))\n",
    "        response = requests.delete(full_url, headers = headers)\n",
    "        #response = requests.delete(full_url, params = par)\n",
    "        # Check for HTTP codes other than 200\n",
    "        if response.status_code == 200:\n",
    "            # Decode the JSON response into a dictionary and use the data\n",
    "            js = response.json()\n",
    "            return (js)\n",
    "        else:\n",
    "            return (\"Session logout failed! - \" + str(response.text))\n",
    "    except Exception as e:\n",
    "        return (str(e))\n",
    "    \n",
    "result = logoutSession(nb_url ,token)\n",
    "result# print out the result of whether log out successfully."
   ]
  },
  {
   "cell_type": "code",
   "execution_count": 49,
   "metadata": {},
   "outputs": [
    {
     "name": "stdout",
     "output_type": "stream",
     "text": [
      "Get domains failed! - {\"statusCode\":795005,\"statusDescription\":\"Invalid token.\"}\n"
     ]
    }
   ],
   "source": [
    "# Set the request parameters\n",
    "#token = \"ed590811-18df-4198-8caa-d494e2f4f6bf\"\n",
    "nb_url = \"http://192.168.28.79\"\n",
    "\n",
    "tenantId = \"fb24f3f0-81a7-1929-4b8f-99106c23fa5b\"\n",
    "\n",
    "# Get all domains info. If tenantId is None, will present all domains.\n",
    "full_url = nb_url + \"/ServicesAPI/API/V1/CMDB/Domains\"\n",
    "# Set proper headers\n",
    "#headers = {'Content-Type': 'application/json', 'Accept': 'application/json'}\n",
    "#headers[\"Token\"]=token\n",
    "data = {\"tenantId\": tenantId}\n",
    "\n",
    "# Do the HTTP request\n",
    "response = requests.get(full_url, params=data, headers=headers, verify=False)\n",
    "# Check for HTTP codes other than 200\n",
    "if response.status_code == 200:\n",
    "    # Decode the JSON response into a dictionary and use the data\n",
    "    result = response.json()\n",
    "    print(result)# print out all accessible tenants in json\n",
    "else:\n",
    "    print(\"Get domains failed! - \" + str(response.text))\n",
    "     "
   ]
  },
  {
   "cell_type": "code",
   "execution_count": 11,
   "metadata": {},
   "outputs": [
    {
     "name": "stdout",
     "output_type": "stream",
     "text": [
      "{'statusCode': 790200, 'statusDescription': 'Success.'}\n"
     ]
    }
   ],
   "source": [
    "import json\n",
    "# Set the request parameters\n",
    "#token = \"ed590811-18df-4198-8caa-d494e2f4f6bf\"\n",
    "#nb_url = \"http://192.168.28.79\"\n",
    "#tenantId = \"fb24f3f0-81a7-1929-4b8f-99106c23fa5b\"\n",
    "domainId = \"0201adc4-ae96-46f0-ae3d-01cdba9e41d6\"\n",
    "\n",
    "# Login selected domain\n",
    "full_url = nb_url + \"/ServicesAPI/API/V1/Session/CurrentDomain\"\n",
    "# Set proper headers\n",
    "#headers = {'Content-Type': 'application/json', 'Accept': 'application/json'}\n",
    "headers[\"Token\"]=token\n",
    "body = {\n",
    "        \"tenantId\": tenantId,\n",
    "        \"domainId\": domainId\n",
    "     }\n",
    "\n",
    "# Do the HTTP request\n",
    "response = requests.put(full_url, data=json.dumps(body), headers=headers, verify=False)\n",
    "\n",
    "# Check for HTTP codes other than 200\n",
    "if response.status_code == 200:\n",
    "\n",
    "    # Decode the JSON response into a dictionary and use the data\n",
    "    result = response.json()\n",
    "    # print out the login result of one particular domain. \n",
    "    print(result)\n",
    "\n",
    "elif response.status_code != 200:\n",
    "    print(\"Login failed! - \" + str(response.text))\n",
    "    "
   ]
  },
  {
   "cell_type": "code",
   "execution_count": 18,
   "metadata": {},
   "outputs": [
    {
     "name": "stdout",
     "output_type": "stream",
     "text": [
      "{'devices': [{'id': '1266a178-b829-43c8-9c24-c34154a15d30', 'mgmtIP': '123.20.20.20', 'hostname': 'R20', 'deviceTypeName': 'Cisco Router', 'firstDiscoverTime': '0001-01-01T00:00:00', 'lastDiscoverTime': '0001-01-01T00:00:00'}, {'id': '497b25bd-1f8c-4bfa-80be-49ab692ce4d4', 'mgmtIP': '10.120.14.5', 'hostname': 'R3', 'deviceTypeName': 'Cisco Router', 'firstDiscoverTime': '0001-01-01T00:00:00', 'lastDiscoverTime': '0001-01-01T00:00:00'}, {'id': 'f190b385-676f-4579-ad6d-700122a21caf', 'mgmtIP': '10.120.15.1', 'hostname': 'R2', 'deviceTypeName': 'Cisco Router', 'firstDiscoverTime': '0001-01-01T00:00:00', 'lastDiscoverTime': '0001-01-01T00:00:00'}, {'id': '1d48d218-06cf-4657-af2c-39796946122b', 'mgmtIP': '123.10.1.18', 'hostname': 'R4', 'deviceTypeName': 'Cisco Router', 'firstDiscoverTime': '0001-01-01T00:00:00', 'lastDiscoverTime': '0001-01-01T00:00:00'}, {'id': '81229708-571a-419a-a10d-9481661718a4', 'mgmtIP': '123.1.1.1', 'hostname': 'R1', 'deviceTypeName': 'Cisco Router', 'firstDiscoverTime': '0001-01-01T00:00:00', 'lastDiscoverTime': '0001-01-01T00:00:00'}, {'id': '6d62e420-af59-4ee3-948d-54df60fe05ca', 'mgmtIP': '123.10.1.14', 'hostname': 'R5', 'deviceTypeName': 'Cisco Router', 'firstDiscoverTime': '0001-01-01T00:00:00', 'lastDiscoverTime': '0001-01-01T00:00:00'}, {'id': '5c3d72d6-d0f2-41f4-8b1e-5762dff6e55a', 'mgmtIP': '123.6.6.6', 'hostname': 'R6', 'deviceTypeName': 'Cisco Router', 'firstDiscoverTime': '0001-01-01T00:00:00', 'lastDiscoverTime': '0001-01-01T00:00:00'}, {'id': 'b98f107a-622e-4985-8f95-f5b541f699f3', 'mgmtIP': '123.7.7.7', 'hostname': 'R7', 'deviceTypeName': 'Cisco Router', 'firstDiscoverTime': '0001-01-01T00:00:00', 'lastDiscoverTime': '0001-01-01T00:00:00'}, {'id': 'c2ac6dc0-6d56-4934-a1c8-fc7640023621', 'mgmtIP': '10.1.20.2', 'hostname': 'Client6', 'deviceTypeName': 'Cisco Router', 'firstDiscoverTime': '0001-01-01T00:00:00', 'lastDiscoverTime': '0001-01-01T00:00:00'}, {'id': 'c543f275-f3b4-4a1e-81e9-5c6805f839a0', 'mgmtIP': '10.1.20.130', 'hostname': 'Client7', 'deviceTypeName': 'Cisco Router', 'firstDiscoverTime': '0001-01-01T00:00:00', 'lastDiscoverTime': '0001-01-01T00:00:00'}, {'id': '9b60fcfc-a405-478d-83a3-99b0ce6c9b64', 'mgmtIP': '123.8.8.8', 'hostname': 'R8', 'deviceTypeName': 'Cisco Router', 'firstDiscoverTime': '0001-01-01T00:00:00', 'lastDiscoverTime': '0001-01-01T00:00:00'}, {'id': '087814b3-f372-4878-bdcd-c31ba061c864', 'mgmtIP': '123.10.10.10', 'hostname': 'R10', 'deviceTypeName': 'Cisco Router', 'firstDiscoverTime': '0001-01-01T00:00:00', 'lastDiscoverTime': '0001-01-01T00:00:00'}, {'id': 'f7b8059c-61c1-4adc-9879-f1d726a68a49', 'mgmtIP': '123.11.11.11', 'hostname': 'R11', 'deviceTypeName': 'Cisco Router', 'firstDiscoverTime': '0001-01-01T00:00:00', 'lastDiscoverTime': '0001-01-01T00:00:00'}, {'id': '15b689cb-25a1-4f8f-bb34-7a0909dcbbda', 'mgmtIP': '123.9.9.9', 'hostname': 'R9', 'deviceTypeName': 'Cisco Router', 'firstDiscoverTime': '0001-01-01T00:00:00', 'lastDiscoverTime': '0001-01-01T00:00:00'}, {'id': '9717d31d-f046-41ea-8b73-439d7f0f9c80', 'mgmtIP': '123.203.3.3', 'hostname': 'SW3', 'deviceTypeName': 'Cisco IOS Switch', 'firstDiscoverTime': '0001-01-01T00:00:00', 'lastDiscoverTime': '0001-01-01T00:00:00'}, {'id': '05b96a11-ee38-4f2d-9a77-76452e3b366c', 'mgmtIP': '123.204.4.4', 'hostname': 'SW4', 'deviceTypeName': 'Cisco IOS Switch', 'firstDiscoverTime': '0001-01-01T00:00:00', 'lastDiscoverTime': '0001-01-01T00:00:00'}, {'id': 'a87174e0-be82-46ac-8498-ff81e23a6bca', 'mgmtIP': '123.15.15.15', 'hostname': 'R15', 'deviceTypeName': 'Cisco Router', 'firstDiscoverTime': '0001-01-01T00:00:00', 'lastDiscoverTime': '0001-01-01T00:00:00'}, {'id': 'f07c93b0-9b0f-4ebe-94e8-53af58759aa6', 'mgmtIP': '123.20.1.11', 'hostname': 'SW6', 'deviceTypeName': 'Cisco IOS Switch', 'firstDiscoverTime': '0001-01-01T00:00:00', 'lastDiscoverTime': '0001-01-01T00:00:00'}, {'id': '11c410f5-223f-412b-a955-6b63f2a3b356', 'mgmtIP': '123.20.1.3', 'hostname': 'SW5', 'deviceTypeName': 'Cisco IOS Switch', 'firstDiscoverTime': '0001-01-01T00:00:00', 'lastDiscoverTime': '0001-01-01T00:00:00'}, {'id': '6b4dc692-bcd7-459e-bdc3-10145945800f', 'mgmtIP': '123.20.1.10', 'hostname': 'R17', 'deviceTypeName': 'Cisco Router', 'firstDiscoverTime': '0001-01-01T00:00:00', 'lastDiscoverTime': '0001-01-01T00:00:00'}, {'id': '87217bc5-0417-4c1e-b892-0d4eb350687a', 'mgmtIP': '123.20.1.2', 'hostname': 'R16', 'deviceTypeName': 'Cisco Router', 'firstDiscoverTime': '0001-01-01T00:00:00', 'lastDiscoverTime': '0001-01-01T00:00:00'}, {'id': '71e07730-1247-4f5f-acbc-2b3428f8d0cf', 'mgmtIP': '10.18.19.18', 'hostname': 'R18', 'deviceTypeName': 'Cisco Router', 'firstDiscoverTime': '0001-01-01T00:00:00', 'lastDiscoverTime': '0001-01-01T00:00:00'}, {'id': 'a404109e-8140-4150-9e0c-defbac1b3a3a', 'mgmtIP': '10.18.19.19', 'hostname': 'R19', 'deviceTypeName': 'Cisco Router', 'firstDiscoverTime': '0001-01-01T00:00:00', 'lastDiscoverTime': '0001-01-01T00:00:00'}, {'id': 'c867d78a-0f1c-4113-862f-0e6bc3e84e2f', 'mgmtIP': '10.2.19.2', 'hostname': 'Client5', 'deviceTypeName': 'Cisco Router', 'firstDiscoverTime': '0001-01-01T00:00:00', 'lastDiscoverTime': '0001-01-01T00:00:00'}, {'id': '132cdd2f-438a-4843-99c6-fe07fda16148', 'mgmtIP': '10.2.18.2', 'hostname': 'Client4', 'deviceTypeName': 'Cisco Router', 'firstDiscoverTime': '0001-01-01T00:00:00', 'lastDiscoverTime': '0001-01-01T00:00:00'}, {'id': '81d7beaf-50d7-41c4-bba1-256198442db9', 'mgmtIP': '123.12.12.12', 'hostname': 'R12', 'deviceTypeName': 'Cisco Router', 'firstDiscoverTime': '0001-01-01T00:00:00', 'lastDiscoverTime': '0001-01-01T00:00:00'}, {'id': 'a5d9b1d2-fc38-403a-9a32-c69ebca27a47', 'mgmtIP': '10.1.12.2', 'hostname': 'Client1', 'deviceTypeName': 'Cisco Router', 'firstDiscoverTime': '0001-01-01T00:00:00', 'lastDiscoverTime': '0001-01-01T00:00:00'}, {'id': 'af39aa9a-f46d-432d-8f16-41f0a3a2934d', 'mgmtIP': '123.13.13.13', 'hostname': 'R13', 'deviceTypeName': 'Cisco Router', 'firstDiscoverTime': '0001-01-01T00:00:00', 'lastDiscoverTime': '0001-01-01T00:00:00'}, {'id': '7b9e10b8-ba4e-4f6f-8a0d-a1403f7c47b3', 'mgmtIP': '10.1.13.2', 'hostname': 'Client2', 'deviceTypeName': 'Cisco Router', 'firstDiscoverTime': '0001-01-01T00:00:00', 'lastDiscoverTime': '0001-01-01T00:00:00'}, {'id': 'fb8aaa54-6ca6-4766-ad07-07955d6ff73f', 'mgmtIP': '123.14.14.14', 'hostname': 'R14', 'deviceTypeName': 'Cisco Router', 'firstDiscoverTime': '0001-01-01T00:00:00', 'lastDiscoverTime': '0001-01-01T00:00:00'}, {'id': '7a172c80-bc3f-4e2a-ad53-45a7b22ffcc5', 'mgmtIP': '10.1.14.2', 'hostname': 'Client3', 'deviceTypeName': 'Cisco Router', 'firstDiscoverTime': '0001-01-01T00:00:00', 'lastDiscoverTime': '0001-01-01T00:00:00'}, {'id': 'a8652884-7701-5e84-b4d8-cc03652490e5', 'mgmtIP': '', 'hostname': 'ISP', 'deviceTypeName': 'MPLS Cloud', 'firstDiscoverTime': '0001-01-01T00:00:00', 'lastDiscoverTime': '0001-01-01T00:00:00'}, {'id': 'c158cf17-146e-9fb5-f5a7-128ecd442d12', 'mgmtIP': '', 'hostname': 'AS30000', 'deviceTypeName': 'MPLS Cloud', 'firstDiscoverTime': '0001-01-01T00:00:00', 'lastDiscoverTime': '0001-01-01T00:00:00'}, {'id': 'e23ac06d-9be9-b5e3-39b5-5242804d1f3f', 'mgmtIP': '', 'hostname': 'AS20003', 'deviceTypeName': 'MPLS Cloud', 'firstDiscoverTime': '0001-01-01T00:00:00', 'lastDiscoverTime': '0001-01-01T00:00:00'}, {'id': '328fc0af-9532-ab41-bb23-416335ce665a', 'mgmtIP': '', 'hostname': 'AS20002', 'deviceTypeName': 'MPLS Cloud', 'firstDiscoverTime': '0001-01-01T00:00:00', 'lastDiscoverTime': '0001-01-01T00:00:00'}, {'id': '6ed030e8-de68-4216-ec4d-3a90484e28ca', 'mgmtIP': '', 'hostname': 'AS20001', 'deviceTypeName': 'MPLS Cloud', 'firstDiscoverTime': '0001-01-01T00:00:00', 'lastDiscoverTime': '0001-01-01T00:00:00'}, {'id': '2a2992e9-0b34-43fb-ae7c-feb3110743d8', 'mgmtIP': '10.54.221.66', 'hostname': 'R01FOB011', 'deviceTypeName': 'Alcatel OmniSwitch', 'firstDiscoverTime': '0001-01-01T00:00:00', 'lastDiscoverTime': '0001-01-01T00:00:00'}], 'statusCode': 790200, 'statusDescription': 'Success.'}\n"
     ]
    }
   ],
   "source": [
    "# Set the request parameters\n",
    "token = \"ed590811-18df-4198-8caa-d494e2f4f6bf\"\n",
    "nb_url = \"http://192.168.28.79\"\n",
    "\n",
    "# Get Devices\n",
    "full_url = nb_url + \"/ServicesAPI/API/V1/CMDB/Devices\"\n",
    "headers = {'Content-Type': 'application/json', 'Accept': 'application/json'}\n",
    "headers[\"Token\"]=token\n",
    "#query={\"hostname\":hostname}\n",
    "\n",
    "response = requests.get(full_url, headers=headers, verify=False)\n",
    "if response.status_code == 200:\n",
    "    result = response.json()\n",
    "    print(result)\n",
    "else:\n",
    "    print(\"Get Devices failed! - \" + str(response.text))\n",
    "    "
   ]
  },
  {
   "cell_type": "code",
   "execution_count": 12,
   "metadata": {},
   "outputs": [
    {
     "name": "stdout",
     "output_type": "stream",
     "text": [
      "{'devices': [{'id': '1b558e72-6671-48f8-849e-7f7df473e3aa', 'mgmtIP': '123.20.20.20', 'hostname': 'R20', 'deviceTypeName': 'Cisco Router'}], 'statusCode': 790200, 'statusDescription': 'Success.'}\n"
     ]
    }
   ],
   "source": [
    "# Set the request parameters\n",
    "#token = \"ed590811-18df-4198-8caa-d494e2f4f6bf\"\n",
    "#nb_url = \"http://192.168.28.79\"\n",
    "hostname = \"R20\"\n",
    "\n",
    "# Get Devices\n",
    "full_url = nb_url + \"/ServicesAPI/API/V1/CMDB/Devices\"\n",
    "#headers = {'Content-Type': 'application/json', 'Accept': 'application/json'}\n",
    "#headers[\"Token\"]=token\n",
    "query={\"hostname\":hostname}\n",
    "\n",
    "response = requests.get(full_url, headers=headers, params = query, verify=False)\n",
    "if response.status_code == 200:\n",
    "    result = response.json()\n",
    "    print(result)\n",
    "else:\n",
    "    print(\"Get Devices failed! - \" + str(response.text))\n",
    "    "
   ]
  },
  {
   "cell_type": "code",
   "execution_count": 22,
   "metadata": {},
   "outputs": [
    {
     "name": "stdout",
     "output_type": "stream",
     "text": [
      "{'hostname': 'R20', 'attributes': {'name': 'R20', 'mgmtIP': '123.20.20.20', 'mgmtIntf': 'Loopback0', 'subTypeName': 'Cisco Router', 'vendor': 'Cisco', 'model': 'DEVELOPMENT TEST SOFTWARE', 'ver': '15.4(2)T4', 'sn': '71372834', 'site': 'My Network\\\\SAN JOSE', 'loc': '', 'contact': '', 'mem': '356640420', 'assetTag': '', 'layer': '', 'descr': '', 'oid': '1.3.6.1.4.1.9.1.1', 'driverName': 'Cisco Router', 'fDiscoveryTime': {'$date': 1545934859000}, 'lDiscoveryTime': {'$date': 1545935004000}, 'assignTags': '', 'hasBGPConfig': True, 'hasOSPFConfig': False, 'hasEIGRPConfig': False, 'hasISISConfig': False, 'hasMulticastConfig': False, 'TestTable': ''}, 'statusCode': 790200, 'statusDescription': 'Success.'}\n"
     ]
    }
   ],
   "source": [
    "# Set the request parameters\n",
    "token = \"ed590811-18df-4198-8caa-d494e2f4f6bf\"\n",
    "nb_url = \"http://192.168.28.79\"\n",
    "hostname = \"R20\"\n",
    "\n",
    "headers = {'Content-Type': 'application/json', 'Accept': 'application/json'}\n",
    "headers[\"Token\"]=token\n",
    "full_url= nb_url + \"/ServicesAPI/API/V1/CMDB/Devices/Attributes\"\n",
    "body={\"hostname\":hostname}\n",
    "\n",
    "response = requests.get(full_url, headers = headers, params = body, verify = False)\n",
    "\n",
    "if response.status_code == 200:\n",
    "    result = response.json()\n",
    "    #print(result[\"attributes\"])\n",
    "    print(result)\n",
    "else:\n",
    "    print(\"Get device attributes failed! - \" + str(response.text))"
   ]
  },
  {
   "cell_type": "code",
   "execution_count": 24,
   "metadata": {},
   "outputs": [
    {
     "name": "stdout",
     "output_type": "stream",
     "text": [
      "Create device attribute failed! - {\"statusCode\":795003,\"statusDescription\":\"Insufficient permissions: the current user has insufficient permissions to perform the requested operation. The user has no tenant or domain access permission.tenantManagement\"}\n"
     ]
    }
   ],
   "source": [
    "# Create device attribute\n",
    "attributeName = \"newAttribute\"\n",
    "attributeDisplayName = \"New Attribute\"\n",
    "deviceTypeNames = \"null\"\n",
    "dataType = \"string\"\n",
    "isFullSearch = True\n",
    "\n",
    "#def createDeviceAttribute(nb_url, token, attributeName, attributeDisplayName, deviceTypeNames, dataType, isFullSearch):\n",
    "headers = {'Content-Type': 'application/json', 'Accept': 'application/json'}\n",
    "headers[\"Token\"]=token\n",
    "full_url= nb_url + \"/ServicesAPI/API/V1/CMDB/Devices/Attributes\"\n",
    "body={\"attributeName\": attributeName,\"attributeDisplayName\": attributeDisplayName,\n",
    "\"deviceTypeNames\": deviceTypeNames, \"dataType\": dataType,\"isFullSearch\": isFullSearch}\n",
    "\n",
    "response = requests.post(full_url, data=json.dumps(body), headers=headers, verify=False)\n",
    "if response.status_code == 200:\n",
    "    result = response.json()\n",
    "    print(\"Create device attribute :\"+str(result[\"statusDescription\"]))\n",
    "else:\n",
    "    print(\"Create device attribute failed! - \" + str(response.text))\n",
    "  "
   ]
  },
  {
   "cell_type": "code",
   "execution_count": null,
   "metadata": {},
   "outputs": [],
   "source": []
  }
 ],
 "metadata": {
  "kernelspec": {
   "display_name": "Python 3",
   "language": "python",
   "name": "python3"
  },
  "language_info": {
   "codemirror_mode": {
    "name": "ipython",
    "version": 3
   },
   "file_extension": ".py",
   "mimetype": "text/x-python",
   "name": "python",
   "nbconvert_exporter": "python",
   "pygments_lexer": "ipython3",
   "version": "3.7.1"
  }
 },
 "nbformat": 4,
 "nbformat_minor": 2
}
