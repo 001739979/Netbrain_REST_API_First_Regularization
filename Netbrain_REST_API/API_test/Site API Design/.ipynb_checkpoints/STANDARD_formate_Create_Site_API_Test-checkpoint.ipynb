{
 "cells": [
  {
   "cell_type": "markdown",
   "metadata": {},
   "source": [
    "# Site API Design"
   ]
  },
  {
   "cell_type": "markdown",
   "metadata": {},
   "source": [
    "## ***POST*** /V1/CMDB/Sites\n",
    "Calling this API to create sites with full path names. Note that a new site will be created as a parent site if a site doesn't have its parent site in current system. \n",
    "\n",
    "Note that, this API will replace the ImportSiteTree in 7.0b \n",
    "\n",
    "Note: this API call needs to be invoked in a site transaction.\n",
    "\n",
    "## Detail Information\n",
    "\n",
    "> **Title** : Create Sites API<br>\n",
    "\n",
    "> **Version** : 02/04/2019.\n",
    "\n",
    "> **API Server URL** : http(s)://IP address of NetBrain Web API Server/ServicesAPI/API/V1/CMDB/Sites\n",
    "\n",
    "> **Authentication** : \n",
    "\n",
    ">|**Type**|**In**|**Name**|\n",
    "|------|------|------|\n",
    "|<img width=100/>|<img width=100/>|<img width=500/>|\n",
    "|Bearer Authentication| Headers | Authentication token | \n",
    "\n",
    "\n",
    "## Request body(****required***)\n",
    "\n",
    ">|**Name**|**Type**|**Description**|\n",
    "|------|------|------|\n",
    "|<img width=100/>|<img width=100/>|<img width=500/>|\n",
    "|sites* | List of object  | The list of sites.  |\n",
    "|sites.sitePath* | string  | Full path name of a site. For example, 'My Network/Site1/Boston'.  |\n",
    "|sites.isContainer* | bool  | Specify whether the site being added is a container site.  |\n",
    "\n",
    "> ***Example***"
   ]
  },
  {
   "cell_type": "code",
   "execution_count": null,
   "metadata": {},
   "outputs": [],
   "source": [
    "{\n",
    "   \"sites\": [\n",
    "                {\n",
    "                    \"sitePath\":\"My Network/Site1/\",\n",
    "                    \"isContainer\": \"True\"\n",
    "                },\n",
    "                {\n",
    "                    \"sitePath\":\"My Network/Site1/Boston\",\n",
    "                    \"isContainer\": \"False\"\n",
    "                }\n",
    "            ]\n",
    "        }         "
   ]
  },
  {
   "cell_type": "markdown",
   "metadata": {},
   "source": [
    "## Parameters(****required***)\n",
    "\n",
    ">No parameters required.\n",
    "\n",
    "## Headers\n",
    "\n",
    "> **Data Format Headers**\n",
    "\n",
    "> |**Name**|**Type**|**Description**|\n",
    "|------|------|------|\n",
    "|<img width=100/>|<img width=100/>|<img width=500/>|\n",
    "| Content-Type | string  | support \"application/json\" |\n",
    "| Accept | string  | support \"application/json\" |\n",
    "\n",
    "> **Authorization Headers**\n",
    "\n",
    "> |**Name**|**Type**|**Description**|\n",
    "|------|------|------|\n",
    "|<img width=100/>|<img width=100/>|<img width=500/>|\n",
    "| token | string  | Authentication token, get from login API. |\n",
    "\n",
    "## Response\n",
    "\n",
    ">|**Name**|**Type**|**Description**|\n",
    "|------|------|------|\n",
    "|<img width=100/>|<img width=100/>|<img width=500/>|\n",
    "|statusCode| integer | The returned status code of executing the API.  |\n",
    "|statusDescription| string | The explanation of the status code.  |\n",
    "\n",
    "> ***Example***\n"
   ]
  },
  {
   "cell_type": "code",
   "execution_count": null,
   "metadata": {},
   "outputs": [],
   "source": [
    "{\n",
    "    \"statusCode\": 790200,\n",
    "    \"statusDescription\": \"Success.\"\n",
    "}"
   ]
  },
  {
   "cell_type": "markdown",
   "metadata": {},
   "source": [
    "# Full Example:"
   ]
  },
  {
   "cell_type": "code",
   "execution_count": 24,
   "metadata": {},
   "outputs": [
    {
     "name": "stdout",
     "output_type": "stream",
     "text": [
      "{'statusCode': 790200, 'statusDescription': 'Success.'}\n"
     ]
    }
   ],
   "source": [
    "# import python modules \n",
    "import requests\n",
    "import time\n",
    "import urllib3\n",
    "import pprint\n",
    "import json\n",
    "urllib3.disable_warnings(urllib3.exceptions.InsecureRequestWarning)\n",
    "\n",
    "# Set the request inputs\n",
    "token = \"9603ce1d-8271-4f77-a2df-0b748ef32084\"\n",
    "nb_url = \"http://192.168.28.79\"\n",
    "full_url = nb_url + \"/ServicesAPI/API/V1/CMDB/Sites\"\n",
    "headers = {'Content-Type': 'application/json', 'Accept': 'application/json'}\n",
    "headers[\"Token\"] = token\n",
    "\n",
    "sitePath = \"My Network/SiteT\"\n",
    "isContainer = True\n",
    "\n",
    "body = {\n",
    "   \"sites\": [\n",
    "                {\n",
    "                    \"sitePath\" : sitePath,\n",
    "                    \"isContainer\": isContainer\n",
    "                }\n",
    "            ]\n",
    "        }         \n",
    "\n",
    "try:\n",
    "    response = requests.post(full_url, data = json.dumps(body), headers = headers, verify = False)\n",
    "    if response.status_code == 200:\n",
    "        result = response.json()\n",
    "        print (result)\n",
    "    else:\n",
    "        print (\"Site Created Failed! - \" + str(response.text))\n",
    "    \n",
    "except Exception as e:\n",
    "    print (str(e)) "
   ]
  },
  {
   "cell_type": "markdown",
   "metadata": {},
   "source": [
    "# cURL Code from Postman: "
   ]
  },
  {
   "cell_type": "code",
   "execution_count": null,
   "metadata": {},
   "outputs": [],
   "source": [
    "curl -X POST \\\n",
    "  http://192.168.28.79/ServicesAPI/API/V1/CMDB/Sites \\\n",
    "  -H 'Content-Type: application/json' \\\n",
    "  -H 'Postman-Token: 9c14eea6-55f7-43a0-b7a1-8df253d55c3a' \\\n",
    "  -H 'cache-control: no-cache' \\\n",
    "  -H 'token: 1c52cd65-3247-44ad-91e6-cd73fc6c64a6' \\\n",
    "  -d '{\n",
    "   \"sites\": [\n",
    "                {\n",
    "                    \"sitePath\":\"My Network/Site1\",\n",
    "                    \"isContainer\": \"True\"\n",
    "                },\n",
    "                {\n",
    "                    \"sitePath\":\"My Network/Site1/Boston\",\n",
    "                    \"isContainer\": \"False\"\n",
    "                }\n",
    "            ]\n",
    "        }         '"
   ]
  },
  {
   "cell_type": "markdown",
   "metadata": {},
   "source": [
    "# Error Example:"
   ]
  },
  {
   "cell_type": "code",
   "execution_count": null,
   "metadata": {},
   "outputs": [],
   "source": [
    "###################################################################################################################    \n",
    "\n",
    "\"\"\"Error 1: empty inputs1\"\"\"\n",
    "\n",
    "Input:\n",
    "        \n",
    "        sitePath = \"\"\n",
    "        isContainer = None\n",
    "\n",
    "Response:\n",
    "    \n",
    "       \"Site Created Failed! - \n",
    "            {\n",
    "                \"statusCode\":792100,\n",
    "                \"statusDescription\":\"No transaction for site modification opertaion\" # I don't very understand this error.\n",
    "            }\"\n",
    "\n",
    "###################################################################################################################    \n",
    "\n",
    "\"\"\"Error 1: empty inputs2\"\"\"\n",
    "\n",
    "Input:\n",
    "        \n",
    "        site = []\n",
    "        \n",
    "Response:\n",
    "    \n",
    "       \"Site Created Failed! - \n",
    "            {\n",
    "                \"statusCode\":791000,\n",
    "                \"statusDescription\":\"Null parameter: the parameter 'sites' cannot be null.\"\n",
    "            }\"\n",
    "\n"
   ]
  },
  {
   "cell_type": "code",
   "execution_count": null,
   "metadata": {},
   "outputs": [],
   "source": [
    "'''\n",
    "SOme Issues: \n",
    "        \n",
    "        1) The success response too simple.\n",
    "        \n",
    "        2) The other error des seems like all similar and not present the error very clearly.\n",
    "           After review the des, I don't know what i should do to fix it. \n",
    "           \n",
    "        3) Funtion feature des not clear. \n",
    "        \n",
    "        4) Ater one new site has been created, can it be reviewed in System desktop?\n",
    "\n",
    "'''"
   ]
  },
  {
   "cell_type": "code",
   "execution_count": null,
   "metadata": {},
   "outputs": [],
   "source": []
  }
 ],
 "metadata": {
  "kernelspec": {
   "display_name": "Python 3",
   "language": "python",
   "name": "python3"
  },
  "language_info": {
   "codemirror_mode": {
    "name": "ipython",
    "version": 3
   },
   "file_extension": ".py",
   "mimetype": "text/x-python",
   "name": "python",
   "nbconvert_exporter": "python",
   "pygments_lexer": "ipython3",
   "version": "3.7.1"
  }
 },
 "nbformat": 4,
 "nbformat_minor": 2
}
