{
 "cells": [
  {
   "cell_type": "markdown",
   "metadata": {},
   "source": [
    "# Site API Design"
   ]
  },
  {
   "cell_type": "markdown",
   "metadata": {},
   "source": [
    "## ***POST*** /V1/CMDB/Sites/Devices\n",
    "Calling this API to add devices to the site which specified by site path or Id. All devices will be marked as manually added type.\n",
    "\n",
    "Note: this API call needs to be invoked in a site transaction.\n",
    "\n",
    "## Detail Information\n",
    "\n",
    "> **Title** : Add Site Devices API<br>\n",
    "\n",
    "> **Version** : 02/04/2019.\n",
    "\n",
    "> **API Server URL** : http(s)://IP address of NetBrain Web API Server/ServicesAPI/API/V1/CMDB/Sites/Devices\n",
    "\n",
    "> **Authentication** : \n",
    "\n",
    ">|**Type**|**In**|**Name**|\n",
    "|------|------|------|\n",
    "|<img width=100/>|<img width=100/>|<img width=500/>|\n",
    "|Bearer Authentication| Headers | Authentication token | \n",
    "\n",
    "\n",
    "## Request body(****required***)\n",
    "\n",
    ">|**Name**|**Type**|**Description**|\n",
    "|------|------|------|\n",
    "|<img width=100/>|<img width=100/>|<img width=500/>|\n",
    "|sitesId^ | string  | Key of this site to be deleted. Optional. However, parameter must be siteId or sitePath, use siteId if both set.  |\n",
    "|sitePath^ | string  | Full path name of a site. For example, 'My Network/Site1/Boston'.  |\n",
    "|devices* | list of string  | List of device hostnames.  |\n",
    "\n",
    "> ***Example***"
   ]
  },
  {
   "cell_type": "code",
   "execution_count": null,
   "metadata": {},
   "outputs": [],
   "source": [
    "{\n",
    "    \"sitePath\": \"XXXXXXX\",\n",
    "    \"Devices\": [\n",
    "        \"Bos-Core1\"\n",
    "    ]\n",
    "}\n",
    " \n",
    "##OR##\n",
    "\n",
    "{\n",
    "    \"siteId\": \"XXXXXXX\",\n",
    "    \"Devices\": [\n",
    "        \"Bos-Core1\"\n",
    "    ]\n",
    "}"
   ]
  },
  {
   "cell_type": "markdown",
   "metadata": {},
   "source": [
    "## Parameters(****required***)\n",
    "\n",
    ">No parameters required.\n",
    "\n",
    "## Headers\n",
    "\n",
    "> **Data Format Headers**\n",
    "\n",
    "> |**Name**|**Type**|**Description**|\n",
    "|------|------|------|\n",
    "|<img width=100/>|<img width=100/>|<img width=500/>|\n",
    "| Content-Type | string  | support \"application/json\" |\n",
    "| Accept | string  | support \"application/json\" |\n",
    "\n",
    "> **Authorization Headers**\n",
    "\n",
    "> |**Name**|**Type**|**Description**|\n",
    "|------|------|------|\n",
    "|<img width=100/>|<img width=100/>|<img width=500/>|\n",
    "| token | string  | Authentication token, get from login API. |\n",
    "\n",
    "## Response\n",
    "\n",
    ">|**Name**|**Type**|**Description**|\n",
    "|------|------|------|\n",
    "|<img width=100/>|<img width=100/>|<img width=500/>|\n",
    "|statusCode| integer | The returned status code of executing the API.  |\n",
    "|statusDescription| string | The explanation of the status code.  |\n",
    "\n",
    "> ***Example***"
   ]
  },
  {
   "cell_type": "code",
   "execution_count": null,
   "metadata": {},
   "outputs": [],
   "source": [
    "{\n",
    "    \"statusCode\": 790200,\n",
    "    \"statusDescription\": \"Success.\"\n",
    "}"
   ]
  },
  {
   "cell_type": "markdown",
   "metadata": {},
   "source": [
    "# Full Example:"
   ]
  },
  {
   "cell_type": "code",
   "execution_count": 22,
   "metadata": {},
   "outputs": [
    {
     "name": "stdout",
     "output_type": "stream",
     "text": [
      "{'statusCode': 790200, 'statusDescription': 'Success.'}\n"
     ]
    }
   ],
   "source": [
    "# import python modules \n",
    "import requests\n",
    "import time\n",
    "import urllib3\n",
    "import pprint\n",
    "import json\n",
    "urllib3.disable_warnings(urllib3.exceptions.InsecureRequestWarning)\n",
    "\n",
    "# Set the request inputs\n",
    "token = \"1cde0ef4-4956-43ce-9e24-96d9a471e4fd\"\n",
    "nb_url = \"http://192.168.28.79\"\n",
    "full_url = nb_url + \"/ServicesAPI/API/V1/CMDB/Sites/Devices\"\n",
    "headers = {'Content-Type': 'application/json', 'Accept': 'application/json'}\n",
    "headers[\"Token\"] = token\n",
    "\n",
    "sitePath = \"testSite1/testSiteLeaf\"\n",
    "##OR##\n",
    "#sitId = \"37965f93-377c-46b9-852c-193870bb5933\"\n",
    "devices = [\"R1\", \"R10\", \"R11\", \"R12\"]\n",
    "\n",
    "body = {\n",
    "           \"sitePath\" : sitePath,\n",
    "           \"Devices\": devices\n",
    "    }         \n",
    "\n",
    "try:\n",
    "    response = requests.post(full_url, data = json.dumps(body), headers = headers, verify = False)\n",
    "    if response.status_code == 200:\n",
    "        result = response.json()\n",
    "        print (result)\n",
    "    else:\n",
    "        print (\"Devices added Fail! - \" + str(response.text))\n",
    "    \n",
    "except Exception as e:\n",
    "    print (str(e)) "
   ]
  },
  {
   "cell_type": "markdown",
   "metadata": {},
   "source": [
    "# cURL Code from Postman:"
   ]
  },
  {
   "cell_type": "code",
   "execution_count": null,
   "metadata": {},
   "outputs": [],
   "source": [
    "curl -X POST \\\n",
    "  http://192.168.28.79/ServicesAPI/API/V1/CMDB/Sites/Devices \\\n",
    "  -H 'Content-Type: application/json' \\\n",
    "  -H 'Postman-Token: 0a0e3ea7-256d-4e50-8386-f1cef34aacc7' \\\n",
    "  -H 'cache-control: no-cache' \\\n",
    "  -H 'token: 9603ce1d-8271-4f77-a2df-0b748ef32084' \\\n",
    "  -d '{\n",
    "        \"sitePath\":\"My Network/Site2\",\n",
    "        \"devices\": [\"R1\", \"R10\", \"R11\", \"R12\"]\n",
    "\n",
    "    }'"
   ]
  },
  {
   "cell_type": "markdown",
   "metadata": {},
   "source": [
    "# Error Examples:"
   ]
  },
  {
   "cell_type": "code",
   "execution_count": null,
   "metadata": {},
   "outputs": [],
   "source": [
    "###################################################################################################################    \n",
    "\n",
    "\"\"\"Error 1: empty inputs\"\"\"\"\"\"\"\"\"\"\"\"\"\"\"\"\"\"\"\"\"\"\"\"\"\"\"\"\"\"\"\"\"\"\"\"\"\"\"\"\"\"\"\"\"\"\"\"\"\"\"\"\"\"\"\"\"\"\"\"\"\"\"\"\"\"\"\"\"\"\"\"\"\"\"\"\"\"\"\"\"\"\"\"\"\"\"\"\n",
    "\n",
    "Input:\n",
    "        \n",
    "        devices = [] # Can be null\n",
    "        sitePath = \"\" # Can not be null\n",
    "        ##OR##\n",
    "        #siteId = \"\"\n",
    "        \n",
    "Response:\n",
    "    \n",
    "       \"Devices added Fail! - \n",
    "            {\n",
    "                \"statusCode\":791000,\n",
    "                \"statusDescription\":\"Null parameter: the parameter 'siteId and sitePath' cannot be null.\"\n",
    "            }\"\n",
    "\n",
    "###################################################################################################################    \n",
    "\n",
    "\"\"\"Error 1: wrong inputs\"\"\"\"\"\"\"\"\"\"\"\"\"\"\"\"\"\"\"\"\"\"\"\"\"\"\"\"\"\"\"\"\"\"\"\"\"\"\"\"\"\"\"\"\"\"\"\"\"\"\"\"\"\"\"\"\"\"\"\"\"\"\"\"\"\"\"\"\"\"\"\"\"\"\"\"\"\"\"\"\"\"\"\"\"\"\"\"\n",
    "\n",
    "Input:\n",
    "        \n",
    "        devices = [] # Can be null\n",
    "        sitePath = \"My Network/hahahahaahah\" # there is no site called \"hahahahaahah\"\n",
    "        \n",
    "Response:\n",
    "    \n",
    "       \"Devices added Fail! - \n",
    "            {\n",
    "                \"statusCode\":793001,\n",
    "                \"statusDescription\":\"Inner exception. please check system log(default location: log/NgThirdAPI.log)\"\n",
    "            }\"\n",
    "\n",
    "#----------------------------------------------------------------------------------------------------------------------------\n",
    "\n",
    "Input:\"\"\"\"\"\"\"\"\"\"\"\"\"\"\"\"\"\"\"\"\"\"\"\"\"\"\"\"\"\"\"\"\"\"\"\"\"\"\"\"\"\"\"\"\"\"\"\"\"\"\"\"\"\"\"\"\"\"\"\"\"\"\"\"\"\"\"\"\"\"\"\"\"\"\"\"\"\"\"\"\"\"\"\"\"\"\"\"\"\"\"\"\"\"\"\"\"\"\"\"\"\"\"\"\"\"\"\"\"\"\"\"\"\"\n",
    "        \n",
    "        devices = [\"R100\", \"R1000\", \"R110\", \"R120\"] # there are no devices called \"R100\", \"R1000\", \"R110\" and \"R120\".\n",
    "        sitePath = \"My Network/Site2\" \n",
    "        \n",
    "Response:\n",
    "    \n",
    "    {\n",
    "        \"statusCode\": 790200,\n",
    "        \"statusDescription\": \"Success.\"\n",
    "    }\n",
    "    "
   ]
  },
  {
   "cell_type": "code",
   "execution_count": null,
   "metadata": {},
   "outputs": [],
   "source": [
    "'''\n",
    "Some issues:\n",
    "        \n",
    "        1) Success response too simple.\n",
    "        \n",
    "        2) The \"Devices\" input should not allowed to be null or empty, that is not resonable.\n",
    "        \n",
    "        3) The response of wrong input Path in hard to be understand.\n",
    "        \n",
    "        4) The response of devices wrong input is not reasonable.  \n",
    "        \n",
    "        5) Same devices can be multi-added to same site.\n",
    "'''"
   ]
  }
 ],
 "metadata": {
  "kernelspec": {
   "display_name": "Python 3",
   "language": "python",
   "name": "python3"
  },
  "language_info": {
   "codemirror_mode": {
    "name": "ipython",
    "version": 3
   },
   "file_extension": ".py",
   "mimetype": "text/x-python",
   "name": "python",
   "nbconvert_exporter": "python",
   "pygments_lexer": "ipython3",
   "version": "3.7.1"
  }
 },
 "nbformat": 4,
 "nbformat_minor": 2
}
