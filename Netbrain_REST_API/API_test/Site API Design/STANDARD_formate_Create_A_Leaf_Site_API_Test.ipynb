{
 "cells": [
  {
   "cell_type": "markdown",
   "metadata": {},
   "source": [
    "# Site API Design"
   ]
  },
  {
   "cell_type": "markdown",
   "metadata": {},
   "source": [
    "## ***POST*** /V1/CMDB/Sites/Leaf\n",
    "Calling this API to create a container site. If one parent site doesn't exist in current system, create it before create its child site. \n",
    "\n",
    "Note: this API call needs to be invoked in a site transaction.\n",
    "\n",
    "## Detail Information\n",
    "\n",
    "> **Title** : Create A Leaf Sites API<br>\n",
    "\n",
    "> **Version** : 02/04/2019.\n",
    "\n",
    "> **API Server URL** : http(s)://IP address of NetBrain Web API Server/ServicesAPI/API/V1/CMDB/Sites/Leaf\n",
    "\n",
    "> **Authentication** : \n",
    "\n",
    ">|**Type**|**In**|**Name**|\n",
    "|------|------|------|\n",
    "|<img width=100/>|<img width=100/>|<img width=500/>|\n",
    "|Bearer Authentication| Headers | Authentication token | \n",
    "\n",
    "## Request body(****required***)\n",
    "\n",
    ">|**Name**|**Type**|**Description**|\n",
    "|------|------|------|\n",
    "|<img width=100/>|<img width=100/>|<img width=500/>|\n",
    "|sitePath* | string  | Full path name of a site. For example, 'My Network/Site1/Boston'.  |\n",
    "\n",
    "> ***Example***"
   ]
  },
  {
   "cell_type": "code",
   "execution_count": null,
   "metadata": {},
   "outputs": [],
   "source": [
    "{\n",
    "     \"sitePath\":\"My Network/Site1/Boston/Dev\"\n",
    "}\n",
    "\n",
    "##OR##\n",
    "{\n",
    "     \"sitePath\":\"Site2/Boston/Dev\"\n",
    "}\n",
    "\n"
   ]
  },
  {
   "cell_type": "markdown",
   "metadata": {},
   "source": [
    "## Parameters(****required***)\n",
    "\n",
    ">No parameters required.\n",
    "\n",
    "## Headers\n",
    "\n",
    "> **Data Format Headers**\n",
    "\n",
    "> |**Name**|**Type**|**Description**|\n",
    "|------|------|------|\n",
    "|<img width=100/>|<img width=100/>|<img width=500/>|\n",
    "| Content-Type | string  | support \"application/json\" |\n",
    "| Accept | string  | support \"application/json\" |\n",
    "\n",
    "> **Authorization Headers**\n",
    "\n",
    "> |**Name**|**Type**|**Description**|\n",
    "|------|------|------|\n",
    "|<img width=100/>|<img width=100/>|<img width=500/>|\n",
    "| token | string  | Authentication token, get from login API. |\n",
    "\n",
    "## Response\n",
    "\n",
    ">|**Name**|**Type**|**Description**|\n",
    "|------|------|------|\n",
    "|<img width=100/>|<img width=100/>|<img width=500/>|\n",
    "|statusCode| integer | The returned status code of executing the API.  |\n",
    "|statusDescription| string | The explanation of the status code.  |\n",
    "\n",
    "> ***Example***"
   ]
  },
  {
   "cell_type": "code",
   "execution_count": null,
   "metadata": {},
   "outputs": [],
   "source": [
    "{\n",
    "    \"statusCode\": 790200,\n",
    "    \"statusDescription\": \"Success.\"\n",
    "}"
   ]
  },
  {
   "cell_type": "markdown",
   "metadata": {},
   "source": [
    "# Full Example:"
   ]
  },
  {
   "cell_type": "code",
   "execution_count": 15,
   "metadata": {},
   "outputs": [
    {
     "name": "stdout",
     "output_type": "stream",
     "text": [
      "{'statusCode': 790200, 'statusDescription': 'Success.'}\n"
     ]
    }
   ],
   "source": [
    "# import python modules \n",
    "import requests\n",
    "import time\n",
    "import urllib3\n",
    "import pprint\n",
    "import json\n",
    "urllib3.disable_warnings(urllib3.exceptions.InsecureRequestWarning)\n",
    "\n",
    "# Set the request inputs\n",
    "token = \"9603ce1d-8271-4f77-a2df-0b748ef32084\"\n",
    "nb_url = \"http://192.168.28.79\"\n",
    "full_url = nb_url + \"/ServicesAPI/API/V1/CMDB/Sites/Leaf\"\n",
    "headers = {'Content-Type': 'application/json', 'Accept': 'application/json'}\n",
    "headers[\"Token\"] = token\n",
    "\n",
    "sitePath = \"My Network/SiteT\"\n",
    "\n",
    "body = {\n",
    "            \"sitePath\" : sitePath       \n",
    "        }\n",
    "\n",
    "try:\n",
    "    response = requests.post(full_url, data = json.dumps(body), headers = headers, verify = False)\n",
    "    if response.status_code == 200:\n",
    "        result = response.json()\n",
    "        print (result)\n",
    "    else:\n",
    "        print (\"Leaf Site Created Failed! - \" + str(response.text))\n",
    "    \n",
    "except Exception as e:\n",
    "    print (str(e)) "
   ]
  },
  {
   "cell_type": "markdown",
   "metadata": {},
   "source": [
    "# cURL Code from Postman"
   ]
  },
  {
   "cell_type": "code",
   "execution_count": null,
   "metadata": {},
   "outputs": [],
   "source": [
    "curl -X POST \\\n",
    "  http://192.168.28.79/ServicesAPI/API/V1/CMDB/Sites/Leaf \\\n",
    "  -H 'Content-Type: application/json' \\\n",
    "  -H 'Postman-Token: 3bbf50c6-e17e-4a4e-ab04-d3cbc3b36958' \\\n",
    "  -H 'cache-control: no-cache' \\\n",
    "  -H 'token: 1c52cd65-3247-44ad-91e6-cd73fc6c64a6' \\\n",
    "  -d '{\n",
    "        \"sitePath\" : \"My Network/Site1\"       \n",
    "    }'"
   ]
  },
  {
   "cell_type": "markdown",
   "metadata": {},
   "source": [
    "# Error Example:"
   ]
  },
  {
   "cell_type": "code",
   "execution_count": 5,
   "metadata": {},
   "outputs": [],
   "source": [
    "# Same with \"Create a parent site API\""
   ]
  },
  {
   "cell_type": "code",
   "execution_count": null,
   "metadata": {},
   "outputs": [],
   "source": [
    "'''\n",
    "Same Issue problems;\n",
    "\n",
    "Additional: the features of parent and leaf rest api are included in \"create site API\". \n",
    "Is that neccessary to separate them out?\n",
    "'''"
   ]
  }
 ],
 "metadata": {
  "kernelspec": {
   "display_name": "Python 3",
   "language": "python",
   "name": "python3"
  },
  "language_info": {
   "codemirror_mode": {
    "name": "ipython",
    "version": 3
   },
   "file_extension": ".py",
   "mimetype": "text/x-python",
   "name": "python",
   "nbconvert_exporter": "python",
   "pygments_lexer": "ipython3",
   "version": "3.7.1"
  }
 },
 "nbformat": 4,
 "nbformat_minor": 2
}
