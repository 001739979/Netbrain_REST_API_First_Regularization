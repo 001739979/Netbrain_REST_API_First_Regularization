{
 "cells": [
  {
   "cell_type": "code",
   "execution_count": 16,
   "metadata": {},
   "outputs": [
    {
     "name": "stdout",
     "output_type": "stream",
     "text": [
      "Network settings deleted Failed! - {\"statusCode\":791006,\"statusDescription\":\"'telnetInfo' with alias nb1111 does not exist.\"}\n"
     ]
    }
   ],
   "source": [
    "# import python modules \n",
    "import requests\n",
    "import time\n",
    "import urllib3\n",
    "import pprint\n",
    "import json\n",
    "urllib3.disable_warnings(urllib3.exceptions.InsecureRequestWarning)\n",
    "\n",
    "# Set the request inputs\n",
    "token = \"9c717c9a-4302-45b5-a068-2a3e9c4ea1a3\"\n",
    "nb_url = \"http://192.168.28.79\"\n",
    "full_url = nb_url + \"/ServicesAPI/API/V1/CMDB/NetworkSettings\"\n",
    "headers = {'Content-Type': 'application/json', 'Accept': 'application/json'}\n",
    "headers[\"Token\"] = token\n",
    "'''privateKey = { \n",
    "    \"alias\" : \"nopass1111\"\n",
    "             }\n",
    "\n",
    "telnetInfo = {\n",
    "    \"alias\" : \"nb1111\"\n",
    "              }\n",
    "\n",
    "privilegeInfo = {\n",
    "    \"alias\" : \"bj_office1111\"\n",
    "                 }\n",
    "\n",
    "snmpInfo = {\n",
    "    \"alias\": \"nb1111\"\n",
    "           }\n",
    "\n",
    "jumpBox = {\n",
    "    \"alias\": \"nb1111\"\n",
    "          }'''\n",
    "\n",
    "\n",
    "privateKey = { \n",
    "    \"alias\" : \"nopass22222\"\n",
    "             }\n",
    "\n",
    "telnetInfo = {\n",
    "    \"alias\" : \"nb1111\"\n",
    "              }\n",
    "\n",
    "privilegeInfo = {\n",
    "    \"alias\" : \"\"\n",
    "                 }\n",
    "\n",
    "snmpInfo = {\n",
    "    \"alias\": \"\"\n",
    "           }\n",
    "\n",
    "jumpBox = {\n",
    "    \"alias\": \"nb22\"\n",
    "          }\n",
    "\n",
    "body = {\n",
    "         \"privateKey\" : privateKey,\n",
    "         \"telnetInfo\" : telnetInfo,\n",
    "         \"privilegeInfo\" : privilegeInfo,\n",
    "         \"snmpInfo\" : snmpInfo,\n",
    "         \"jumpBox\" : jumpBox\n",
    "     }\n",
    "    \n",
    "try:\n",
    "    response = requests.delete(full_url, data=json.dumps(body), headers=headers, verify=False)\n",
    "    if response.status_code == 200:\n",
    "        result = response.json()\n",
    "        print (result)\n",
    "    else:\n",
    "        print (\"Network settings deleted Failed! - \" + str(response.text))\n",
    "\n",
    "except Exception as e:\n",
    "    print (str(e)) "
   ]
  },
  {
   "cell_type": "code",
   "execution_count": null,
   "metadata": {},
   "outputs": [],
   "source": [
    "Network settings deleted Failed! - \n",
    "{\"statusCode\":791000,\"statusDescription\":\"Null parameter: the parameter 'privateKey alias' cannot be null.\"}\n",
    "\n",
    "Network settings deleted Failed! - \n",
    "{\"statusCode\":791000,\"statusDescription\":\"Null parameter: the parameter 'jumpBox alias' cannot be null.\"}\n",
    "\n",
    "Network settings deleted Failed! - \n",
    "{\"statusCode\":791000,\"statusDescription\":\"Null parameter: the parameter 'telnetInfo alias' cannot be null.\"}\n",
    "\n"
   ]
  },
  {
   "cell_type": "code",
   "execution_count": null,
   "metadata": {},
   "outputs": [],
   "source": [
    "\n",
    "\n",
    "\n",
    "\n",
    "\n",
    "\n",
    "\n",
    "\n",
    "\n",
    "\n",
    "Network settings deleted Failed! - \n",
    "{\"statusCode\":791006,\"statusDescription\":\"'privateKey' with alias nopass1111 does not exist.\"}\n",
    "\n"
   ]
  }
 ],
 "metadata": {
  "kernelspec": {
   "display_name": "Python 3",
   "language": "python",
   "name": "python3"
  },
  "language_info": {
   "codemirror_mode": {
    "name": "ipython",
    "version": 3
   },
   "file_extension": ".py",
   "mimetype": "text/x-python",
   "name": "python",
   "nbconvert_exporter": "python",
   "pygments_lexer": "ipython3",
   "version": "3.7.1"
  }
 },
 "nbformat": 4,
 "nbformat_minor": 2
}
