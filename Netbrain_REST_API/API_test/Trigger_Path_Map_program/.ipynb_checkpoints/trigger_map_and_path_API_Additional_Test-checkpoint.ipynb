{
 "cells": [
  {
   "cell_type": "code",
   "execution_count": 74,
   "metadata": {},
   "outputs": [
    {
     "data": {
      "text/plain": [
       "{'mapId': 'c7443ef6-bbe2-486f-a029-f0830d0f11b5',\n",
       " 'mapName': 'stubTest1-20190211161535',\n",
       " 'mapType': 1,\n",
       " 'mapUrl': 'http://192.168.28.79/map.html?t=fb24f3f0-81a7-1929-4b8f-99106c23fa5b&d=0201adc4-ae96-46f0-ae3d-01cdba9e41d6&id=c7443ef6-bbe2-486f-a029-f0830d0f11b5&maptype=1',\n",
       " 'taskId': 'ef07f195-31ae-490b-9aa7-58533b889ea2'}"
      ]
     },
     "execution_count": 74,
     "metadata": {},
     "output_type": "execute_result"
    }
   ],
   "source": [
    "import requests\n",
    "import json\n",
    "import time\n",
    "import requests.packages.urllib3 as urllib3\n",
    " \n",
    "urllib3.disable_warnings()\n",
    "\n",
    "token = \"80ef1e2f-5cbc-4b05-a497-b1848ad6740a\"\n",
    "host_url = \"http://192.168.28.79\"\n",
    "headers = {'Content-Type': 'application/json', 'Accept': 'application/json'}\n",
    "headers[\"Token\"] = token\n",
    "\n",
    "'''API_Body = {\n",
    "    \"domain_setting\": {\n",
    "        \"tenant_id\": \"fb24f3f0-81a7-1929-4b8f-99106c23fa5b\",\n",
    "        \"domain_id\": \"0201adc4-ae96-46f0-ae3d-01cdba9e41d6\"\n",
    "    },\n",
    "    \"basic_setting\": {\n",
    "        \"triggered_by\": \"Netbrain\",\n",
    "        \"user\": \"gdluserTest\",\n",
    "        \"device\": \"R20\",\n",
    "        \"stub_name\": \"stubTest1\"\n",
    "        \n",
    "    }\n",
    "}'''\n",
    "\n",
    "API_Body = {\n",
    "                \"domain_setting\": {\n",
    "                \"tenant_id\": \"fb24f3f0-81a7-1929-4b8f-99106c23fa5b\",\n",
    "                \"domain_id\": \"0201adc4-ae96-46f0-ae3d-01cdba9e41d6\"\n",
    "                },\n",
    "                \"basic_setting\": {\n",
    "                    \"triggered_by\": \"Netbrain\",\n",
    "                    \"user\": \"gdluserTest\",\n",
    "                    \"device\": \"R20\",\n",
    "                    \"stub_name\": \"stubTest1\"\n",
    "                },\n",
    "                \"map_setting\": {\n",
    "                        \"map_create_mode\": 3,\n",
    "                        \"map_path_para\": {\n",
    "                        \"source\": \"R3\",#----------\n",
    "                        \"source_gateway\": \"\",\n",
    "                        \"source_gateway_dev\": \"\",\n",
    "                        \"source_gateway_intf\": \"\",\n",
    "                        \"source_port\": \"\",\n",
    "                        \"destination\": \"R2\",#----------\n",
    "                        \"destination_gateway\": \"\",\n",
    "                        \"destination_port\": \"\",\n",
    "                        \"destination_gateway_dev\": \"\",\n",
    "                        \"destination_gateway_intf\": \"\",\n",
    "                        \"direction\": 2,#----------\n",
    "                        \"protocol\": 28,#----------\n",
    "                        \"protocol_name\": \"\",\n",
    "                        \"path_analysis_set_name\": \"\",\n",
    "                        \"path_analysis_set\": \"L3 Path\",#----------\n",
    "                        \n",
    "                    }\n",
    "                }  \n",
    "                \n",
    "        }\n",
    "  \n",
    "\n",
    "# Trigger API function\n",
    "def TriggerTask(API_Body):\n",
    " \n",
    "    # Trigger  API url\n",
    "    API_URL = r\"/ServicesAPI/API/V1/Triggers/Run\"\n",
    "    # Trigger API payload\n",
    " \n",
    "    api_full_url = host_url + API_URL\n",
    "    api_result = requests.post(api_full_url, data=json.dumps(\n",
    "        API_Body), headers=headers, verify=False)\n",
    "    if api_result.status_code == 200:\n",
    "        return api_result.json()\n",
    "    else:\n",
    "        return api_result.json()\n",
    "    \n",
    "result = TriggerTask(API_Body)\n",
    "result"
   ]
  },
  {
   "cell_type": "code",
   "execution_count": null,
   "metadata": {},
   "outputs": [],
   "source": [
    "{'error': 'tenant_id and domain_id is required.'}\n",
    "{'error': 'User name not found'}\n",
    "{'error': 'The \"device\" parameter has no argument'}\n",
    "{'error': 'The designated stub () does not exist'}\n",
    "{'error': 'The designated stub (hhahahahah) does not exist'}\n",
    "{'error': 'Failed to find the designated device R200'}\n",
    "{'error': 'User name not found'}\n",
    "{'error': 'Tenant or domain id is not found in the system. tenant with id: fb24f3f0-81a7-1929-4b8f-99106c23fa5b, domain with id: 0201adc4-ae96-46f0-ae3d'}"
   ]
  }
 ],
 "metadata": {
  "kernelspec": {
   "display_name": "Python 3",
   "language": "python",
   "name": "python3"
  },
  "language_info": {
   "codemirror_mode": {
    "name": "ipython",
    "version": 3
   },
   "file_extension": ".py",
   "mimetype": "text/x-python",
   "name": "python",
   "nbconvert_exporter": "python",
   "pygments_lexer": "ipython3",
   "version": "3.7.1"
  }
 },
 "nbformat": 4,
 "nbformat_minor": 2
}
