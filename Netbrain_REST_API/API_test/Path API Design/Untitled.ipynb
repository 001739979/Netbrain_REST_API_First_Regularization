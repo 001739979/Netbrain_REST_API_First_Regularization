{
 "cells": [
  {
   "cell_type": "code",
   "execution_count": 1,
   "metadata": {},
   "outputs": [
    {
     "name": "stdout",
     "output_type": "stream",
     "text": [
      "{'gatewayList': [{'ip': '10.1.13.2', 'devName': 'Client2', 'intfName': 'Ethernet0/0'}], 'statusCode': 790200, 'statusDescription': 'Success.'}\n"
     ]
    }
   ],
   "source": [
    "# import python modules \n",
    "import requests\n",
    "import time\n",
    "import urllib3\n",
    "import pprint\n",
    "import json\n",
    "urllib3.disable_warnings(urllib3.exceptions.InsecureRequestWarning)\n",
    "\n",
    "# Set the request inputs\n",
    "token = \"0930eb5a-133d-46cf-93cf-2ab15fd858dd\"\n",
    "nb_url = \"http://192.168.28.79\"\n",
    "\n",
    "full_url1 = nb_url + \"/ServicesAPI/API/V1/CMDB/Path/Gateways\"\n",
    "headers = {'Content-Type': 'application/json', 'Accept': 'application/json'}\n",
    "headers[\"Token\"] = token\n",
    "\n",
    "ipOrHost = \"10.1.13.2\"\n",
    "\n",
    "data = {\"ipOrHost\":ipOrHost}\n",
    "\n",
    "try:\n",
    "    response = requests.get(full_url1, params = data, headers = headers, verify = False)\n",
    "    if response.status_code == 200:\n",
    "        result = response.json()\n",
    "        print (result)\n",
    "    else:\n",
    "        print (\"Create module attribute failed! - \" + str(response.text))\n",
    "    \n",
    "except Exception as e:\n",
    "    print (str(e)) "
   ]
  },
  {
   "cell_type": "code",
   "execution_count": 2,
   "metadata": {},
   "outputs": [
    {
     "name": "stdout",
     "output_type": "stream",
     "text": [
      "{'taskID': 'c2583f17-3894-4ff4-bcfe-5aafeecd9994', 'statusCode': 790200, 'statusDescription': 'Success.'}\n"
     ]
    }
   ],
   "source": [
    "full_url2 = nb_url + \"/ServicesAPI/API/V1/CMDB/Path/Calculation\"\n",
    "\n",
    "sourceIP = \"10.1.13.2\"\n",
    "sourcePort = 0\n",
    "sourceGwIP = \"10.1.13.2\"\n",
    "sourceGwDev = \"Client2\"\n",
    "sourceGwIntf =  \"Ethernet0/0\"\n",
    "destIP = \"10.1.13.1\"\n",
    "destPort = 0\n",
    "pathAnalysisSet = 1\n",
    "protocol = 4\n",
    "isLive = False\n",
    "\n",
    "body = {\n",
    "            \"sourceIP\" : sourceIP,                # IP address of the source device.\n",
    "            \"sourcePort\" : sourcePort,\n",
    "            \"sourceGwDev\" : sourceGwDev,          # Hostname of the gateway device.\n",
    "            \"sourceGwIP\" : sourceGwIP,            # Ip address of the gateway device.\n",
    "            \"sourceGwIntf\" : sourceGwIntf,        # Name of the gateway interface.\n",
    "            \"destIP\" : destIP,                    # IP address of the destination device.\n",
    "            \"destPort\" : destPort,\n",
    "            \"pathAnalysisSet\" : pathAnalysisSet,  # 1:L3 Path; 2:L2 Path; 3:L3 Active Path\n",
    "            \"protocol\" : protocol,                # Specify the application protocol, check online help, such as 4 for IPv4.\n",
    "            \"isLive\" : isLive                     # False: Current Baseline; True: Live access\n",
    "    } \n",
    "\n",
    "try:\n",
    "    response = requests.post(full_url2, data = json.dumps(body), headers = headers, verify = False)\n",
    "    if response.status_code == 200:\n",
    "        result = response.json()\n",
    "        print (result)\n",
    "    else:\n",
    "        print (\"Create module attribute failed! - \" + str(response.text))\n",
    "    \n",
    "except Exception as e:\n",
    "    print (str(e)) "
   ]
  },
  {
   "cell_type": "code",
   "execution_count": 3,
   "metadata": {},
   "outputs": [
    {
     "name": "stdout",
     "output_type": "stream",
     "text": [
      "{'hopList': [{'hopId': '495ed795-bafb-4ce3-ab66-b7c104cf1d58', 'srcDeviceName': 'Client2', 'inboundInterface': 'Ethernet0/0', 'mediaName': '10.1.13.0/24', 'dstDeviceName': 'R13', 'outboundInterface': 'Ethernet0/0', 'nextHopIdList': []}], 'statusCode': 790200, 'statusDescription': 'Success.'}\n"
     ]
    }
   ],
   "source": [
    "taskID = \"c2583f17-3894-4ff4-bcfe-5aafeecd9994\"\n",
    "full_url3 = nb_url + \"/ServicesAPI/API/V1/CMDB/Path/Calculation/\" + str(taskID) + \"/Result\"\n",
    "\n",
    "try:\n",
    "    response = requests.get(full_url3, headers = headers, verify = False)\n",
    "    if response.status_code == 200:\n",
    "        result = response.json()\n",
    "        print (result)\n",
    "    else:\n",
    "        print (\"Get path calulation result failed! - \" + str(response.text))\n",
    "    \n",
    "except Exception as e:\n",
    "    print (str(e)) "
   ]
  },
  {
   "cell_type": "code",
   "execution_count": null,
   "metadata": {},
   "outputs": [],
   "source": []
  }
 ],
 "metadata": {
  "kernelspec": {
   "display_name": "Python 3",
   "language": "python",
   "name": "python3"
  },
  "language_info": {
   "codemirror_mode": {
    "name": "ipython",
    "version": 3
   },
   "file_extension": ".py",
   "mimetype": "text/x-python",
   "name": "python",
   "nbconvert_exporter": "python",
   "pygments_lexer": "ipython3",
   "version": "3.7.1"
  }
 },
 "nbformat": 4,
 "nbformat_minor": 2
}
