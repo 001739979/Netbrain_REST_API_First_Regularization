{
 "cells": [
  {
   "cell_type": "markdown",
   "metadata": {},
   "source": [
    "# Path API Design"
   ]
  },
  {
   "cell_type": "markdown",
   "metadata": {},
   "source": [
    "## ***GET*** /V1/CMDB/Path/Gateways\n",
    "Call this API to retrieve the gateways for a device used as path source.\n",
    "\n",
    "## Detail Information\n",
    "\n",
    "> **Title** : Resolve Device Gateway API<br>\n",
    "\n",
    "> **Version** : 01/30/2019.\n",
    "\n",
    "> **API Server URL** : http(s)://IP address of NetBrain Web API Server/ServicesAPI/API/V1/CMDB/Path/Gateways\n",
    "\n",
    "> **Authentication** : \n",
    "\n",
    ">|**Type**|**In**|**Name**|\n",
    "|------|------|------|\n",
    "|<img width=100/>|<img width=100/>|<img width=500/>|\n",
    "|Bearer Authentication| Headers | Authentication token | \n",
    "\n",
    "## Request body(****required***)\n",
    "\n",
    "> No request body.\n",
    "\n",
    "## Query Parameters(****required***)\n",
    "\n",
    ">|**Name**|**Type**|**Description**|\n",
    "|------|------|------|\n",
    "|<img width=100/>|<img width=100/>|<img width=500/>|\n",
    "| ipOrHost* | string  | Device mgmIp or hostname, used as the source in path calculation. |\n",
    "\n",
    "## Headers\n",
    "\n",
    "> **Data Format Headers**\n",
    "\n",
    "> |**Name**|**Type**|**Description**|\n",
    "|------|------|------|\n",
    "|<img width=100/>|<img width=100/>|<img width=500/>|\n",
    "| Content-Type | string  | support \"application/json\" |\n",
    "| Accept | string  | support \"application/json\" |\n",
    "\n",
    "> **Authorization Headers**\n",
    "\n",
    "> |**Name**|**Type**|**Description**|\n",
    "|------|------|------|\n",
    "|<img width=100/>|<img width=100/>|<img width=500/>|\n",
    "| token | string  | Authentication token, get from login API. |\n",
    "\n",
    "## Response\n",
    "\n",
    ">|**Name**|**Type**|**Description**|\n",
    "|------|------|------|\n",
    "|<img width=100/>|<img width=100/>|<img width=500/>|\n",
    "|statusCode| integer | The returned status code of executing the API.  |\n",
    "|statusDescription| string | The explanation of the status code.  |\n",
    "|gatewayList| List of Object | Gateway list.  |\n",
    "|gatewayList.devName| string | Device name of gateway.  |\n",
    "|gatewayList.intfName| string | Interface name of gate way.  |\n",
    "|gatewayList.ip| string | Ip address of gate way.  |\n",
    "\n",
    "\n",
    "> ***Example***"
   ]
  },
  {
   "cell_type": "code",
   "execution_count": null,
   "metadata": {},
   "outputs": [],
   "source": [
    "{\n",
    "    \"gatewayList\": [\n",
    "        {\n",
    "            \"ip\": \"123.10.1.2\",\n",
    "            \"devName\": \"R1\",\n",
    "            \"intfName\": \"Ethernet0/2\"\n",
    "        }\n",
    "    ],\n",
    "    \"statusCode\": 790200,\n",
    "    \"statusDescription\": \"Success.\"\n",
    "}"
   ]
  },
  {
   "cell_type": "markdown",
   "metadata": {},
   "source": [
    " # Full Example:"
   ]
  },
  {
   "cell_type": "code",
   "execution_count": 3,
   "metadata": {},
   "outputs": [
    {
     "name": "stdout",
     "output_type": "stream",
     "text": [
      "{'gatewayList': [{'ip': '10.120.13.1', 'devName': 'R2', 'intfName': 'Ethernet0/3.13'}], 'statusCode': 790200, 'statusDescription': 'Success.'}\n"
     ]
    }
   ],
   "source": [
    "# import python modules \n",
    "import requests\n",
    "import time\n",
    "import urllib3\n",
    "import pprint\n",
    "import json\n",
    "urllib3.disable_warnings(urllib3.exceptions.InsecureRequestWarning)\n",
    "\n",
    "# Set the request inputs\n",
    "token = \"80ef1e2f-5cbc-4b05-a497-b1848ad6740a\"\n",
    "nb_url = \"http://192.168.28.79\"\n",
    "full_url = nb_url + \"/ServicesAPI/API/V1/CMDB/Path/Gateways\"\n",
    "headers = {'Content-Type': 'application/json', 'Accept': 'application/json'}\n",
    "headers[\"Token\"] = token\n",
    "\n",
    "ipOrHost = \"10.120.13.1\"\n",
    "\n",
    "data = {\"ipOrHost\":ipOrHost}\n",
    "\n",
    "try:\n",
    "    response = requests.get(full_url, params = data, headers = headers, verify = False)\n",
    "    if response.status_code == 200:\n",
    "        result = response.json()\n",
    "        print (result)\n",
    "    else:\n",
    "        print (\"Create module attribute failed! - \" + str(response.text))\n",
    "    \n",
    "except Exception as e:\n",
    "    print (str(e)) "
   ]
  },
  {
   "cell_type": "markdown",
   "metadata": {},
   "source": [
    " # cURL Code form Postman:"
   ]
  },
  {
   "cell_type": "code",
   "execution_count": null,
   "metadata": {},
   "outputs": [],
   "source": [
    "curl -X GET \\\n",
    "  'http://192.168.28.79/ServicesAPI/API/V1/CMDB/Path/Gateways?ipOrHost=10.1.13.2' \\\n",
    "  -H 'Postman-Token: 67f40439-549a-4689-929e-26d9651597ad' \\\n",
    "  -H 'cache-control: no-cache' \\\n",
    "  -H 'token: c4edcb21-8d27-42a3-be0c-7e3b53b608c7'"
   ]
  },
  {
   "cell_type": "markdown",
   "metadata": {},
   "source": [
    " # Error Examples:"
   ]
  },
  {
   "cell_type": "code",
   "execution_count": null,
   "metadata": {},
   "outputs": [],
   "source": [
    "###################################################################################################################    \n",
    "\n",
    "\"\"\"Error 1: empty inputs\"\"\"\n",
    "\n",
    "Input:\n",
    "    \n",
    "    ipOrHost = \"\"\n",
    "    \n",
    "Response:\n",
    "    \n",
    "    \"Create module attribute failed! - \n",
    "        {\n",
    "            \"statusCode\":791000,\n",
    "            statusDescription\":\"Null parameter: the parameter 'ipOrHost' cannot be null.\"\n",
    "        }\"\n",
    "\n",
    "###################################################################################################################    \n",
    "\n",
    "\"\"\"Error 2: wrong inputs\"\"\"\n",
    "\n",
    "Input:\n",
    "    \n",
    "    ipOrHost = \"123456789\"\n",
    "    \n",
    "Response:\n",
    "    \n",
    "    \"Create module attribute failed! - \n",
    "        {\n",
    "            \"statusCode\":792040,\n",
    "            \"statusDescription\":\"Gateway was not found.\"\n",
    "        }\"\n",
    "        "
   ]
  }
 ],
 "metadata": {
  "kernelspec": {
   "display_name": "Python 3",
   "language": "python",
   "name": "python3"
  },
  "language_info": {
   "codemirror_mode": {
    "name": "ipython",
    "version": 3
   },
   "file_extension": ".py",
   "mimetype": "text/x-python",
   "name": "python",
   "nbconvert_exporter": "python",
   "pygments_lexer": "ipython3",
   "version": "3.7.1"
  }
 },
 "nbformat": 4,
 "nbformat_minor": 2
}
