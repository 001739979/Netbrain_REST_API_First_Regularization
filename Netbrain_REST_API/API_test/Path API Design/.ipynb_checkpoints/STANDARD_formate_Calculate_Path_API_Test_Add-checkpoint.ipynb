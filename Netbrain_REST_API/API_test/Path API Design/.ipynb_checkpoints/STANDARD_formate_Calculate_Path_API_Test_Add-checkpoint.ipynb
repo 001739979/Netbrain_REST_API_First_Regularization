{
 "cells": [
  {
   "cell_type": "code",
   "execution_count": 17,
   "metadata": {},
   "outputs": [
    {
     "name": "stdout",
     "output_type": "stream",
     "text": [
      "{'taskID': '498c10a7-0011-4a59-a4cd-0258af3edd19', 'statusCode': 790200, 'statusDescription': 'Success.'}\n"
     ]
    }
   ],
   "source": [
    "# import python modules \n",
    "import requests\n",
    "import time\n",
    "import urllib3\n",
    "import pprint\n",
    "import json\n",
    "urllib3.disable_warnings(urllib3.exceptions.InsecureRequestWarning)\n",
    "\n",
    "# Set the request inputs\n",
    "token = \"c4edcb21-8d27-42a3-be0c-7e3b53b608c7\"\n",
    "nb_url = \"http://192.168.28.79\"\n",
    "full_url = nb_url + \"/ServicesAPI/API/V1/CMDB/Path/Calculation\"\n",
    "headers = {'Content-Type': 'application/json', 'Accept': 'application/json'}\n",
    "headers[\"Token\"] = token\n",
    "\n",
    "'''sourceIP = \"10.10.3.253\"\n",
    "sourcePort = 0\n",
    "sourceGwIP = \"10.10.3.253\"\n",
    "sourceGwDev = \"GW2Lab\"\n",
    "sourceGwIntf =  \"Ethernet0/0\"\n",
    "destIP = \"172.24.32.225\"\n",
    "destPort = 0\n",
    "pathAnalysisSet = 1\n",
    "protocol = 4\n",
    "isLive = 1'''\n",
    "\n",
    "sourceIP = \"123.10.1.6\"\n",
    "sourcePort = \"\"\n",
    "sourceGwIP = \"123.10.1.6\"\n",
    "sourceGwDev = \"R5\"\n",
    "sourceGwIntf =  \"Ethernet0/0\"\n",
    "destIP = \"123.10.1.18\"\n",
    "destPort = \"\"\n",
    "pathAnalysisSet = 1\n",
    "protocol = 4\n",
    "isLive = \"\"\n",
    "\n",
    "body = {\n",
    "            \"sourceIP\" : sourceIP,                # IP address of the source device.\n",
    "            \"sourcePort\" : sourcePort,\n",
    "            \"sourceGwDev\" : sourceGwDev,          # Hostname of the gateway device.\n",
    "            \"sourceGwIP\" : sourceGwIP,            # Ip address of the gateway device.\n",
    "            \"sourceGwIntf\" : sourceGwIntf,        # Name of the gateway interface.\n",
    "            \"destIP\" : destIP,                    # IP address of the destination device.\n",
    "            \"destPort\" : destPort,\n",
    "            \"pathAnalysisSet\" : pathAnalysisSet,  # 1:L3 Path; 2:L2 Path; 3:L3 Active Path\n",
    "            \"protocol\" : protocol,                # Specify the application protocol, check online help, such as 4 for IPv4.\n",
    "            \"isLive\" : isLive                     # False: Current Baseline; True: Live access\n",
    "    } \n",
    "\n",
    "try:\n",
    "    response = requests.post(full_url, data = json.dumps(body), headers = headers, verify = False)\n",
    "    if response.status_code == 200:\n",
    "        result = response.json()\n",
    "        print (result)\n",
    "    else:\n",
    "        print (\"Create module attribute failed! - \" + str(response.text))\n",
    "    \n",
    "except Exception as e:\n",
    "    print (str(e)) "
   ]
  },
  {
   "cell_type": "code",
   "execution_count": null,
   "metadata": {},
   "outputs": [],
   "source": []
  }
 ],
 "metadata": {
  "kernelspec": {
   "display_name": "Python 3",
   "language": "python",
   "name": "python3"
  },
  "language_info": {
   "codemirror_mode": {
    "name": "ipython",
    "version": 3
   },
   "file_extension": ".py",
   "mimetype": "text/x-python",
   "name": "python",
   "nbconvert_exporter": "python",
   "pygments_lexer": "ipython3",
   "version": "3.7.1"
  }
 },
 "nbformat": 4,
 "nbformat_minor": 2
}
