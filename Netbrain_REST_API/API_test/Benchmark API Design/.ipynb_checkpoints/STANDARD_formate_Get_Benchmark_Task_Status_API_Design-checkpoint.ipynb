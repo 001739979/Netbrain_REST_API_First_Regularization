{
 "cells": [
  {
   "cell_type": "markdown",
   "metadata": {},
   "source": [
    "# Benchmark API Design"
   ]
  },
  {
   "cell_type": "markdown",
   "metadata": {},
   "source": [
    "## ***GET*** /V1/CMDB/Benchmark/Tasks/{taskname}/Status\n",
    "Use this API to get the running status of a specific benchmark task.\n",
    "\n",
    "If this task has never been triggered, NEVER_RUN (0) would be returned.\n",
    "\n",
    "## Detail Information\n",
    "\n",
    "> **Title** : Get Benchmark Task Status API<br>\n",
    "\n",
    "> **Version** : 01/25/2019.\n",
    "\n",
    "> **API Server URL** : http(s)://IP address of NetBrain Web API Server/ServicesAPI/API/V1/CMDB/Benchmark/Tasks/{taskname}/Status\n",
    "\n",
    "> **Authentication** : \n",
    "\n",
    ">|**Type**|**In**|**Name**|\n",
    "|------|------|------|\n",
    "|<img width=100/>|<img width=100/>|<img width=500/>|\n",
    "|Bearer Authentication| Headers | Authentication token | \n",
    "\n",
    "## Request body(****required***)\n",
    "\n",
    "> No Request Body.\n",
    "\n",
    "## Path Parameters(****required***)\n",
    "\n",
    "> |**Name**|**Type**|**Description**|\n",
    "|------|------|------|\n",
    "|<img width=100/>|<img width=100/>|<img width=500/>|\n",
    "| taskname* | string  | The name of benchmark task which created by user calling the Add Benchmark API|\n",
    "\n",
    "## Headers\n",
    "\n",
    "> **Data Format Headers**\n",
    "\n",
    "> |**Name**|**Type**|**Description**|\n",
    "|------|------|------|\n",
    "|<img width=100/>|<img width=100/>|<img width=500/>|\n",
    "| Content-Type | string  | support \"application/json\" |\n",
    "| Accept | string  | support \"application/json\" |\n",
    "\n",
    "> **Authorization Headers**\n",
    "\n",
    ">|**Name**|**Type**|**Description**|\n",
    "|------|------|------|\n",
    "|<img width=100/>|<img width=100/>|<img width=500/>|\n",
    "| token | string  | Authentication token, get from login API. |\n",
    "\n",
    "## Response\n",
    "\n",
    "> |**Name**|**Type**|**Description**|\n",
    "|------|------|------|\n",
    "|<img width=100/>|<img width=100/>|<img width=500/>|\n",
    "|statusCode| integer | Code issued by NetBrain server indicating the execution result.  |\n",
    "|statusDescription| string | The explanation of the status code. |\n",
    "|taskStatus| integer | Status of the scheduled task.<br>Possible values:<br>-1 Unknown<br>0, Never run<br>2, Running<br>10, Succeeded<br>11, Succeeded with warnning<br>20, Failed<br>30, Manually stopped<br>31, Automatically stopped due to timeout set by user or other system setting|\n",
    "\n",
    "> ***Example***"
   ]
  },
  {
   "cell_type": "code",
   "execution_count": null,
   "metadata": {},
   "outputs": [],
   "source": [
    "{\n",
    "    'taskStatus': 10, \n",
    "    'statusCode': 790200, \n",
    "    'statusDescription': 'Success.'\n",
    "}"
   ]
  },
  {
   "cell_type": "markdown",
   "metadata": {},
   "source": [
    "# Full Example:"
   ]
  },
  {
   "cell_type": "code",
   "execution_count": 5,
   "metadata": {},
   "outputs": [
    {
     "name": "stdout",
     "output_type": "stream",
     "text": [
      "{'taskStatus': 10, 'statusCode': 790200, 'statusDescription': 'Success.'}\n"
     ]
    }
   ],
   "source": [
    "# import python modules \n",
    "import requests\n",
    "import time\n",
    "import urllib3\n",
    "import pprint\n",
    "import json\n",
    "urllib3.disable_warnings(urllib3.exceptions.InsecureRequestWarning)\n",
    "\n",
    "#Status of the scheduled task.\n",
    "#---Possible values:\n",
    "#------1 Unknown\n",
    "#------0, Never run\n",
    "#------2, Running\n",
    "#------10, Succeeded\n",
    "#------11, Succeeded with warnning\n",
    "#------20, Failed\n",
    "#------30, Manually stopped\n",
    "#------31, Automatically stopped due to timeout set by user or other system setting\n",
    "\n",
    "\n",
    "# Set the request inputs\n",
    "token = \"35c83b3a-2c2c-4332-9d73-e21f2174904f\"\n",
    "nb_url = \"http://192.168.28.79\"\n",
    "taskName = \"Scheduled System DiscoveryGDL11\"\n",
    "\n",
    "full_url = nb_url + \"/ServicesAPI/API/V1/CMDB/Benchmark/Tasks/\" + taskName + \"/Status\"\n",
    "headers = {'Content-Type': 'application/json', 'Accept': 'application/json'}\n",
    "headers[\"Token\"] = token\n",
    "\n",
    "try:\n",
    "    response = requests.get(full_url, headers=headers, verify=False)\n",
    "    if response.status_code == 200:\n",
    "        res = response.json()\n",
    "        print (res)\n",
    "    else:\n",
    "        print (\"Benchmark Task running Failed! - \" + str(response.text))\n",
    "\n",
    "except Exception as e:\n",
    "        print (str(e)) "
   ]
  },
  {
   "cell_type": "markdown",
   "metadata": {},
   "source": [
    "# cURL Code from Postman"
   ]
  },
  {
   "cell_type": "code",
   "execution_count": null,
   "metadata": {},
   "outputs": [],
   "source": [
    "curl -X GET \\\n",
    "  http://192.168.28.79/ServicesAPI/API/V1/CMDB/Benchmark/Tasks/Scheduled%20System%20DiscoveryGDL11/Status \\\n",
    "  -H 'Postman-Token: 3d1d18c0-c3f3-48f8-9da7-744e1da9eb16' \\\n",
    "  -H 'cache-control: no-cache' \\\n",
    "  -H 'token: 35c83b3a-2c2c-4332-9d73-e21f2174904f'"
   ]
  },
  {
   "cell_type": "markdown",
   "metadata": {},
   "source": [
    "# Error Examples:"
   ]
  },
  {
   "cell_type": "code",
   "execution_count": null,
   "metadata": {},
   "outputs": [],
   "source": [
    "###################################################################################################################    \n",
    "\n",
    "\"\"\"Error 1: empty task name\"\"\"\n",
    "\n",
    "Input:\n",
    "    \n",
    "    taskName = \"\"\n",
    "\n",
    "Response:\n",
    "    \n",
    "    \"Benchmark Task running Failed! - \n",
    "        {\n",
    "            \"statusCode\":793405,\n",
    "            \"statusDescription\":\"Method is not supported\"\n",
    "        }\"\n",
    "\n",
    "###################################################################################################################    \n",
    "\n",
    "\"\"\"Error 1: Benchmark Task dosn't exist\"\"\"\n",
    "\n",
    "Input:\n",
    "    \n",
    "    taskName = \"\"\n",
    "\n",
    "Response:\n",
    "    \n",
    "    \"Benchmark Task running Failed! - \n",
    "        {\n",
    "            \"statusCode\":794004,\n",
    "            \"statusDescription\":\"Task 'Scheduled System DiscoveryGDL' does not exist.\"\n",
    "        }\""
   ]
  },
  {
   "cell_type": "code",
   "execution_count": null,
   "metadata": {},
   "outputs": [],
   "source": [
    "'''\n",
    "Some Issues:\n",
    "\n",
    "1) Input can be benchmark ID, but can not find benchmark ID from GUI.\n",
    "\n",
    "2) Do we need to provide a Stop_Benchmark_API.\n",
    "'''"
   ]
  }
 ],
 "metadata": {
  "kernelspec": {
   "display_name": "Python 3",
   "language": "python",
   "name": "python3"
  },
  "language_info": {
   "codemirror_mode": {
    "name": "ipython",
    "version": 3
   },
   "file_extension": ".py",
   "mimetype": "text/x-python",
   "name": "python",
   "nbconvert_exporter": "python",
   "pygments_lexer": "ipython3",
   "version": "3.7.1"
  }
 },
 "nbformat": 4,
 "nbformat_minor": 2
}
