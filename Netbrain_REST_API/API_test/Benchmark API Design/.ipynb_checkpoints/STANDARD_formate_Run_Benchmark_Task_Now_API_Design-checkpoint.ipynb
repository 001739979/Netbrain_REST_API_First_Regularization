{
 "cells": [
  {
   "cell_type": "markdown",
   "metadata": {},
   "source": [
    "# Benchmark API Design"
   ]
  },
  {
   "cell_type": "markdown",
   "metadata": {},
   "source": [
    "## ***POST*** /V1/CMDB/Benchmark/Tasks/{taskname}/Run\n",
    "This API call is used to run a  benchmark task right away, specified by task name. Error would return if the task is already running.\n",
    "\n",
    "## Detail Information\n",
    "\n",
    "> **Title** : Run Benchmark Task Now API<br>\n",
    "\n",
    "> **Version** : 01/25/2019.\n",
    "\n",
    "> **API Server URL** : http(s)://\"IP address of NetBrain Web API Server\"/ServicesAPI/API/V1/CMDB/Benchmark/Tasks/{taskname}/Run\n",
    "\n",
    "> **Authentication** : \n",
    "\n",
    ">|**Type**|**In**|**Name**|\n",
    "|------|------|------|\n",
    "|<img width=100/>|<img width=100/>|<img width=500/>|\n",
    "|Bearer Authentication| Headers | Authentication token | \n",
    "\n",
    "## Request body(****required***)\n",
    "\n",
    "> No Request Body.\n",
    "\n",
    "## Path Parameters(****required***)\n",
    "\n",
    "> |**Name**|**Type**|**Description**|\n",
    "|------|------|------|\n",
    "|<img width=100/>|<img width=100/>|<img width=500/>|\n",
    "| taskname* | string  | The name of benchmark task which created by user calling the Add Benchmark API|\n",
    "\n",
    "## Headers\n",
    "\n",
    "> **Data Format Headers**\n",
    "\n",
    "> |**Name**|**Type**|**Description**|\n",
    "|------|------|------|\n",
    "|<img width=100/>|<img width=100/>|<img width=500/>|\n",
    "| Content-Type | string  | support \"application/json\" |\n",
    "| Accept | string  | support \"application/json\" |\n",
    "\n",
    "> **Authorization Headers**\n",
    "\n",
    ">|**Name**|**Type**|**Description**|\n",
    "|------|------|------|\n",
    "|<img width=100/>|<img width=100/>|<img width=500/>|\n",
    "| token | string  | Authentication token, get from login API. |\n",
    "\n",
    "## Response\n",
    "\n",
    "> |**Name**|**Type**|**Description**|\n",
    "|------|------|------|\n",
    "|<img width=100/>|<img width=100/>|<img width=500/>|\n",
    "|statusCode| integer | Code issued by NetBrain server indicating the execution result.  |\n",
    "|statusDescription| string | The explanation of the status code. |\n",
    "\n",
    "> ***Example***"
   ]
  },
  {
   "cell_type": "code",
   "execution_count": null,
   "metadata": {},
   "outputs": [],
   "source": [
    "{\n",
    "    \"statusCode\": 790200,\n",
    "    \"statusDescription\": \"Success.\"\n",
    "}"
   ]
  },
  {
   "cell_type": "markdown",
   "metadata": {},
   "source": [
    "# Full Example:"
   ]
  },
  {
   "cell_type": "code",
   "execution_count": 4,
   "metadata": {},
   "outputs": [
    {
     "name": "stdout",
     "output_type": "stream",
     "text": [
      "{'statusCode': 790200, 'statusDescription': 'Success.'}\n"
     ]
    }
   ],
   "source": [
    "# import python modules \n",
    "import requests\n",
    "import time\n",
    "import urllib3\n",
    "import pprint\n",
    "import json\n",
    "urllib3.disable_warnings(urllib3.exceptions.InsecureRequestWarning)\n",
    "\n",
    "# Set the request inputs\n",
    "token = \"35c83b3a-2c2c-4332-9d73-e21f2174904f\"\n",
    "nb_url = \"http://192.168.28.79\"\n",
    "taskName = \"Scheduled System DiscoveryGDL11\"\n",
    "\n",
    "full_url = nb_url + \"/ServicesAPI/API/V1/CMDB/Benchmark/Tasks/\" + taskName + \"/Run\"\n",
    "headers = {'Content-Type': 'application/json', 'Accept': 'application/json'}\n",
    "headers[\"Token\"] = token\n",
    "\n",
    "try:\n",
    "    response = requests.post(full_url, headers=headers, verify=False)\n",
    "    if response.status_code == 200:\n",
    "        res = response.json()\n",
    "        print(res) \n",
    "    else:\n",
    "        print (\"Benchmark Task running Failed! - \" + str(response.text))\n",
    "\n",
    "except Exception as e:\n",
    "    print (str(e)) "
   ]
  },
  {
   "cell_type": "markdown",
   "metadata": {},
   "source": [
    "# cURL Code from Postman"
   ]
  },
  {
   "cell_type": "code",
   "execution_count": null,
   "metadata": {},
   "outputs": [],
   "source": [
    "curl -X POST \\\n",
    "  http://192.168.28.79/ServicesAPI/API/V1/CMDB/Benchmark/Tasks/Scheduled%20System%20DiscoveryGDL11/Run \\\n",
    "  -H 'Postman-Token: 5dca2710-942f-4a1d-a133-cc38b6f4a9a1' \\\n",
    "  -H 'cache-control: no-cache' \\\n",
    "  -H 'token: 35c83b3a-2c2c-4332-9d73-e21f2174904f'"
   ]
  },
  {
   "cell_type": "markdown",
   "metadata": {},
   "source": [
    "# Error Examples:"
   ]
  },
  {
   "cell_type": "code",
   "execution_count": null,
   "metadata": {},
   "outputs": [],
   "source": [
    "###################################################################################################################    \n",
    "\n",
    "\"\"\"Error 1: trigger a running benchmark task\"\"\"\n",
    "\n",
    "Input:\n",
    "    \n",
    "    taskName = \"Scheduled System DiscoveryGDL11\" #This task is already running before calling this API\n",
    "    \n",
    "Response:\n",
    "    \n",
    "    \"Benchmark Task running Failed! - \n",
    "        {\n",
    "            \"statusCode\":794005,\n",
    "            \"statusDescription\":\"Failed to start task This benchmark task is running currently. \n",
    "                                \"It cannot be submitted again until it is completed.\"\n",
    "        }\"\n",
    "        \n",
    "###################################################################################################################    \n",
    "\n",
    "\"\"\"Error 2: empty task name\"\"\"\n",
    "\n",
    "Input:\n",
    "    \n",
    "    taskName = \"\" \n",
    "    \n",
    "Response:\n",
    "    \n",
    "    \"Benchmark Task running Failed! - \n",
    "        {\n",
    "            \"statusCode\":793405,\n",
    "            \"statusDescription\":\"Method is not supported\"\n",
    "        }\"\n",
    "        \n",
    "###################################################################################################################    \n",
    "\n",
    "\"\"\"Error 3: wrong task name\"\"\"\n",
    "\n",
    "Input:\n",
    "    \n",
    "    taskName = \"Scheduled System DiscoveryGDL\" #user type the wrong name of a benchmark task.\n",
    "    \n",
    "Response:\n",
    "    \n",
    "    \"Benchmark Task running Failed! - \n",
    "        {\n",
    "            \"statusCode\":794004,\n",
    "            \"statusDescription\":\"Task 'Scheduled System DiscoveryGDL' does not exist.\"\n",
    "        }\"\n",
    "        \n",
    "###################################################################################################################    \n",
    "\n",
    "\"\"\"Error 4: trigger a benchmark which end date has passed and the corresponding job not exist anymore.\"\"\"\n",
    "\n",
    "Input:\n",
    "    \n",
    "    taskName = \"Basic System Benchmark\" # The end date of this task was in 2016 and the corresponding job has been deleted.\n",
    "    \n",
    "Response:\n",
    "    \n",
    "    \"Benchmark Task running Failed! - \n",
    "        {\n",
    "            \"statusCode\":794005,\n",
    "            \"statusDescription\":\"Failed to start task Failed to run benchmark task due to exception \\\"\n",
    "            Job 58121100-20fa-4461-8d40-31e4923e00e2 not found in database.\\\".\"\n",
    "        }\""
   ]
  },
  {
   "cell_type": "code",
   "execution_count": null,
   "metadata": {},
   "outputs": [],
   "source": [
    "'''\n",
    "Some Issues:\n",
    "\n",
    "1) Success response too simple.\n",
    "\n",
    "2) One benchmark can be call multi-times even the benchmark is already runing. Not efficiency.\n",
    "\n",
    "3) When I set the taskName as empty, the statusdescription not accuracy.\n",
    "\n",
    "4) Benchmark should can update map at sametime.\n",
    "\n",
    "'''"
   ]
  }
 ],
 "metadata": {
  "kernelspec": {
   "display_name": "Python 3",
   "language": "python",
   "name": "python3"
  },
  "language_info": {
   "codemirror_mode": {
    "name": "ipython",
    "version": 3
   },
   "file_extension": ".py",
   "mimetype": "text/x-python",
   "name": "python",
   "nbconvert_exporter": "python",
   "pygments_lexer": "ipython3",
   "version": "3.7.1"
  }
 },
 "nbformat": 4,
 "nbformat_minor": 2
}
