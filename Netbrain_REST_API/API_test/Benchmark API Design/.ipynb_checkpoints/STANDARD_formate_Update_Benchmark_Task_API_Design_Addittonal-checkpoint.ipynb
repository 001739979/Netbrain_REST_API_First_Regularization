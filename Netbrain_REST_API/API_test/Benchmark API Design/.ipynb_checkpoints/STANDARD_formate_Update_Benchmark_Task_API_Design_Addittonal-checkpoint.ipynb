{
 "cells": [
  {
   "cell_type": "code",
   "execution_count": 3,
   "metadata": {},
   "outputs": [
    {
     "name": "stdout",
     "output_type": "stream",
     "text": [
      "{'statusCode': 790200, 'statusDescription': 'Success.'}\n"
     ]
    }
   ],
   "source": [
    "# import python modules \n",
    "import requests\n",
    "import time\n",
    "import urllib3\n",
    "import pprint\n",
    "import json\n",
    "urllib3.disable_warnings(urllib3.exceptions.InsecureRequestWarning)\n",
    "\n",
    "# Set the request parameters\n",
    "token = \"dbd4e523-5964-4c2d-ba8f-da018cfb6299\"\n",
    "nb_url = \"http://192.168.28.79\"\n",
    "taskName = \"Scheduled System DiscoveryGDL11\"\n",
    "newTaskName = \"\"\n",
    "startDate = \"20190116\"\n",
    "frequency = \"\" #Update the benchmark running frequency.\n",
    "startTime = \"14:40:20\"\n",
    "scopeType = \"all\"\n",
    "\n",
    "full_url = nb_url + \"/ServicesAPI/API/V1/CMDB/Benchmark/Tasks\"\n",
    "\n",
    "headers = {'Content-Type': 'application/json', 'Accept': 'application/json'}\n",
    "headers[\"Token\"] = token\n",
    "\n",
    "\n",
    "#newTaskName = \"Scheduled System DiscoveryGDL\"\n",
    "\n",
    "body = {\n",
    "    \"taskName\":taskName, #The name of the task.\n",
    "    \"newTaskName\":newTaskName,\n",
    "    \"startDate\":startDate, #The date when the task starts to run. The standard time format is required, for example, '2017-07-13', '2017/07/13'.\n",
    "    \"schedule\":{\n",
    "        \"frequency\":frequency, #The frequency to run the task. This field is required and includes ”once”, “hourly”,” daily”, “weekly” and “monthly” options.\n",
    "        \"startTime\":[startTime] #The time to run the task. This field is required and startTime should be in format: [\"HH:mm:ss\"], if you put date time format such as \"2018/04/04 19:20:20 \", \"19:20:20\" will be used and the date part \"2018/04/04\" will be ignored.\n",
    "        },\n",
    "    \"deviceScope\" : {\n",
    "        \"scopeType\" : scopeType\n",
    "        }\n",
    "}\n",
    "    \n",
    "try:\n",
    "    response = requests.put(full_url, data=json.dumps(body), headers=headers, verify=False)\n",
    "    if response.status_code == 200:\n",
    "        result = response.json()\n",
    "        print(result)\n",
    "    else:\n",
    "        print (\"Benchmark Task updated Failed! - \" + str(response.text))\n",
    "\n",
    "except Exception as e:\n",
    "    print (str(e)) "
   ]
  },
  {
   "cell_type": "code",
   "execution_count": null,
   "metadata": {},
   "outputs": [],
   "source": []
  }
 ],
 "metadata": {
  "kernelspec": {
   "display_name": "Python 3",
   "language": "python",
   "name": "python3"
  },
  "language_info": {
   "codemirror_mode": {
    "name": "ipython",
    "version": 3
   },
   "file_extension": ".py",
   "mimetype": "text/x-python",
   "name": "python",
   "nbconvert_exporter": "python",
   "pygments_lexer": "ipython3",
   "version": "3.7.1"
  }
 },
 "nbformat": 4,
 "nbformat_minor": 2
}
