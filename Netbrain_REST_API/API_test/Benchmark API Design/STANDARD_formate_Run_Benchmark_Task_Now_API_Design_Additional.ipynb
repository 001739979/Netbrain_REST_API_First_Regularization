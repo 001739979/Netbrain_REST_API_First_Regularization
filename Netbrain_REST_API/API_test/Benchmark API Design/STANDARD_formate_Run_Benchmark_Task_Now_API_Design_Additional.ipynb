{
 "cells": [
  {
   "cell_type": "code",
   "execution_count": 6,
   "metadata": {},
   "outputs": [
    {
     "name": "stdout",
     "output_type": "stream",
     "text": [
      "Benchmark Task running Failed! - {\"statusCode\":794005,\"statusDescription\":\"Failed to start task Failed to run benchmark task due to exception \\\"Job 58121100-20fa-4461-8d40-31e4923e00e2 not found in database.\\\".\"}\n"
     ]
    }
   ],
   "source": [
    "# import python modules \n",
    "import requests\n",
    "import time\n",
    "import urllib3\n",
    "import pprint\n",
    "import json\n",
    "urllib3.disable_warnings(urllib3.exceptions.InsecureRequestWarning)\n",
    "\n",
    "# Set the request inputs\n",
    "token = \"35c83b3a-2c2c-4332-9d73-e21f2174904f\"\n",
    "nb_url = \"http://192.168.28.79\"\n",
    "taskName = \"Basic System Benchmark\"\n",
    "\n",
    "full_url = nb_url + \"/ServicesAPI/API/V1/CMDB/Benchmark/Tasks/\" + taskName + \"/Run\"\n",
    "headers = {'Content-Type': 'application/json', 'Accept': 'application/json'}\n",
    "headers[\"Token\"] = token\n",
    "\n",
    "try:\n",
    "    response = requests.post(full_url, headers=headers, verify=False)\n",
    "    if response.status_code == 200:\n",
    "        res = response.json()\n",
    "        print(res) \n",
    "    else:\n",
    "        print (\"Benchmark Task running Failed! - \" + str(response.text))\n",
    "\n",
    "except Exception as e:\n",
    "    print (str(e)) "
   ]
  },
  {
   "cell_type": "code",
   "execution_count": null,
   "metadata": {},
   "outputs": [],
   "source": []
  },
  {
   "cell_type": "code",
   "execution_count": null,
   "metadata": {},
   "outputs": [],
   "source": [
    "Benchmark Task running Failed! - {\"statusCode\":793405,\"statusDescription\":\"Method is not supported\"}"
   ]
  }
 ],
 "metadata": {
  "kernelspec": {
   "display_name": "Python 3",
   "language": "python",
   "name": "python3"
  },
  "language_info": {
   "codemirror_mode": {
    "name": "ipython",
    "version": 3
   },
   "file_extension": ".py",
   "mimetype": "text/x-python",
   "name": "python",
   "nbconvert_exporter": "python",
   "pygments_lexer": "ipython3",
   "version": "3.7.1"
  }
 },
 "nbformat": 4,
 "nbformat_minor": 2
}
