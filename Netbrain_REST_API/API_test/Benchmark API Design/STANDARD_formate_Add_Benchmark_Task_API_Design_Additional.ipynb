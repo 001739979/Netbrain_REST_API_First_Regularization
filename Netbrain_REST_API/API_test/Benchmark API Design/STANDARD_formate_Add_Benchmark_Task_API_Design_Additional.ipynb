{
 "cells": [
  {
   "cell_type": "code",
   "execution_count": 12,
   "metadata": {},
   "outputs": [
    {
     "name": "stdout",
     "output_type": "stream",
     "text": [
      "Benchmark Task added Failed! - {\"statusCode\":792009,\"statusDescription\":\"Invalid data type. deviceScope.scopeType, options: all,deviceGroup,site\"}\n"
     ]
    }
   ],
   "source": [
    "# import python modules \n",
    "import requests\n",
    "import time\n",
    "import urllib3\n",
    "import pprint\n",
    "import json\n",
    "urllib3.disable_warnings(urllib3.exceptions.InsecureRequestWarning)\n",
    "\n",
    "# Set the request parameters\n",
    "token = \"7f2783d0-e3a7-4e77-8dca-b112bc4ce6b9\"\n",
    "nb_url = \"http://192.168.28.79\"\n",
    "taskName = \"Scheduled System DiscoveryGDL11\"\n",
    "startDate = \"2019-01-16\"\n",
    "frequency = \"once\"\n",
    "startTime = \"2019/1/16 14:40:20\"\n",
    "scopeType = \"whole\"\n",
    "\n",
    "# Add a new Benchmark\n",
    "full_url = nb_url + \"/ServicesAPI/API/V1/CMDB/Benchmark/Tasks\"\n",
    "\n",
    "headers = {'Content-Type': 'application/json', 'Accept': 'application/json'}\n",
    "headers[\"Token\"] = token\n",
    "\n",
    "body = {\n",
    "    \"taskName\":taskName, \n",
    "    \"startDate\":startDate, \n",
    "    \"schedule\":{\n",
    "        \"frequency\":frequency, \n",
    "        \"startTime\":[startTime]\n",
    "        },\n",
    "    \"deviceScope\" : {\n",
    "        \"scopeType\" : scopeType\n",
    "        }\n",
    "}\n",
    "\n",
    "try:\n",
    "    response = requests.post(full_url, data=json.dumps(body), headers=headers, verify=False)\n",
    "    if response.status_code == 200:\n",
    "        result = response.json()\n",
    "        print (result)\n",
    "    else:\n",
    "        print (\"Benchmark Task added Failed! - \" + str(response.text))\n",
    "\n",
    "except Exception as e:\n",
    "    print (str(e))\n"
   ]
  },
  {
   "cell_type": "code",
   "execution_count": null,
   "metadata": {},
   "outputs": [],
   "source": []
  }
 ],
 "metadata": {
  "kernelspec": {
   "display_name": "Python 3",
   "language": "python",
   "name": "python3"
  },
  "language_info": {
   "codemirror_mode": {
    "name": "ipython",
    "version": 3
   },
   "file_extension": ".py",
   "mimetype": "text/x-python",
   "name": "python",
   "nbconvert_exporter": "python",
   "pygments_lexer": "ipython3",
   "version": "3.7.1"
  }
 },
 "nbformat": 4,
 "nbformat_minor": 2
}
