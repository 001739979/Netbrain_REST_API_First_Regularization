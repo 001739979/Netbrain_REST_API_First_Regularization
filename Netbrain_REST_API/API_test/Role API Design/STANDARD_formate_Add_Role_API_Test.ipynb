{
 "cells": [
  {
   "cell_type": "markdown",
   "metadata": {},
   "source": [
    "# Role API Design"
   ]
  },
  {
   "cell_type": "markdown",
   "metadata": {},
   "source": [
    "## ***POST*** /V1/CMDB/Roles\n",
    "Call this API to add a new role into Netbrain system and grant privileges to this role.\n",
    "\n",
    "## Detail Information\n",
    "\n",
    "> **Title** : Add Role API<br>\n",
    "\n",
    "> **Version** : 02/01/2019.\n",
    "\n",
    "> **API Server URL** : http(s)://IP address of NetBrain Web API Server/ServicesAPI/API/V1/CMDB/Roles\n",
    "\n",
    "> **Authentication** : \n",
    "\n",
    ">|**Type**|**In**|**Name**|\n",
    "|------|------|------|\n",
    "|<img width=100/>|<img width=100/>|<img width=500/>|\n",
    "|Bearer Authentication| Headers | Authentication token | \n",
    "\n",
    "## Request body(****required***)\n",
    "\n",
    ">|**Name**|**Type**|**Description**|\n",
    "|------|------|------|\n",
    "|<img width=100/>|<img width=100/>|<img width=500/>|\n",
    "|roleName* | string  | The name of the created role. length between 0 and 128. The following special characters are not allowed in roleName: '/', ':', '*', '?', '\"', '<', '>', '|', '$'  |\n",
    "|description | string  | The description of the role. This field is optional.  |\n",
    "|privileges | list of integer  | The privileges that the role owns. See roles and privileges for more details. this field is optional. |\n",
    "\n",
    "> ***Example***"
   ]
  },
  {
   "cell_type": "code",
   "execution_count": null,
   "metadata": {},
   "outputs": [],
   "source": [
    "{\n",
    "      \"roleName\": \"Role Name\",\n",
    "      \"description\": \"string\",\n",
    "      \"privileges\": [2,5...]\n",
    "}"
   ]
  },
  {
   "cell_type": "markdown",
   "metadata": {},
   "source": [
    "## Parameters(****required***)\n",
    "\n",
    ">No parameters required.\n",
    "\n",
    "## Headers\n",
    "\n",
    "> **Data Format Headers**\n",
    "\n",
    "> |**Name**|**Type**|**Description**|\n",
    "|------|------|------|\n",
    "|<img width=100/>|<img width=100/>|<img width=500/>|\n",
    "| Content-Type | string  | support \"application/json\" |\n",
    "| Accept | string  | support \"application/json\" |\n",
    "\n",
    "> **Authorization Headers**\n",
    "\n",
    "> |**Name**|**Type**|**Description**|\n",
    "|------|------|------|\n",
    "|<img width=100/>|<img width=100/>|<img width=500/>|\n",
    "| token | string  | Authentication token, get from login API. |\n",
    "\n",
    "## Response\n",
    "\n",
    ">|**Name**|**Type**|**Description**|\n",
    "|------|------|------|\n",
    "|<img width=100/>|<img width=100/>|<img width=500/>|\n",
    "|statusCode| integer | The returned status code of executing the API.  |\n",
    "|statusDescription| string | The explanation of the status code.  |\n",
    "\n",
    "> ***Example***"
   ]
  },
  {
   "cell_type": "code",
   "execution_count": 1,
   "metadata": {},
   "outputs": [
    {
     "data": {
      "text/plain": [
       "{'statusCode': 790200, 'statusDescription': 'Success.'}"
      ]
     },
     "execution_count": 1,
     "metadata": {},
     "output_type": "execute_result"
    }
   ],
   "source": [
    "{\n",
    "    'statusCode': 790200,\n",
    "    'statusDescription': 'Success.'\n",
    "}"
   ]
  },
  {
   "cell_type": "markdown",
   "metadata": {},
   "source": [
    "# Full Example:"
   ]
  },
  {
   "cell_type": "code",
   "execution_count": 3,
   "metadata": {},
   "outputs": [
    {
     "name": "stdout",
     "output_type": "stream",
     "text": [
      "{'statusCode': 790200, 'statusDescription': 'Success.'}\n"
     ]
    }
   ],
   "source": [
    "# import python modules \n",
    "import requests\n",
    "import time\n",
    "import urllib3\n",
    "import pprint\n",
    "import json\n",
    "urllib3.disable_warnings(urllib3.exceptions.InsecureRequestWarning)\n",
    "\n",
    "# Set the request inputs\n",
    "token = \"3d0f475d-dbae-4c44-9080-7b08ded7d35b\"\n",
    "nb_url = \"http://192.168.28.79\"\n",
    "full_url = nb_url + \"/ServicesAPI/API/V1/CMDB/Roles\"\n",
    "headers = {'Content-Type': 'application/json', 'Accept': 'application/json'}\n",
    "headers[\"Token\"] = token\n",
    "\n",
    "roleName = \"testRole11\"\n",
    "description = \"string\"\n",
    "privileges = [2]\n",
    "\n",
    "body = {\n",
    "        \"roleName\": roleName, \n",
    "        \"description\": description, \n",
    "        \"privileges\": privileges\n",
    "    }\n",
    "\n",
    "try:\n",
    "    response = requests.post(full_url, data = json.dumps(body), headers = headers, verify = False)\n",
    "    if response.status_code == 200:\n",
    "        result = response.json()\n",
    "        print (result)\n",
    "    else:\n",
    "        print (\"Update Role failed! - \" + str(response.text))\n",
    "    \n",
    "except Exception as e:\n",
    "    print (str(e)) "
   ]
  },
  {
   "cell_type": "markdown",
   "metadata": {},
   "source": [
    "# cURL Code from Postman:"
   ]
  },
  {
   "cell_type": "code",
   "execution_count": null,
   "metadata": {},
   "outputs": [],
   "source": [
    "curl -X POST \\\n",
    "  http://192.168.28.79/ServicesAPI/API/V1/CMDB/Roles \\\n",
    "  -H 'Content-Type: application/json' \\\n",
    "  -H 'Postman-Token: 8cad3c96-5b2a-4281-8ffc-4fd67e4b27dc' \\\n",
    "  -H 'cache-control: no-cache' \\\n",
    "  -H 'token: 005fd6cc-cf08-4742-985b-902503dad2a4' \\\n",
    "  -d '{\n",
    "          \"roleName\": \"testRole1\",\n",
    "          \"description\": \"string\",\n",
    "          \"privileges\": \"string\"\n",
    "    }'"
   ]
  },
  {
   "cell_type": "markdown",
   "metadata": {},
   "source": [
    "# Error Examples:"
   ]
  },
  {
   "cell_type": "code",
   "execution_count": null,
   "metadata": {},
   "outputs": [],
   "source": [
    "###################################################################################################################    \n",
    "\n",
    "\"\"\"Error 1: empty inputs\"\"\"\n",
    "\n",
    "Input:\n",
    "        \n",
    "        roleName = \"\" # Can not be null.\n",
    "        description = \"\"\n",
    "        privileges = []\n",
    "\n",
    "Response:\n",
    "    \n",
    "    \"Add Role failed! - \n",
    "        {\n",
    "            \"statusCode\":791000,\n",
    "            \"statusDescription\":\"Null parameter: the parameter 'roleName' cannot be null.\"\n",
    "        }\"\n",
    "        \n",
    "###################################################################################################################    \n",
    "\n",
    "\"\"\"Error 2: wrong inputs\"\"\"\n",
    "\n",
    "Input:\n",
    "        \n",
    "        roleName = \"/\" # Can not be \"\\\\, /, :, *, ?, \\\", <, >, |, $\".\n",
    "        description = \"\"\n",
    "        privileges = []\n",
    "\n",
    "Response:\n",
    "    \n",
    "    \"Add Role failed! - \n",
    "        {\n",
    "            \"statusCode\":792007,\n",
    "            \"statusDescription\":\"Invalid roleName,\"\n",
    "                                \"the roleName can't contain any of the following characters \\\\, /, :, *, ?, \\\", <, >, |, $.\"\n",
    "        }\"\n",
    "    \n",
    "###################################################################################################################    \n",
    "\n",
    "\"\"\"Error 3: duplicate inputs\"\"\"\n",
    "\n",
    "Input:\n",
    "        \n",
    "        roleName = \"testRole11\" # Role named as \"testRole11\" is already exist.\n",
    "        description = \"\"\n",
    "        privileges = []\n",
    "\n",
    "Response:\n",
    "    \n",
    "    \"Add Role failed! - \n",
    "        {\n",
    "            \"statusCode\":791007,\n",
    "            \"statusDescription\":\"roleName already exists.\"\n",
    "        }\"\n",
    "     \n",
    "###################################################################################################################    \n",
    "\n",
    "\"\"\"Error 4: wrong inputs value type\"\"\"\"\"\"\"\"\"\"\"\"\"\"\"\"\"\"\"\"\"\"\"\"\"\"\"\"\"\"\"\"\"\"\"\"\"\"\"\"\"\"\"\"\"\"\"\"\"\"\"\"\"\"\"\"\"\"\"\"\"\"\"\"\"\"\"\"\"\"\"\"\"\"\"\"\"\"\"\"\"\"\"\"\"\"\"''\n",
    "\n",
    "Input:\n",
    "        \n",
    "        roleName = 11111111 # Shouldn't be integer\n",
    "        description = 11 # Shouldn't be integer\n",
    "        privileges = \"[2]\" # Shouldn't be string\n",
    "\n",
    "\n",
    "Response:\n",
    "    \n",
    "        \"{ \n",
    "            'statusCode': 790200, \n",
    "            'statusDescription': 'Success.'\n",
    "        }\"\n",
    "     "
   ]
  },
  {
   "cell_type": "code",
   "execution_count": null,
   "metadata": {},
   "outputs": [],
   "source": [
    "'''\n",
    "Some Issues:\n",
    "        \n",
    "        1) Success response too simple, a message is needed, return the new role body information would be the best.\n",
    "        \n",
    "        2) The duplicate \"roleName\" response can be improved, shows which name is duplicated.\n",
    "        \n",
    "        3) In the body table, it requires \"roleName\" and \"description\" should be string, \"privileges\" should be a list of integer,\n",
    "           But when I set \"roleName\" and \"description\" as integer and \"privileges\" as a string, the role also can be \n",
    "           created successfully. That is not resonable, a wrong type alert should be provided.\n",
    "           \n",
    "        4) According the input of \"privileges\" should be a list of integer to spicified the corresponding privilege \n",
    "           for the new created role, users neet a table to clarify the number for each privilege, and when I check the table in \n",
    "           online help, there is no corresponding number for each privilege. That would be confused to users.\n",
    "''' "
   ]
  },
  {
   "cell_type": "markdown",
   "metadata": {},
   "source": [
    "# Roles and Privileges Table\n",
    "The system provides the following pre-defined roles and the default privileges of each role are listed as follows:\n",
    "> **Note:** \"Domain Admin\", \"Power User\", \"Engineer\", \"Guest\", \"Network Change Creator\" and \"Network Change Excutor\" are defaultly setted roles by Netbrain, users can selest them in \"System Management\"->\"User Accounts\"->\"Roles\" and without setting \n",
    "custumized role privilege.\n",
    "\n",
    "|**Privilege Number**|**Privilege**|**Description**|**Domain Admin**|**Power User**|**Engineer**|**Guest**|**Network Change Creator**|**Network Change Excutor**|\n",
    "|------|------|------|------|------|------|------|------|------|\n",
    "|<img width=20/>|<img width=100/>|<img width=400/>|<img width=20/>|<img width=20/>|<img width=20/>|<img width=20/>|<img width=20/>|<img width=20/>|\n",
    "|2|Domain Management|Log in to the Domain Management page and do the following domain management tasks:<br>▪View, export, and delete discovery report in the Domain Manager<br>▪Add network definition<br>▪Resolve unknown end systems in the Unknown End System Manager<br>▪View created snapshots in the Snapshot Manager<br>▪View and export global Data Folders in Global Data Folder Manager<br>▪View, add, modify, delete, disable topology links in the Topology Link Manager<br>▪Resolve duplicated IPs and subnets in the Duplicated IP and Subnet Manager<br>▪Add checkpoint OPSEC tasks in the Checkpoint OPSEC Manager<br>▪Configure network security settings and minimum subnet mask in L2 topology building<br>▪Configure desktop profile for all users under a domain|√|√|no|no|√|√|\n",
    "|5|Share Policy Management|▪Configure share policy (assign domain access and privileges to other users in this domain)|\t√|no|no|no|no|no|\n",
    "|6|Device Management|▪Add, modify, and remove MPLS cloud<br>▪Remove devices from a domain|√|√|no|no|√|√|\n",
    "|7|Shared Device Group Management|▪Add devices into a device group from Map Data Folder Manager, Global Data Folder Manager, Data Folder Manager<br>▪Create a shared device group or set a private device group as public in the Device Group pane<br>▪Save discovered devices into a device group from on-demand discovery results<br>▪Add devices into a device group from the Domain Manager|√|√|no|no|√|√|\n",
    "|8|Site Management|▪Add MPLS clouds and unclassified network devices from the Domain Manager into a site<br>▪Open the Site Manager to do site management, such as creating, editing, deleting, importing, committing, rebuilding sites, and so on|√|√|no|no|√|√|\n",
    "|9|Discover/Tune Network Device|▪Create a do-not-scan list<br>▪Add discovery tasks from the Start Page or the Schedule Task page<br>▪Rediscover selected IPs and devices in the Domain Manager<br>▪Tune live access<br>▪Run on-demand discoveries|√|√|no|no|√|√|\n",
    "|11|Schedule Benchmark|▪Add benchmark tasks from the Start Page or the Schedule Task page|√|√|no|no|√|√|\n",
    "|15|Access to Live Network|Download the shared network settings or device settings data from the server and use these data to retrieve live device data from the network, which includes:<br>▪Run CLI commands and Qapps on a map page or in a runbook<br>▪Re-run CLI commands in the Map Data Folder Manager, Data Folder Manager, and Global Data Folder Manager<br>▪Run monitor (Qapp-based) widgets and retrieve live data in static widgets in a dashboard<br>▪Run Data View Template using the live network as the data source<br>▪Retrieve variables once or monitor variables periodically from the live network in Instant Qapp<br>▪Calculate live paths (use live network as the data source)<br>▪Configure SNMP, CLI timeout, SNMP hostname trim rules, management interface selection order, and live access method polling order (SNMP/Telnet/SSH/Jumpbox)<br>▪Browse live access logs in the Domain Manager|√|√|√|√|√|√|\n",
    "|20|Manage Device Settings|▪Configure and manage shared device settings for each device in a domain from the following entries:<br>----Site pane<br>----Map<br>----Domain Manager<br>----Discover<br>----Tune Live Access|√|√|√|no|√|√|\n",
    "|21|Manage Network Settings|Configure and manage shared network settings|√|√|no|no|√|√|\n",
    "|23|Create Network Change|Create network change tasks.|√|√|no|no|√|no|\n",
    "|24|Execute Network Change|Execute network change tasks.|√|√|no|no|no|√|\n"
   ]
  },
  {
   "cell_type": "code",
   "execution_count": null,
   "metadata": {},
   "outputs": [],
   "source": []
  }
 ],
 "metadata": {
  "kernelspec": {
   "display_name": "Python 3",
   "language": "python",
   "name": "python3"
  },
  "language_info": {
   "codemirror_mode": {
    "name": "ipython",
    "version": 3
   },
   "file_extension": ".py",
   "mimetype": "text/x-python",
   "name": "python",
   "nbconvert_exporter": "python",
   "pygments_lexer": "ipython3",
   "version": "3.7.1"
  }
 },
 "nbformat": 4,
 "nbformat_minor": 2
}
