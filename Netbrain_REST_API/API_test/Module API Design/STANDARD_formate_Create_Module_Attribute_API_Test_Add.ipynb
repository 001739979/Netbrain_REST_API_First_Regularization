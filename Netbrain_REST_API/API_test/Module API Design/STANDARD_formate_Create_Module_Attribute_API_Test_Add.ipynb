{
 "cells": [
  {
   "cell_type": "code",
   "execution_count": 8,
   "metadata": {},
   "outputs": [
    {
     "name": "stdout",
     "output_type": "stream",
     "text": [
      "Create module attribute failed! - {\"statusCode\":791002,\"statusDescription\":\"Invalid value the dataType value is invalid.\"}\n"
     ]
    }
   ],
   "source": [
    "# import python modules \n",
    "import requests\n",
    "import time\n",
    "import urllib3\n",
    "import pprint\n",
    "import json\n",
    "urllib3.disable_warnings(urllib3.exceptions.InsecureRequestWarning)\n",
    "\n",
    "# Set the request inputs\n",
    "token = \"0a187aa9-34e3-407d-9e41-e0eb3824623e\"\n",
    "nb_url = \"http://192.168.28.79\"\n",
    "full_url = nb_url + \"/ServicesAPI/API/V1/CMDB/Modules/Attributes\"\n",
    "headers = {'Content-Type': 'application/json', 'Accept': 'application/json'}\n",
    "headers[\"Token\"] = token\n",
    "\n",
    "'''attributeName = \"Module_newAtt\"\n",
    "attributeDisplayName = \"Module newAtt\"\n",
    "deviceTypeNames = \"null\"\n",
    "dataType = \"string\"\n",
    "subDataType = \"null\"\n",
    "isFullSearch = True'''\n",
    "\n",
    "attributeName = \"Module_newAtt22\"\n",
    "attributeDisplayName = \"\"\n",
    "deviceTypeNames = \"\"\n",
    "dataType = \"hahah\"\n",
    "subDataType = \"\"\n",
    "isFullSearch = \"\"\n",
    "\n",
    "\n",
    "body = {\n",
    "      \"attributeName\": attributeName,\n",
    "      \"attributeDisplayName\": attributeDisplayName,\n",
    "      \"deviceTypeNames\": deviceTypeNames,\n",
    "      \"dataType\": dataType,\n",
    "      \"subDataType\": subDataType,\n",
    "      \"isFullSearch\": isFullSearch\n",
    "}\n",
    "\n",
    "try:\n",
    "    response = requests.post(full_url, data=json.dumps(body), headers=headers, verify=False)\n",
    "    if response.status_code == 200:\n",
    "        result = response.json()\n",
    "        print (result)\n",
    "    else:\n",
    "        print (\"Create module attribute failed! - \" + str(response.text))\n",
    "    \n",
    "except Exception as e:\n",
    "    print (str(e)) "
   ]
  },
  {
   "cell_type": "code",
   "execution_count": null,
   "metadata": {},
   "outputs": [],
   "source": [
    "Create module attribute failed! - \n",
    "{\"statusCode\":791000,\"statusDescription\":\"Null parameter: the parameter 'attributeName' cannot be null.\"}\n",
    "\n",
    "Create module attribute failed! - \n",
    "{\"statusCode\":791000,\"statusDescription\":\"Null parameter: the parameter 'dataType' cannot be null.\"}\n",
    "\n",
    "Create module attribute failed! - \n",
    "{\"statusCode\":793001,\"statusDescription\":\"Inner exception. Insert: Device Schema already exists, ID = modules.Module_newAtt\"}"
   ]
  }
 ],
 "metadata": {
  "kernelspec": {
   "display_name": "Python 3",
   "language": "python",
   "name": "python3"
  },
  "language_info": {
   "codemirror_mode": {
    "name": "ipython",
    "version": 3
   },
   "file_extension": ".py",
   "mimetype": "text/x-python",
   "name": "python",
   "nbconvert_exporter": "python",
   "pygments_lexer": "ipython3",
   "version": "3.7.1"
  }
 },
 "nbformat": 4,
 "nbformat_minor": 2
}
