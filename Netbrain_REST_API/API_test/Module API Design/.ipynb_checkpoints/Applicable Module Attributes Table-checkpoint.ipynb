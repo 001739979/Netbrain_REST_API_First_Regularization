{
 "cells": [
  {
   "cell_type": "markdown",
   "metadata": {},
   "source": [
    "# Applicable Module Attributes Table\n",
    "The following table lists the interface properties/attributes (case-sensitive) that you can retrieve by using the GetInterfaceAttribute API."
   ]
  },
  {
   "cell_type": "markdown",
   "metadata": {},
   "source": [
    "> |**Property Name**|**Display Name in Device Detail Pane**|**Description**|\n",
    "|------|------|------|\n",
    "| bandwidth | Bandwidth  | The bandwidth of an interface. |\n",
    "| descr | Description  | The description of an interface. |\n",
    "| duplex | Duplex  | The duplex of an interface. |\n",
    "| inAclName | Inbound ACL  | The inbound ACL of an interface. |\n",
    "| intfStatus | Live Status  | The state of an interface. |\n",
    "| ips | IPv4 Address  | The IPv4 address of an interface. |\n",
    "| ipUnnumberedIp | Trunk Unnumbered IP  | The unnumbered IP address of an interface as an unnumbered interface. |\n",
    "| ipv6LinkLocalAddress | IPv6 Link Local Address  | The IPv6 local address of an interface. |\n",
    "| ipv6s | IPv6 Address  | The IPv6 address of an interface. |\n",
    "| macAddr | MAC Address  | The MAC address of an interface. |\n",
    "| mibIndex | MIB Index  | The MIB index of an interface. |\n",
    "| mode | Switchport Mode  | The switchport mode of an interface. |\n",
    "| moduleSlot | Slot#  | The module slot number of an interface. |\n",
    "| moduleType | Module Type | The module type of an interface. |\n",
    "| mplsVpn | MPLS VPN  | The MPLS VPN configured on an interface. |\n",
    "| mplsVrf | MPLS VRF  | The name of the VRF configured on an interface. |\n",
    "| multicastMode | Multicasting Mode  | The multicasting mode of an interface. |\n",
    "| name | Interface Name  | The name of an interface. |\n",
    "| outAclName | Outbound ACL  | The outbound ACL of an interface. |\n",
    "| routingProtocol | Routing Protocol.  | The routing protocol configured on an interface. |\n",
    "| speed | Speed  | The speed of an interface. |\n",
    "| trunkEncapsulation | Trunk Encapsulation  | The trunk encapsulation protocol of an interface as trunk port. |\n",
    "| trunkNativeVlan | Native VLAN  | The native VLAN of an interface as switchport. |\n",
    "| vlan | VLAN  | The VLAN number that an interface belongs to. |\n"
   ]
  },
  {
   "cell_type": "code",
   "execution_count": null,
   "metadata": {},
   "outputs": [],
   "source": []
  }
 ],
 "metadata": {
  "kernelspec": {
   "display_name": "Python 3",
   "language": "python",
   "name": "python3"
  },
  "language_info": {
   "codemirror_mode": {
    "name": "ipython",
    "version": 3
   },
   "file_extension": ".py",
   "mimetype": "text/x-python",
   "name": "python",
   "nbconvert_exporter": "python",
   "pygments_lexer": "ipython3",
   "version": "3.7.1"
  }
 },
 "nbformat": 4,
 "nbformat_minor": 2
}
