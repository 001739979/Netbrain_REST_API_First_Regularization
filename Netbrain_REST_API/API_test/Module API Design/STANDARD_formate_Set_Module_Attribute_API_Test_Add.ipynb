{
 "cells": [
  {
   "cell_type": "code",
   "execution_count": 10,
   "metadata": {},
   "outputs": [
    {
     "name": "stdout",
     "output_type": "stream",
     "text": [
      "Set module attribute failed! - {\"statusCode\":791006,\"statusDescription\":\"device RRRRRRRRRRRRRRRRRr1 does not exist.\"}\n"
     ]
    }
   ],
   "source": [
    "# import python modules \n",
    "import requests\n",
    "import time\n",
    "import urllib3\n",
    "import pprint\n",
    "import json\n",
    "urllib3.disable_warnings(urllib3.exceptions.InsecureRequestWarning)\n",
    "\n",
    "# Set the request inputs\n",
    "token = \"9c717c9a-4302-45b5-a068-2a3e9c4ea1a3\"\n",
    "nb_url = \"http://192.168.28.79\"\n",
    "full_url = nb_url + \"/ServicesAPI/API/V1/CMDB/Modules/Attributes\"\n",
    "headers = {'Content-Type': 'application/json', 'Accept': 'application/json'}\n",
    "headers[\"Token\"] = token\n",
    "\n",
    "'''attributeName = \"nnn\"\n",
    "attributeValue = \"10\"\n",
    "hostname = \"R1\"\n",
    "moduleName = \"ccc\"'''\n",
    "\n",
    "attributeName = \" \"\n",
    "attributeValue = \"\"\n",
    "hostname = \"RRRRRRRRRRRRRRRRRr1\"\n",
    "moduleName = \" \"\n",
    "\n",
    "body = {\n",
    "        \"hostname\": hostname,\n",
    "        \"attributeName\": attributeName,\n",
    "        \"attributeValue\": attributeValue, \n",
    "        \"moduleName\":moduleName\n",
    "    }\n",
    "\n",
    "try:\n",
    "    response = requests.put(full_url, data=json.dumps(body), headers=headers, verify=False)\n",
    "    if response.status_code == 200:\n",
    "        result = response.json()\n",
    "        print (result)\n",
    "    else:\n",
    "        print (\"Set module attribute failed! - \" + str(response.text))\n",
    "\n",
    "except Exception as e:\n",
    "    print (str(e))     "
   ]
  },
  {
   "cell_type": "code",
   "execution_count": null,
   "metadata": {},
   "outputs": [],
   "source": [
    "Set module attribute failed! - \n",
    "{\"statusCode\":791000,\"statusDescription\":\"Null parameter: the parameter 'hostname' cannot be null.\"}\n",
    "\n",
    "Set module attribute failed! - \n",
    "{\"statusCode\":791000,\"statusDescription\":\"Null parameter: the parameter 'attributeName' cannot be null.\"}\n",
    "\n",
    "Set module attribute failed! - \n",
    "{\"statusCode\":791000,\"statusDescription\":\"Null parameter: the parameter 'moduleName' cannot be null.\"}"
   ]
  }
 ],
 "metadata": {
  "kernelspec": {
   "display_name": "Python 3",
   "language": "python",
   "name": "python3"
  },
  "language_info": {
   "codemirror_mode": {
    "name": "ipython",
    "version": 3
   },
   "file_extension": ".py",
   "mimetype": "text/x-python",
   "name": "python",
   "nbconvert_exporter": "python",
   "pygments_lexer": "ipython3",
   "version": "3.7.1"
  }
 },
 "nbformat": 4,
 "nbformat_minor": 2
}
