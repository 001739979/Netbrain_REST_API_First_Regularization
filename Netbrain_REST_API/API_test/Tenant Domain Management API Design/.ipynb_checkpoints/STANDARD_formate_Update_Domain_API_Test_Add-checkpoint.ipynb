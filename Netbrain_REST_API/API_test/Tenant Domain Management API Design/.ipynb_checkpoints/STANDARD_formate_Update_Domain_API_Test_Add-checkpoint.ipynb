{
 "cells": [
  {
   "cell_type": "code",
   "execution_count": 5,
   "metadata": {},
   "outputs": [
    {
     "name": "stdout",
     "output_type": "stream",
     "text": [
      "Update domain failed! - {\"statusCode\":791000,\"statusDescription\":\"Null parameter: the parameter 'domainId' cannot be null.\"}\n"
     ]
    }
   ],
   "source": [
    "# import python modules \n",
    "import requests\n",
    "import time\n",
    "import urllib3\n",
    "import pprint\n",
    "import json\n",
    "urllib3.disable_warnings(urllib3.exceptions.InsecureRequestWarning)\n",
    "\n",
    "# Set the request inputs\n",
    "token = \"855b2da0-306b-4c29-b37f-be09e33e2d02\"\n",
    "nb_url = \"http://192.168.28.79\"\n",
    "full_url = nb_url + \"/ServicesAPI/API/V1/CMDB/Domains\"\n",
    "headers = {'Content-Type': 'application/json', 'Accept': 'application/json'}\n",
    "headers[\"Token\"] = token\n",
    "\n",
    "'''DomainId = \"668489d7-54d9-41a9-a04e-0283f46e9135\"\n",
    "domainName = \"testDomain\"\n",
    "maximumNodes = None'''\n",
    "\n",
    "DomainId = \"668489d7-54d9-41a9-a04e-0283f46e9135\"\n",
    "domainName = \"testDomain111\"\n",
    "maximumNodes = None\n",
    "\n",
    "body = {\n",
    "    \"DomainId\": DomainId,\n",
    "    \"domainName\": domainName,\n",
    "    \"maximumNodes\": maximumNodes\n",
    "}\n",
    "\n",
    "try:\n",
    "    response = requests.put(full_url, data = json.dumps(body), headers = headers, verify = False)\n",
    "    if response.status_code == 200:\n",
    "        result = response.json()\n",
    "        print (result)\n",
    "    else:\n",
    "        print (\"Update domain failed! - \" + str(response.text))\n",
    "    \n",
    "except Exception as e:\n",
    "    print (str(e)) "
   ]
  },
  {
   "cell_type": "code",
   "execution_count": null,
   "metadata": {},
   "outputs": [],
   "source": []
  },
  {
   "cell_type": "code",
   "execution_count": null,
   "metadata": {},
   "outputs": [],
   "source": []
  }
 ],
 "metadata": {
  "kernelspec": {
   "display_name": "Python 3",
   "language": "python",
   "name": "python3"
  },
  "language_info": {
   "codemirror_mode": {
    "name": "ipython",
    "version": 3
   },
   "file_extension": ".py",
   "mimetype": "text/x-python",
   "name": "python",
   "nbconvert_exporter": "python",
   "pygments_lexer": "ipython3",
   "version": "3.7.1"
  }
 },
 "nbformat": 4,
 "nbformat_minor": 2
}
