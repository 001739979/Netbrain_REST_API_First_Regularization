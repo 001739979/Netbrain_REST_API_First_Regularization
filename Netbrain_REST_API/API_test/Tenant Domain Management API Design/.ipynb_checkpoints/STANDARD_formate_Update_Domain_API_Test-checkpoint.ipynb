{
 "cells": [
  {
   "cell_type": "markdown",
   "metadata": {},
   "source": [
    "# Tenant Domain Management API Design"
   ]
  },
  {
   "cell_type": "markdown",
   "metadata": {},
   "source": [
    "## ***PUT*** /V1/CMDB/Domains\n",
    "Calling this API to update a domain specified by domain id(How to get ID? See Get All Domains of a Tenant.).\n",
    "\n",
    "## Detail Information\n",
    "\n",
    "> **Title** : Update Domain API<br>\n",
    "\n",
    "> **Version** : 02/05/2019.\n",
    "\n",
    "> **API Server URL** : http(s)://IP address of NetBrain Web API Server/ServicesAPI/API/V1/CMDB/Domains\t\n",
    "\n",
    "> **Authentication** : \n",
    "\n",
    ">|**Type**|**In**|**Name**|\n",
    "|------|------|------|\n",
    "|<img width=100/>|<img width=100/>|<img width=500/>|\n",
    "|Bearer Authentication| Headers | Authentication token | \n",
    "\n",
    "## Request body(****required***)\n",
    "\n",
    ">|**Name**|**Type**|**Description**|\n",
    "|------|------|------|\n",
    "|<img width=100/>|<img width=100/>|<img width=500/>|\n",
    "|DomainId* | string | The domain ID.  |\n",
    "|domainName | string | The name of current domain.  |\n",
    "|maximumNodes | integer  | The maximum license nodes that the tenant owns. The number must be greater than 0.  |\n",
    "|description | string  | The description about the tenant.  |\n",
    "|maximumPorts | integer  | The maximum SDN physical ports that the tenant owns. >= 0. |\n",
    "|maximumCPU | integer  | The maximum SDN physical CPU's that the tenant owns. >= 0.  |\n",
    "\n",
    "> ***Example***"
   ]
  },
  {
   "cell_type": "code",
   "execution_count": null,
   "metadata": {},
   "outputs": [],
   "source": [
    "{\n",
    "    \"domainId\": \"5e75247a-309c-4231-96a5-823b6cb1e78d\",\n",
    "    \"domainName\": \"TenantName\",\n",
    "    \"description\": \"Description\",\n",
    "    \"maximumNodes\": \"5\"\n",
    "}"
   ]
  },
  {
   "cell_type": "markdown",
   "metadata": {},
   "source": [
    "## Parameters(****required***)\n",
    "\n",
    ">No parameters required.\n",
    "\n",
    "## Headers\n",
    "\n",
    "> **Data Format Headers**\n",
    "\n",
    "> |**Name**|**Type**|**Description**|\n",
    "|------|------|------|\n",
    "|<img width=100/>|<img width=100/>|<img width=500/>|\n",
    "| Content-Type | string  | support \"application/json\" |\n",
    "| Accept | string  | support \"application/json\" |\n",
    "\n",
    "> **Authorization Headers**\n",
    "\n",
    "> |**Name**|**Type**|**Description**|\n",
    "|------|------|------|\n",
    "|<img width=100/>|<img width=100/>|<img width=500/>|\n",
    "| token | string  | Authentication token, get from login API. |\n",
    "\n",
    "## Response\n",
    "\n",
    ">|**Name**|**Type**|**Description**|\n",
    "|------|------|------|\n",
    "|<img width=100/>|<img width=100/>|<img width=500/>|\n",
    "|statusCode| integer | The returned status code of executing the API.  |\n",
    "|statusDescription| string | The explanation of the status code.  |\n",
    "\n",
    "> ***Example***"
   ]
  },
  {
   "cell_type": "code",
   "execution_count": null,
   "metadata": {},
   "outputs": [],
   "source": [
    "{\n",
    "    \"statusCode\": 790200,\n",
    "    \"statusDescription\": \"success\"\n",
    "}"
   ]
  },
  {
   "cell_type": "markdown",
   "metadata": {},
   "source": [
    "# Full Example:"
   ]
  },
  {
   "cell_type": "code",
   "execution_count": 3,
   "metadata": {},
   "outputs": [
    {
     "name": "stdout",
     "output_type": "stream",
     "text": [
      "{'statusCode': 790200, 'statusDescription': 'Success.'}\n"
     ]
    }
   ],
   "source": [
    "# import python modules \n",
    "import requests\n",
    "import time\n",
    "import urllib3\n",
    "import pprint\n",
    "import json\n",
    "urllib3.disable_warnings(urllib3.exceptions.InsecureRequestWarning)\n",
    "\n",
    "# Set the request inputs\n",
    "token = \"855b2da0-306b-4c29-b37f-be09e33e2d02\"\n",
    "nb_url = \"http://192.168.28.79\"\n",
    "full_url = nb_url + \"/ServicesAPI/API/V1/CMDB/Domains\"\n",
    "headers = {'Content-Type': 'application/json', 'Accept': 'application/json'}\n",
    "headers[\"Token\"] = token\n",
    "\n",
    "DomainId = \"668489d7-54d9-41a9-a04e-0283f46e9135\"\n",
    "domainName = \"testDomain\"\n",
    "maximumNodes = None\n",
    "\n",
    "body = {\n",
    "    \"DomainId\": DomainId,\n",
    "    \"domainName\": domainName,\n",
    "    \"maximumNodes\": maximumNodes\n",
    "}\n",
    "\n",
    "try:\n",
    "    response = requests.put(full_url, data = json.dumps(body), headers = headers, verify = False)\n",
    "    if response.status_code == 200:\n",
    "        result = response.json()\n",
    "        print (result)\n",
    "    else:\n",
    "        print (\"Update domain failed! - \" + str(response.text))\n",
    "    \n",
    "except Exception as e:\n",
    "    print (str(e)) "
   ]
  },
  {
   "cell_type": "markdown",
   "metadata": {},
   "source": [
    "# cURL Code from Postman:"
   ]
  },
  {
   "cell_type": "code",
   "execution_count": null,
   "metadata": {},
   "outputs": [],
   "source": [
    "curl -X PUT \\\n",
    "  http://192.168.28.79/ServicesAPI/API/V1/CMDB/Domains \\\n",
    "  -H 'Content-Type: application/json' \\\n",
    "  -H 'Postman-Token: d2cb2e99-c3d7-449a-be78-c7144cc88b10' \\\n",
    "  -H 'cache-control: no-cache' \\\n",
    "  -H 'token: 855b2da0-306b-4c29-b37f-be09e33e2d02' \\\n",
    "  -d '{\n",
    "        \"DomainId\": \"668489d7-54d9-41a9-a04e-0283f46e9135\",\n",
    "        \"domainName\": \"testDomain\",\n",
    "        \"maximumNodes\": \"\"\n",
    "    }'"
   ]
  },
  {
   "cell_type": "markdown",
   "metadata": {},
   "source": [
    "# Error Examples:"
   ]
  },
  {
   "cell_type": "code",
   "execution_count": null,
   "metadata": {},
   "outputs": [],
   "source": [
    "################################################################################################################### \n",
    "\n",
    "\"\"\"Basic errors similar with \"Add Domain API\" \"\"\"\n",
    "\n",
    "###################################################################################################################    \n",
    "\n",
    "\"\"\"Error 1: munltiple update with same input values\"\"\"\"\"\"\"\"\"\"\"\"\"\"\"\"\"\"\"\"\"\"\"\"\"\"\"\"\"\"\"\"\"\"\"\"\"\"\"\"\"\"\"\"\"\"\"\"\"\"\"\"\"\"\"\"\"\"\"\"\"\"\"\"\"\n",
    "\n",
    "Input:\n",
    "        \n",
    "        DomainId = \"668489d7-54d9-41a9-a04e-0283f46e9135\" # no new values in this update\n",
    "        domainName = \"testDomain\"\n",
    "        maximumNodes = None\n",
    "        \n",
    "Response:\n",
    "    \n",
    "        \"{\n",
    "            'statusCode': 790200, \n",
    "            'statusDescription': 'Success.'\n",
    "        }\"\n",
    "            \n",
    "###################################################################################################################    \n",
    "\n",
    "\"\"\"Error 2: Id and name are not correspond \"\"\"\n",
    "\n",
    "Input:\n",
    "        \n",
    "        DomainId = \"668489d7-54d9-41a9-a04e-0283f46e9135\"\n",
    "        domainName = \"testDomain111\"\n",
    "        maximumNodes = None\n",
    "        \n",
    "Response:\n",
    "    \n",
    "        \"{\n",
    "            'statusCode': 790200, \n",
    "            'statusDescription': 'Success.'\n",
    "        }\"\n",
    "            \n",
    "        "
   ]
  },
  {
   "cell_type": "code",
   "execution_count": null,
   "metadata": {},
   "outputs": [],
   "source": [
    "'''\n",
    "Some Issues:\n",
    "\n",
    "        1) Success response too simple.\n",
    "        \n",
    "        2) Multiple useless update, not efficancy.\n",
    "        \n",
    "'''"
   ]
  }
 ],
 "metadata": {
  "kernelspec": {
   "display_name": "Python 3",
   "language": "python",
   "name": "python3"
  },
  "language_info": {
   "codemirror_mode": {
    "name": "ipython",
    "version": 3
   },
   "file_extension": ".py",
   "mimetype": "text/x-python",
   "name": "python",
   "nbconvert_exporter": "python",
   "pygments_lexer": "ipython3",
   "version": "3.7.1"
  }
 },
 "nbformat": 4,
 "nbformat_minor": 2
}
