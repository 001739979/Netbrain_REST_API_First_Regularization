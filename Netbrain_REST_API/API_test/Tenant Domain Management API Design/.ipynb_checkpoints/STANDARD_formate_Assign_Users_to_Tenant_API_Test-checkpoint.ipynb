{
 "cells": [
  {
   "cell_type": "markdown",
   "metadata": {},
   "source": [
    "# Tenant Domain Management API Design"
   ]
  },
  {
   "cell_type": "markdown",
   "metadata": {},
   "source": [
    "## ***POST*** /V1/CMDB/Tenants/Users\n",
    "Calling this API to assign users to a specified tenant.\n",
    "\n",
    "## Detail Information\n",
    "\n",
    "> **Title** : Assign Users to Tenant API<br>\n",
    "\n",
    "> **Version** : 02/05/2019.\n",
    "\n",
    "> **API Server URL** : http(s)://IP address of NetBrain Web API Server/ServicesAPI/API/V1/CMDB/Tenants/Users\t\n",
    "\n",
    "> **Authentication** : \n",
    "\n",
    ">|**Type**|**In**|**Name**|\n",
    "|------|------|------|\n",
    "|<img width=100/>|<img width=100/>|<img width=500/>|\n",
    "|Bearer Authentication| Headers | Authentication token | \n",
    "\n",
    "## Request body(****required***)\n",
    "\n",
    ">|**Name**|**Type**|**Description**|\n",
    "|------|------|------|\n",
    "|<img width=100/>|<img width=100/>|<img width=500/>|\n",
    "|tenantId* | string  | The Id of the tenant. This field is optional.<br>▪ If this parameter presents, its value will be used;<br>▪ If not, this parameter uses the value of tenantId in the SetCurrentDomain;<br>▪ If this parameter cannot get a value by either of the above ways, an error will prompt.  |\n",
    "|users* | list of object  | List of user info.  |\n",
    "|users.userName* | string  | The names of the users that you want to assign.  |\n",
    "|users.isTenantAdmin | bool  | Determine whether the assigned user is an admin. This field is optional.  |\n",
    "\n",
    "> ***Example***"
   ]
  },
  {
   "cell_type": "code",
   "execution_count": null,
   "metadata": {},
   "outputs": [],
   "source": [
    "{\n",
    "    \"tenantId\": \"4e75247a-309c-4231-96a5-823b6cb1e78d\",\n",
    "    \"users\": {\n",
    "        \"username\": \"NetBrain\",\n",
    "        \"isTenantAdmin\": \"NetBrain\"\n",
    "    }\n",
    "}"
   ]
  },
  {
   "cell_type": "markdown",
   "metadata": {},
   "source": [
    "## Parameters(****required***)\n",
    "\n",
    ">No parameters required.\n",
    "\n",
    "## Headers\n",
    "\n",
    "> **Data Format Headers**\n",
    "\n",
    "> |**Name**|**Type**|**Description**|\n",
    "|------|------|------|\n",
    "|<img width=100/>|<img width=100/>|<img width=500/>|\n",
    "| Content-Type | string  | support \"application/json\" |\n",
    "| Accept | string  | support \"application/json\" |\n",
    "\n",
    "> **Authorization Headers**\n",
    "\n",
    "> |**Name**|**Type**|**Description**|\n",
    "|------|------|------|\n",
    "|<img width=100/>|<img width=100/>|<img width=500/>|\n",
    "| token | string  | Authentication token, get from login API. |\n",
    "\n",
    "## Response\n",
    "\n",
    ">|**Name**|**Type**|**Description**|\n",
    "|------|------|------|\n",
    "|<img width=100/>|<img width=100/>|<img width=500/>|\n",
    "|statusCode| integer | The returned status code of executing the API.  |\n",
    "|statusDescription| string | The explanation of the status code.  |\n",
    "\n",
    "> ***Example***"
   ]
  },
  {
   "cell_type": "code",
   "execution_count": null,
   "metadata": {},
   "outputs": [],
   "source": [
    "{\n",
    "    \"statusCode\": 790200,\n",
    "    \"statusDescription\": \"success\"\n",
    "}"
   ]
  },
  {
   "cell_type": "markdown",
   "metadata": {},
   "source": [
    "# Full Example:"
   ]
  },
  {
   "cell_type": "code",
   "execution_count": 2,
   "metadata": {},
   "outputs": [
    {
     "name": "stdout",
     "output_type": "stream",
     "text": [
      "{'statusCode': 790200, 'statusDescription': 'Success.'}\n"
     ]
    }
   ],
   "source": [
    "# import python modules \n",
    "import requests\n",
    "import time\n",
    "import urllib3\n",
    "import pprint\n",
    "import json\n",
    "urllib3.disable_warnings(urllib3.exceptions.InsecureRequestWarning)\n",
    "\n",
    "# Set the request inputs\n",
    "token = \"855b2da0-306b-4c29-b37f-be09e33e2d02\"\n",
    "nb_url = \"http://192.168.28.79\"\n",
    "full_url = nb_url + \"/ServicesAPI/API/V1/CMDB/Tenants/Users\"\n",
    "headers = {'Content-Type': 'application/json', 'Accept': 'application/json'}\n",
    "headers[\"Token\"] = token\n",
    "\n",
    "tenantId = \"6f4e381a-1752-4b84-8a59-6ed6391614cf\"\n",
    "username = \"gongdaiAdmin\"\n",
    "isTenantAdmin = True\n",
    "\n",
    "body = {\n",
    "        \"tenantId\": tenantId, \n",
    "        \"users\": [{\n",
    "                \"username\": username,\n",
    "                \"isTenantAdmin\": isTenantAdmin\n",
    "            }]\n",
    "    }\n",
    "\n",
    "try:\n",
    "    response = requests.post(full_url, data = json.dumps(body), headers = headers, verify = False)\n",
    "    if response.status_code == 200:\n",
    "        result = response.json()\n",
    "        print (result)\n",
    "    else:\n",
    "        print (\"Assign users to tenant failed! - \" + str(response.text))\n",
    "    \n",
    "except Exception as e:\n",
    "    print (str(e)) "
   ]
  },
  {
   "cell_type": "markdown",
   "metadata": {},
   "source": [
    "# cURL Code from Postman:"
   ]
  },
  {
   "cell_type": "code",
   "execution_count": null,
   "metadata": {},
   "outputs": [],
   "source": [
    "curl -X POST \\\n",
    "  http://192.168.28.79/ServicesAPI/API/V1/CMDB/Tenants/Users \\\n",
    "  -H 'Content-Type: application/json' \\\n",
    "  -H 'Postman-Token: fced702d-d5ef-4516-b811-8882b167650c' \\\n",
    "  -H 'cache-control: no-cache' \\\n",
    "  -H 'token: 855b2da0-306b-4c29-b37f-be09e33e2d02' \\\n",
    "  -d '{\n",
    "        \"tenantId\": \"6f4e381a-1752-4b84-8a59-6ed6391614cf\", \n",
    "        \"users\": [{\n",
    "                \"username\": \"gongdaiAdmin\",\n",
    "                \"isTenantAdmin\": \"True\"\n",
    "            }]\n",
    "    }'"
   ]
  },
  {
   "cell_type": "markdown",
   "metadata": {},
   "source": [
    " # Error Examples:"
   ]
  },
  {
   "cell_type": "code",
   "execution_count": null,
   "metadata": {},
   "outputs": [],
   "source": [
    "###################################################################################################################    \n",
    "\n",
    "\"\"\"Error 1: empty inputs\"\"\"\n",
    "\n",
    "Input:\n",
    "        \n",
    "        tenantId = \"6f4e381a-1752-4b84-8a59-6ed6391614cf\"  # Can not be null\n",
    "        username = \"gongdaiAdmin\"  # Can not be null\n",
    "        isTenantAdmin = None  # Can be null\n",
    "        \n",
    "Response:\n",
    "    \n",
    "        \"Assign users to tenant failed! - \n",
    "        {\"statusCode\":791000,\"statusDescription\":\"Null parameter: the parameter 'userName' cannot be null.\"}\n",
    "\n",
    "        \n",
    "        \"\"\"\"\"\"\"\"\"\"\"\"\"\"\"\"\"\"\"\"\"\"\"\"\"\"\"\"\"\"\"\"\"\"\"\"\"\"\"\"\"\"\"\"\"\"\"\"\"\"\"\"\"\"\"\"\"\"\"\"\"\"\"\"\"\"\"\"\"\"\"\"\"\"\"\"\"\"\"\"\"\"\"\"\"\"\"\"\"\"\"\"\"\"\"\"\"\"\n",
    "        Assign users to tenant failed! - \n",
    "        {\"statusCode\":791004,\"statusDescription\":\"Invalid tenant id.\"}\"\n",
    "\n",
    "###################################################################################################################    \n",
    "\n",
    "\"\"\"Error 1: wrong inputs\"\"\"\n",
    "\n",
    "Input:\n",
    "        \n",
    "        tenantId = \"XXXXXXXXXXXXXXXXXXXXXXXXXXXXXXXXXX\"  # No tenant have a ID like this\n",
    "        \n",
    "Response:\n",
    "    \n",
    "        \"Assign users to tenant failed! - \n",
    "            {\n",
    "                \"statusCode\":791006,\n",
    "                \"statusDescription\":\"tenant with id XXXXXXXXXXXXXXXXXXXXXXXXXXXXXXXXXXXX does not exist.\"\n",
    "            }\"\n",
    "\n",
    " #-----------------------------------------------------------------------------------------------------------------\n",
    "            \n",
    "Input:\"\"\"\"\"\"\"\"\"\"\"\"\"\"\"\"\"\"\"\"\"\"\"\"\"\"\"\"\"\"\"\"\"\"\"\"\"\"\"\"\"\"\"\"\"\"\"\"\"\"\"\"\"\"\"\"\"\"\"\"\"\"\"\"\"\"\"\"\"\"\"\"\"\"\"\"\"\"\"\"\"\"\"\"\"\"\"\"\"\"\"\"\"\"\"\"\"\"\"\"\"\"\"\"\"\"\"\"\"\"\n",
    "        \n",
    "        username = \"blahblah\"  # No user called \"blahblah\"\n",
    "        \n",
    "Response:\n",
    "    \n",
    "            \"{\n",
    "                'statusCode': 790200, \n",
    "                'statusDescription': 'Success.'\n",
    "            }\n",
    "       \n",
    " #-----------------------------------------------------------------------------------------------------------------\n",
    "            \n",
    "Input:\"\"\"\"\"\"\"\"\"\"\"\"\"\"\"\"\"\"\"\"\"\"\"\"\"\"\"\"\"\"\"\"\"\"\"\"\"\"\"\"\"\"\"\"\"\"\"\"\"\"\"\"\"\"\"\"\"\"\"\"\"\"\"\"\"\"\"\"\"\"\"\"\"\"\"\"\"\"\"\"\"\"\"\"\"\"\"\"\"\"\"\"\"\"\"\"\"\"\"\"\"\"\"\"\"\"\"\"\"\"\n",
    "        \n",
    "        isTenantAdmin = \"hahahahahahah\"  # It should be \"True\" or \"False\"\n",
    "        \n",
    "Response:\n",
    "    \n",
    "            \"{\n",
    "                'statusCode': 790200, \n",
    "                'statusDescription': 'Success.'\n",
    "            }\"\n",
    "            \n",
    "            \n"
   ]
  },
  {
   "cell_type": "code",
   "execution_count": null,
   "metadata": {},
   "outputs": [],
   "source": [
    "'''\n",
    "Some Issues:\n",
    "\n",
    "        1) Response of empty input of tenantID is not accuracy.\n",
    "         \n",
    "        2) With wrong input values of \"username\" and \"isTenantAdmin\", API can return success, that's not reasonable.\n",
    "        \n",
    "        3) Same user can add into same tenant and set as tenant admin multi-times, that is not right.\n",
    "        \n",
    "        \n",
    "        \n",
    "'''"
   ]
  }
 ],
 "metadata": {
  "kernelspec": {
   "display_name": "Python 3",
   "language": "python",
   "name": "python3"
  },
  "language_info": {
   "codemirror_mode": {
    "name": "ipython",
    "version": 3
   },
   "file_extension": ".py",
   "mimetype": "text/x-python",
   "name": "python",
   "nbconvert_exporter": "python",
   "pygments_lexer": "ipython3",
   "version": "3.7.1"
  }
 },
 "nbformat": 4,
 "nbformat_minor": 2
}
