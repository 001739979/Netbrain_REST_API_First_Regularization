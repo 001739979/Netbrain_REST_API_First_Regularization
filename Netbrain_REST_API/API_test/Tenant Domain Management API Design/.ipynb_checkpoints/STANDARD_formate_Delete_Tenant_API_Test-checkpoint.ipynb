{
 "cells": [
  {
   "cell_type": "markdown",
   "metadata": {},
   "source": [
    "# Tenant Domain Management API Design"
   ]
  },
  {
   "cell_type": "markdown",
   "metadata": {},
   "source": [
    "## ***DELETE*** /V1/CMDB/Tenants/{tenantId}\n",
    "Calling this API to delete a tenant specified by tenant id (how to get ID? see Get_All_Tenants).\n",
    "\n",
    "## Detail Information\n",
    "\n",
    "> **Title** : Delete Tenant API<br>\n",
    "\n",
    "> **Version** : 02/05/2019.\n",
    "\n",
    "> **API Server URL** : http(s)://IP address of NetBrain Web API Server/ServicesAPI/API/V1/CMDB/Tenants/{tenantId}\n",
    "\n",
    "> **Authentication** : \n",
    "\n",
    ">|**Type**|**In**|**Name**|\n",
    "|------|------|------|\n",
    "|<img width=100/>|<img width=100/>|<img width=500/>|\n",
    "|Bearer Authentication| Headers | Authentication token | \n",
    "\n",
    "## Request body(****required***)\n",
    "\n",
    ">No request body.\n",
    "\n",
    "## Path Parameters(****required***)\n",
    "\n",
    ">|**Name**|**Type**|**Description**|\n",
    "|------|------|------|\n",
    "|<img width=100/>|<img width=100/>|<img width=500/>|\n",
    "|tenantId* | string  | The ID of the tenant that you want to delete.  |\n",
    "\n",
    "## Headers\n",
    "\n",
    "> **Data Format Headers**\n",
    "\n",
    "> |**Name**|**Type**|**Description**|\n",
    "|------|------|------|\n",
    "|<img width=100/>|<img width=100/>|<img width=500/>|\n",
    "| Content-Type | string  | support \"application/json\" |\n",
    "| Accept | string  | support \"application/json\" |\n",
    "\n",
    "> **Authorization Headers**\n",
    "\n",
    "> |**Name**|**Type**|**Description**|\n",
    "|------|------|------|\n",
    "|<img width=100/>|<img width=100/>|<img width=500/>|\n",
    "| token | string  | Authentication token, get from login API. |\n",
    "\n",
    "## Response\n",
    "\n",
    ">|**Name**|**Type**|**Description**|\n",
    "|------|------|------|\n",
    "|<img width=100/>|<img width=100/>|<img width=500/>|\n",
    "|tenantId| string | The tenant ID.  |\n",
    "|statusCode| integer | The returned status code of executing the API.  |\n",
    "|statusDescription| string | The explanation of the status code.  |\n",
    "\n",
    "> ***Example***"
   ]
  },
  {
   "cell_type": "code",
   "execution_count": null,
   "metadata": {},
   "outputs": [],
   "source": [
    "{\n",
    "    \"statusCode\": 790200,\n",
    "    \"statusDescription\": \"success\"\n",
    "}"
   ]
  },
  {
   "cell_type": "markdown",
   "metadata": {},
   "source": [
    "# Full Example:"
   ]
  },
  {
   "cell_type": "code",
   "execution_count": 2,
   "metadata": {},
   "outputs": [
    {
     "name": "stdout",
     "output_type": "stream",
     "text": [
      "{'statusCode': 790200, 'statusDescription': 'Success.'}\n"
     ]
    }
   ],
   "source": [
    "# import python modules \n",
    "import requests\n",
    "import time\n",
    "import urllib3\n",
    "import pprint\n",
    "import json\n",
    "urllib3.disable_warnings(urllib3.exceptions.InsecureRequestWarning)\n",
    "\n",
    "# Set the request inputs\n",
    "token = \"855b2da0-306b-4c29-b37f-be09e33e2d02\"\n",
    "nb_url = \"http://192.168.28.79\"\n",
    "\n",
    "tenantId = \"2492adc4-6014-4c1f-b2d3-be4dadc4dd3e\"\n",
    "\n",
    "full_url = nb_url + \"/ServicesAPI/API/V1/CMDB/Tenants/\" + str(tenantId)\n",
    "headers = {'Content-Type': 'application/json', 'Accept': 'application/json'}\n",
    "headers[\"Token\"] = token\n",
    "\n",
    "try:\n",
    "    response = requests.delete(full_url, headers = headers, verify = False)\n",
    "    if response.status_code == 200:\n",
    "        result = response.json()\n",
    "        print (result)\n",
    "    else:\n",
    "        print (\"Delete tenant failed! - \" + str(response.text))\n",
    "    \n",
    "except Exception as e:\n",
    "    print (str(e)) "
   ]
  },
  {
   "cell_type": "markdown",
   "metadata": {},
   "source": [
    "# cURL Code from Postman:"
   ]
  },
  {
   "cell_type": "code",
   "execution_count": null,
   "metadata": {},
   "outputs": [],
   "source": [
    "curl -X GET \\\n",
    "  http://192.168.28.79/ServicesAPI/API/V1/CMDB/Tenants/2492adc4-6014-4c1f-b2d3-be4dadc4dd3e \\\n",
    "  -H 'Postman-Token: 834d6596-2b8f-45d7-bb1c-a318576e7a78' \\\n",
    "  -H 'cache-control: no-cache' \\\n",
    "  -H 'token: 855b2da0-306b-4c29-b37f-be09e33e2d02'"
   ]
  },
  {
   "cell_type": "markdown",
   "metadata": {},
   "source": [
    "# Error Examples:"
   ]
  },
  {
   "cell_type": "code",
   "execution_count": null,
   "metadata": {},
   "outputs": [],
   "source": [
    "###################################################################################################################    \n",
    "\n",
    "\"\"\"Error 1: empty inputs\"\"\"\"\"\"\"\"\"\"\"\"\"\"\"\"\"\"\"\"\"\"\"\"\"\"\"\"\"\"\"\"\"\"\"\"\"\"\"\"\"\"\"\"\"\"\"\"\"\"\"\"\"\"\"\"\"\"\"\"\"\"\"\"\"\"\"\"\"\"\"\"\"\"\"\"\"\"\"\"\"\"\"\"\"\"\"\"\"\n",
    "\n",
    "Input:\n",
    "        \n",
    "           tenantId = \"\"\n",
    "        \n",
    "Response:\n",
    "    \n",
    "        \"Delete tenant failed! - \n",
    "            {\n",
    "                \"statusCode\" : 793405,\n",
    "                \"statusDescription\" : \"Method is not supported\"\n",
    "            }\"\n",
    "\n",
    "###################################################################################################################    \n",
    "\n",
    "\"\"\"Error 1: wrong inputs\"\"\"\n",
    "\n",
    "Input:\n",
    "        \n",
    "           tenantId = \"XXXXXXXXXXXXXXXXXXXXXXXXXXXXXXXXXXX\" # Not tenant called \"XXXXXXXXXXXXXXXXXXXXXXXXXXXXXXXXXXX\".\n",
    "        \n",
    "Response:\n",
    "    \n",
    "        \"Delete tenant failed! - \n",
    "            {\n",
    "                \"statusCode\":791006,\n",
    "                \"statusDescription\":\"tenant with id XXXXXXXXXXXXXXXXXXXXXXXXXXXXXXXXXXX does not exist.\"\n",
    "            }\"\n"
   ]
  },
  {
   "cell_type": "code",
   "execution_count": null,
   "metadata": {},
   "outputs": [],
   "source": [
    "'''\n",
    "Some Issues:\n",
    "\n",
    "        1) Success response too simple.\n",
    "        \n",
    "        2) The response of empty input not accuracy.\n",
    "''' "
   ]
  }
 ],
 "metadata": {
  "kernelspec": {
   "display_name": "Python 3",
   "language": "python",
   "name": "python3"
  },
  "language_info": {
   "codemirror_mode": {
    "name": "ipython",
    "version": 3
   },
   "file_extension": ".py",
   "mimetype": "text/x-python",
   "name": "python",
   "nbconvert_exporter": "python",
   "pygments_lexer": "ipython3",
   "version": "3.7.1"
  }
 },
 "nbformat": 4,
 "nbformat_minor": 2
}
