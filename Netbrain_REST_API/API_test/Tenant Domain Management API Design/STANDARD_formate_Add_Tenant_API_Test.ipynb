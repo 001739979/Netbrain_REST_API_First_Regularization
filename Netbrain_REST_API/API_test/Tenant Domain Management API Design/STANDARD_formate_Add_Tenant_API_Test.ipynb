{
 "cells": [
  {
   "cell_type": "markdown",
   "metadata": {},
   "source": [
    "# Tenant Domain Management API Design"
   ]
  },
  {
   "cell_type": "markdown",
   "metadata": {},
   "source": [
    "## ***POST*** /V1/CMDB/Tenants\n",
    "Calling this API to add a tenant to users Netbrain system.\n",
    "\n",
    "## Detail Information\n",
    "\n",
    "> **Title** : Add Tenant API<br>\n",
    "\n",
    "> **Version** : 02/05/2019.\n",
    "\n",
    "> **API Server URL** : http(s)://IP address of NetBrain Web API Server/ServicesAPI/API/V1/CMDB/Tenants\t\n",
    "\n",
    "> **Authentication** : \n",
    "\n",
    ">|**Type**|**In**|**Name**|\n",
    "|------|------|------|\n",
    "|<img width=100/>|<img width=100/>|<img width=500/>|\n",
    "|Bearer Authentication| Headers | Authentication token | \n",
    "\n",
    "## Request body(****required***)\n",
    "\n",
    ">|**Name**|**Type**|**Description**|\n",
    "|------|------|------|\n",
    "|<img width=100/>|<img width=100/>|<img width=500/>|\n",
    "|tenantName* | string  | The name of the created tenant.  |\n",
    "|maximumNodes* | integer  | The maximum license nodes that the tenant owns. The number must be greater than 0.  |\n",
    "|description | string  | The description about the tenant.  |\n",
    "|maximumPorts | integer  | The maximum SDN physical ports that the tenant owns. >= 0. |\n",
    "|maximumCPU | integer  | The maximum SDN physical CPU's that the tenant owns. >= 0.  |\n",
    "\n",
    "> ***Example***"
   ]
  },
  {
   "cell_type": "code",
   "execution_count": null,
   "metadata": {},
   "outputs": [],
   "source": [
    "{\n",
    "    \"tenantName\": \"TenantName\",\n",
    "    \"description\": \"Description\",\n",
    "    \"maximumNodes\": 5,\n",
    "    \"maximumPorts\" : integer,\n",
    "    \"maximumCPU\" : integer\n",
    "}"
   ]
  },
  {
   "cell_type": "markdown",
   "metadata": {},
   "source": [
    "## Parameters(****required***)\n",
    "\n",
    ">No parameters required.\n",
    "\n",
    "## Headers\n",
    "\n",
    "> **Data Format Headers**\n",
    "\n",
    "> |**Name**|**Type**|**Description**|\n",
    "|------|------|------|\n",
    "|<img width=100/>|<img width=100/>|<img width=500/>|\n",
    "| Content-Type | string  | support \"application/json\" |\n",
    "| Accept | string  | support \"application/json\" |\n",
    "\n",
    "> **Authorization Headers**\n",
    "\n",
    "> |**Name**|**Type**|**Description**|\n",
    "|------|------|------|\n",
    "|<img width=100/>|<img width=100/>|<img width=500/>|\n",
    "| token | string  | Authentication token, get from login API. |\n",
    "\n",
    "## Response\n",
    "\n",
    ">|**Name**|**Type**|**Description**|\n",
    "|------|------|------|\n",
    "|<img width=100/>|<img width=100/>|<img width=500/>|\n",
    "|tenantId| string | The tenant ID.  |\n",
    "|statusCode| integer | The returned status code of executing the API.  |\n",
    "|statusDescription| string | The explanation of the status code.  |\n",
    "\n",
    "> ***Example***"
   ]
  },
  {
   "cell_type": "code",
   "execution_count": null,
   "metadata": {},
   "outputs": [],
   "source": [
    "{\n",
    "    \"statusCode\": 790200,\n",
    "    \"statusDescription\": \"string\",\n",
    "    \"tenantId\": \"3e75247a-309c-4231-96a5-823b6cb1e78d\"\n",
    "}"
   ]
  },
  {
   "cell_type": "markdown",
   "metadata": {},
   "source": [
    "# Full Example: "
   ]
  },
  {
   "cell_type": "code",
   "execution_count": 2,
   "metadata": {},
   "outputs": [
    {
     "name": "stdout",
     "output_type": "stream",
     "text": [
      "{'tenantId': '6f4e381a-1752-4b84-8a59-6ed6391614cf', 'statusCode': 790200, 'statusDescription': 'Success.'}\n"
     ]
    }
   ],
   "source": [
    "# import python modules \n",
    "import requests\n",
    "import time\n",
    "import urllib3\n",
    "import pprint\n",
    "import json\n",
    "urllib3.disable_warnings(urllib3.exceptions.InsecureRequestWarning)\n",
    "\n",
    "# Set the request inputs\n",
    "token = \"855b2da0-306b-4c29-b37f-be09e33e2d02\"\n",
    "nb_url = \"http://192.168.28.79\"\n",
    "full_url = nb_url + \"/ServicesAPI/API/V1/CMDB/Tenants\"\n",
    "headers = {'Content-Type': 'application/json', 'Accept': 'application/json'}\n",
    "headers[\"Token\"] = token\n",
    "\n",
    "tenantName = \"testTenant\"\n",
    "maximumNodes = 100\n",
    "\n",
    "body = {\n",
    "    \"tenantName\" : tenantName,\n",
    "    \"maximumNodes\" : maximumNodes\n",
    "}\n",
    "\n",
    "try:\n",
    "    response = requests.post(full_url, data = json.dumps(body), headers = headers, verify = False)\n",
    "    if response.status_code == 200:\n",
    "        result = response.json()\n",
    "        print (result)\n",
    "    else:\n",
    "        print (\"Add tenant failed! - \" + str(response.text))\n",
    "    \n",
    "except Exception as e:\n",
    "    print (str(e)) "
   ]
  },
  {
   "cell_type": "markdown",
   "metadata": {},
   "source": [
    "# cURL Code from Postman:"
   ]
  },
  {
   "cell_type": "code",
   "execution_count": null,
   "metadata": {},
   "outputs": [],
   "source": [
    "curl -X POST \\\n",
    "  http://192.168.28.79/ServicesAPI/API/V1/CMDB/Tenants \\\n",
    "  -H 'Content-Type: application/json' \\\n",
    "  -H 'Postman-Token: b91448a7-608e-4aad-bfa7-6b1adf21b6fd' \\\n",
    "  -H 'cache-control: no-cache' \\\n",
    "  -H 'token: 855b2da0-306b-4c29-b37f-be09e33e2d02' \\\n",
    "  -d '{\n",
    "        \"tenantName\" : \"testTenant\",\n",
    "        \"maximumNodes\" : 100\n",
    "    }'"
   ]
  },
  {
   "cell_type": "markdown",
   "metadata": {},
   "source": [
    " # Error Examples:"
   ]
  },
  {
   "cell_type": "code",
   "execution_count": null,
   "metadata": {},
   "outputs": [],
   "source": [
    "###################################################################################################################    \n",
    "\n",
    "\"\"\"Error 1: empty inputs\"\"\"\n",
    "\n",
    "Input:\n",
    "        \n",
    "        tenantName = \"\" # Can not be null\n",
    "        maximumNodes = None # Can not be null\n",
    "        \n",
    "Response:\n",
    "    \n",
    "        \"Add tenant failed! - \n",
    "            {\n",
    "                \"statusCode\":791000, \n",
    "                \"statusDescription\":\"Null parameter: the parameter 'tenantName' cannot be null.\"\n",
    "            }\"\n",
    "            \n",
    "        \n",
    "        \"Add tenant failed! - \n",
    "            {\n",
    "                \"statusCode\":791000,\n",
    "                \"statusDescription\":\"Null parameter: the parameter 'maximumNodes' cannot be null.\"\n",
    "            }\"\n",
    "\n",
    "###################################################################################################################    \n",
    "\n",
    "\"\"\"Error 1: wrong inputs\"\"\"\"\"\"\"\"\"\"\"\"\"\"\"\"\"\"\"\"\"\"\"\"\"\"\"\"\"\"\"\"\"\"\"\"\"\"\"\"\"\"\"\"\"\"\"\"\"\"\"\"\"\"\"\"\"\"\"\"\"\"\"\"\"\"\"\"\"\"\"\"\"\"\"\"\"\"\"\"\"\"\"\"\"\"\"\"\n",
    "\n",
    "Input:\n",
    "        \n",
    "        tenantName = 12345\n",
    "        maximumNodes = \"1\"\n",
    "        \n",
    "Response:\n",
    "    \n",
    "            \"{\n",
    "                'tenantId': '2492adc4-6014-4c1f-b2d3-be4dadc4dd3e', \n",
    "                'statusCode': 790200, \n",
    "                'statusDescription': 'Success.'\n",
    "            }\"\n",
    "\n",
    "###################################################################################################################    \n",
    "\n",
    "\"\"\"Error 1: input tenant name already exist\"\"\"\n",
    "\n",
    "Input:\n",
    "        \n",
    "        tenantName = \"testTenant\" # tenant named as \"testTenant\" already exist.\n",
    "        maximumNodes = 100\n",
    "        \n",
    "Response:\n",
    "    \n",
    "            \"Add tenant failed! - \n",
    "                {\n",
    "                    \"statusCode\":791007,\n",
    "                    \"statusDescription\":\"tenant testTenant already exists.\"\n",
    "                }\"\n"
   ]
  },
  {
   "cell_type": "code",
   "execution_count": null,
   "metadata": {},
   "outputs": [],
   "source": [
    "'''\n",
    "Some Issues:\n",
    "\n",
    "        1) a input values type checking is needed. Although it can be created successfully, but we need regularization.\n",
    "               \n",
    "'''"
   ]
  }
 ],
 "metadata": {
  "kernelspec": {
   "display_name": "Python 3",
   "language": "python",
   "name": "python3"
  },
  "language_info": {
   "codemirror_mode": {
    "name": "ipython",
    "version": 3
   },
   "file_extension": ".py",
   "mimetype": "text/x-python",
   "name": "python",
   "nbconvert_exporter": "python",
   "pygments_lexer": "ipython3",
   "version": "3.7.1"
  }
 },
 "nbformat": 4,
 "nbformat_minor": 2
}
