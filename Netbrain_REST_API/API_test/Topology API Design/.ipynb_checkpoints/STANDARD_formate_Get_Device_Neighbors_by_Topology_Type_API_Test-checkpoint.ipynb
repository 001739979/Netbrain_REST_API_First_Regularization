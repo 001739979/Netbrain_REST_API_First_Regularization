{
 "cells": [
  {
   "cell_type": "markdown",
   "metadata": {},
   "source": [
    "# Topology API Design"
   ]
  },
  {
   "cell_type": "markdown",
   "metadata": {},
   "source": [
    "## ***POST*** /V1/CMDB/Topology/Devices/Neighbors{?hostname}&{?topoType}\n",
    "Call this API to build or rebuild the Layer 2 topology for all network devices in a domain. \n",
    "\n",
    "Note that, in a domain scope, only one topology build task can run at any time.\n",
    "\n",
    "## Detail Information\n",
    "\n",
    "> **Title** : Get Device Neighbors by Topology Type API<br>\n",
    "\n",
    "> **Version** : 02/01/2019.\n",
    "\n",
    "> **API Server URL** : http(s)://IP address of NetBrain Web API Server/ServicesAPI/API/V1/CMDB/Topology/Devices/Neighbors\n",
    "\n",
    "\n",
    "> **Authentication** : \n",
    "\n",
    ">|**Type**|**In**|**Name**|\n",
    "|------|------|------|\n",
    "|<img width=100/>|<img width=100/>|<img width=500/>|\n",
    "|Bearer Authentication| Headers | Authentication token | \n",
    "\n",
    "## Request body(****required***)\n",
    "\n",
    ">No request body.\n",
    "\n",
    "## Query Parameters(****required***)\n",
    "\n",
    ">|**Name**|**Type**|**Description**|\n",
    "|------|------|------|\n",
    "|<img width=100/>|<img width=100/>|<img width=500/>|\n",
    "|hostname* | string  | The device name.  |\n",
    "|topoType* | string  | Return the neighbors in a specified topology type, such as \"L2_Topo_Type’, ‘L3_Topo_Type’, ‘Ipv6_L3_Topo_Type’ or ‘VPN_Topo_Type\". |\n",
    "\n",
    "## Headers\n",
    "\n",
    "> **Data Format Headers**\n",
    "\n",
    "> |**Name**|**Type**|**Description**|\n",
    "|------|------|------|\n",
    "|<img width=100/>|<img width=100/>|<img width=500/>|\n",
    "| Content-Type | string  | support \"application/json\" |\n",
    "| Accept | string  | support \"application/json\" |\n",
    "\n",
    "> **Authorization Headers**\n",
    "\n",
    "> |**Name**|**Type**|**Description**|\n",
    "|------|------|------|\n",
    "|<img width=100/>|<img width=100/>|<img width=500/>|\n",
    "| token | string  | Authentication token, get from login API. |\n",
    "\n",
    "## Response\n",
    "\n",
    ">|**Name**|**Type**|**Description**|\n",
    "|------|------|------|\n",
    "|<img width=100/>|<img width=100/>|<img width=500/>|\n",
    "|neighbors | list of object | List of neribor devices and interface.  |\n",
    "|neighbors.hostname | string | The peer device name.  |\n",
    "|neighbors.interface | string | The peer interface name. |\n",
    "|statusCode| integer | The returned status code of executing the API.  |\n",
    "|statusDescription| string | The explanation of the status code.  |\n",
    "\n",
    "> ***Example***"
   ]
  },
  {
   "cell_type": "code",
   "execution_count": null,
   "metadata": {},
   "outputs": [],
   "source": [
    "{\n",
    "    \"neighbors\": [\n",
    "        {\n",
    "            \"hostname\": \"R4\",\n",
    "            \"interface\": \"Ethernet0/1 123.10.1.1/30\"\n",
    "        },\n",
    "        {\n",
    "            \"hostname\": \"R5\",\n",
    "            \"interface\": \"Ethernet0/1 123.10.1.6/30\"\n",
    "        }\n",
    "    ],\n",
    "    \"statusCode\": 790200,\n",
    "    \"statusDescription\": \"Success.\"\n",
    "}"
   ]
  },
  {
   "cell_type": "markdown",
   "metadata": {},
   "source": [
    "# Full Example:"
   ]
  },
  {
   "cell_type": "code",
   "execution_count": 1,
   "metadata": {},
   "outputs": [
    {
     "name": "stdout",
     "output_type": "stream",
     "text": [
      "{'neighbors': [{'hostname': 'R4', 'interface': 'Ethernet0/1 123.10.1.1/30'}, {'hostname': 'R5', 'interface': 'Ethernet0/1 123.10.1.6/30'}], 'statusCode': 790200, 'statusDescription': 'Success.'}\n"
     ]
    }
   ],
   "source": [
    "# import python modules \n",
    "import requests\n",
    "import time\n",
    "import urllib3\n",
    "import pprint\n",
    "import json\n",
    "urllib3.disable_warnings(urllib3.exceptions.InsecureRequestWarning)\n",
    "\n",
    "# Set the request inputs\n",
    "token = \"3d0f475d-dbae-4c44-9080-7b08ded7d35b\"\n",
    "nb_url = \"http://192.168.28.79\"\n",
    "full_url = nb_url + \"/ServicesAPI/API/V1/CMDB/Topology/Devices/Neighbors\"\n",
    "headers = {'Content-Type': 'application/json', 'Accept': 'application/json'}\n",
    "headers[\"Token\"] = token\n",
    "\n",
    "hostname = \"R1\"\n",
    "topoType = \"L3_Topo_Type\"\n",
    "\n",
    "data = {\n",
    "        \"hostname\" : hostname,\n",
    "        \"topoType\" : topoType\n",
    "    }\n",
    "\n",
    "try:\n",
    "    response = requests.get(full_url, params = data, headers = headers, verify = False)\n",
    "    if response.status_code == 200:\n",
    "        result = response.json()\n",
    "        print (result)\n",
    "    else:\n",
    "        print (\"Get neighbors by topology failed! - \" + str(response.text))\n",
    "    \n",
    "except Exception as e:\n",
    "    print (str(e)) "
   ]
  },
  {
   "cell_type": "markdown",
   "metadata": {},
   "source": [
    "# cURL Code from Postman:"
   ]
  },
  {
   "cell_type": "code",
   "execution_count": null,
   "metadata": {},
   "outputs": [],
   "source": [
    "curl -X GET \\\n",
    "  'http://192.168.28.79/ServicesAPI/API/V1/CMDB/Topology/Devices/Neighbors?hostname=R1&topoType=L3_Topo_Type' \\\n",
    "  -H 'Postman-Token: d43de85c-8de9-4bcf-be28-9bc16ce7b329' \\\n",
    "  -H 'cache-control: no-cache' \\\n",
    "  -H 'token: 3d0f475d-dbae-4c44-9080-7b08ded7d35b'"
   ]
  },
  {
   "cell_type": "markdown",
   "metadata": {},
   "source": [
    "# Error Examples:"
   ]
  },
  {
   "cell_type": "code",
   "execution_count": null,
   "metadata": {},
   "outputs": [],
   "source": [
    "###################################################################################################################    \n",
    "\n",
    "\"\"\"Error 1: empty inputs\"\"\"\n",
    "\n",
    "Input:\n",
    "        \n",
    "        hostname = \"\" # Cannot be null.\n",
    "        topoType = \"\" # Cannot be null.\n",
    "\n",
    "Response:\n",
    "    \n",
    "    \"Get neighbors by topology failed! - \n",
    "        {\n",
    "            \"statusCode\":791000,\n",
    "            \"statusDescription\":\"Null parameter: the parameter 'hostname' cannot be null.\"\n",
    "        }\"\n",
    "        \n",
    "    \"Get neighbors by topology failed! - \n",
    "        {\n",
    "            \"statusCode\":791000,\n",
    "            \"statusDescription\":\"Null parameter: the parameter 'topoType' cannot be null.\"\n",
    "        }\"\n",
    "        \n",
    "###################################################################################################################    \n",
    "\n",
    "\"\"\"Error 2: wrong inputs\"\"\"\"\"\"\"\"\"\"\"\"\"\"\"\"\"\"\"\"\"\"\"\"\"\"\"\"\"\"\"\"\"\"\"\"\"\"\"\"\"\"\"\"\"\"\"\"\"\"\"\"\"\"\"\"\"\"\"\"\"\"\"\"\"\"\"\"\"\"\"\"\"\"\"\"\"\"\"\"\"\"\"\"\"\"\"\"\"\n",
    "\n",
    "Input:\n",
    "        \n",
    "        hostname = \"hahahh\" # No device with a hostname called \"hahahh\"\n",
    "        topoType = \"L3_Topo_Type\"\n",
    "\n",
    "Response:\n",
    "    \n",
    "    \"Get neighbors by topology failed! - \n",
    "        {\n",
    "            \"statusCode\":791006,\n",
    "            \"statusDescription\":\"hostname does not exist.\"\n",
    "        }\"\n",
    "\n",
    "#--------------------------------------------------------------------------------------------------------------------        \n",
    "    \n",
    "Input:\n",
    "        \n",
    "        hostname = \"R1\" \n",
    "        topoType = \"XXXX\" # No topology type called \"XXXX\".\n",
    "\n",
    "Response:\n",
    "    \n",
    "    \"Get neighbors by topology failed! - \n",
    "        {\n",
    "            \"statusCode\":791001,\n",
    "            \"statusDescription\":\"Invalid parameter: the parameter 'topoType' is invalid.\"\n",
    "        }\""
   ]
  },
  {
   "cell_type": "code",
   "execution_count": null,
   "metadata": {},
   "outputs": [],
   "source": [
    "'''In my opinion, the \"hostname\" should be a path parameter not a query parameter.'''"
   ]
  }
 ],
 "metadata": {
  "kernelspec": {
   "display_name": "Python 3",
   "language": "python",
   "name": "python3"
  },
  "language_info": {
   "codemirror_mode": {
    "name": "ipython",
    "version": 3
   },
   "file_extension": ".py",
   "mimetype": "text/x-python",
   "name": "python",
   "nbconvert_exporter": "python",
   "pygments_lexer": "ipython3",
   "version": "3.7.1"
  }
 },
 "nbformat": 4,
 "nbformat_minor": 2
}
