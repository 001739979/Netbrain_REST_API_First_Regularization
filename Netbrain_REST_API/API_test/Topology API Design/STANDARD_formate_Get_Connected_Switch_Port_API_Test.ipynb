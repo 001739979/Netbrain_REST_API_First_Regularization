{
 "cells": [
  {
   "cell_type": "markdown",
   "metadata": {},
   "source": [
    "# Topology API Design"
   ]
  },
  {
   "cell_type": "markdown",
   "metadata": {},
   "source": [
    "## ***GET*** /V1/CMDB/Topology/Devices/{ip}/ConnectedSwitchPort\n",
    "Call this API to get the connected layer 2 switch port whihc specified by management.\n",
    "\n",
    "## Detail Information\n",
    "\n",
    "> **Title** : Get Connected Switch Port API<br>\n",
    "\n",
    "> **Version** : 02/01/2019.\n",
    "\n",
    "> **API Server URL** : http(s)://IP address of NetBrain Web API Server/ServicesAPI/API/V1/CMDB/Topology/Devices/{ip}/ConnectedSwitchPort\n",
    "\n",
    "> **Authentication** : \n",
    "\n",
    ">|**Type**|**In**|**Name**|\n",
    "|------|------|------|\n",
    "|<img width=100/>|<img width=100/>|<img width=500/>|\n",
    "|Bearer Authentication| Headers | Authentication token | \n",
    "\n",
    "## Request body(****required***)\n",
    "\n",
    ">No request body.\n",
    "\n",
    "## Path Parameters(****required***)\n",
    "\n",
    ">|**Name**|**Type**|**Description**|\n",
    "|------|------|------|\n",
    "|<img width=100/>|<img width=100/>|<img width=500/>|\n",
    "|ip* | string  | The IP address of a device interface. |\n",
    "\n",
    "## Headers\n",
    "\n",
    "> **Data Format Headers**\n",
    "\n",
    "> |**Name**|**Type**|**Description**|\n",
    "|------|------|------|\n",
    "|<img width=100/>|<img width=100/>|<img width=500/>|\n",
    "| Content-Type | string  | support \"application/json\" |\n",
    "| Accept | string  | support \"application/json\" |\n",
    "\n",
    "> **Authorization Headers**\n",
    "\n",
    "> |**Name**|**Type**|**Description**|\n",
    "|------|------|------|\n",
    "|<img width=100/>|<img width=100/>|<img width=500/>|\n",
    "| token | string  | Authentication token, get from login API. |\n",
    "\n",
    "## Response\n",
    "\n",
    ">|**Name**|**Type**|**Description**|\n",
    "|------|------|------|\n",
    "|<img width=100/>|<img width=100/>|<img width=500/>|\n",
    "|hostname| string | Hostname of the device that the endsystem connected to.  |\n",
    "|interface| string | Interface of the device that the endsystem connected to. |\n",
    "|statusCode| integer | Code issued by NetBrain server indicating the execution result.  |\n",
    "|statusDescription| string | The explanation of the status code. |\n",
    "\n",
    "> ***Example***"
   ]
  },
  {
   "cell_type": "code",
   "execution_count": null,
   "metadata": {},
   "outputs": [],
   "source": [
    "{\n",
    "      \"statusCode\": 790200,\n",
    "      \"statusDescription\": \"success\",\n",
    "      \"hostname\": \"Bos-SW\",\n",
    "      \"interface\": \"Ethernet 0/1\"\n",
    "}"
   ]
  },
  {
   "cell_type": "markdown",
   "metadata": {},
   "source": [
    "# Full Example:"
   ]
  },
  {
   "cell_type": "code",
   "execution_count": 2,
   "metadata": {},
   "outputs": [
    {
     "name": "stdout",
     "output_type": "stream",
     "text": [
      "Get Connected Switch Port failed! - {\"statusCode\":793404,\"statusDescription\":\"No resource\"}\n"
     ]
    }
   ],
   "source": [
    "# import python modules \n",
    "import requests\n",
    "import time\n",
    "import urllib3\n",
    "import pprint\n",
    "import json\n",
    "urllib3.disable_warnings(urllib3.exceptions.InsecureRequestWarning)\n",
    "\n",
    "# Set the request inputs\n",
    "token = \"3d0f475d-dbae-4c44-9080-7b08ded7d35b\"\n",
    "nb_url = \"http://192.168.28.79\"\n",
    " \n",
    "ip = \"\" # In our lab, all devices interfaces don't have Ip attribute.\n",
    "\n",
    "full_url = nb_url + \"/ServicesAPI/API/V1/CMDB/Topology/Devices/\"+str(ip)+\"/ConnectedSwitchPort\"\n",
    "headers = {'Content-Type': 'application/json', 'Accept': 'application/json'}\n",
    "headers[\"Token\"]=token\n",
    "\n",
    "try:\n",
    "    response = requests.get(full_url, headers = headers, verify = False)\n",
    "    if response.status_code == 200:\n",
    "        result = response.json()\n",
    "        print (result)\n",
    "    else:\n",
    "        print (\"Get Connected Switch Port failed! - \" + str(response.text))\n",
    "    \n",
    "except Exception as e:\n",
    "    print (str(e)) "
   ]
  },
  {
   "cell_type": "markdown",
   "metadata": {},
   "source": [
    "# cURL Code from Postman:"
   ]
  },
  {
   "cell_type": "code",
   "execution_count": null,
   "metadata": {},
   "outputs": [],
   "source": [
    "curl -X GET \\\n",
    "  http://192.168.28.79/ServicesAPI/API/V1/CMDB/Topology/Devices/192.168.28.204/ConnectedSwitchPort \\\n",
    "  -H 'Postman-Token: dc0db983-5679-48fc-9748-dede6fb4644a' \\\n",
    "  -H 'cache-control: no-cache' \\\n",
    "  -H 'token: 3d0f475d-dbae-4c44-9080-7b08ded7d35b'"
   ]
  },
  {
   "cell_type": "code",
   "execution_count": null,
   "metadata": {},
   "outputs": [],
   "source": [
    "###################################################################################################################    \n",
    "\n",
    "\"\"\"Error 1: empty inputs\"\"\"\n",
    "\n",
    "Input:\n",
    "        \n",
    "        ip = \"\" # Can not be null.\n",
    "\n",
    "Response:\n",
    "    \n",
    "        \"Get Connected Switch Port failed! - \n",
    "            { \n",
    "                \"statusCode\":793404,\n",
    "                \"statusDescription\":\"No resource\"\n",
    "            }\"\n",
    "            \n",
    "###################################################################################################################    \n",
    "\n",
    "\"\"\"Error 1: wrong inputs\"\"\"\n",
    "\n",
    "Input:\n",
    "        \n",
    "        ip = \"192.168.28.204\" # Not a useful interface ip.\n",
    "\n",
    "Response:\n",
    "    \n",
    "        \"Get Connected Switch Port failed! -\n",
    "            {\n",
    "                \"statusCode\": 792011,\n",
    "                \"statusDescription\": \"Cannot find the connected switches by the input IP address.\"\n",
    "            }\""
   ]
  },
  {
   "cell_type": "code",
   "execution_count": null,
   "metadata": {},
   "outputs": [],
   "source": [
    "'''\n",
    "Some Issues: \n",
    "        \n",
    "        1) can not find a useful interface to put in the API.\n",
    "        \n",
    "        2) The first error response is not accuracy, an addition message is needed.\n",
    "        \n",
    "        3) in online document, it shows the \"ips\" input set as a query input which is not right.\n",
    "        \n",
    "        \n",
    "'''"
   ]
  }
 ],
 "metadata": {
  "kernelspec": {
   "display_name": "Python 3",
   "language": "python",
   "name": "python3"
  },
  "language_info": {
   "codemirror_mode": {
    "name": "ipython",
    "version": 3
   },
   "file_extension": ".py",
   "mimetype": "text/x-python",
   "name": "python",
   "nbconvert_exporter": "python",
   "pygments_lexer": "ipython3",
   "version": "3.7.1"
  }
 },
 "nbformat": 4,
 "nbformat_minor": 2
}
