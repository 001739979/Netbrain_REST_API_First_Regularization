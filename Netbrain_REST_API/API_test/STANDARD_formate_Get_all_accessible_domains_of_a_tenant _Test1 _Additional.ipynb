{
 "cells": [
  {
   "cell_type": "code",
   "execution_count": null,
   "metadata": {},
   "outputs": [],
   "source": [
    "# Set the request inputs\n",
    "token = \"4f257785-d5f9-42d4-b896-d21f0cb62e6f\"\n",
    "tenantId = \"aaaaaaaaaaaaaaaaaaaaaaaaaaaaaaaaaaaaaaaaaaa\"\n",
    "full_url = \"http://192.168.28.79/ServicesAPI/API/V1/CMDB/Domains\"\n",
    "\n",
    "# Set proper headers\n",
    "headers = {'Content-Type': 'application/json', 'Accept': 'application/json'}\n",
    "headers[\"Token\"]=token\n",
    "data = {\"tenantId\": tenantId}\n",
    "\n",
    "try:\n",
    "    # Do the HTTP request\n",
    "    response = requests.get(full_url, params=data, headers=headers, verify=False)\n",
    "    # Check for HTTP codes other than 200\n",
    "    if response.status_code == 200:\n",
    "        # Decode the JSON response into a dictionary and use the data\n",
    "        result = response.json()\n",
    "        print (result)\n",
    "    else:\n",
    "        print (\"Get domains failed! - \" + str(response.text))\n",
    "\n",
    "except Exception as e: print (str(e))"
   ]
  }
 ],
 "metadata": {
  "kernelspec": {
   "display_name": "Python 3",
   "language": "python",
   "name": "python3"
  },
  "language_info": {
   "codemirror_mode": {
    "name": "ipython",
    "version": 3
   },
   "file_extension": ".py",
   "mimetype": "text/x-python",
   "name": "python",
   "nbconvert_exporter": "python",
   "pygments_lexer": "ipython3",
   "version": "3.7.1"
  }
 },
 "nbformat": 4,
 "nbformat_minor": 2
}
