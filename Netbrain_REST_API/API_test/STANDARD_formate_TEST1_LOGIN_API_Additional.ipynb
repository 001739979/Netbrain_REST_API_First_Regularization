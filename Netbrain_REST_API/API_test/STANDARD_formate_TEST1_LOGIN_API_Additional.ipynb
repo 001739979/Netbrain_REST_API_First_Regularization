{
 "cells": [
  {
   "cell_type": "code",
   "execution_count": null,
   "metadata": {},
   "outputs": [],
   "source": [
    "# Provide some error examples.\n",
    "# token as parameter before login domain.\n",
    "# correct descri"
   ]
  },
  {
   "cell_type": "code",
   "execution_count": null,
   "metadata": {},
   "outputs": [],
   "source": [
    "# When we got an issue during after call the login API.\n",
    "# The error formate should be:\n",
    "{\n",
    "    \"error\" : {\n",
    "        \"code\" : 795000,\n",
    "        \"Message\" : \"User login failed! Cannot get an access token.\",\n",
    "        \"Status\" : \"Invalid username or password.\"\n",
    "    }\n",
    "}\n",
    "\n",
    "#Because the status codes of our API system is different form the HTTP statuse codes, should we provide a table of status codes \n",
    "# with description of each code? And the Message should be \"login failed! Cannot get an access token.\""
   ]
  },
  {
   "cell_type": "code",
   "execution_count": null,
   "metadata": {},
   "outputs": [],
   "source": [
    "\"\"\"Test function for different errors\"\"\"\n",
    "\n",
    "\n",
    "body = {\n",
    "    \"username\" : \"wwwwww\",      \n",
    "    \"password\" : \"wwwwww\"  \n",
    "}\n",
    "    \n",
    "full_url = \"http://192.168.28.79/ServicesAPI/API/V1/Session\"           \n",
    "\n",
    "# Set proper headers\n",
    "headers = {'Content-Type': 'application/json', 'Accept': 'application/json'}    \n",
    "\n",
    "try:\n",
    "    # Do the HTTP request\n",
    "    response = requests.post(full_url, headers=headers, data = json.dumps(body), verify=False)\n",
    "    # Check for HTTP codes other than 200\n",
    "    if response.status_code == 200:\n",
    "        # Decode the JSON response into a dictionary and use the data\n",
    "        js = response.json()\n",
    "        print (js)\n",
    "    else:\n",
    "        print (\"Get token failed! - \" + str(response.text))\n",
    "except Exception as e:\n",
    "    print (str(e))\n",
    "    "
   ]
  }
 ],
 "metadata": {
  "kernelspec": {
   "display_name": "Python 3",
   "language": "python",
   "name": "python3"
  },
  "language_info": {
   "codemirror_mode": {
    "name": "ipython",
    "version": 3
   },
   "file_extension": ".py",
   "mimetype": "text/x-python",
   "name": "python",
   "nbconvert_exporter": "python",
   "pygments_lexer": "ipython3",
   "version": "3.7.1"
  }
 },
 "nbformat": 4,
 "nbformat_minor": 2
}
