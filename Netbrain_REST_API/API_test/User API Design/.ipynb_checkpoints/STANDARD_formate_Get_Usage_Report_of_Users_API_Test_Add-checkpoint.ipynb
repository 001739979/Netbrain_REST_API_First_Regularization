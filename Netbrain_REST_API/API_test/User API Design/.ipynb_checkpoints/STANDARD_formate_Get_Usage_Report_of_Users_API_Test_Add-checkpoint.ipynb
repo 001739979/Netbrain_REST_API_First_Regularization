{
 "cells": [
  {
   "cell_type": "code",
   "execution_count": 6,
   "metadata": {},
   "outputs": [
    {
     "name": "stdout",
     "output_type": "stream",
     "text": [
      "{'usageReport': [], 'statusCode': 790200, 'statusDescription': 'Success.'}\n"
     ]
    }
   ],
   "source": [
    "# import python modules \n",
    "import requests\n",
    "import time\n",
    "import urllib3\n",
    "import pprint\n",
    "import json\n",
    "urllib3.disable_warnings(urllib3.exceptions.InsecureRequestWarning)\n",
    "\n",
    "# Set the request inputs\n",
    "token = \"3d0f475d-dbae-4c44-9080-7b08ded7d35b\"\n",
    "nb_url = \"http://192.168.28.79\"\n",
    "full_url = nb_url + \"/ServicesAPI/API/V1/CMDB/Users/UsageReport\"\n",
    "headers = {'Content-Type': 'application/json', 'Accept': 'application/json'}\n",
    "headers[\"Token\"] = token\n",
    "\n",
    "'''tenantId = \"fb24f3f0-81a7-1929-4b8f-99106c23fa5b\"\n",
    "domainId = \"0201adc4-ae96-46f0-ae3d-01cdba9e41d6\"\n",
    "fromDate = \"\"\n",
    "toDate = \"\"\n",
    "'''\n",
    "tenantId = \"\"\n",
    "domainId = \"\"\n",
    "fromDate = \"2019-03-07T04:59:59Z\"\n",
    "toDate = \"\"\n",
    "\n",
    "data = {\n",
    "        \"tenantId\" : tenantId,\n",
    "        \"domainId\" : domainId,\n",
    "        \"fromDate\" : fromDate,\n",
    "        \"toDate\" : toDate\n",
    "    }\n",
    "\n",
    "try:\n",
    "    response = requests.get(full_url, params = data, headers = headers, verify = False)\n",
    "    if response.status_code == 200:\n",
    "        result = response.json()\n",
    "        print (result)\n",
    "    else:\n",
    "        print (\"Get User Report failed! - \" + str(response.text))\n",
    "    \n",
    "except Exception as e:\n",
    "    print (str(e)) "
   ]
  },
  {
   "cell_type": "code",
   "execution_count": null,
   "metadata": {},
   "outputs": [],
   "source": []
  }
 ],
 "metadata": {
  "kernelspec": {
   "display_name": "Python 3",
   "language": "python",
   "name": "python3"
  },
  "language_info": {
   "codemirror_mode": {
    "name": "ipython",
    "version": 3
   },
   "file_extension": ".py",
   "mimetype": "text/x-python",
   "name": "python",
   "nbconvert_exporter": "python",
   "pygments_lexer": "ipython3",
   "version": "3.7.1"
  }
 },
 "nbformat": 4,
 "nbformat_minor": 2
}
