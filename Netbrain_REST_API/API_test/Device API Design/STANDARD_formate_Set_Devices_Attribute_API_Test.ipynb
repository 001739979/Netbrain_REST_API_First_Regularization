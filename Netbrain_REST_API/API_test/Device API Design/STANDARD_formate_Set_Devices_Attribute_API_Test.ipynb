{
 "cells": [
  {
   "cell_type": "markdown",
   "metadata": {},
   "source": [
    "# Device API Design"
   ]
  },
  {
   "cell_type": "markdown",
   "metadata": {},
   "source": [
    "## ***PUT*** /V1/CMDB/Devices/Attributes\t\n",
    "Call this API to set a value for the specified attriute of a device.\n",
    "\n",
    "## Detail Information\n",
    "\n",
    "> **Title** : Set Device Attribute API<br>\n",
    "\n",
    "> **Version** : 01/25/2019.\n",
    "\n",
    "> **API Server URL** : http(s)://IP address of NetBrain Web API Server/ServicesAPI/API/V1/CMDB/Devices/Attributes\n",
    "\n",
    "> **Authentication** : \n",
    "\n",
    ">|**Type**|**In**|**Name**|\n",
    "|------|------|------|\n",
    "|<img width=100/>|<img width=100/>|<img width=500/>|\n",
    "|Bearer Authentication| Headers | Authentication token | \n",
    "\n",
    "## Request body(****required***)\n",
    "\n",
    ">|**Name**|**Type**|**Description**|\n",
    "|------|------|------|\n",
    "|<img width=100/>|<img width=100/>|<img width=500/>|\n",
    "|attributeName* | string  | The name of the attribute that you want to set a value for. Please note that some properties, such as Hostname and Device Type cannot be set. |\n",
    "|attributeValue* | string  | The value for the attribute.  |\n",
    "|hostname* | string  | The hostname of the device.  |\n",
    "\n",
    ">**Note:** Applicable Device Attributes\n",
    ">>|**Property/Attribute Name**|**Display Name in Device Details Pane**|**Description**|\n",
    "|------|------|------|\n",
    "|<img width=50/>|<img width=50/>|<img width=300/>|\n",
    "|vendor | Vendor  | The vendor information of a device. |\n",
    "|model | Model  | The model information of a device. |\n",
    "|ver | Software Version  | The version of a device. |\n",
    "|sn | Serial Number  | The serial number of a device. |\n",
    "|loc | Location  | The location of a device. |\n",
    "|contact | Contact  | The contact person of a device. |\n",
    "|mem | System Memory Size  | The system memory size of a device. |\n",
    "|assetTag | Asset Tag  | The asset tag of a device. |\n",
    "|layer | Hierarchy Layer  | The network layer that a device belongs to. |\n",
    "|descr | Description  | The description of a device. |\n",
    "\n",
    "> ***Example***"
   ]
  },
  {
   "cell_type": "code",
   "execution_count": null,
   "metadata": {},
   "outputs": [],
   "source": [
    "attributeName = \"vendor\"\n",
    "attributeValue = \"New Attribute\"\n",
    "hostname = \"R20\"\n",
    "\n",
    "body = {\n",
    "        \"hostname\": hostname,\n",
    "        \"attributeName\": attributeName,\n",
    "        \"attributeValue\": attributeValue\n",
    "       }"
   ]
  },
  {
   "cell_type": "markdown",
   "metadata": {},
   "source": [
    "## Parameters(****required***)\n",
    "\n",
    "> No Parameters Required.\n",
    "\n",
    "## Headers\n",
    "\n",
    "> **Data Format Headers**\n",
    "\n",
    "> |**Name**|**Type**|**Description**|\n",
    "|------|------|------|\n",
    "|<img width=100/>|<img width=100/>|<img width=500/>|\n",
    "| Content-Type | string  | support \"application/json\" |\n",
    "| Accept | string  | support \"application/json\" |\n",
    "\n",
    "> **Authorization Headers**\n",
    "\n",
    "> |**Name**|**Type**|**Description**|\n",
    "|------|------|------|\n",
    "|<img width=100/>|<img width=100/>|<img width=500/>|\n",
    "| token | string  | Authentication token, get from login API. |\n",
    "\n",
    "## Response\n",
    "\n",
    "> |**Name**|**Type**|**Description**|\n",
    "|------|------|------|\n",
    "|<img width=100/>|<img width=100/>|<img width=500/>|\n",
    "|statusCode| integer | Code issued by NetBrain server indicating the execution result.  |\n",
    "|statusDescription| string | The explanation of the status code. |\n",
    "\n",
    "> ***Example***"
   ]
  },
  {
   "cell_type": "code",
   "execution_count": null,
   "metadata": {},
   "outputs": [],
   "source": [
    "{\n",
    "    \"statusCode\": 790200,\n",
    "    \"statusDescription\": \"Success.\"\n",
    "}"
   ]
  },
  {
   "cell_type": "markdown",
   "metadata": {},
   "source": [
    "# Full Example:"
   ]
  },
  {
   "cell_type": "code",
   "execution_count": 1,
   "metadata": {},
   "outputs": [
    {
     "name": "stdout",
     "output_type": "stream",
     "text": [
      "{'statusCode': 790200, 'statusDescription': 'Success.'}\n"
     ]
    }
   ],
   "source": [
    "# import python modules \n",
    "import requests\n",
    "import time\n",
    "import urllib3\n",
    "import pprint\n",
    "import json\n",
    "urllib3.disable_warnings(urllib3.exceptions.InsecureRequestWarning)\n",
    "\n",
    "# Set the request inputs\n",
    "token = \"6e1f5fdd-247c-4710-91bb-2cbd3f737489\"\n",
    "nb_url = \"http://192.168.28.79\"\n",
    "\n",
    "attributeName = \"vendor\"\n",
    "attributeValue = \"New Attribute\"\n",
    "hostname = \"R20\"\n",
    "\n",
    "body = {\n",
    "            \"hostname\": hostname,\n",
    "            \"attributeName\": attributeName,\n",
    "            \"attributeValue\": attributeValue\n",
    "        }\n",
    "\n",
    "headers = {'Content-Type': 'application/json', 'Accept': 'application/json'}\n",
    "headers[\"Token\"] = token\n",
    "full_url = nb_url + \"/ServicesAPI/API/V1/CMDB/Devices/Attributes\"\n",
    "    \n",
    "try:\n",
    "    response = requests.put(full_url, data=json.dumps(body), headers=headers, verify=False)\n",
    "    if response.status_code == 200:\n",
    "        result = response.json()\n",
    "        print (result)\n",
    "    else:\n",
    "        print (\"Set device attribute failed! - \" + str(response.text))\n",
    "\n",
    "except Exception as e:\n",
    "        print (str(e)) "
   ]
  },
  {
   "cell_type": "markdown",
   "metadata": {},
   "source": [
    "# cURL Code from Postman"
   ]
  },
  {
   "cell_type": "code",
   "execution_count": null,
   "metadata": {},
   "outputs": [],
   "source": [
    "curl -X PUT \\\n",
    "  http://192.168.28.79/ServicesAPI/API/V1/CMDB/Devices/Attributes \\\n",
    "  -H 'Content-Type: application/json' \\\n",
    "  -H 'Postman-Token: d0022cb0-109e-491c-bba4-b3e99e7ec1dd' \\\n",
    "  -H 'cache-control: no-cache' \\\n",
    "  -H 'token: 6e1f5fdd-247c-4710-91bb-2cbd3f737489' \\\n",
    "  -d '{\n",
    "    \"hostname\": \"R20\",\n",
    "    \"attributeName\": \"newAttribute\",\n",
    "    \"attributeValue\": \"20\"\n",
    "\t}'"
   ]
  },
  {
   "cell_type": "markdown",
   "metadata": {},
   "source": [
    "# Error Examples:"
   ]
  },
  {
   "cell_type": "code",
   "execution_count": null,
   "metadata": {},
   "outputs": [],
   "source": [
    "###################################################################################################################    \n",
    "\n",
    "\"\"\"Error 1: empty hostname or sttribute name\"\"\"\n",
    "\n",
    "Input:\n",
    "    \n",
    "        attributeName = \"\"\n",
    "        attributeValue = \"\"\n",
    "        hostname = \"R20\"\n",
    "        \n",
    "        ##OR##\n",
    "        \n",
    "        attributeName = \"newAttribute\"\n",
    "        attributeValue = \"\"\n",
    "        hostname = \"\"\n",
    "\n",
    "Response:\n",
    "    \n",
    "    \"Set device attribute failed! - \n",
    "        {\n",
    "            \"statusCode\":791000,\n",
    "            \"statusDescription\":\"Null parameter: the parameter 'attributeName' cannot be null.\" \n",
    "                         ## OR  \"Null parameter: the parameter 'hostname' cannot be null.\"\n",
    "        }\"\n",
    "        \n",
    "#Note: attributeValue can be null.\n",
    "\n",
    "###################################################################################################################    \n",
    "\n",
    "\"\"\"Error 2: device not exist\"\"\"\n",
    "\n",
    "Input:\n",
    "    \n",
    "        attributeName = \"newAttribute\"\n",
    "        attributeValue = \"20\"\n",
    "        hostname = \"R201\" # There is no device named as \"R201\"\n",
    "\n",
    "Response:\n",
    "    \n",
    "    \"Set device attribute failed! - \n",
    "        {\n",
    "            \"statusCode\":791006,\n",
    "            \"statusDescription\":\"device R201 does not exist.\"\n",
    "        }\"\n",
    "        \n",
    "###################################################################################################################    \n",
    "\n",
    "\"\"\"Error 2: attribute not exist\"\"\"\n",
    "\n",
    "Input:\n",
    "    \n",
    "        attributeName = \"blahblahblah\" # There is no device attribute named as \"blahblahblah\"\n",
    "        attributeValue = \"20\"\n",
    "        hostname = \"R20\" \n",
    "\n",
    "Response:\n",
    "    \n",
    "    \"Set device attribute failed! - \n",
    "        {\n",
    "            \"statusCode\":791006,\n",
    "            \"statusDescription\":\"attribute blahblahblah does not exist.\"\n",
    "        }\""
   ]
  },
  {
   "cell_type": "code",
   "execution_count": null,
   "metadata": {},
   "outputs": [],
   "source": [
    "'''\n",
    "Some Issues:\n",
    "\n",
    "1) Success response too simple.\n",
    "\n",
    "2) Attribute value can be null. Not reasonable.\n",
    "\n",
    "3) Applicable Device Attributes table informations not enough, a \"type\" colume is needed.\n",
    "\n",
    "'''"
   ]
  }
 ],
 "metadata": {
  "kernelspec": {
   "display_name": "Python 3",
   "language": "python",
   "name": "python3"
  },
  "language_info": {
   "codemirror_mode": {
    "name": "ipython",
    "version": 3
   },
   "file_extension": ".py",
   "mimetype": "text/x-python",
   "name": "python",
   "nbconvert_exporter": "python",
   "pygments_lexer": "ipython3",
   "version": "3.7.1"
  }
 },
 "nbformat": 4,
 "nbformat_minor": 2
}
