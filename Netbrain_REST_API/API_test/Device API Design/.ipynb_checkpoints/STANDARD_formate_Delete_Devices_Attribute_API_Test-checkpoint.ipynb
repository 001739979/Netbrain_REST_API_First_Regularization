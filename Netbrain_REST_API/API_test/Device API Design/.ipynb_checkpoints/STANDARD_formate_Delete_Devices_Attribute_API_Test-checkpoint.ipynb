{
 "cells": [
  {
   "cell_type": "markdown",
   "metadata": {},
   "source": [
    "# Device API Design"
   ]
  },
  {
   "cell_type": "markdown",
   "metadata": {},
   "source": [
    "## ***DELETE*** /V1/CMDB/Devices/Attributes/{attributeName}\n",
    "Call this API to delete a device attribute (property) from schema.\n",
    "\n",
    "## Detail Information\n",
    "\n",
    "> **Title** : Delete Device Attribute API<br>\n",
    "\n",
    "> **Version** : 01/28/2019.\n",
    "\n",
    "> **API Server URL** : http(s)://IP address of NetBrain Web API Server/ServicesAPI/API/V1/CMDB/Devices/Attributes/{attributeName}\n",
    "\n",
    "> **Authentication** : \n",
    "\n",
    ">|**Type**|**In**|**Name**|\n",
    "|------|------|------|\n",
    "|<img width=100/>|<img width=100/>|<img width=500/>|\n",
    "|Bearer Authentication| Headers | Authentication token | \n",
    "\n",
    "## Request body(****required***)\n",
    "\n",
    ">No request body.\n",
    "\n",
    "## Path Parameters(****required***)\n",
    "\n",
    "> |**Name**|**Type**|**Description**|\n",
    "|------|------|------|\n",
    "|<img width=100/>|<img width=100/>|<img width=500/>|\n",
    "|attributeName* | string  | Name of the attribute which user decide to delete from schema,case sensitive. |\n",
    "\n",
    "## Headers\n",
    "\n",
    "> **Data Format Headers**\n",
    "\n",
    "> |**Name**|**Type**|**Description**|\n",
    "|------|------|------|\n",
    "|<img width=100/>|<img width=100/>|<img width=500/>|\n",
    "| Content-Type | string  | support \"application/json\" |\n",
    "| Accept | string  | support \"application/json\" |\n",
    "\n",
    "> **Authorization Headers**\n",
    "\n",
    "> |**Name**|**Type**|**Description**|\n",
    "|------|------|------|\n",
    "|<img width=100/>|<img width=100/>|<img width=500/>|\n",
    "| token | string  | Authentication token, get from login API. |\n",
    "\n",
    "## Response\n",
    "\n",
    "> |**Name**|**Type**|**Description**|\n",
    "|------|------|------|\n",
    "|<img width=100/>|<img width=100/>|<img width=500/>|\n",
    "|statusCode| integer | Code issued by NetBrain server indicating the execution result.  |\n",
    "|statusDescription| string | The explanation of the status code. |\n",
    "\n",
    "> ***Example***"
   ]
  },
  {
   "cell_type": "code",
   "execution_count": null,
   "metadata": {},
   "outputs": [],
   "source": [
    "{\n",
    "    \"statusCode\": 790200,\n",
    "    \"statusDescription\": \"Success.\"\n",
    "}"
   ]
  },
  {
   "cell_type": "markdown",
   "metadata": {},
   "source": [
    "# Full Example:"
   ]
  },
  {
   "cell_type": "code",
   "execution_count": 16,
   "metadata": {},
   "outputs": [
    {
     "name": "stdout",
     "output_type": "stream",
     "text": [
      "Delete device attribute failed! - {\"statusCode\":795005,\"statusDescription\":\"Invalid token.\"}\n"
     ]
    }
   ],
   "source": [
    "# import python modules \n",
    "import requests\n",
    "import time\n",
    "import urllib3\n",
    "import pprint\n",
    "import json\n",
    "urllib3.disable_warnings(urllib3.exceptions.InsecureRequestWarning)\n",
    "\n",
    "# Set the request inputs\n",
    "token = \"13c7ed6e-781d-4b22-83e7-b1722de4e31d\"\n",
    "nb_url = \"http://192.168.28.79\"\n",
    "\n",
    "attributeName = \"newAttribute1\"\n",
    "full_url= nb_url + \"/ServicesAPI/API/V1/CMDB/Devices/Attributes/\"+str(attributeName)\n",
    "\n",
    "headers = {'Content-Type': 'application/json', 'Accept': 'application/json'}\n",
    "headers[\"Token\"]=token\n",
    "    \n",
    "try:\n",
    "    response = requests.delete(full_url, headers=headers, verify=False)\n",
    "    if response.status_code == 200:\n",
    "        result = response.json()\n",
    "        print (result)\n",
    "    else:\n",
    "        print (\"Delete device attribute failed! - \" + str(response.text))\n",
    "    \n",
    "except Exception as e:\n",
    "    print (str(e))  "
   ]
  },
  {
   "cell_type": "code",
   "execution_count": 10,
   "metadata": {},
   "outputs": [
    {
     "name": "stdout",
     "output_type": "stream",
     "text": [
      "{'hostname': 'Client1', 'attributes': {'name': 'Client1', 'mgmtIP': '10.1.12.2', 'mgmtIntf': 'Ethernet0/0', 'subTypeName': 'Cisco Router', 'vendor': 'Cisco', 'model': 'DEVELOPMENT TEST SOFTWARE', 'ver': '15.4(2)T4', 'sn': '71374883', 'site': 'My Network\\\\Unassigned', 'loc': '', 'contact': '', 'mem': '100787876', 'assetTag': '', 'layer': '', 'descr': '', 'oid': '1.3.6.1.4.1.9.1.1', 'driverName': 'Cisco Router', 'fDiscoveryTime': {'$date': 1547572714000}, 'lDiscoveryTime': {'$date': 1547572714000}, 'assignTags': '', 'hasBGPConfig': False, 'hasOSPFConfig': False, 'hasEIGRPConfig': False, 'hasISISConfig': False, 'hasMulticastConfig': False, 'TestTable': '', 'newAttribute': '', 'attributeName': '', 'newAttribute1': '', 'newAttribute11': '', 'newAttribute111': ''}, 'statusCode': 790200, 'statusDescription': 'Success.'}\n"
     ]
    }
   ],
   "source": [
    "# Call Get Device Attribute API first before call delete API.\n",
    "\n",
    "hostname = \"Client1\"\n",
    "attributeName = \"\"\n",
    "\n",
    "headers = {'Content-Type': 'application/json', 'Accept': 'application/json'}\n",
    "headers[\"Token\"]=token\n",
    "full_url= nb_url + \"/ServicesAPI/API/V1/CMDB/Devices/Attributes\"\n",
    "\n",
    "body={\n",
    "        \"hostname\":hostname, \n",
    "        \"attributeName\":attributeName\n",
    "    }\n",
    "\n",
    "try:\n",
    "    response = requests.get(full_url, params=body, headers=headers, verify=False)\n",
    "    if response.status_code == 200:\n",
    "        result = response.json()\n",
    "        print (result)\n",
    "    else:\n",
    "        print (\"Get device attributes failed! - \" + str(response.text))\n",
    "\n",
    "except Exception as e:\n",
    "    print (str(e))   "
   ]
  },
  {
   "cell_type": "markdown",
   "metadata": {},
   "source": [
    "# cURL Code from Postman"
   ]
  },
  {
   "cell_type": "code",
   "execution_count": null,
   "metadata": {},
   "outputs": [],
   "source": [
    "curl -X DELETE \\\n",
    "  http://192.168.28.79/ServicesAPI/API/V1/CMDB/Devices/Attributes/newAttribute1 \\\n",
    "  -H 'Postman-Token: fe203534-a0f5-4597-9874-321d1f335d75' \\\n",
    "  -H 'cache-control: no-cache' \\\n",
    "  -H 'token: 13c7ed6e-781d-4b22-83e7-b1722de4e31d'"
   ]
  },
  {
   "cell_type": "markdown",
   "metadata": {},
   "source": [
    "# Error Examples:"
   ]
  },
  {
   "cell_type": "code",
   "execution_count": null,
   "metadata": {},
   "outputs": [],
   "source": [
    "###################################################################################################################    \n",
    "\n",
    "\"\"\"Error 1: set attributeName as empty\"\"\"\n",
    "\n",
    "Input:\n",
    "    \n",
    "        attributeName = \"\"\n",
    "\n",
    "Response:\n",
    "    \n",
    "    \"Delete device attribute failed! - \n",
    "        {\n",
    "            \"statusCode\":793405,\n",
    "            \"statusDescription\":\"Method is not supported\"\n",
    "        }\"\n",
    "        \n",
    "###################################################################################################################    \n",
    "\n",
    "\"\"\"Error 1: the attribute not exist or has been deleted already\"\"\"\n",
    "\n",
    "Input:\n",
    "    \n",
    "        attributeName = \"newAttribute1\" #this attribute has already been deleted.\n",
    "\n",
    "Response:\n",
    "    \n",
    "    \"Delete device attribute failed! - \n",
    "        {\n",
    "            \"statusCode\":791006,\n",
    "            \"statusDescription\":\"attribute newAttribute1 does not exist.\"\n",
    "        }\"\n",
    "\n",
    "###################################################################################################################    \n",
    "\n",
    "\"\"\"Error 1: the attribute exists in other devices\"\"\"\n",
    "\n",
    "Input:\n",
    "    \n",
    "        attributeName = \"newAttribute\" #this attribute exist in device \"R20\" not in \"Client 1\".\n",
    "\n",
    "Response:\n",
    "    \n",
    "    \"Delete device attribute failed! - \n",
    "        {\n",
    "            \"statusCode\":793001,\n",
    "            \"statusDescription\":\"Inner exception. Property (ID=\\\"newAttribute\\\") is using by other devices\"\n",
    "        }\"\n",
    "        \n",
    "###################################################################################################################    \n"
   ]
  },
  {
   "cell_type": "code",
   "execution_count": null,
   "metadata": {},
   "outputs": [],
   "source": [
    "'''\n",
    "Some issues:\n",
    "\n",
    "        1) success response too simple.\n",
    "        \n",
    "        2) with an un-exist attribute name, the response \"Method is not supposrt\"\n",
    "'''"
   ]
  }
 ],
 "metadata": {
  "kernelspec": {
   "display_name": "Python 3",
   "language": "python",
   "name": "python3"
  },
  "language_info": {
   "codemirror_mode": {
    "name": "ipython",
    "version": 3
   },
   "file_extension": ".py",
   "mimetype": "text/x-python",
   "name": "python",
   "nbconvert_exporter": "python",
   "pygments_lexer": "ipython3",
   "version": "3.7.1"
  }
 },
 "nbformat": 4,
 "nbformat_minor": 2
}
