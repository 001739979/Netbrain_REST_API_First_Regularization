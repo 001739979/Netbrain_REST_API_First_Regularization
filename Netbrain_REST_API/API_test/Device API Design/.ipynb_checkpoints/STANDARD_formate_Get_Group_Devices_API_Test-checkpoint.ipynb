{
 "cells": [
  {
   "cell_type": "markdown",
   "metadata": {},
   "source": [
    "# Device API Design"
   ]
  },
  {
   "cell_type": "markdown",
   "metadata": {},
   "source": [
    "## ***GET*** /V1/CMDB/Devices/GroupDevices/{groupname}\n",
    "Call this API to get all devices in the device group within the group name provided by user.\n",
    "\n",
    "## Detail Information\n",
    "\n",
    "> **Title** : Get Group Devices API<br>\n",
    "\n",
    "> **Version** : 01/25/2019.\n",
    "\n",
    "> **API Server URL** : http(s)://IP address of NetBrain Web API Server/ServicesAPI/API/V1/CMDB/Devices/GroupDevices/{groupName}\n",
    "\n",
    "> **Authentication** : \n",
    "\n",
    ">|**Type**|**In**|**Name**|\n",
    "|------|------|------|\n",
    "|<img width=100/>|<img width=100/>|<img width=500/>|\n",
    "|Bearer Authentication| Headers | Authentication token | \n",
    "\n",
    "## Request body(****required***)\n",
    "\n",
    "> No request body.\n",
    "\n",
    "## Path Parameters(****required***)\n",
    "\n",
    "> |**Name**|**Type**|**Description**|\n",
    "|------|------|------|\n",
    "|<img width=100/>|<img width=100/>|<img width=500/>|\n",
    "| groupName* | string  | The name of one device group which user want to present. |\n",
    "\n",
    "## Headers\n",
    "\n",
    "> **Data Format Headers**\n",
    "\n",
    "> |**Name**|**Type**|**Description**|\n",
    "|------|------|------|\n",
    "|<img width=100/>|<img width=100/>|<img width=500/>|\n",
    "| Content-Type | string  | support \"application/json\" |\n",
    "| Accept | string  | support \"application/json\" |\n",
    "\n",
    "> **Authorization Headers**\n",
    "\n",
    "> |**Name**|**Type**|**Description**|\n",
    "|------|------|------|\n",
    "|<img width=100/>|<img width=100/>|<img width=500/>|\n",
    "| token | string  | Authentication token, get from login API. |\n",
    "\n",
    "\n",
    "## Response\n",
    "\n",
    "> |**Name**|**Type**|**Description**|\n",
    "|------|------|------|\n",
    "|<img width=100/>|<img width=100/>|<img width=500/>|\n",
    "|statusCode| integer | Code issued by NetBrain server indicating the execution result.  |\n",
    "|statusDescription| string | The explanation of the status code. |\n",
    "|devices| string[] | A list of devices. |\n",
    "|devices.devicesID| string | The device ID. |\n",
    "|devices.deviceTypeName| string | The type of the returned device, such as Cisco Router. |\n",
    "|devices.mgmtIP| string | The management IP address of the returned device. |\n",
    "|devices.hostname| string | The hostname of returned device. |\n",
    "|devices.firstDiscoverTime| DateTime | the time that the device was first discovered |\n",
    "|devices.lastDiscoverTime| DateTime | the time that the device was lastdiscovered |\n",
    "\n",
    "> ***Example***\n"
   ]
  },
  {
   "cell_type": "code",
   "execution_count": null,
   "metadata": {},
   "outputs": [],
   "source": [
    "# Successful response with groupName = \"testGroupGDL1\"\n",
    "\n",
    "{\n",
    "    \"devices\": [\n",
    "        {\n",
    "            \"id\": \"1b558e72-6671-48f8-849e-7f7df473e3aa\",\n",
    "            \"mgmtIP\": \"123.20.20.20\",\n",
    "            \"hostname\": \"R20\"\n",
    "        },\n",
    "        {\n",
    "            \"id\": \"1d8c841f-a9bc-4288-aab2-6322bbb1ab1b\",\n",
    "            \"mgmtIP\": \"10.18.19.19\",\n",
    "            \"hostname\": \"R19\"\n",
    "        },\n",
    "        {\n",
    "            \"id\": \"1e8029be-a858-48bd-b532-54b694edc529\",\n",
    "            \"mgmtIP\": \"10.120.14.5\",\n",
    "            \"hostname\": \"R3\"\n",
    "        },\n",
    "        {\n",
    "            \"id\": \"2ef50fff-eb73-49da-8599-45c68b876275\",\n",
    "            \"mgmtIP\": \"10.18.19.18\",\n",
    "            \"hostname\": \"R18\"\n",
    "        },\n",
    "        {\n",
    "            \"id\": \"b95dbda8-64a0-44cb-a12e-79478a2e1f3b\",\n",
    "            \"mgmtIP\": \"123.20.1.10\",\n",
    "            \"hostname\": \"R17\"\n",
    "        },\n",
    "        {\n",
    "            \"id\": \"eb31a451-3236-4681-b46e-9084e7e01765\",\n",
    "            \"mgmtIP\": \"10.120.15.1\",\n",
    "            \"hostname\": \"R2\"\n",
    "        },\n",
    "        {\n",
    "            \"id\": \"f51f6e8e-d4ef-47af-9139-74a18691c052\",\n",
    "            \"mgmtIP\": \"123.20.1.2\",\n",
    "            \"hostname\": \"R16\"\n",
    "        }\n",
    "    ],\n",
    "    \"statusCode\": 790200,\n",
    "    \"statusDescription\": \"Success.\"\n",
    "}"
   ]
  },
  {
   "cell_type": "markdown",
   "metadata": {},
   "source": [
    "# Full Example"
   ]
  },
  {
   "cell_type": "code",
   "execution_count": 2,
   "metadata": {},
   "outputs": [
    {
     "name": "stdout",
     "output_type": "stream",
     "text": [
      "{'devices': [{'id': '1b558e72-6671-48f8-849e-7f7df473e3aa', 'mgmtIP': '123.20.20.20', 'hostname': 'R20'}, {'id': '1d8c841f-a9bc-4288-aab2-6322bbb1ab1b', 'mgmtIP': '10.18.19.19', 'hostname': 'R19'}, {'id': '1e8029be-a858-48bd-b532-54b694edc529', 'mgmtIP': '10.120.14.5', 'hostname': 'R3'}, {'id': '2ef50fff-eb73-49da-8599-45c68b876275', 'mgmtIP': '10.18.19.18', 'hostname': 'R18'}, {'id': 'b95dbda8-64a0-44cb-a12e-79478a2e1f3b', 'mgmtIP': '123.20.1.10', 'hostname': 'R17'}, {'id': 'eb31a451-3236-4681-b46e-9084e7e01765', 'mgmtIP': '10.120.15.1', 'hostname': 'R2'}, {'id': 'f51f6e8e-d4ef-47af-9139-74a18691c052', 'mgmtIP': '123.20.1.2', 'hostname': 'R16'}], 'statusCode': 790200, 'statusDescription': 'Success.'}\n"
     ]
    }
   ],
   "source": [
    "# import python modules \n",
    "import requests\n",
    "import time\n",
    "import urllib3\n",
    "import pprint\n",
    "import json\n",
    "urllib3.disable_warnings(urllib3.exceptions.InsecureRequestWarning)\n",
    "\n",
    "# Set the request inputs\n",
    "token = \"e074d192-3f21-4ae8-b5f1-405d240b65ca\"\n",
    "nb_url = \"http://192.168.28.79\"\n",
    "groupName = \"testGroupGDL1\"\n",
    "\n",
    "full_url= nb_url + \"/ServicesAPI/API/V1/CMDB/Devices/GroupDevices/\" + str(groupName)\n",
    "headers = {'Content-Type': 'application/json', 'Accept': 'application/json'}\n",
    "headers[\"Token\"]=token\n",
    "\n",
    "try:\n",
    "    response = requests.get(full_url, headers=headers, verify=False)\n",
    "    if response.status_code == 200:\n",
    "        result = response.json()\n",
    "        print (result)\n",
    "    else:\n",
    "        print (\"Get Group Devices Failed! - \" + str(response.text))\n",
    "except Exception as e:\n",
    "    print (str(e))"
   ]
  },
  {
   "cell_type": "markdown",
   "metadata": {},
   "source": [
    "# cURL Code from Postman"
   ]
  },
  {
   "cell_type": "code",
   "execution_count": null,
   "metadata": {},
   "outputs": [],
   "source": [
    "curl -X GET \\\n",
    "  http://192.168.28.79/ServicesAPI/API/V1/CMDB/Devices/GroupDevices/testGroupGDL1 \\\n",
    "  -H 'Postman-Token: 8ae37a86-5404-4e59-89d7-851fb44265a5' \\\n",
    "  -H 'Token: e074d192-3f21-4ae8-b5f1-405d240b65ca' \\\n",
    "  -H 'cache-control: no-cache'"
   ]
  },
  {
   "cell_type": "markdown",
   "metadata": {},
   "source": [
    "# Error Examples and Note"
   ]
  },
  {
   "cell_type": "code",
   "execution_count": null,
   "metadata": {},
   "outputs": [],
   "source": [
    "###################################################################################################################    \n",
    "\n",
    "\"\"\"Error 1: empty group name\"\"\"\"\"\"\"\"\"\"\"\"\"\"\"\"\"\"\"\"\"\"\"\"\"\"\"\"\"\"\"\"\"\"\"\"\"\"\"\"\"\"\"\"\"\"\"\"\"\"\"\"\"\"\"\"\"\"\"\"\"\"\"\n",
    "\n",
    "Input:\n",
    "    \n",
    "    groupName = \"\" #There is no device with a hostname called \"blahblahblah\" in users working domain.\n",
    "    \n",
    "Response:\n",
    "    \n",
    "    \"Get Group Devices Failed! - \n",
    "        {\n",
    "            \"statusCode\":793404,\n",
    "            \"statusDescription\":\"No resource\"\n",
    "        }\"\n",
    "        \n",
    "###################################################################################################################    \n",
    "\n",
    "\"\"\"Error 2: no input\"\"\"\"\"\"\"\"\"\"\"\"\"\"\"\"\"\"\"\"\"\"\"\"\"\"\"\"\"\"\"\"\"\"\"\"\"\"\"\"\"\"\"\"\"\"\"\"\"\"\"\"\"\"\"\"\"\"\"\"\"\"\"\n",
    "\n",
    "Input:\n",
    "    \n",
    "    #There is no input which means only url and token\n",
    "    \n",
    "Response:\n",
    "    \n",
    "    \"Get Group Devices Failed! - \n",
    "        {\n",
    "            \"statusCode\":793404,\n",
    "            \"statusDescription\":\"No resource\"\n",
    "        }\"\n",
    "        \n",
    "###################################################################################################################    \n",
    "\n",
    "\"\"\"Error 2: no groups name as group name the user provided \"\"\"\n",
    "\n",
    "Input:\n",
    "    \n",
    "    groupName = \"blahblahblah\" #There is no group called \"blahblahblah\"\n",
    "    \n",
    "Response:\n",
    "    \n",
    "    \"Get Group Devices Failed! - \n",
    "        {\n",
    "            \"statusCode\":791006,\n",
    "            \"statusDescription\":\"Device group blahblahblah does not exist.\"\n",
    "        }\""
   ]
  },
  {
   "cell_type": "code",
   "execution_count": null,
   "metadata": {},
   "outputs": [],
   "source": [
    "'''\n",
    "Some Issues:\n",
    "\n",
    "1) Set input as empty(\"\"), the response shows \"No Resourse.\" which is not accuracy. An alert message should be provided.\n",
    "\n",
    "'''"
   ]
  }
 ],
 "metadata": {
  "kernelspec": {
   "display_name": "Python 3",
   "language": "python",
   "name": "python3"
  },
  "language_info": {
   "codemirror_mode": {
    "name": "ipython",
    "version": 3
   },
   "file_extension": ".py",
   "mimetype": "text/x-python",
   "name": "python",
   "nbconvert_exporter": "python",
   "pygments_lexer": "ipython3",
   "version": "3.7.1"
  }
 },
 "nbformat": 4,
 "nbformat_minor": 2
}
