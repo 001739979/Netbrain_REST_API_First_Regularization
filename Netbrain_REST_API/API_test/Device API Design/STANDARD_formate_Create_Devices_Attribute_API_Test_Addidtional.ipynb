{
 "cells": [
  {
   "cell_type": "code",
   "execution_count": 10,
   "metadata": {},
   "outputs": [
    {
     "name": "stdout",
     "output_type": "stream",
     "text": [
      "{'statusCode': 790200, 'statusDescription': 'Success.'}\n"
     ]
    }
   ],
   "source": [
    "# import python modules \n",
    "import requests\n",
    "import time\n",
    "import urllib3\n",
    "import pprint\n",
    "import json\n",
    "urllib3.disable_warnings(urllib3.exceptions.InsecureRequestWarning)\n",
    "\n",
    "# Set the request inputs\n",
    "token = \"6e1f5fdd-247c-4710-91bb-2cbd3f737489\"\n",
    "nb_url = \"http://192.168.28.79\"\n",
    "\n",
    "# Create device attribute\n",
    "attributeName = \"newAttribute111\"\n",
    "attributeDisplayName = \"New Attribute\"\n",
    "deviceTypeNames = \"\"\n",
    "dataType = \"string\"\n",
    "subDataType = \"null\"\n",
    "isFullSearch = True\n",
    "\n",
    "headers = {'Content-Type': 'application/json', 'Accept': 'application/json'}\n",
    "headers[\"Token\"]=token\n",
    "full_url= nb_url + \"/ServicesAPI/API/V1/CMDB/Devices/Attributes\"\n",
    "\n",
    "body={\n",
    "        \"attributeName\": attributeName,\n",
    "        \"attributeDisplayName\": attributeDisplayName,\n",
    "        \"deviceTypeNames\": deviceTypeNames, \n",
    "        \"dataType\": dataType,\n",
    "        \"subDataType\" : subDataType,\n",
    "        \"isFullSearch\": isFullSearch\n",
    "    }\n",
    "\n",
    "try:\n",
    "    response = requests.post(full_url, data=json.dumps(body), headers=headers, verify=False)\n",
    "    if response.status_code == 200:\n",
    "        result = response.json()\n",
    "        print (result)\n",
    "    else:\n",
    "        print (\"Create device attribute failed! - \" + str(response.text))\n",
    "    \n",
    "except Exception as e:\n",
    "    print (str(e))    \n"
   ]
  },
  {
   "cell_type": "code",
   "execution_count": null,
   "metadata": {},
   "outputs": [],
   "source": []
  }
 ],
 "metadata": {
  "kernelspec": {
   "display_name": "Python 3",
   "language": "python",
   "name": "python3"
  },
  "language_info": {
   "codemirror_mode": {
    "name": "ipython",
    "version": 3
   },
   "file_extension": ".py",
   "mimetype": "text/x-python",
   "name": "python",
   "nbconvert_exporter": "python",
   "pygments_lexer": "ipython3",
   "version": "3.7.1"
  }
 },
 "nbformat": 4,
 "nbformat_minor": 2
}
