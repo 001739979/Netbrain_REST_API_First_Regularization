{
 "cells": [
  {
   "cell_type": "code",
   "execution_count": null,
   "metadata": {},
   "outputs": [],
   "source": [
    "nb_url = \"http://192.168.28.79/ServicesAPI/API/V1/CMDB/Tenants\"\n",
    "token = \"54aa28ef-f160-4d6d-a0eb-c1bb300481711\"\n",
    "def getTenants(nb_url, token):\n",
    "    full_url = nb_url + \"/ServicesAPI/API/V1/CMDB/Tenants\"\n",
    "    # Set proper headers\n",
    "    headers = {'Content-Type': 'application/json', 'Accept': 'application/json'}\n",
    "    headers[\"Token\"]=token\n",
    "    try:\n",
    "        # Do the HTTP request\n",
    "        response = requests.get(full_url, headers=headers, verify=False)\n",
    "        # Check for HTTP codes other than 200\n",
    "        if response.status_code == 200:\n",
    "            # Decode the JSON response into a dictionary and use the data\n",
    "            result = response.json()\n",
    "            return (result)\n",
    "        else:\n",
    "            return (\"Get tenants failed! - \" + str(response.text))\n",
    "    except Exception as e: return (str(e))\n",
    "\n",
    "allT = getTenants(nb_url, token)\n",
    "allT"
   ]
  },
  {
   "cell_type": "code",
   "execution_count": null,
   "metadata": {},
   "outputs": [],
   "source": [
    "# Error format should inmproved as following example.\n",
    "{\n",
    "    \"error\":{\n",
    "        \"statuscode\" : 400 or some others,\n",
    "        \"Message\" : \"Netbrain API server URL cannot be null.\",\n",
    "        \"Status\" : \"Invalid or empty URL.\"\n",
    "    }\n",
    "}"
   ]
  },
  {
   "cell_type": "code",
   "execution_count": null,
   "metadata": {},
   "outputs": [],
   "source": [
    "nb_url = \"http://192.168.28.79\"\n",
    "token = \"\"\n",
    "def getTenants(nb_url, token):\n",
    "    full_url = nb_url + \"/ServicesAPI/API/V1/CMDB/Tenants\"\n",
    "    # Set proper headers\n",
    "    headers = {'Content-Type': 'application/json', 'Accept': 'application/json'}\n",
    "    headers[\"Token\"]=token\n",
    "    try:\n",
    "        # Do the HTTP request\n",
    "        response = requests.get(full_url, headers=headers, verify=False)\n",
    "        # Check for HTTP codes other than 200\n",
    "        if response.status_code == 200:\n",
    "            # Decode the JSON response into a dictionary and use the data\n",
    "            result = response.json()\n",
    "            return (result)\n",
    "        else:\n",
    "            return (\"Get tenants failed! - \" + str(response.text))\n",
    "    except Exception as e: return (str(e))\n",
    "\n",
    "allT = getTenants(nb_url, token)\n",
    "allT"
   ]
  },
  {
   "cell_type": "code",
   "execution_count": null,
   "metadata": {},
   "outputs": [],
   "source": [
    "{\n",
    "    \"error\" : {\n",
    "        \"statuscode\" : 795005,\n",
    "        \"Message\" : \"Authentication token cannot be null.\",\n",
    "        \"status\" : \"Invalid or empty token.\"\n",
    "    }\n",
    "}"
   ]
  },
  {
   "cell_type": "code",
   "execution_count": null,
   "metadata": {},
   "outputs": [],
   "source": [
    "token = \"9754243a-259c-4656-9f17-a8d1033416c1\"\n",
    "nb_url = \"http://192.168.28.79\"\n",
    "def getTenants(nb_url, token):\n",
    "    full_url = nb_url + \"/ServicesAPI/API/V1/CMDB/Tenants\"\n",
    "    # Set proper headers\n",
    "    headers = {'Content-Type': 'application/json', 'Accept': 'application/json'}\n",
    "    headers[\"Token\"]=token\n",
    "    try:\n",
    "        # Do the HTTP request\n",
    "        response = requests.get(full_url, headers=headers, verify=False)\n",
    "        # Check for HTTP codes other than 200\n",
    "        if response.status_code == 200:\n",
    "            # Decode the JSON response into a dictionary and use the data\n",
    "            result = response.json()\n",
    "            return (result)\n",
    "        else:\n",
    "            return (\"Get tenants failed! - \" + str(response.text))\n",
    "    except Exception as e: return (str(e))\n",
    "\n",
    "allT = getTenants(nb_url, token)\n",
    "allT"
   ]
  },
  {
   "cell_type": "code",
   "execution_count": null,
   "metadata": {},
   "outputs": [],
   "source": [
    "{\n",
    "    \"error\" : {\n",
    "        \"statuscode\" : 795005,\n",
    "        \"Message\" : \"Get tenants failed!\",\n",
    "        \"status\" : \"Invalid or empty token.\"\n",
    "    }\n",
    "}"
   ]
  },
  {
   "cell_type": "code",
   "execution_count": null,
   "metadata": {},
   "outputs": [],
   "source": [
    "#---As the response provided, we can only get the tenant ID and name from this API. Is that really enough?\n",
    "#   Is there any possible to provide the number of domains in the corresponding tenant or a list of domains the user can access?\n",
    "#---Token should be consern as authentication header, not a body parameter.\n",
    "#   based on bearer auth concept:\n",
    "#   (Bearer authentication (also called token authentication) is an HTTP authentication scheme \n",
    "#   that involves security tokens called bearer tokens. The name “Bearer authentication” can be understood as \n",
    "#   “give access to the bearer of this token.” The bearer token is a cryptic string, usually generated by the server in response \n",
    "#   to a login request. The client must send this token in the Authorization header when making requests to protected resources)\n",
    "#   we use Bearer Auth as our authentication. thus, we should consider token as a authentication header not a body parameter.\n"
   ]
  }
 ],
 "metadata": {
  "kernelspec": {
   "display_name": "Python 3",
   "language": "python",
   "name": "python3"
  },
  "language_info": {
   "codemirror_mode": {
    "name": "ipython",
    "version": 3
   },
   "file_extension": ".py",
   "mimetype": "text/x-python",
   "name": "python",
   "nbconvert_exporter": "python",
   "pygments_lexer": "ipython3",
   "version": "3.7.1"
  }
 },
 "nbformat": 4,
 "nbformat_minor": 2
}
