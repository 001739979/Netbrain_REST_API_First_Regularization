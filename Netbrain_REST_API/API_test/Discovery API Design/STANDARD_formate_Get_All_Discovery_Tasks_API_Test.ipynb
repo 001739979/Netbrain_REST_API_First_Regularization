{
 "cells": [
  {
   "cell_type": "markdown",
   "metadata": {},
   "source": [
    "# Discovery API Design"
   ]
  },
  {
   "cell_type": "markdown",
   "metadata": {},
   "source": [
    "## ***GET*** /V1/CMDB/Devices/Discovery/Tasks\n",
    "Call this API to get all discovery tasks from current domain.\n",
    ">* **Tip:** If there are no discovery tasks in the system, add a new discovery task from the Domain Management page. In the discovery task, select Once on the Frequency tab and Discover the following IPs on the Discovery Seed tab.\n",
    "<br><br>\n",
    "\n",
    "## Detail Information\n",
    "\n",
    "> **Title** : Get All Discovery Tasks API<br>\n",
    "\n",
    "> **Version** : 01/28/2019.\n",
    "\n",
    "> **API Server URL** : http(s)://IP address of NetBrain Web API Server/ServicesAPI/API/V1/CMDB/Discovery/Tasks\n",
    "\n",
    "> **Authentication** : \n",
    "\n",
    ">|**Type**|**In**|**Name**|\n",
    "|------|------|------|\n",
    "|<img width=100/>|<img width=100/>|<img width=500/>|\n",
    "|Bearer Authentication| Headers | Authentication token | \n",
    "\n",
    "## Request body(****required***)\n",
    "\n",
    ">No request body.\n",
    "\n",
    "## Parameters(****required***)\n",
    "\n",
    "> No required parameters.\n",
    "\n",
    "\n",
    "## Headers\n",
    "\n",
    "> **Data Format Headers**\n",
    "\n",
    "> |**Name**|**Type**|**Description**|\n",
    "|------|------|------|\n",
    "|<img width=100/>|<img width=100/>|<img width=500/>|\n",
    "| Content-Type | string  | support \"application/json\" |\n",
    "| Accept | string  | support \"application/json\" |\n",
    "\n",
    "> **Authorization Headers**\n",
    "\n",
    "> |**Name**|**Type**|**Description**|\n",
    "|------|------|------|\n",
    "|<img width=100/>|<img width=100/>|<img width=500/>|\n",
    "| token | string  | Authentication token, get from login API. |\n",
    "\n",
    "## Response\n",
    "\n",
    ">|**Name**|**Type**|**Description**|\n",
    "|------|------|------|\n",
    "|<img width=100/>|<img width=100/>|<img width=500/>|\n",
    "|tasks | array | A list of all discovery tasks. |\n",
    "|tasks.id| string | The ID of a discovery task.  |\n",
    "|tasks.name| string | The name of a discovery task. |\n",
    "|tasks.enable| bool | Whether a discovery task is enabled.  |\n",
    "|tasks.lastStatus| string | The last run (result) status of a discovery task. |\n",
    "|tasks.lastRunSpan| integer | The duration of the last run of a discovery task.  |\n",
    "|tasks.curStatus| string | The current status of a discovery task.  |\n",
    "|tasks.nextRunTime| string | The start time of the next run of a discovery task.  |\n",
    "|tasks.frequency| string | The run frequency of a discovery task.  |\n",
    "|statusCode| integer | The returned status code of executing the API.  |\n",
    "|statusDescription| string | The explanation of the status code.  |\n",
    "\n",
    "> ***Example***"
   ]
  },
  {
   "cell_type": "code",
   "execution_count": null,
   "metadata": {},
   "outputs": [],
   "source": [
    "{\n",
    "    \"tasks\": [\n",
    "        {\n",
    "            \"id\": \"e86e73da-1829-fd8e-4f83-98f524533779\",\n",
    "            \"name\": \"Scheduled System Discovery\",\n",
    "            \"enable\": false,\n",
    "            \"lastStatus\": \"\",\n",
    "            \"lastRunSpan\": \"00:00:00\",\n",
    "            \"curStatus\": \"Not Started\",\n",
    "            \"nextRunTime\": \"1/2/3000,12:00:00 AM\",\n",
    "            \"frequency\": \"Once\"\n",
    "        }\n",
    "    ],\n",
    "    \"statusCode\": 790200,\n",
    "    \"statusDescription\": \"Success.\"\n",
    "}"
   ]
  },
  {
   "cell_type": "code",
   "execution_count": 4,
   "metadata": {},
   "outputs": [
    {
     "name": "stdout",
     "output_type": "stream",
     "text": [
      "{'tasks': [{'id': 'e86e73da-1829-fd8e-4f83-98f524533779', 'name': 'Scheduled System Discovery', 'enable': False, 'lastStatus': '', 'lastRunSpan': '00:00:00', 'curStatus': 'Not Started', 'nextRunTime': '1/2/3000,12:00:00 AM', 'frequency': 'Once'}, {'id': '34124e63-31d6-dfad-f5fa-05ae0ebb4b49', 'name': 'testGDL_DT1', 'enable': True, 'lastStatus': '', 'lastRunSpan': '00:00:00', 'curStatus': 'Not Started', 'nextRunTime': '1/2/3000,12:00:00 AM', 'frequency': 'Once'}, {'id': 'a8e8904c-574b-07c3-5caf-07fc7584e4f8', 'name': 'testGDL_DT2', 'enable': True, 'lastStatus': '', 'lastRunSpan': '00:00:00', 'curStatus': 'Not Started', 'nextRunTime': '1/30/2019,2:00:00 PM', 'frequency': 'Weekly'}], 'statusCode': 790200, 'statusDescription': 'Success.'}\n"
     ]
    }
   ],
   "source": [
    "# import python modules \n",
    "import requests\n",
    "import time\n",
    "import urllib3\n",
    "import pprint\n",
    "import json\n",
    "urllib3.disable_warnings(urllib3.exceptions.InsecureRequestWarning)\n",
    "\n",
    "# Set the request inputs\n",
    "token = \"fd8b3f95-adc6-406d-9c18-bdb155de2ced\"\n",
    "nb_url = \"http://192.168.28.79\"\n",
    "\n",
    "headers = {'Content-Type': 'application/json', 'Accept': 'application/json'}\n",
    "headers[\"Token\"]=token\n",
    "full_url= nb_url + \"/ServicesAPI/API/V1/CMDB/Discovery/Tasks\"\n",
    "    \n",
    "try:\n",
    "    # Do the HTTP request\n",
    "    response = requests.get(full_url, headers=headers, verify=False)\n",
    "    # Check for HTTP codes other than 200\n",
    "    if response.status_code == 200:\n",
    "        # Decode the JSON response into a dictionary and use the data\n",
    "        result = response.json()\n",
    "        print (result)\n",
    "    else:\n",
    "        print (\"Get discovery task list failed - \" + str(response.text))\n",
    "    \n",
    "except Exception as e:\n",
    "    print (str(e)) "
   ]
  },
  {
   "cell_type": "markdown",
   "metadata": {},
   "source": [
    "# cURL Code from Postman"
   ]
  },
  {
   "cell_type": "code",
   "execution_count": null,
   "metadata": {},
   "outputs": [],
   "source": [
    "curl -X GET \\\n",
    "  http://192.168.28.79/ServicesAPI/API/V1/CMDB/Discovery/Tasks \\\n",
    "  -H 'Postman-Token: f8cf0c55-79de-4d99-a06e-c36cb93dc43a' \\\n",
    "  -H 'cache-control: no-cache' \\\n",
    "  -H 'token: fd8b3f95-adc6-406d-9c18-bdb155de2ced'"
   ]
  }
 ],
 "metadata": {
  "kernelspec": {
   "display_name": "Python 3",
   "language": "python",
   "name": "python3"
  },
  "language_info": {
   "codemirror_mode": {
    "name": "ipython",
    "version": 3
   },
   "file_extension": ".py",
   "mimetype": "text/x-python",
   "name": "python",
   "nbconvert_exporter": "python",
   "pygments_lexer": "ipython3",
   "version": "3.7.1"
  }
 },
 "nbformat": 4,
 "nbformat_minor": 2
}
