{
 "cells": [
  {
   "cell_type": "markdown",
   "metadata": {},
   "source": [
    "# Discovery API Design"
   ]
  },
  {
   "cell_type": "markdown",
   "metadata": {},
   "source": [
    "## ***DELETE*** /V1/CMDB/Discovery/Tasks/{task}/Seeds\n",
    "Call this API to remove specific IP addresses from  a discovery task, if list is empty, remove all.\n",
    "> **Note**: {task} means {taskId} or {taskName}\n",
    "\n",
    "## Detail Information\n",
    "\n",
    "> **Title** : Add Seed IP(s) To Discovery API<br>\n",
    "\n",
    "> **Version** : 01/28/2019.\n",
    "\n",
    "> **API Server URL** : http(s)://IP address of NetBrain Web API Server/ServicesAPI/API/V1/CMDB/Discovery/Tasks/{taskId or taskName}/Seeds\n",
    "\n",
    "> **Authentication** : \n",
    "\n",
    ">|**Type**|**In**|**Name**|\n",
    "|------|------|------|\n",
    "|<img width=100/>|<img width=100/>|<img width=500/>|\n",
    "|Bearer Authentication| Headers | Authentication token | \n",
    "\n",
    "## Request body(****required***)\n",
    "\n",
    "> No request body.\n",
    "\n",
    "## Path Parameters(****required***)\n",
    "\n",
    "> |**Name**|**Type**|**Description**|\n",
    "|------|------|------|\n",
    "|<img width=100/>|<img width=100/>|<img width=500/>|\n",
    "|tasks.id*| string | The ID of a discovery task.  |\n",
    "|tasks.name*| string | The name of a discovery task. |\n",
    ">>**Note:** two parameters can only provide one to call this API and must provide one parameter.\n",
    "\n",
    "## Query Parameters(****required***)\n",
    "\n",
    "> |**Name**|**Type**|**Description**|\n",
    "|------|------|------|\n",
    "|<img width=100/>|<img width=100/>|<img width=500/>|\n",
    "|ips| List of string | The list of device mgmIPs. Optional, remove all devices from this task if not specified.|\n",
    "\n",
    "## Headers\n",
    "\n",
    "> **Data Format Headers**\n",
    "\n",
    "> |**Name**|**Type**|**Description**|\n",
    "|------|------|------|\n",
    "|<img width=100/>|<img width=100/>|<img width=500/>|\n",
    "| Content-Type | string  | support \"application/json\" |\n",
    "| Accept | string  | support \"application/json\" |\n",
    "\n",
    "> **Authorization Headers**\n",
    "\n",
    "> |**Name**|**Type**|**Description**|\n",
    "|------|------|------|\n",
    "|<img width=100/>|<img width=100/>|<img width=500/>|\n",
    "| token | string  | Authentication token, get from login API. |\n",
    "\n",
    "## Response\n",
    "\n",
    ">|**Name**|**Type**|**Description**|\n",
    "|------|------|------|\n",
    "|<img width=100/>|<img width=100/>|<img width=500/>|\n",
    "|statusCode| integer | The returned status code of executing the API.  |\n",
    "|statusDescription| string | The explanation of the status code.  |\n",
    "\n",
    "> ***Example***"
   ]
  },
  {
   "cell_type": "code",
   "execution_count": null,
   "metadata": {},
   "outputs": [],
   "source": [
    "{\n",
    "    \"statusCode\": 790200,\n",
    "    \"statusDescription\": \"Success.\"\n",
    "}"
   ]
  },
  {
   "cell_type": "markdown",
   "metadata": {},
   "source": [
    "# Full Example:"
   ]
  },
  {
   "cell_type": "code",
   "execution_count": 1,
   "metadata": {},
   "outputs": [
    {
     "name": "stdout",
     "output_type": "stream",
     "text": [
      "{'statusCode': 790200, 'statusDescription': 'Success.'}\n"
     ]
    }
   ],
   "source": [
    "# import python modules \n",
    "import requests\n",
    "import time\n",
    "import urllib3\n",
    "import pprint\n",
    "import json\n",
    "urllib3.disable_warnings(urllib3.exceptions.InsecureRequestWarning)\n",
    "\n",
    "# Set the request inputs\n",
    "token = \"fd8b3f95-adc6-406d-9c18-bdb155de2ced\"\n",
    "nb_url = \"http://192.168.28.79\"\n",
    "\n",
    "mgmIP1 = \"10.1.13.2\"\n",
    "mgmIP2 = \"123.1.1.1\"\n",
    "mgmIP3 = \"10.1.14.2\"\n",
    "#mgmIP4 = \"123.203.3.3\"\n",
    "#mgmIP5 = \"123.204.4.4\"\n",
    "#mgmIP6 = \"123.20.1.3\"\n",
    "\n",
    "taskID = \"34124e63-31d6-dfad-f5fa-05ae0ebb4b49\"\n",
    "##OR##\n",
    "#taskName = \"testGDL_DT1\"\n",
    "\n",
    "body = {\n",
    "    \"seeds\" : \n",
    "        [\n",
    "            {\"mgmtIP\": mgmIP1},\n",
    "            {\"mgmtIP\": mgmIP2},\n",
    "            {\"mgmtIP\": mgmIP3}\n",
    "        ]\n",
    "    }\n",
    " \n",
    "headers = {'Content-Type': 'application/json', 'Accept': 'application/json'}\n",
    "headers[\"Token\"]=token\n",
    "full_url= nb_url + \"/ServicesAPI/API/V1/CMDB/Discovery/Tasks/\"+str(taskID)+\"/Seeds\"\n",
    "\n",
    "try:\n",
    "    # Do the HTTP request\n",
    "    response = requests.delete(full_url, data = json.dumps(body), headers=headers, verify=False)\n",
    "    # Check for HTTP codes other than 200\n",
    "    if response.status_code == 200:\n",
    "        # Decode the JSON response into a dictionary and use the data\n",
    "        result = response.json()\n",
    "        print (result)\n",
    "    else:\n",
    "        print(\"IP Add Failed - \" + str(response.text))\n",
    "    \n",
    "except Exception as e:\n",
    "    print (str(e)) \n"
   ]
  },
  {
   "cell_type": "markdown",
   "metadata": {},
   "source": [
    "# cURL Code from Postman"
   ]
  },
  {
   "cell_type": "code",
   "execution_count": null,
   "metadata": {},
   "outputs": [],
   "source": [
    "curl -X DELETE \\\n",
    "  http://192.168.28.79/ServicesAPI/API/V1/CMDB/Discovery/Tasks/34124e63-31d6-dfad-f5fa-05ae0ebb4b49/Seeds \\\n",
    "  -H 'Content-Type: application/json' \\\n",
    "  -H 'Postman-Token: 7c68282c-5f22-41e7-808a-fae8b4127ddc' \\\n",
    "  -H 'cache-control: no-cache' \\\n",
    "  -H 'token: fd8b3f95-adc6-406d-9c18-bdb155de2ced' \\\n",
    "  -d '{\n",
    "    \"seeds\" : \n",
    "        [\n",
    "            {\n",
    "            \t\"mgmtIP\": \"10.1.13.2\"\n",
    "            \t\n",
    "            },\n",
    "            {\n",
    "            \t\"mgmtIP\": \"123.1.1.1\"\n",
    "            \t\n",
    "            },\n",
    "            {\n",
    "            \t\"mgmtIP\": \"10.1.14.2\"\n",
    "            \t\n",
    "            }\n",
    "        ]\n",
    "}'"
   ]
  },
  {
   "cell_type": "markdown",
   "metadata": {},
   "source": [
    "# Error Examples:"
   ]
  },
  {
   "cell_type": "code",
   "execution_count": null,
   "metadata": {},
   "outputs": [],
   "source": [
    "###################################################################################################################    \n",
    "\n",
    "\"\"\"Error 1: empty mgmIPs list \"\"\"\"\"\"\"\"\"\"\"\"\"\"\"\"\"\"\"\"\"\"\"\"\"\"\"\"\"\"\"\"\"\"\"\"\"\"\"\"\"\"\"\"\"\"\"\"\"\"\"\"\"\"\"\"\"\"\"\"\"\"\"\"\"\"\"\"\"\"\"\"\"\"\"\n",
    "\n",
    "Input:\n",
    "    \n",
    "        mgmIP1 = \"\"\n",
    "        mgmIP2 = \"\"\n",
    "        mgmIP3 = \"\"\n",
    "        taskID = \"34124e63-31d6-dfad-f5fa-05ae0ebb4b49\"\n",
    "        ##OR##\n",
    "        #taskName = \"testGDL_DT1\"\n",
    "\n",
    "Response:\n",
    "    \n",
    "    \"{\n",
    "        \"statusCode\": 790200,\n",
    "        \"statusDescription\": \"Success.\"\n",
    "    }\"\n",
    "    \n",
    "################################################################################################################### \n",
    "    \n",
    "\"\"\"Error 1: devices in mgmIPs list already deleted\"\"\"\"\"\"\"\"\"\"\"\"\"\"\"\"\"\"\"\"\"\"\"\"\"\"\"\"\"\"\"\"\"\"\"\"\"\"\"\"\"\"\"\"\"\"\"\"\"\"\"\"\"\"\"\"\"\"\"\"\"\"\"\"\"\"\"\"\"\"\"\"\"\"\"\n",
    "\n",
    "Input:\n",
    "    \n",
    "        mgmIP1 = \"10.1.13.2\" #already not exist in DT\n",
    "        mgmIP2 = \"123.1.1.1\" #already not exist in DT\n",
    "        mgmIP3 = \"10.1.14.2\" #already not exist in DT\n",
    "        taskID = \"34124e63-31d6-dfad-f5fa-05ae0ebb4b49\"\n",
    "        ##OR##\n",
    "        #taskName = \"testGDL_DT1\"\n",
    "\n",
    "Response:\n",
    "    \n",
    "    \"{\n",
    "        \"statusCode\": 790200,\n",
    "        \"statusDescription\": \"Success.\"\n",
    "    }\"\n",
    "    "
   ]
  },
  {
   "cell_type": "code",
   "execution_count": null,
   "metadata": {},
   "outputs": [],
   "source": [
    "'''\n",
    "Some Issues:\n",
    "\n",
    "1) Success response too simple.\n",
    "\n",
    "2) With empty IP list input, the delete all feature is too sudden.\n",
    "\n",
    "3) Same IPS can be multiple deleted which is not efficency.\n",
    "\n",
    "4) With an empty list, the response shows success which is not reasonable.\n",
    "'''"
   ]
  }
 ],
 "metadata": {
  "kernelspec": {
   "display_name": "Python 3",
   "language": "python",
   "name": "python3"
  },
  "language_info": {
   "codemirror_mode": {
    "name": "ipython",
    "version": 3
   },
   "file_extension": ".py",
   "mimetype": "text/x-python",
   "name": "python",
   "nbconvert_exporter": "python",
   "pygments_lexer": "ipython3",
   "version": "3.7.1"
  }
 },
 "nbformat": 4,
 "nbformat_minor": 2
}
