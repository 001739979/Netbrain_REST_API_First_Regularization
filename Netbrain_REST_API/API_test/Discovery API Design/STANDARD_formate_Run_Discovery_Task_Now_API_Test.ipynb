{
 "cells": [
  {
   "cell_type": "markdown",
   "metadata": {},
   "source": [
    "# Discovery API Design"
   ]
  },
  {
   "cell_type": "markdown",
   "metadata": {},
   "source": [
    "## ***POST*** /V1/CMDB/Discovery/Tasks/{task}/Run\n",
    "Call this API to run a  scheduled discovery task right away. Error would return if the task is already running.\n",
    "> **Note**: {task} means {taskId} or {taskName}\n",
    "\n",
    "## Detail Information\n",
    "\n",
    "> **Title** : Run Discovery Task  Now API<br>\n",
    "\n",
    "> **Version** : 01/29/2019.\n",
    "\n",
    "> **API Server URL** : http(s)://IP address of NetBrain Web API Server/ServicesAPI/API/V1/CMDB/Discovery/Tasks/{taskId or taskName}/Run\n",
    "\n",
    "> **Authentication** : \n",
    "\n",
    ">|**Type**|**In**|**Name**|\n",
    "|------|------|------|\n",
    "|<img width=100/>|<img width=100/>|<img width=500/>|\n",
    "|Bearer Authentication| Headers | Authentication token | \n",
    "\n",
    "## Request body(****required***)\n",
    "\n",
    ">No request body.\n",
    "\n",
    "## Path Parameters(****required***)\n",
    "\n",
    "> |**Name**|**Type**|**Description**|\n",
    "|------|------|------|\n",
    "|<img width=100/>|<img width=100/>|<img width=500/>|\n",
    "|tasks.id*| string | The ID of a discovery task.  |\n",
    "|tasks.name*| string | The name of a discovery task. |\n",
    "\n",
    ">>**Note:** two parameters can only provide one to call this API and must provide one parameter.\n",
    "\n",
    "## Headers\n",
    "\n",
    "> **Data Format Headers**\n",
    "\n",
    "> |**Name**|**Type**|**Description**|\n",
    "|------|------|------|\n",
    "|<img width=100/>|<img width=100/>|<img width=500/>|\n",
    "| Content-Type | string  | support \"application/json\" |\n",
    "| Accept | string  | support \"application/json\" |\n",
    "\n",
    "> **Authorization Headers**\n",
    "\n",
    "> |**Name**|**Type**|**Description**|\n",
    "|------|------|------|\n",
    "|<img width=100/>|<img width=100/>|<img width=500/>|\n",
    "| token | string  | Authentication token, get from login API. |\n",
    "\n",
    "## Response\n",
    "\n",
    ">|**Name**|**Type**|**Description**|\n",
    "|------|------|------|\n",
    "|<img width=100/>|<img width=100/>|<img width=500/>|\n",
    "|statusCode| integer | The returned status code of executing the API.  |\n",
    "|statusDescription| string | The explanation of the status code.  |\n",
    "\n",
    "> ***Example***"
   ]
  },
  {
   "cell_type": "code",
   "execution_count": null,
   "metadata": {},
   "outputs": [],
   "source": [
    "{       \n",
    "    \"statusCode\": 790200,\n",
    "    \"statusDescription\": \"Success.\"\n",
    "}           "
   ]
  },
  {
   "cell_type": "markdown",
   "metadata": {},
   "source": [
    "# Full Example:"
   ]
  },
  {
   "cell_type": "code",
   "execution_count": 3,
   "metadata": {},
   "outputs": [
    {
     "name": "stdout",
     "output_type": "stream",
     "text": [
      "{'statusCode': 790200, 'statusDescription': 'Success.'}\n"
     ]
    }
   ],
   "source": [
    "# import python modules \n",
    "import requests\n",
    "import time\n",
    "import urllib3\n",
    "import pprint\n",
    "import json\n",
    "urllib3.disable_warnings(urllib3.exceptions.InsecureRequestWarning)\n",
    "\n",
    "# Set the request inputs\n",
    "token = \"c4fcb468-bc36-4cca-acc8-2c863de34ed2\"\n",
    "nb_url = \"http://192.168.28.79\"\n",
    "\n",
    "taskID = \"34124e63-31d6-dfad-f5fa-05ae0ebb4b49\"\n",
    "##OR##\n",
    "#taskName = \"testGDL_DT1\"\n",
    "\n",
    "headers = {'Content-Type': 'application/json', 'Accept': 'application/json'}\n",
    "headers[\"Token\"]=token\n",
    "\n",
    "full_url= nb_url + \"/ServicesAPI/API//V1/CMDB/Discovery/Tasks/\"+str(taskID)+\"/Run\"\n",
    "##OR##\n",
    "#full_url= nb_url + \"/ServicesAPI/API//V1/CMDB/Discovery/Tasks/\"+str(taskName)+\"/Run\"\n",
    "\n",
    "try:\n",
    "    # Do the HTTP request\n",
    "    response = requests.post(full_url, headers=headers, verify=False)\n",
    "    # Check for HTTP codes other than 200\n",
    "    if response.status_code == 200:\n",
    "        # Decode the JSON response into a dictionary and use the data\n",
    "        result = response.json()\n",
    "        print (result)\n",
    "    else:\n",
    "        print (\"Run Discovery Task failed - \" + str(response.text))\n",
    "\n",
    "except Exception as e:\n",
    "    print (str(e)) "
   ]
  },
  {
   "cell_type": "markdown",
   "metadata": {},
   "source": [
    "# cURL Code from Postman"
   ]
  },
  {
   "cell_type": "code",
   "execution_count": null,
   "metadata": {},
   "outputs": [],
   "source": [
    "curl -X POST \\\n",
    "  http://192.168.28.79/ServicesAPI/API/V1/CMDB/Discovery/Tasks/34124e63-31d6-dfad-f5fa-05ae0ebb4b49/Run \\\n",
    "  -H 'Postman-Token: e41ca84d-ba5b-4a69-b759-1e29ed549b06' \\\n",
    "  -H 'cache-control: no-cache' \\\n",
    "  -H 'token: c4fcb468-bc36-4cca-acc8-2c863de34ed2'"
   ]
  },
  {
   "cell_type": "markdown",
   "metadata": {},
   "source": [
    "# Error Examples :"
   ]
  },
  {
   "cell_type": "code",
   "execution_count": null,
   "metadata": {},
   "outputs": [],
   "source": [
    "###################################################################################################################    \n",
    "\n",
    "\"\"\"Error 1: empty taskID\"\"\"\n",
    "\n",
    "Input:\n",
    "    \n",
    "        taskID = \"\"\n",
    "\n",
    "Response:\n",
    "    \n",
    "    \"Get IPs from discovery task failed - \n",
    "        {\n",
    "            \"statusCode\":793404,\n",
    "            \"statusDescription\":\"No resource\"\n",
    "        }\"\n",
    "\n",
    "###################################################################################################################    \n",
    "\n",
    "\"\"\"Error 2: wrong taskID\"\"\"\n",
    "\n",
    "Input:\n",
    "    \n",
    "        taskID = \"c4fcb468-bc36-4cca-acc8\" # it should be \"c4fcb468-bc36-4cca-acc8-2c863de34ed2\"\n",
    "\n",
    "Response:\n",
    "    \n",
    "    \"Get IPs from discovery task failed - \n",
    "        {\n",
    "            \"statusCode\":794004,\n",
    "            \"statusDescription\":\"Task 'c4fcb468-bc36-4cca-acc8' does not exist.\"\n",
    "        }\"\n",
    "\n",
    "###################################################################################################################    \n",
    "\n",
    "\"\"\"Error 3: duplicate running task\"\"\"\n",
    "\n",
    "Input:\n",
    "    \n",
    "        taskID = \"34124e63-31d6-dfad-f5fa-05ae0ebb4b49\" # this task is still running when user call running task now API\n",
    "\n",
    "Response:\n",
    "    \n",
    "    \"Run Discovery Task failed - \n",
    "        {\n",
    "            \"statusCode\":794001,\n",
    "            \"statusDescription\":\"The task is running.\"\n",
    "        }\"\n",
    "\n",
    "###################################################################################################################    \n",
    "\n",
    "\"\"\"Error 4: Unknown Error, i don't understand why.\"\"\"\n",
    "\n",
    "Input:\n",
    "    \n",
    "        taskID = \"a8e8904c-574b-07c3-5caf-07fc7584e4f8\" # this task is still running when user call running task now API\n",
    "\n",
    "Response:\n",
    "    \n",
    "    \"Run Discovery Task failed - \n",
    "        {\n",
    "            \"statusCode\": 794003,\n",
    "            \"statusDescription\": \"Incorrect discovery type. Please select \\\"Scan the following IPs\\\" as the discovery type.\"\n",
    "        }\"\n",
    "\n",
    "#### I did not find any information about \"discovery type\".\n",
    "\n",
    "###################################################################################################################    \n",
    "\n",
    "\"\"\"Note: the running time (duration) of a DT is decided by how many IPs need to be discovery.\n",
    "         Which means the DT which created by users may stop very fast. That would be cause when the user check the status of \n",
    "         a DT, it always shows \"Successed\", nothing else. Or maybe the user will consider the trigger API can be multiple called \n",
    "         even the corresponding DT is running.(Actually it is already stop.) That is not the problem of our API.\"\"\""
   ]
  },
  {
   "cell_type": "code",
   "execution_count": null,
   "metadata": {},
   "outputs": [],
   "source": [
    "\"\"\"\n",
    "Some Issues:\n",
    "        \n",
    "        1) Too simple of success response.\n",
    "        \n",
    "        2) The response of empty input is not accuracy.\n",
    "        \n",
    "        3) Can we extend a little of this API to provide the duration of the DT which the API triggered.\n",
    "\n",
    "\"\"\""
   ]
  }
 ],
 "metadata": {
  "kernelspec": {
   "display_name": "Python 3",
   "language": "python",
   "name": "python3"
  },
  "language_info": {
   "codemirror_mode": {
    "name": "ipython",
    "version": 3
   },
   "file_extension": ".py",
   "mimetype": "text/x-python",
   "name": "python",
   "nbconvert_exporter": "python",
   "pygments_lexer": "ipython3",
   "version": "3.7.1"
  }
 },
 "nbformat": 4,
 "nbformat_minor": 2
}
