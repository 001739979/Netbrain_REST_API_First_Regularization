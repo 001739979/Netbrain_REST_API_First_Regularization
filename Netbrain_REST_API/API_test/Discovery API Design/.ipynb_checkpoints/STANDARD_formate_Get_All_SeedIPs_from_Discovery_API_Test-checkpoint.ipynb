{
 "cells": [
  {
   "cell_type": "markdown",
   "metadata": {},
   "source": [
    "# Discovery API Design"
   ]
  },
  {
   "cell_type": "markdown",
   "metadata": {},
   "source": [
    "## ***GET*** /V1/CMDB/Discovery/Tasks/{taskId or taskName}/Seeds\n",
    "Call this API to get ip addresses of all devices in one discovery task\n",
    "\n",
    "## Detail Information\n",
    "\n",
    "> **Title** : Get All Seed IPs From Discovery API<br>\n",
    "\n",
    "> **Version** : 01/29/2019.\n",
    "\n",
    "> **API Server URL** : http(s)://IP address of NetBrain Web API Server/ServicesAPI/API/V1/CMDB/Discovery/Tasks/{taskId or taskName}/Seeds\n",
    "\n",
    "> **Authentication** : \n",
    "\n",
    ">|**Type**|**In**|**Name**|\n",
    "|------|------|------|\n",
    "|<img width=100/>|<img width=100/>|<img width=500/>|\n",
    "|Bearer Authentication| Headers | Authentication token | \n",
    "\n",
    "## Request body(****required***)\n",
    "\n",
    ">No request body.\n",
    "\n",
    "## Path Parameters(****required***)\n",
    "\n",
    "> |**Name**|**Type**|**Description**|\n",
    "|------|------|------|\n",
    "|<img width=100/>|<img width=100/>|<img width=500/>|\n",
    "|tasks.id*| string | The ID of a discovery task.  |\n",
    "|tasks.name*| string | The name of a discovery task. |\n",
    "\n",
    ">>**Note:** two parameters can only provide one to call this API and must provide one parameter.\n",
    "\n",
    "## Headers\n",
    "\n",
    "> **Data Format Headers**\n",
    "\n",
    "> |**Name**|**Type**|**Description**|\n",
    "|------|------|------|\n",
    "|<img width=100/>|<img width=100/>|<img width=500/>|\n",
    "| Content-Type | string  | support \"application/json\" |\n",
    "| Accept | string  | support \"application/json\" |\n",
    "\n",
    "> **Authorization Headers**\n",
    "\n",
    "> |**Name**|**Type**|**Description**|\n",
    "|------|------|------|\n",
    "|<img width=100/>|<img width=100/>|<img width=500/>|\n",
    "| token | string  | Authentication token, get from login API. |\n",
    "\n",
    "## Response\n",
    "\n",
    ">|**Name**|**Type**|**Description**|\n",
    "|------|------|------|\n",
    "|<img width=100/>|<img width=100/>|<img width=500/>|\n",
    "|statusCode| integer | The returned status code of executing the API.  |\n",
    "|statusDescription| string | The explanation of the status code.  |\n",
    "|IPs | List of string | A list of all devices IPs|\n",
    "\n",
    "> ***Example***"
   ]
  },
  {
   "cell_type": "code",
   "execution_count": null,
   "metadata": {},
   "outputs": [],
   "source": [
    "{\n",
    "    \"ips\": [\n",
    "        \"10.1.13.2\",\n",
    "        \"10.1.14.2\",\n",
    "        \"123.1.1.1\",\n",
    "        \"123.20.1.3\",\n",
    "        \"123.203.3.3\",\n",
    "        \"123.204.4.4\"\n",
    "    ],\n",
    "    \"statusCode\": 790200,\n",
    "    \"statusDescription\": \"Success.\"\n",
    "}"
   ]
  },
  {
   "cell_type": "markdown",
   "metadata": {},
   "source": [
    "# Full Example :"
   ]
  },
  {
   "cell_type": "code",
   "execution_count": 1,
   "metadata": {},
   "outputs": [
    {
     "name": "stdout",
     "output_type": "stream",
     "text": [
      "{'ips': ['10.1.13.2', '10.1.14.2', '123.1.1.1', '123.20.1.3', '123.203.3.3', '123.204.4.4'], 'statusCode': 790200, 'statusDescription': 'Success.'}\n"
     ]
    }
   ],
   "source": [
    "# import python modules \n",
    "import requests\n",
    "import time\n",
    "import urllib3\n",
    "import pprint\n",
    "import json\n",
    "urllib3.disable_warnings(urllib3.exceptions.InsecureRequestWarning)\n",
    "\n",
    "# Set the request inputs\n",
    "token = \"c4fcb468-bc36-4cca-acc8-2c863de34ed2\"\n",
    "nb_url = \"http://192.168.28.79\"\n",
    "\n",
    "taskID = \"34124e63-31d6-dfad-f5fa-05ae0ebb4b49\"\n",
    "##OR##\n",
    "#taskName = \"testGDL_DT1\"\n",
    "\n",
    "headers = {'Content-Type': 'application/json', 'Accept': 'application/json'}\n",
    "headers[\"Token\"]=token\n",
    "\n",
    "full_url= nb_url + \"/ServicesAPI/API//V1/CMDB/Discovery/Tasks/\"+str(taskID)+\"/Seeds\"\n",
    "##OR##\n",
    "#full_url= nb_url + \"/ServicesAPI/API//V1/CMDB/Discovery/Tasks/\"+str(taskName)+\"/Seeds\"\n",
    "\n",
    "try:\n",
    "    # Do the HTTP request\n",
    "    response = requests.get(full_url, headers=headers, verify=False)\n",
    "    # Check for HTTP codes other than 200\n",
    "    if response.status_code == 200:\n",
    "        # Decode the JSON response into a dictionary and use the data\n",
    "        result = response.json()\n",
    "        print (result)\n",
    "    else:\n",
    "        print (\"Get IPs from discovery task failed - \" + str(response.text))\n",
    "\n",
    "except Exception as e:\n",
    "    print (str(e)) "
   ]
  },
  {
   "cell_type": "markdown",
   "metadata": {},
   "source": [
    "# cURL Code from Postman"
   ]
  },
  {
   "cell_type": "code",
   "execution_count": null,
   "metadata": {},
   "outputs": [],
   "source": [
    "curl -X GET \\\n",
    "  http://192.168.28.79/ServicesAPI/API/V1/CMDB/Discovery/Tasks/34124e63-31d6-dfad-f5fa-05ae0ebb4b49/Seeds \\\n",
    "  -H 'Postman-Token: 17b335d7-84c6-4221-bd12-bc8d376dbf91' \\\n",
    "  -H 'cache-control: no-cache' \\\n",
    "  -H 'token: c4fcb468-bc36-4cca-acc8-2c863de34ed2'"
   ]
  },
  {
   "cell_type": "markdown",
   "metadata": {},
   "source": [
    "# Error Examples :"
   ]
  },
  {
   "cell_type": "code",
   "execution_count": null,
   "metadata": {},
   "outputs": [],
   "source": [
    "###################################################################################################################    \n",
    "\n",
    "\"\"\"Error 1: empty taskID\"\"\"\n",
    "\n",
    "Input:\n",
    "    \n",
    "        taskID = \"\"\n",
    "\n",
    "Response:\n",
    "    \n",
    "    \"Get IPs from discovery task failed - \n",
    "        {\n",
    "            \"statusCode\":793404,\n",
    "            \"statusDescription\":\"No resource\"\n",
    "        }\"\n",
    "\n",
    "###################################################################################################################    \n",
    "\n",
    "\"\"\"Error 2: wrong taskID\"\"\"\n",
    "\n",
    "Input:\n",
    "    \n",
    "        taskID = \"c4fcb468-bc36-4cca-acc8\" # it should be \"c4fcb468-bc36-4cca-acc8-2c863de34ed2\"\n",
    "\n",
    "Response:\n",
    "    \n",
    "    \"Get IPs from discovery task failed - \n",
    "        {\n",
    "            \"statusCode\":794004,\n",
    "            \"statusDescription\":\"Task 'c4fcb468-bc36-4cca-acc8' does not exist.\"\n",
    "        }\"\n"
   ]
  },
  {
   "cell_type": "code",
   "execution_count": null,
   "metadata": {},
   "outputs": [],
   "source": [
    "\"\"\"\n",
    "Some Issues:\n",
    "    1) The response of empty input error is too simple and not accuracy.\n",
    "    \n",
    "\"\"\""
   ]
  }
 ],
 "metadata": {
  "kernelspec": {
   "display_name": "Python 3",
   "language": "python",
   "name": "python3"
  },
  "language_info": {
   "codemirror_mode": {
    "name": "ipython",
    "version": 3
   },
   "file_extension": ".py",
   "mimetype": "text/x-python",
   "name": "python",
   "nbconvert_exporter": "python",
   "pygments_lexer": "ipython3",
   "version": "3.7.1"
  }
 },
 "nbformat": 4,
 "nbformat_minor": 2
}
