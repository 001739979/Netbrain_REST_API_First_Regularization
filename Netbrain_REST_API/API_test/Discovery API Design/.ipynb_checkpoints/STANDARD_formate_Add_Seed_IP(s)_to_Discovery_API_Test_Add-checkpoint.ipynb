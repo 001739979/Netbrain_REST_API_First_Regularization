{
 "cells": [
  {
   "cell_type": "code",
   "execution_count": 4,
   "metadata": {},
   "outputs": [
    {
     "name": "stdout",
     "output_type": "stream",
     "text": [
      "{'statusCode': 790200, 'statusDescription': 'Success.'}\n"
     ]
    }
   ],
   "source": [
    "# import python modules \n",
    "import requests\n",
    "import time\n",
    "import urllib3\n",
    "import pprint\n",
    "import json\n",
    "urllib3.disable_warnings(urllib3.exceptions.InsecureRequestWarning)\n",
    "\n",
    "# Set the request inputs\n",
    "token = \"fd8b3f95-adc6-406d-9c18-bdb155de2ced\"\n",
    "nb_url = \"http://192.168.28.79\"\n",
    "\n",
    "#mgmIP1 = \"10.1.13.2\"\n",
    "#mgmIP2 = \"123.1.1.1\"\n",
    "#mgmIP3 = \"10.1.14.2\"\n",
    "#mgmIP4 = \"123.203.3.3\"\n",
    "#mgmIP5 = \"123.204.4.4\"\n",
    "#mgmIP6 = \"123.20.1.3\"\n",
    "\n",
    "mgmIP1 = \"10.1.13.2\"\n",
    "mgmIP2 = \"123.1.1.1\"\n",
    "mgmIP3 = \"10.1.14.2\"\n",
    "mgmIP4 = \"123.203.3.200\"# no such device exist\n",
    "mgmIP5 = \"123.204.4.200\"# no such device exist\n",
    "mgmIP6 = \"123.20.1.200\"# no such device exist\n",
    "taskID = \"34124e63-31d6-dfad-f5fa-05ae0ebb4b49\"\n",
    "##OR##\n",
    "#taskName = \"testGDL_DT1\"\n",
    "\n",
    "body = {\n",
    "    \"seeds\" : \n",
    "        [\n",
    "            {\"mgmtIP\": mgmIP1},\n",
    "            {\"mgmtIP\": mgmIP2},\n",
    "            {\"mgmtIP\": mgmIP3},\n",
    "            {\"mgmtIP\": mgmIP4},\n",
    "            {\"mgmtIP\": mgmIP5},\n",
    "            {\"mgmtIP\": mgmIP6}\n",
    "        ]\n",
    "    }\n",
    " \n",
    "headers = {'Content-Type': 'application/json', 'Accept': 'application/json'}\n",
    "headers[\"Token\"]=token\n",
    "full_url= nb_url + \"/ServicesAPI/API//V1/CMDB/Discovery/Tasks/\"+str(taskID)+\"/Seeds\"\n",
    "\n",
    "try:\n",
    "    # Do the HTTP request\n",
    "    response = requests.post(full_url, data = json.dumps(body), headers=headers, verify=False)\n",
    "    # Check for HTTP codes other than 200\n",
    "    if response.status_code == 200:\n",
    "        # Decode the JSON response into a dictionary and use the data\n",
    "        result = response.json()\n",
    "        print (result)\n",
    "    else:\n",
    "        print(\"IP Add Failed - \" + str(response.text))\n",
    "    \n",
    "except Exception as e:\n",
    "    print (str(e)) \n"
   ]
  },
  {
   "cell_type": "code",
   "execution_count": null,
   "metadata": {},
   "outputs": [],
   "source": []
  }
 ],
 "metadata": {
  "kernelspec": {
   "display_name": "Python 3",
   "language": "python",
   "name": "python3"
  },
  "language_info": {
   "codemirror_mode": {
    "name": "ipython",
    "version": 3
   },
   "file_extension": ".py",
   "mimetype": "text/x-python",
   "name": "python",
   "nbconvert_exporter": "python",
   "pygments_lexer": "ipython3",
   "version": "3.7.1"
  }
 },
 "nbformat": 4,
 "nbformat_minor": 2
}
