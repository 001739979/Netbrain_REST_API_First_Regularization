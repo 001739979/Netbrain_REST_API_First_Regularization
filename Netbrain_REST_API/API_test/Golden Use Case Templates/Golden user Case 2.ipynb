{
 "cells": [
  {
   "cell_type": "markdown",
   "metadata": {},
   "source": [
    "# Sites and  devices in sites modification\n",
    "During this use case, we are going to focus on Site API. We will create multiple sites with different types and add some devices into one site, in the end we will delete all sites we have created.\n",
    "\n",
    "In this use case, we totally concern XXXX APIs, as shown below:\n",
    "\n",
    ">1) login API ([Step 1](#Step-1:-Calling-Login-API))<br>\n",
    ">2) specify_a_working_domain API ([Step 2](#Step-2:-Calling-Specify-A-Working-Domain-API))<br>\n",
    ">3) create_a_transaction API ([Step 3](#Step-3:-Calling-Create-Site-Transaction-API))<br>\n",
    ">4) site_transaction_heartbeat API ([Step 4](#Step-4:-Calling-Site-Transaction-Heartbeat-API))<br>\n",
    ">5) create_site API ([Step 5](#Step-5:-Calling-Create-Sites-API))<br>\n",
    ">6) create_a_leaf_site API ([Step 6](#Step-6:-Calling-Create-A-Leaf-Site-API))<br>\n",
    ">7) add_site_device API ([Step 7](#Step-7:-Calling-Add-Site-Devices-API))<br>\n",
    ">8) get_site_devices API ([Step 8](#Step-8:-Calling-get-site-devices-API))<br>\n",
    ">9) replace_site_devices API ([Step 9](#Step-9:-Calling-Replace-Site-Devices-API))<br>\n",
    ">10 delete_a_site API ([Step 10](#Step-10:-Calling-Delete-A-Site-API))<br>\n",
    ">11 commit_Site_Transaction API ([Step 11](#Step-11:-Calling-Commit-Site-Transaction-API))\n",
    "\n",
    "Same with use case 1, the sepuencial of APIs provided also present the step sequence of wokflow.\n",
    "\n"
   ]
  },
  {
   "cell_type": "markdown",
   "metadata": {},
   "source": [
    "## Step 0: import the corresponding modules in python and some fixed input parameters\n",
    "***Note:*** If users try to use this code. please remember to change the \"nb_url\" to users' own working url."
   ]
  },
  {
   "cell_type": "code",
   "execution_count": 88,
   "metadata": {},
   "outputs": [],
   "source": [
    "# import python modules \n",
    "import requests\n",
    "import time\n",
    "import urllib3\n",
    "import pprint\n",
    "#urllib3.disable_warnings(urllib3.exceptions.InsecureRequestWarning)\n",
    "import json\n",
    "\n",
    "nb_url = \"http://192.168.28.79\"\n",
    "headers = {'Content-Type': 'application/json', 'Accept': 'application/json'} \n",
    "TenantName = \"Initial Tenant\"\n",
    "DomainName = \"Support and Service\"\n",
    "username = \"gdluserTest\"\n",
    "password = \"123456\"\n",
    "tenantId = \"fb24f3f0-81a7-1929-4b8f-99106c23fa5b\"\n",
    "domainId = \"850ff5e9-c639-404d-85a3-d920dbee509c\""
   ]
  },
  {
   "cell_type": "markdown",
   "metadata": {},
   "source": [
    "## Step 1: Calling Login API\n",
    "In step 1, we calling the login API with \"username\" and \"password\" as inputs. As response we can get the authentication token as one fixed input in following APIs calling. If users get errors when calling this API please check the API documentation on [Github_login](https://github.com/Gongdai/Netbrain_REST_API_First_Regularization/blob/master/Netbrain_REST_API/API_test/STANDARD_formate_TEST1_LOGIN_API.ipynb) "
   ]
  },
  {
   "cell_type": "code",
   "execution_count": 89,
   "metadata": {},
   "outputs": [
    {
     "name": "stdout",
     "output_type": "stream",
     "text": [
      "639afa4a-0fb1-4005-b540-ad037ed131d9\n"
     ]
    }
   ],
   "source": [
    "body = {\n",
    "    \"username\" : username,      \n",
    "    \"password\" : password  \n",
    "}\n",
    "\n",
    "login_URL = nb_url + \"/ServicesAPI/API/V1/Session\"\n",
    "\n",
    "def login(login_URL, body, headers):\n",
    "    try:\n",
    "        # Do the HTTP request\n",
    "        response = requests.post(login_URL, headers=headers, data = json.dumps(body), verify=False)\n",
    "        # Check for HTTP codes other than 200\n",
    "        if response.status_code == 200:\n",
    "            # Decode the JSON response into a dictionary and use the data\n",
    "            js = response.json()\n",
    "            return (js[\"token\"])\n",
    "        else:\n",
    "            return (\"Get token failed! - \" + str(response.text))\n",
    "    except Exception as e:\n",
    "        return (str(e))\n",
    "    \n",
    "token = login(login_URL, body, headers)\n",
    "print(token) # print out the authentication token."
   ]
  },
  {
   "cell_type": "markdown",
   "metadata": {},
   "source": [
    "## Step 2: Calling Specify A Working Domain API\n",
    "After we running this step successfully, we directly complete the full login processes which means we totally join in Netbrain System by calling APIs(because we have record our tenantId and domainId，if users don't know the ID of corresponding tenant and domain please fully follow step 1 to step 4 in use case 1). Next step, we will start to use Netbrain functions formally. If users want to get more details about this API or get errors when calling this API please check the API documentation on [Github_domain](https://github.com/Gongdai/Netbrain_REST_API_First_Regularization/blob/master/Netbrain_REST_API/API_test/STANDARD_formate_Specify_a_domain_to_work_on_API_Test1%20.ipynb) "
   ]
  },
  {
   "cell_type": "code",
   "execution_count": 90,
   "metadata": {},
   "outputs": [
    {
     "name": "stdout",
     "output_type": "stream",
     "text": [
      "Working Domain Specified Successfully, with domainId: 850ff5e9-c639-404d-85a3-d920dbee509c\n"
     ]
    }
   ],
   "source": [
    "Specify_a_working_domain_url = nb_url + \"/ServicesAPI/API/V1/Session/CurrentDomain\"\n",
    "\n",
    "def specify_a_working_domain(tenantId, domainId, Specify_a_working_domain_url, headers, token):\n",
    "    headers[\"Token\"] = token\n",
    "    body = {\n",
    "        \"tenantId\": tenantId,\n",
    "        \"domainId\": domainId\n",
    "    }\n",
    "    \n",
    "    try:\n",
    "        # Do the HTTP request\n",
    "        response = requests.put(Specify_a_working_domain_url, data=json.dumps(body), headers=headers, verify=False)\n",
    "        # Check for HTTP codes other than 200\n",
    "        if response.status_code == 200:\n",
    "            # Decode the JSON response into a dictionary and use the data\n",
    "            result = response.json()\n",
    "            return (\"Working Domain Specified Successfully, with domainId: \" + domainId)\n",
    "            \n",
    "        elif response.status_code != 200:\n",
    "            return (\"Login failed! - \" + str(response.text))\n",
    "\n",
    "    except Exception as e: print (str(e))\n",
    "\n",
    "res =  specify_a_working_domain(tenantId, domainId, Specify_a_working_domain_url, headers, token)\n",
    "print (res)"
   ]
  },
  {
   "cell_type": "markdown",
   "metadata": {},
   "source": [
    "## Step 3: Calling Create Site Transaction API\n",
    "All site modification operations must be executed in a transaction. In another word, the user should create a transaction before starting any other site changes for example, create site, move devices.\n",
    "\n",
    "And also, after change site, the user should explicitly commit the operations .\n",
    "\n",
    "Note that a site transaction will lock the entire NetBrain system for site change operations. To prevent a system-wide dead lock due to client exception or negligence, if no follow-up operations or heartbeat sent within a 30 seconds time frame, another could invalidate this transaction, and create a new transaction which cannot used by the current session.\n",
    "\n",
    "Deleting a transaction could let the user to discard any site change operations since the beginning of a transaction, or called rollback.\n",
    "\n",
    "If users want to get more details about this API or get errors when calling this API please check the API documentation on[Github_site_transaction](https://github.com/Gongdai/Netbrain_REST_API_First_Regularization/blob/master/Netbrain_REST_API/API_test/Site%20API%20Design/STANDARD_formate_Create_a_Site_Transaction_API_Test.ipynb)"
   ]
  },
  {
   "cell_type": "code",
   "execution_count": 91,
   "metadata": {},
   "outputs": [
    {
     "name": "stdout",
     "output_type": "stream",
     "text": [
      "{'statusCode': 790200, 'statusDescription': 'Success.'}\n"
     ]
    }
   ],
   "source": [
    "create_a_transaction_URL = nb_url + \"/ServicesAPI/API/V1/CMDB/Sites/Transactions\"\n",
    "\n",
    "def create_a_transaction(create_a_transaction_URL, headers, token):\n",
    "    try:\n",
    "        response = requests.post(create_a_transaction_URL, headers = headers, verify = False)\n",
    "        if response.status_code == 200:\n",
    "            result = response.json()\n",
    "            print (result)\n",
    "        else:\n",
    "            print (\"Get User Report failed! - \" + str(response.text))\n",
    "\n",
    "    except Exception as e:\n",
    "        print (str(e)) \n",
    "\n",
    "result = create_a_transaction(create_a_transaction_URL, headers, token)\n",
    "result"
   ]
  },
  {
   "cell_type": "markdown",
   "metadata": {},
   "source": [
    "## Step 4: Calling Site Transaction Heartbeat API\n",
    "This API send a hearbeat signal to the server to keep a transaction alive.\n",
    "\n",
    "Failed to do so will cause transaction being disgarded by the system if no other site change operations sent to the server via the current session with the next 30 seconds."
   ]
  },
  {
   "cell_type": "code",
   "execution_count": 92,
   "metadata": {},
   "outputs": [
    {
     "name": "stdout",
     "output_type": "stream",
     "text": [
      "{'statusCode': 790200, 'statusDescription': 'Success.'}\n"
     ]
    }
   ],
   "source": [
    "site_transaction_heartbeat_URL = nb_url + \"/ServicesAPI/API/V1/CMDB/Sites/Transactions/Heartbeat\"\n",
    "\n",
    "def site_transaction_heartbeat(headers, token):\n",
    "    headers[\"Token\"] = token\n",
    "\n",
    "    try:\n",
    "        response = requests.post(site_transaction_heartbeat_URL, headers = headers, verify = False)\n",
    "        if response.status_code == 200:\n",
    "            result = response.json()\n",
    "            print (result)\n",
    "        else:\n",
    "            print (\"Get User Report failed! - \" + str(response.text))\n",
    "\n",
    "    except Exception as e:\n",
    "        print (str(e))\n",
    "        \n",
    "result = site_transaction_heartbeat(headers, token)\n",
    "result"
   ]
  },
  {
   "cell_type": "markdown",
   "metadata": {},
   "source": [
    "## Step 5: Calling Create Sites API\n",
    "After we create the transaction for sites modification, we are going to create a site as beginning using create site API. If users want to get more details about this API or get errors when calling this API please check the API documentation on [Github_create_site](https://github.com/Gongdai/Netbrain_REST_API_First_Regularization/blob/master/Netbrain_REST_API/API_test/Site%20API%20Design/STANDARD_formate_Create_Site_API_Test.ipynb)  \n",
    "\n",
    "Note that\n",
    "\n",
    "a) a new site will be created as a parent site if a site doesn't have its parent site in current system.\n",
    "\n",
    "b) this API will replace the ImportSiteTree in 7.0b\n",
    "\n",
    "c) this API call needs to be invoked in a site transaction."
   ]
  },
  {
   "cell_type": "code",
   "execution_count": 93,
   "metadata": {},
   "outputs": [
    {
     "name": "stdout",
     "output_type": "stream",
     "text": [
      "{'statusCode': 790200, 'statusDescription': 'Success.'}\n"
     ]
    }
   ],
   "source": [
    "create_site_URL = nb_url + \"/ServicesAPI/API/V1/CMDB/Sites\"\n",
    "\n",
    "sitePath1 = \"My Network/America\"\n",
    "isContainer1 = True\n",
    "\n",
    "sitePath2 = \"My Network/America/Burlington\"\n",
    "isContainer2 = False\n",
    "\n",
    "body = {\n",
    "   \"sites\": [\n",
    "                {\n",
    "                    \"sitePath\" : sitePath1,\n",
    "                    \"isContainer\": isContainer1\n",
    "                },\n",
    "                {\n",
    "                    \"sitePath\" : sitePath2,\n",
    "                    \"isContainer\": isContainer2\n",
    "                }\n",
    "            ]\n",
    "        }\n",
    "\n",
    "def create_site(create_site_URL, headers, token, body):\n",
    "    headers[\"Token\"] = token\n",
    "    try:\n",
    "        response = requests.post(create_site_URL, data = json.dumps(body), headers = headers, verify = False)\n",
    "        if response.status_code == 200:\n",
    "            result = response.json()\n",
    "            print (result)\n",
    "        else:\n",
    "            print (\"Site Created Failed! - \" + str(response.text))\n",
    "\n",
    "    except Exception as e:\n",
    "        print (str(e))\n",
    "        \n",
    "result = create_site(create_site_URL, headers, token, body)\n",
    "result"
   ]
  },
  {
   "cell_type": "markdown",
   "metadata": {},
   "source": [
    "## Step 6: Calling Create A Leaf Site API\n",
    "As shown in previous step, we have created two sites which as parent sites. Now we calling this API to create a container site. If one parent site doesn't exist in current system, create it before create its child site. If users want to get more details about this API or get errors when calling this API please check the API documentation on [Github_create_leaf_site](https://github.com/Gongdai/Netbrain_REST_API_First_Regularization/blob/master/Netbrain_REST_API/API_test/Site%20API%20Design/STANDARD_formate_Create_A_Leaf_Site_API_Test.ipynb)  "
   ]
  },
  {
   "cell_type": "code",
   "execution_count": 94,
   "metadata": {},
   "outputs": [
    {
     "name": "stdout",
     "output_type": "stream",
     "text": [
      "{'statusCode': 790200, 'statusDescription': 'Success.'}\n"
     ]
    }
   ],
   "source": [
    "create_a_leaf_site_URL = nb_url + \"/ServicesAPI/API/V1/CMDB/Sites/Leaf\"\n",
    "\n",
    "sitePath = \"My Network/America/Burlington/Netbrain\"\n",
    "\n",
    "body = {\n",
    "            \"sitePath\" : sitePath       \n",
    "        }\n",
    "\n",
    "def create_a_leaf_site(create_a_leaf_site_URL, headers, token, body):\n",
    "    try:\n",
    "        response = requests.post(create_a_leaf_site_URL, data = json.dumps(body), headers = headers, verify = False)\n",
    "        if response.status_code == 200:\n",
    "            result = response.json()\n",
    "            print (result)\n",
    "        else:\n",
    "            print (\"Leaf Site Created Failed! - \" + str(response.text))\n",
    "\n",
    "    except Exception as e:\n",
    "        print (str(e))\n",
    "        \n",
    "result = create_a_leaf_site(create_a_leaf_site_URL, headers, token, body)\n",
    "result"
   ]
  },
  {
   "cell_type": "markdown",
   "metadata": {},
   "source": [
    "## Step 7: Calling Add Site Devices API\n",
    "After we completely created all sites we need, during this step we will start to import devices into our sites. To implete this feature by calling this API to add devices to the site which specified by site path or Id. All devices will be marked as manually added type. If users want to get more details about this API or get errors when calling this API please check the API documentation on [Github_add_site_devices](https://github.com/Gongdai/Netbrain_REST_API_First_Regularization/blob/master/Netbrain_REST_API/API_test/Site%20API%20Design/STANDARD_formate_Add_Site_Devices_API_Test.ipynb)  "
   ]
  },
  {
   "cell_type": "code",
   "execution_count": 95,
   "metadata": {},
   "outputs": [
    {
     "name": "stdout",
     "output_type": "stream",
     "text": [
      "{'statusCode': 790200, 'statusDescription': 'Success.'}\n"
     ]
    }
   ],
   "source": [
    "add_site_device_URL = nb_url + \"/ServicesAPI/API/V1/CMDB/Sites/Devices\"\n",
    "\n",
    "sitePath = \"My Network/America/Burlington/Netbrain\"\n",
    "devices = [\"AS20001\", \"AS20002\", \"AS20003\", \"AS30000\"]\n",
    "\n",
    "body = {\n",
    "           \"sitePath\" : sitePath,\n",
    "           \"Devices\": devices\n",
    "        } \n",
    "\n",
    "def add_site_device(add_site_device_URL, headers, token, body):\n",
    "    headers[\"Token\"] = token\n",
    "    try:\n",
    "        response = requests.post(add_site_device_URL, data = json.dumps(body), headers = headers, verify = False)\n",
    "        if response.status_code == 200:\n",
    "            result = response.json()\n",
    "            print (result)\n",
    "        else:\n",
    "            print (\"Devices added Fail! - \" + str(response.text))\n",
    "\n",
    "    except Exception as e:\n",
    "        print (str(e))\n",
    "        \n",
    "result = add_site_device(add_site_device_URL, headers, token, body)\n",
    "result"
   ]
  },
  {
   "cell_type": "markdown",
   "metadata": {},
   "source": [
    "And we added two devices lists to two created sites respectively. In this step, we totally concern two parts, first part we add four devices in site with site path: \"My Network/America/Burlington/Netbrain\", second part we also add four devices (which are different with first part) to another site with site path: \"My Network/America\"."
   ]
  },
  {
   "cell_type": "code",
   "execution_count": 96,
   "metadata": {},
   "outputs": [
    {
     "name": "stdout",
     "output_type": "stream",
     "text": [
      "Devices added Fail! - {\"statusCode\":791006,\"statusDescription\":\"leaf site 6397dc66-429e-4e32-a5f1-0e3d3b72ba7e does not exist.\"}\n"
     ]
    }
   ],
   "source": [
    "sitePath1 = \"My Network/America\"\n",
    "devices1 = [\"R1\", \"R10\", \"R11\", \"R10\"]\n",
    "\n",
    "body1 = {\n",
    "           \"sitePath\" : sitePath1,\n",
    "           \"Devices\": devices1\n",
    "        } \n",
    "\n",
    "result1 = add_site_device(add_site_device_URL, headers, token, body1)\n",
    "result1"
   ]
  },
  {
   "cell_type": "markdown",
   "metadata": {},
   "source": [
    "## Step 8: Calling get site devices API\n",
    "After we running Step 7 successfully, in order to confirm we added the devices correctly to each site, we wish to call this API to output the detail information of each site. Calling this API to get all devices belong to the site specified by site name.\n",
    "Note that the siteID must be a leaf site ID, error would return if the parameter is root site or a container site. If users want to get more details about this API or get errors when calling this API please check the API documentation on [Github_get_site_devices](https://github.com/Gongdai/Netbrain_REST_API_First_Regularization/blob/master/Netbrain_REST_API/API_test/Site%20API%20Design/STANDARD_formate_Get_Site_Devices_API_Test.ipynb)  "
   ]
  },
  {
   "cell_type": "code",
   "execution_count": 97,
   "metadata": {},
   "outputs": [
    {
     "name": "stdout",
     "output_type": "stream",
     "text": [
      "[{'id': '71e07730-1247-4f5f-acbc-2b3428f8d0cf', 'mgmtIP': '10.18.19.18', 'hostname': 'R18'}]\n"
     ]
    }
   ],
   "source": [
    "get_site_devices_URL = nb_url + \"/ServicesAPI/API/V1/CMDB/Sites/Devices\"\n",
    "\n",
    "sitePath = \"My Network/ASIA\"\n",
    "\n",
    "data = {\n",
    "           \"sitePath\" : sitePath\n",
    "            # \"sitId\" : sitId\n",
    "     }    \n",
    "\n",
    "def get_site_devices(get_site_devices_URL, headers, token, data):\n",
    "    headers[\"Token\"] = token\n",
    "    try:\n",
    "        response = requests.get(get_site_devices_URL, params = data, headers = headers, verify = False)\n",
    "        if response.status_code == 200:\n",
    "            result = response.json()[\"devices\"]\n",
    "            print (result)\n",
    "        else:\n",
    "            print (\"Get Site Devices Failed! - \" + str(response.text))\n",
    "\n",
    "    except Exception as e:\n",
    "        print (str(e))\n",
    "        \n",
    "result = get_site_devices(get_site_devices_URL, headers, token, data)\n",
    "result"
   ]
  },
  {
   "cell_type": "code",
   "execution_count": 98,
   "metadata": {},
   "outputs": [
    {
     "name": "stdout",
     "output_type": "stream",
     "text": [
      "[{'id': '1d48d218-06cf-4657-af2c-39796946122b', 'mgmtIP': '123.10.1.1', 'hostname': 'R4'}, {'id': '497b25bd-1f8c-4bfa-80be-49ab692ce4d4', 'mgmtIP': '123.10.1.10', 'hostname': 'R3'}, {'id': '5c3d72d6-d0f2-41f4-8b1e-5762dff6e55a', 'mgmtIP': '123.10.1.22', 'hostname': 'R6'}, {'id': '6d62e420-af59-4ee3-948d-54df60fe05ca', 'mgmtIP': '123.10.1.6', 'hostname': 'R5'}, {'id': '81229708-571a-419a-a10d-9481661718a4', 'mgmtIP': '123.10.1.2', 'hostname': 'R1'}, {'id': 'a8652884-7701-5e84-b4d8-cc03652490e5', 'hostname': 'ISP'}, {'id': 'b98f107a-622e-4985-8f95-f5b541f699f3', 'mgmtIP': '123.7.7.7', 'hostname': 'R7'}, {'id': 'f190b385-676f-4579-ad6d-700122a21caf', 'mgmtIP': '123.10.1.17', 'hostname': 'R2'}]\n"
     ]
    }
   ],
   "source": [
    "sitePath1 = \"My Network/MPLS Core\"\n",
    "\n",
    "data1 = {\n",
    "           \"sitePath\" : sitePath1\n",
    "            # \"sitId\" : sitId\n",
    "     }\n",
    "\n",
    "result1 = get_site_devices(get_site_devices_URL, headers, token, data1)\n",
    "#print(str(len(result1)))\n",
    "result1\n"
   ]
  },
  {
   "cell_type": "markdown",
   "metadata": {},
   "source": [
    "## Step 9: Calling Replace Site Devices API\n",
    "In this step we focus on change the devices group in one site, calling this API to remove all existing devices from the site which specified by site name or site Id and add new devices provided in the devices parameter at meanwhile. If users want to get more details about this API or get errors when calling this API please check the API documentation on [Github_replace_site_devices](https://github.com/Gongdai/Netbrain_REST_API_First_Regularization/blob/master/Netbrain_REST_API/API_test/Site%20API%20Design/STANDARD_formate_Replace_Site_Devices_API_Test.ipynb)  "
   ]
  },
  {
   "cell_type": "code",
   "execution_count": 99,
   "metadata": {},
   "outputs": [
    {
     "name": "stdout",
     "output_type": "stream",
     "text": [
      "{'statusCode': 790200, 'statusDescription': 'Success.'}\n"
     ]
    }
   ],
   "source": [
    "replace_site_devices_URL = nb_url + \"/ServicesAPI/API/V1/CMDB/Sites/Devices\"\n",
    "\n",
    "sitePath = \"My Network/MPLS Core\"\n",
    "\n",
    "devices = [\"R1\", \"R10\", \"R11\", \"R12\"]\n",
    "#devicesOri = [\"R4\", \"R3\", \"R6\", \"R5\", \"R1\", \"ISP\", \"R7\", \"R2\"]\n",
    "\n",
    "body = {\n",
    "           \"sitePath\" : sitePath,\n",
    "           \"Devices\": devices\n",
    "    }   \n",
    "\n",
    "def replace_site_devices(replace_site_devices_URL, headers, token, body):\n",
    "    headers[\"Token\"] = token\n",
    "    try:\n",
    "        response = requests.put(replace_site_devices_URL, data = json.dumps(body), headers = headers, verify = False)\n",
    "        if response.status_code == 200:\n",
    "            result = response.json()\n",
    "            print (result)\n",
    "        else:\n",
    "            print (\"Devices added Fail! - \" + str(response.text))\n",
    "\n",
    "    except Exception as e:\n",
    "        print (str(e))\n",
    "        \n",
    "result = replace_site_devices(replace_site_devices_URL, headers, token, body)\n",
    "result"
   ]
  },
  {
   "cell_type": "markdown",
   "metadata": {},
   "source": [
    "## Step 10: Calling Delete A Site API\n",
    "Now we coming to the final part of this use case. After we created sites and add devices to sites successfully, the next step is delete the unuseful sites from Netbrain System. In this step we calling Delete A Site API to delete one specified site by site ID or site path. If the site is a container site(parent site), all child sites will be deleted at same time. If users want to get more details about this API or get errors when calling this API please check the API documentation on [Github_delete_site](https://github.com/Gongdai/Netbrain_REST_API_First_Regularization/blob/master/Netbrain_REST_API/API_test/Site%20API%20Design/STANDARD_formate_Delete_A_Site_API_Test.ipynb)"
   ]
  },
  {
   "cell_type": "code",
   "execution_count": 100,
   "metadata": {},
   "outputs": [
    {
     "name": "stdout",
     "output_type": "stream",
     "text": [
      "Site Created Failed! - {\"statusCode\":791006,\"statusDescription\":\"site with path My Network/America/malden does not exist.\"}\n"
     ]
    }
   ],
   "source": [
    "delete_a_site_URL = nb_url + \"/ServicesAPI/API/V1/CMDB/Sites\"\n",
    "\n",
    "sitePath = \"My Network/America/malden\"\n",
    "data = {\n",
    "           \"sitePath\" : sitePath\n",
    "        }\n",
    "\n",
    "def delete_a_site(delete_a_site_URL, headers, token, data):\n",
    "    try:\n",
    "        response = requests.delete(delete_a_site_URL, params = data, headers = headers, verify = False)\n",
    "        #response = requests.delete(full_url, headers = headers, verify = False)\n",
    "        if response.status_code == 200:\n",
    "            result = response.json()\n",
    "            print (result)\n",
    "        else:\n",
    "            print (\"Site Created Failed! - \" + str(response.text))\n",
    "\n",
    "    except Exception as e:\n",
    "        print (str(e)) \n",
    "        \n",
    "result = delete_a_site(delete_a_site_URL, headers, token, data)\n",
    "result"
   ]
  },
  {
   "cell_type": "markdown",
   "metadata": {},
   "source": [
    "Delete another unuseful site with site path: \"My Network/America/Burlington\""
   ]
  },
  {
   "cell_type": "code",
   "execution_count": 101,
   "metadata": {},
   "outputs": [
    {
     "name": "stdout",
     "output_type": "stream",
     "text": [
      "{'statusCode': 790200, 'statusDescription': 'Success.'}\n"
     ]
    }
   ],
   "source": [
    "sitePath1 = \"My Network/America/Burlington\"\n",
    "data1 = {\n",
    "           \"sitePath\" : sitePath1\n",
    "        }\n",
    "result1 = delete_a_site(delete_a_site_URL, headers, token, data1)\n",
    "result1"
   ]
  },
  {
   "cell_type": "markdown",
   "metadata": {},
   "source": [
    "## Step 11: Calling Commit Site Transaction API\n",
    "Actually this step should be considered the final step of the whole use case. For all previous steps, we were modify system sites architecture but all can be seen as pending process. If we want to update all changing to whole structure, we have to commit site transactions. In other word, everytime users create a transaction to modify sites, in the end the commit site transaction API must be called to update the entire workflow. If users want to get more details about this API or get errors when calling this API please check the API documentation on [Github_commit_transaction](https://github.com/Gongdai/Netbrain_REST_API_First_Regularization/blob/master/Netbrain_REST_API/API_test/Site%20API%20Design/STANDARD_formate_Commit_Site_Transaction_API_Test.ipynb)"
   ]
  },
  {
   "cell_type": "code",
   "execution_count": 102,
   "metadata": {},
   "outputs": [
    {
     "name": "stdout",
     "output_type": "stream",
     "text": [
      "{'statusCode': 790200, 'statusDescription': 'Success.'}\n"
     ]
    }
   ],
   "source": [
    "rebuildSite = False\n",
    "\n",
    "body = {\"rebuildSite\" : rebuildSite}\n",
    "\n",
    "commit_Site_Transaction_URL = nb_url + \"/ServicesAPI/API/V1/CMDB/Sites/Transactions\"\n",
    "\n",
    "def commit_Site_Transaction(commit_Site_Transactio_URL, headers, token, rebuildSite):\n",
    "    headers[\"Token\"] = token\n",
    "    try:\n",
    "        response = requests.post(commit_Site_Transactio_URL, data = json.dumps(body), headers = headers, verify = False)\n",
    "        if response.status_code == 200:\n",
    "            result = response.json()\n",
    "            print (result)\n",
    "        else:\n",
    "            print (\"Site commit Failed! - \" + str(response.text))\n",
    "\n",
    "    except Exception as e:\n",
    "        print (str(e))\n",
    "        \n",
    "result = commit_Site_Transactio(commit_Site_Transactio_URL, headers, token, rebuildSite)\n",
    "result"
   ]
  },
  {
   "cell_type": "markdown",
   "metadata": {},
   "source": [
    "## Logout Netbrain System by calling logout API"
   ]
  },
  {
   "cell_type": "code",
   "execution_count": 103,
   "metadata": {},
   "outputs": [
    {
     "data": {
      "text/plain": [
       "{'statusCode': 790200, 'statusDescription': 'Success.'}"
      ]
     },
     "execution_count": 103,
     "metadata": {},
     "output_type": "execute_result"
    }
   ],
   "source": [
    "Logout_url = nb_url + \"/ServicesAPI/API/V1/Session\"\n",
    "\n",
    "def logout(Logout_url, token, headers):\n",
    "    headers[\"token\"] = token\n",
    "    \n",
    "    try:\n",
    "        # Do the HTTP request\n",
    "        response = requests.delete(Logout_url, headers=headers, verify=False)\n",
    "        # Check for HTTP codes other than 200\n",
    "        if response.status_code == 200:\n",
    "            # Decode the JSON response into a dictionary and use the data\n",
    "            js = response.json()\n",
    "            return (js)\n",
    "        else:\n",
    "            return (\"Session logout failed! - \" + str(response.text))\n",
    "\n",
    "    except Exception as e:\n",
    "        return (str(e))\n",
    "\n",
    "logout = logout(Logout_url, token, headers)\n",
    "logout"
   ]
  },
  {
   "cell_type": "markdown",
   "metadata": {},
   "source": [
    "# Referance:\n",
    "> 1) login API:\n",
    "https://github.com/Gongdai/Netbrain_REST_API_First_Regularization/blob/master/Netbrain_REST_API/API_test/STANDARD_formate_TEST1_LOGIN_API.ipynb<br> \n",
    "> 2) specify_a_working_domain API: \n",
    "https://github.com/Gongdai/Netbrain_REST_API_First_Regularization/blob/master/Netbrain_REST_API/API_test/STANDARD_formate_Specify_a_domain_to_work_on_API_Test1%20.ipynb<br>\n",
    ">3) create_a_transaction API:\n",
    "https://github.com/Gongdai/Netbrain_REST_API_First_Regularization/blob/master/Netbrain_REST_API/API_test/Site%20API%20Design/STANDARD_formate_Create_a_Site_Transaction_API_Test.ipynb<br>\n",
    ">4) site_transaction_heartbeat API:\n",
    "https://github.com/Gongdai/Netbrain_REST_API_First_Regularization/blob/master/Netbrain_REST_API/API_test/Site%20API%20Design/STANDARD_formate_Site_Transaction_Heartbeat_API_Test.ipynb<br>\n",
    ">5) create_site API:\n",
    "https://github.com/Gongdai/Netbrain_REST_API_First_Regularization/blob/master/Netbrain_REST_API/API_test/Site%20API%20Design/STANDARD_formate_Create_Site_API_Test.ipynb<br>\n",
    ">6) create_a_leaf_site API:\n",
    "https://github.com/Gongdai/Netbrain_REST_API_First_Regularization/blob/master/Netbrain_REST_API/API_test/Site%20API%20Design/STANDARD_formate_Create_A_Leaf_Site_API_Test.ipynb<br>\n",
    ">7) add_site_device API:\n",
    "https://github.com/Gongdai/Netbrain_REST_API_First_Regularization/blob/master/Netbrain_REST_API/API_test/Site%20API%20Design/STANDARD_formate_Add_Site_Devices_API_Test.ipynb<br>\n",
    ">8) get_site_devices API:\n",
    "https://github.com/Gongdai/Netbrain_REST_API_First_Regularization/blob/master/Netbrain_REST_API/API_test/Site%20API%20Design/STANDARD_formate_Get_Site_Devices_API_Test.ipynb<br>\n",
    ">9) replace_site_devices API:\n",
    "https://github.com/Gongdai/Netbrain_REST_API_First_Regularization/blob/master/Netbrain_REST_API/API_test/Site%20API%20Design/STANDARD_formate_Replace_Site_Devices_API_Test.ipynb<br>\n",
    ">10 delete_a_site API:\n",
    "https://github.com/Gongdai/Netbrain_REST_API_First_Regularization/blob/master/Netbrain_REST_API/API_test/Site%20API%20Design/STANDARD_formate_Delete_A_Site_API_Test.ipynb<br>\n",
    ">11 commit_Site_Transaction API:\n",
    "https://github.com/Gongdai/Netbrain_REST_API_First_Regularization/blob/master/Netbrain_REST_API/API_test/Site%20API%20Design/STANDARD_formate_Commit_Site_Transaction_API_Test.ipynb"
   ]
  },
  {
   "cell_type": "code",
   "execution_count": null,
   "metadata": {},
   "outputs": [],
   "source": []
  }
 ],
 "metadata": {
  "kernelspec": {
   "display_name": "Python 3",
   "language": "python",
   "name": "python3"
  },
  "language_info": {
   "codemirror_mode": {
    "name": "ipython",
    "version": 3
   },
   "file_extension": ".py",
   "mimetype": "text/x-python",
   "name": "python",
   "nbconvert_exporter": "python",
   "pygments_lexer": "ipython3",
   "version": "3.7.1"
  }
 },
 "nbformat": 4,
 "nbformat_minor": 2
}
