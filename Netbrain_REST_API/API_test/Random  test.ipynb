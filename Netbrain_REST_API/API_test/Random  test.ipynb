{
 "cells": [
  {
   "cell_type": "code",
   "execution_count": 11,
   "metadata": {},
   "outputs": [
    {
     "data": {
      "text/plain": [
       "{'tenants': [{'tenantId': 'fb24f3f0-81a7-1929-4b8f-99106c23fa5b',\n",
       "   'tenantName': 'Initial Tenant'}],\n",
       " 'statusCode': 790200,\n",
       " 'statusDescription': 'Success.'}"
      ]
     },
     "execution_count": 11,
     "metadata": {},
     "output_type": "execute_result"
    }
   ],
   "source": [
    "# import python modules \n",
    "import json\n",
    "import requests\n",
    "import time\n",
    "import urllib3\n",
    "import pprint\n",
    "urllib3.disable_warnings(urllib3.exceptions.InsecureRequestWarning)\n",
    "\n",
    "token = \"9754243a-259c-4656-9f17-a8d1033416c1\"\n",
    "nb_url = \"http://192.168.28.79\"  \n",
    "\n",
    "def getTenants(nb_url, token):\n",
    "    full_url = nb_url + \"/ServicesAPI/API/V1/CMDB/Tenants\"\n",
    "    # Set proper headers\n",
    "    headers = {'Content-Type': 'application/json', 'Accept': 'application/json'}\n",
    "    headers[\"Token\"]=token\n",
    "    try:\n",
    "        # Do the HTTP request\n",
    "        response = requests.get(full_url, headers=headers, verify=False)\n",
    "        # Check for HTTP codes other than 200\n",
    "        if response.status_code == 200:\n",
    "            # Decode the JSON response into a dictionary and use the data\n",
    "            result = response.json()\n",
    "            return (result)\n",
    "        else:\n",
    "            return (\"Get tenants failed! - \" + str(response.text))\n",
    "    except Exception as e: return (str(e))\n",
    "\n",
    "allT = getTenants(nb_url, token)\n",
    "allT"
   ]
  },
  {
   "cell_type": "code",
   "execution_count": 12,
   "metadata": {},
   "outputs": [
    {
     "data": {
      "text/plain": [
       "{'tenants': [{'tenantId': 'fb24f3f0-81a7-1929-4b8f-99106c23fa5b',\n",
       "   'tenantName': 'Initial Tenant'}],\n",
       " 'statusCode': 790200,\n",
       " 'statusDescription': 'Success.'}"
      ]
     },
     "execution_count": 12,
     "metadata": {},
     "output_type": "execute_result"
    }
   ],
   "source": [
    "token = \"d7163e3c-ba2d-467c-8718-92e96eb66d43\"\n",
    "nb_url = \"http://192.168.28.79\"  \n",
    "\n",
    "def getTenants(nb_url, token):\n",
    "    full_url = nb_url + \"/ServicesAPI/API/V1/CMDB/Tenants\"\n",
    "    # Set proper headers\n",
    "    headers = {'Content-Type': 'application/json', 'Accept': 'application/json'}\n",
    "    headers[\"Token\"]=token\n",
    "    try:\n",
    "        # Do the HTTP request\n",
    "        response = requests.get(full_url, headers=headers, verify=False)\n",
    "        # Check for HTTP codes other than 200\n",
    "        if response.status_code == 200:\n",
    "            # Decode the JSON response into a dictionary and use the data\n",
    "            result = response.json()\n",
    "            return (result)\n",
    "        else:\n",
    "            return (\"Get tenants failed! - \" + str(response.text))\n",
    "    except Exception as e: return (str(e))\n",
    "\n",
    "allT = getTenants(nb_url, token)\n",
    "allT"
   ]
  },
  {
   "cell_type": "code",
   "execution_count": 13,
   "metadata": {},
   "outputs": [
    {
     "data": {
      "text/plain": [
       "{'tenants': [{'tenantId': 'fb24f3f0-81a7-1929-4b8f-99106c23fa5b',\n",
       "   'tenantName': 'Initial Tenant'}],\n",
       " 'statusCode': 790200,\n",
       " 'statusDescription': 'Success.'}"
      ]
     },
     "execution_count": 13,
     "metadata": {},
     "output_type": "execute_result"
    }
   ],
   "source": [
    "token = \"d7163e3c-ba2d-467c-8718-92e96eb66d43\"\n",
    "nb_url = \"http://192.168.28.79\"  \n",
    "\n",
    "def getTenants(nb_url, token):\n",
    "    full_url = nb_url + \"/ServicesAPI/API/V1/CMDB/Tenants\"\n",
    "    # Set proper headers\n",
    "    headers = {'Content-Type': 'application/json', 'Accept': 'application/json'}\n",
    "    headers[\"Token\"]=token\n",
    "    try:\n",
    "        # Do the HTTP request\n",
    "        response = requests.get(full_url, headers=headers, verify=False)\n",
    "        # Check for HTTP codes other than 200\n",
    "        if response.status_code == 200:\n",
    "            # Decode the JSON response into a dictionary and use the data\n",
    "            result = response.json()\n",
    "            return (result)\n",
    "        else:\n",
    "            return (\"Get tenants failed! - \" + str(response.text))\n",
    "    except Exception as e: return (str(e))\n",
    "\n",
    "allT = getTenants(nb_url, token)\n",
    "allT"
   ]
  },
  {
   "cell_type": "code",
   "execution_count": 15,
   "metadata": {},
   "outputs": [
    {
     "name": "stdout",
     "output_type": "stream",
     "text": [
      "Login failed! - {\"statusCode\":791000,\"statusDescription\":\"Null parameter: the parameter 'tenantId' cannot be null.\"}\n"
     ]
    }
   ],
   "source": [
    "import json\n",
    "# Set the request parameters\n",
    "token = \"da156027-0453-4ac4-bcfa-7b0b870b82cc\"\n",
    "nb_url = \"http://192.168.28.79\"\n",
    "#tenantId = \"fb24f3f0-81a7-1929-4b8f-99106c23fa5b\"\n",
    "#domainId = \"0201adc4-ae96-46f0-ae3d-01cdba9e41d6\"#fixed\n",
    "tenantId = \"\"\n",
    "domainId = \"\"#fixed\n",
    "# Login selected domain\n",
    "def loginDomain(nb_url, token, tenantId, domainId):\n",
    "    full_url = nb_url + \"/ServicesAPI/API/V1/Session/CurrentDomain\"\n",
    "    # Set proper headers\n",
    "    headers = {'Content-Type': 'application/json', 'Accept': 'application/json'}\n",
    "    headers[\"Token\"]=token\n",
    "    body = {\n",
    "            \"tenantId\": tenantId,\n",
    "            \"domainId\": domainId\n",
    "        }\n",
    "    try:\n",
    "        # Do the HTTP request\n",
    "        response = requests.put(full_url, data=json.dumps(body), headers=headers, verify=False)\n",
    "        # Check for HTTP codes other than 200\n",
    "        if response.status_code == 200:\n",
    "            # Decode the JSON response into a dictionary and use the data\n",
    "            result = response.json()\n",
    "            return (result)\n",
    "        elif response.status_code != 200:\n",
    "            return (\"Login failed! - \" + str(response.text))\n",
    "    except Exception as e: return (str(e))\n",
    "\n",
    "result = loginDomain(nb_url, token, tenantId, domainId)\n",
    "print(result)# print out the login result of one particular domain. "
   ]
  },
  {
   "cell_type": "code",
   "execution_count": null,
   "metadata": {},
   "outputs": [],
   "source": []
  }
 ],
 "metadata": {
  "kernelspec": {
   "display_name": "Python 3",
   "language": "python",
   "name": "python3"
  },
  "language_info": {
   "codemirror_mode": {
    "name": "ipython",
    "version": 3
   },
   "file_extension": ".py",
   "mimetype": "text/x-python",
   "name": "python",
   "nbconvert_exporter": "python",
   "pygments_lexer": "ipython3",
   "version": "3.7.1"
  }
 },
 "nbformat": 4,
 "nbformat_minor": 2
}
