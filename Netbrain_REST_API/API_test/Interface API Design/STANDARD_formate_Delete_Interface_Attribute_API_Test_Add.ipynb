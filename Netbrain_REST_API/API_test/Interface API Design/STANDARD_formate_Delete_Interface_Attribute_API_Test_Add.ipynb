{
 "cells": [
  {
   "cell_type": "code",
   "execution_count": 13,
   "metadata": {},
   "outputs": [
    {
     "name": "stdout",
     "output_type": "stream",
     "text": [
      "Delete interface attribute failed! - {\"statusCode\":791006,\"statusDescription\":\"attribute newAtt1111 does not exist.\"}\n"
     ]
    }
   ],
   "source": [
    "# import python modules \n",
    "import requests\n",
    "import time\n",
    "import urllib3\n",
    "import pprint\n",
    "import json\n",
    "urllib3.disable_warnings(urllib3.exceptions.InsecureRequestWarning)\n",
    "\n",
    "# Set the request inputs\n",
    "token = \"b56ed962-8ccd-4b2d-a7c1-7d97fff51321\"\n",
    "nb_url = \"http://192.168.28.79\"\n",
    "headers = {'Content-Type': 'application/json', 'Accept': 'application/json'}\n",
    "headers[\"Token\"] = token\n",
    "full_url = nb_url + \"/ServicesAPI/API/V1/CMDB/Interfaces/Attributes\"\n",
    "\n",
    "#interfaceType = \"ipIntfs\"\n",
    "#attributeName = \"newAtt\"\n",
    "\n",
    "interfaceType = \"ipIntfshahahah\"\n",
    "attributeName = \"newAtt1111\"\n",
    "\n",
    "data = {\n",
    "        \"interfaceType\":interfaceType, \n",
    "        \"attributeName\":attributeName\n",
    "    }\n",
    "\n",
    "try:\n",
    "    response = requests.delete(full_url, params=data, headers=headers, verify=False)\n",
    "    if response.status_code == 200:\n",
    "        result = response.json()\n",
    "        print (result)\n",
    "    else:\n",
    "        print (\"Delete interface attribute failed! - \" + str(response.text))\n",
    "    \n",
    "except Exception as e:\n",
    "    print (str(e))  "
   ]
  },
  {
   "cell_type": "code",
   "execution_count": null,
   "metadata": {},
   "outputs": [],
   "source": [
    "Delete interface attribute failed! - {\"statusCode\":791006,\"statusDescription\":\"attribute newAtt does not exist.\"}"
   ]
  }
 ],
 "metadata": {
  "kernelspec": {
   "display_name": "Python 3",
   "language": "python",
   "name": "python3"
  },
  "language_info": {
   "codemirror_mode": {
    "name": "ipython",
    "version": 3
   },
   "file_extension": ".py",
   "mimetype": "text/x-python",
   "name": "python",
   "nbconvert_exporter": "python",
   "pygments_lexer": "ipython3",
   "version": "3.7.1"
  }
 },
 "nbformat": 4,
 "nbformat_minor": 2
}
