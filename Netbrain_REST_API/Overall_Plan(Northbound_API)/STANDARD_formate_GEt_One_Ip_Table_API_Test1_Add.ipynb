{
 "cells": [
  {
   "cell_type": "code",
   "execution_count": 49,
   "metadata": {
    "scrolled": false
   },
   "outputs": [
    {
     "name": "stdout",
     "output_type": "stream",
     "text": [
      "0\n",
      "{'OneIPList': [], 'statusCode': 790200, 'statusDescription': 'Success.'}\n"
     ]
    }
   ],
   "source": [
    "# import python modules \n",
    "import requests\n",
    "import time\n",
    "import urllib3\n",
    "import pprint\n",
    "import json\n",
    "urllib3.disable_warnings(urllib3.exceptions.InsecureRequestWarning)\n",
    "\n",
    "# Set the request inputs\n",
    "token = \"220d6462-ba64-4058-83cb-affb2d55de78\"\n",
    "nb_url = \"http://192.168.28.79\"\n",
    "full_url = nb_url + \"/ServicesAPI/API/V1/CMDB/Topology/OneIPTable\"\n",
    "headers = {'Content-Type': 'application/json', 'Accept': 'application/json'}\n",
    "headers[\"Token\"] = token\n",
    "\n",
    "'''ip = \"123.20.1.11\"\n",
    "beginIndex = 0\n",
    "count = 5'''\n",
    "\n",
    "ip = \"\"\n",
    "count = \"1000\"\n",
    "beginIndex = \"500\"\n",
    "\n",
    "data = {\n",
    "    \"ip\" : ip,\n",
    "    \"beginIndex\" : beginIndex,\n",
    "    \"count\" : count\n",
    "}\n",
    "\n",
    "S = set()\n",
    "try:\n",
    "    response = requests.get(full_url, params = data, headers = headers, verify = False)\n",
    "    if response.status_code == 200:\n",
    "        result = response.json()\n",
    "        iplist = result[\"OneIPList\"]\n",
    "        length = len(iplist)\n",
    "        '''for i in range(length):\n",
    "            S.add(iplist[i][\"ip\"])\n",
    "            print(i)\n",
    "            print(iplist[i][\"ip\"])\n",
    "            print(\"#################################################################################################\")'''\n",
    "        print(len(S))\n",
    "        print(result)\n",
    "    else:\n",
    "        print (\"Get One-Ip Table failed! - \" + str(response.text))\n",
    "    \n",
    "except Exception as e:\n",
    "    print (str(e))  \n"
   ]
  },
  {
   "cell_type": "code",
   "execution_count": null,
   "metadata": {},
   "outputs": [],
   "source": [
    "Get One-Ip Table failed! - \n",
    "{\"statusCode\":791000,\"statusDescription\":\"Null parameter: the parameter 'BeginIndex(int)' cannot be null.\"}\n",
    "\n",
    "Get One-Ip Table failed! - \n",
    "{\"statusCode\":791000,\"statusDescription\":\"Null parameter: the parameter 'Count(int)' cannot be null.\"}\n",
    "\n",
    "Get One-Ip Table failed! - {\"statusCode\":791002,\"statusDescription\":\"Invalid value\"}"
   ]
  }
 ],
 "metadata": {
  "kernelspec": {
   "display_name": "Python 3",
   "language": "python",
   "name": "python3"
  },
  "language_info": {
   "codemirror_mode": {
    "name": "ipython",
    "version": 3
   },
   "file_extension": ".py",
   "mimetype": "text/x-python",
   "name": "python",
   "nbconvert_exporter": "python",
   "pygments_lexer": "ipython3",
   "version": "3.7.1"
  }
 },
 "nbformat": 4,
 "nbformat_minor": 2
}
