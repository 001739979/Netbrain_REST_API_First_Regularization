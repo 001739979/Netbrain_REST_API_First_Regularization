{
 "cells": [
  {
   "cell_type": "markdown",
   "metadata": {},
   "source": [
    "# DataEngine API Design"
   ]
  },
  {
   "cell_type": "markdown",
   "metadata": {},
   "source": [
    "## ***GET*** /V1/CMDB/DataEngine/DeviceData/Configuration/{?hostname}\n",
    "Calling this API to get the configuration of a device.\n",
    "\n",
    "* ## Detail Information\n",
    "\n",
    "> **Title** : Get Device Configuration API<br>\n",
    "\n",
    "> **Version** : 02/06/2019.\n",
    "\n",
    "> **API Server URL** : http(s):// IP address of your NetBrain Web API Server /ServicesAPI/API/V1/CMDB/DataEngine/DeviceData/Configuration\n",
    "\n",
    "> **Authentication** : \n",
    "\n",
    ">|**Type**|**In**|**Name**|\n",
    "|------|------|------|\n",
    "|<img width=100/>|<img width=100/>|<img width=500/>|\n",
    "|Bearer Authentication| Parameters | Authentication token | \n",
    "\n",
    "* ## Request body(****required***)\n",
    "\n",
    ">No request body.\n",
    "\n",
    "* ## Query Parameters(****required***)\n",
    "\n",
    "> |**Name**|**Type**|**Description**|\n",
    "|------|------|------|\n",
    "|<img width=100/>|<img width=100/>|<img width=500/>|\n",
    "| hostname* | string  | The name of a device. |\n",
    "\n",
    "* ## Headers\n",
    "\n",
    "> **Data Format Headers**\n",
    "\n",
    "> |**Name**|**Type**|**Description**|\n",
    "|------|------|------|\n",
    "|<img width=100/>|<img width=100/>|<img width=500/>|\n",
    "| Content-Type | string  | support \"application/json\" |\n",
    "| Accept | string  | support \"application/json\" |\n",
    "\n",
    "> **Authorization Headers**\n",
    "\n",
    ">|**Name**|**Type**|**Description**|\n",
    "|------|------|------|\n",
    "|<img width=100/>|<img width=100/>|<img width=500/>|\n",
    "| token* | string  | Authentication token, get from login API. |\n",
    "\n",
    "* ## Response\n",
    "\n",
    ">|**Name**|**Type**|**Description**|\n",
    "|------|------|------|\n",
    "|<img width=100/>|<img width=100/>|<img width=500/>|\n",
    "|configuration| string | Full configuration context of the device.  |\n",
    "|time| DataTime | The last update time of the device configuration. |\n",
    "|statusCode| integer | Code issued by NetBrain server indicating the execution result.  |\n",
    "|statusDescription| string | The explanation of the status code. |\n",
    "\n",
    "> ***Example***"
   ]
  },
  {
   "cell_type": "code",
   "execution_count": null,
   "metadata": {},
   "outputs": [],
   "source": [
    "{\n",
    "    \"configuration\": \"! Info via SNMP: sysoid=1.3.6.1.4.1.9.1.1,vendor=Cisco,model=DEVELOPMENT TEST SOFTWARE,hostname=R1\\r\\nR1#show run\\r\\nBuilding configuration...\\r\\n\\r\\nCurrent configuration : 2313 bytes\\r\\n!\\r\\nversion 15.4\\r\\nservice timestamps debug datetime msec\\r\\nservice timestamps log datetime msec\\r\\nno service password-encryption\\r\\n!\\r\\nhostname R1\\r\\n!\\r\\nboot-start-marker\\r\\nboot-end-marker\\r\\n!\\r\\naqm-register-fnf\\r\\n!\\r\\nno logging on\\r\\n!enable secret ********\\r\\n!\\r\\nno aaa new-model\\r\\nclock timezone CET 1 0\\r\\nmmi polling-interval 60\\r\\nno mmi auto-configure\\r\\nno mmi pvc\\r\\nmmi snmp-timeout 180\\r\\n!\\r\\n!\\r\\n!\\r\\n!\\r\\n!\\r\\n!\\r\\n!\\r\\n!\\r\\n\\r\\n\\r\\n!\\r\\n!\\r\\n!\\r\\n!\\r\\nno ip domain lookup\\r\\nip domain name netbraintech.com\\r\\nip cef\\r\\nno ipv6 cef\\r\\nipv6 multicast rpf use-bgp\\r\\n!\\r\\nmultilink bundle-name authenticated\\r\\nmpls label protocol ldp\\r\\nno mpls ip propagate-ttl \\r\\n!\\r\\n!\\r\\n!\\r\\n!\\r\\n!\\r\\n!\\r\\n!\\r\\n!\\r\\n!username ********\\r\\n!\\r\\nredundancy\\r\\n!\\r\\n!\\r\\nip ssh version 2\\r\\n! \\r\\n!\\r\\n!\\r\\n!\\r\\n!\\r\\n!\\r\\n!\\r\\n!\\r\\n!\\r\\n!\\r\\n!\\r\\n!\\r\\n!\\r\\ninterface Loopback0\\r\\n ip address 123.1.1.1 255.255.255.255\\r\\n!\\r\\ninterface Ethernet0/0\\r\\n no ip address\\r\\n!\\r\\ninterface Ethernet0/1\\r\\n ip address 123.10.1.5 255.255.255.252\\r\\n!\\r\\ninterface Ethernet0/2\\r\\n ip address 123.10.1.2 255.255.255.252\\r\\n!\\r\\ninterface Ethernet0/3\\r\\n no ip address\\r\\n!\\r\\nrouter ospf 12345\\r\\n mpls ldp autoconfig\\r\\n router-id 123.1.1.1\\r\\n network 123.0.0.0 0.255.255.255 area 0\\r\\n!\\r\\nrouter bgp 12345\\r\\n bgp router-id 123.1.1.1\\r\\n bgp log-neighbor-changes\\r\\n no bgp default ipv4-unicast\\r\\n neighbor iBGP peer-group\\r\\n neighbor iBGP remote-as 12345\\r\\n neighbor iBGP update-source Loopback0\\r\\n neighbor PEER peer-group\\r\\n neighbor PEER remote-as 12345\\r\\n neighbor PEER update-source Loopback0\\r\\n neighbor 123.2.2.2 peer-group iBGP\\r\\n neighbor 123.3.3.3 peer-group iBGP\\r\\n neighbor 123.6.6.6 peer-group iBGP\\r\\n neighbor 123.7.7.7 peer-group iBGP\\r\\n !\\r\\n address-family ipv4\\r\\n  neighbor iBGP route-reflector-client\\r\\n  neighbor 123.2.2.2 activate\\r\\n  neighbor 123.3.3.3 activate\\r\\n  neighbor 123.6.6.6 activate\\r\\n  neighbor 123.7.7.7 activate\\r\\n exit-address-family\\r\\n !\\r\\n address-family vpnv4\\r\\n  neighbor iBGP send-community extended\\r\\n  neighbor iBGP route-reflector-client\\r\\n  neighbor PEER send-community extended\\r\\n  neighbor PEER route-reflector-client\\r\\n  neighbor 123.2.2.2 activate\\r\\n  neighbor 123.3.3.3 activate\\r\\n  neighbor 123.6.6.6 activate\\r\\n  neighbor 123.7.7.7 activate\\r\\n exit-address-family\\r\\n!\\r\\nip forward-protocol nd\\r\\n!\\r\\n!\\r\\nno ip http server\\r\\nno ip http secure-server\\r\\n!\\r\\n!\\r\\n!snmp-server community ********\\r\\n!\\r\\nmpls ldp router-id Loopback0\\r\\n!\\r\\ncontrol-plane\\r\\n!\\r\\n!\\r\\n!\\r\\n!\\r\\n!\\r\\n!\\r\\n!\\r\\n!\\r\\nline con 0\\r\\n exec-timeout 0 0\\r\\n logging synchronous\\r\\nline aux 0\\r\\nline vty 0 4\\r\\n login local\\r\\n transport input all\\r\\n!\\r\\n!\\r\\nend\\r\\n\\r\\n\\n\",\n",
    "    \"time\": \"2019-01-29T17:08:57Z\",\n",
    "    \"statusCode\": 790200,\n",
    "    \"statusDescription\": \"Success.\"\n",
    "}"
   ]
  },
  {
   "cell_type": "markdown",
   "metadata": {},
   "source": [
    "* ## Full Example : "
   ]
  },
  {
   "cell_type": "code",
   "execution_count": 1,
   "metadata": {},
   "outputs": [
    {
     "name": "stdout",
     "output_type": "stream",
     "text": [
      "{'configuration': '! Info via SNMP: sysoid=1.3.6.1.4.1.9.1.1,vendor=Cisco,model=DEVELOPMENT TEST SOFTWARE,hostname=R1\\r\\nR1#show run\\r\\nBuilding configuration...\\r\\n\\r\\nCurrent configuration : 2313 bytes\\r\\n!\\r\\nversion 15.4\\r\\nservice timestamps debug datetime msec\\r\\nservice timestamps log datetime msec\\r\\nno service password-encryption\\r\\n!\\r\\nhostname R1\\r\\n!\\r\\nboot-start-marker\\r\\nboot-end-marker\\r\\n!\\r\\naqm-register-fnf\\r\\n!\\r\\nno logging on\\r\\n!enable secret ********\\r\\n!\\r\\nno aaa new-model\\r\\nclock timezone CET 1 0\\r\\nmmi polling-interval 60\\r\\nno mmi auto-configure\\r\\nno mmi pvc\\r\\nmmi snmp-timeout 180\\r\\n!\\r\\n!\\r\\n!\\r\\n!\\r\\n!\\r\\n!\\r\\n!\\r\\n!\\r\\n\\r\\n\\r\\n!\\r\\n!\\r\\n!\\r\\n!\\r\\nno ip domain lookup\\r\\nip domain name netbraintech.com\\r\\nip cef\\r\\nno ipv6 cef\\r\\nipv6 multicast rpf use-bgp\\r\\n!\\r\\nmultilink bundle-name authenticated\\r\\nmpls label protocol ldp\\r\\nno mpls ip propagate-ttl \\r\\n!\\r\\n!\\r\\n!\\r\\n!\\r\\n!\\r\\n!\\r\\n!\\r\\n!\\r\\n!username ********\\r\\n!\\r\\nredundancy\\r\\n!\\r\\n!\\r\\nip ssh version 2\\r\\n! \\r\\n!\\r\\n!\\r\\n!\\r\\n!\\r\\n!\\r\\n!\\r\\n!\\r\\n!\\r\\n!\\r\\n!\\r\\n!\\r\\n!\\r\\ninterface Loopback0\\r\\n ip address 123.1.1.1 255.255.255.255\\r\\n!\\r\\ninterface Ethernet0/0\\r\\n no ip address\\r\\n!\\r\\ninterface Ethernet0/1\\r\\n ip address 123.10.1.5 255.255.255.252\\r\\n!\\r\\ninterface Ethernet0/2\\r\\n ip address 123.10.1.2 255.255.255.252\\r\\n!\\r\\ninterface Ethernet0/3\\r\\n no ip address\\r\\n!\\r\\nrouter ospf 12345\\r\\n mpls ldp autoconfig\\r\\n router-id 123.1.1.1\\r\\n network 123.0.0.0 0.255.255.255 area 0\\r\\n!\\r\\nrouter bgp 12345\\r\\n bgp router-id 123.1.1.1\\r\\n bgp log-neighbor-changes\\r\\n no bgp default ipv4-unicast\\r\\n neighbor iBGP peer-group\\r\\n neighbor iBGP remote-as 12345\\r\\n neighbor iBGP update-source Loopback0\\r\\n neighbor PEER peer-group\\r\\n neighbor PEER remote-as 12345\\r\\n neighbor PEER update-source Loopback0\\r\\n neighbor 123.2.2.2 peer-group iBGP\\r\\n neighbor 123.3.3.3 peer-group iBGP\\r\\n neighbor 123.6.6.6 peer-group iBGP\\r\\n neighbor 123.7.7.7 peer-group iBGP\\r\\n !\\r\\n address-family ipv4\\r\\n  neighbor iBGP route-reflector-client\\r\\n  neighbor 123.2.2.2 activate\\r\\n  neighbor 123.3.3.3 activate\\r\\n  neighbor 123.6.6.6 activate\\r\\n  neighbor 123.7.7.7 activate\\r\\n exit-address-family\\r\\n !\\r\\n address-family vpnv4\\r\\n  neighbor iBGP send-community extended\\r\\n  neighbor iBGP route-reflector-client\\r\\n  neighbor PEER send-community extended\\r\\n  neighbor PEER route-reflector-client\\r\\n  neighbor 123.2.2.2 activate\\r\\n  neighbor 123.3.3.3 activate\\r\\n  neighbor 123.6.6.6 activate\\r\\n  neighbor 123.7.7.7 activate\\r\\n exit-address-family\\r\\n!\\r\\nip forward-protocol nd\\r\\n!\\r\\n!\\r\\nno ip http server\\r\\nno ip http secure-server\\r\\n!\\r\\n!\\r\\n!snmp-server community ********\\r\\n!\\r\\nmpls ldp router-id Loopback0\\r\\n!\\r\\ncontrol-plane\\r\\n!\\r\\n!\\r\\n!\\r\\n!\\r\\n!\\r\\n!\\r\\n!\\r\\n!\\r\\nline con 0\\r\\n exec-timeout 0 0\\r\\n logging synchronous\\r\\nline aux 0\\r\\nline vty 0 4\\r\\n login local\\r\\n transport input all\\r\\n!\\r\\n!\\r\\nend\\r\\n\\r\\n\\n', 'time': '2019-01-29T17:08:57Z', 'statusCode': 790200, 'statusDescription': 'Success.'}\n"
     ]
    }
   ],
   "source": [
    "# import python modules \n",
    "import requests\n",
    "import time\n",
    "import urllib3\n",
    "import pprint\n",
    "import json\n",
    "urllib3.disable_warnings(urllib3.exceptions.InsecureRequestWarning)\n",
    "\n",
    "# Set the request inputs\n",
    "token = \"220d6462-ba64-4058-83cb-affb2d55de78\"\n",
    "nb_url = \"http://192.168.28.79\"\n",
    "full_url = nb_url + \"/ServicesAPI/API/V1/CMDB/DataEngine/DeviceData/Configuration\"\n",
    "headers = {'Content-Type': 'application/json', 'Accept': 'application/json'}\n",
    "headers[\"Token\"] = token\n",
    "\n",
    "hostname = \"R1\"\n",
    "\n",
    "data = {\n",
    "        \"hostname\":hostname\n",
    "    }\n",
    "\n",
    "try:\n",
    "    response = requests.get(full_url, params = data, headers = headers, verify = False)\n",
    "    if response.status_code == 200:\n",
    "        result = response.json()\n",
    "        print (result)\n",
    "    else:\n",
    "        print (\"Get Device Configuration failed! - \" + str(response.text))\n",
    "    \n",
    "except Exception as e:\n",
    "    print (str(e))  \n"
   ]
  },
  {
   "cell_type": "markdown",
   "metadata": {},
   "source": [
    "* # cURL Code from Postman:"
   ]
  },
  {
   "cell_type": "code",
   "execution_count": null,
   "metadata": {},
   "outputs": [],
   "source": [
    "curl -X GET \\\n",
    "  'http://192.168.28.79/ServicesAPI/API/V1/CMDB/DataEngine/DeviceData/Configuration?hostname=R1' \\\n",
    "  -H 'Postman-Token: 9d3502a2-6587-4be6-9d57-3d0e411dcb22' \\\n",
    "  -H 'cache-control: no-cache' \\\n",
    "  -H 'token: 220d6462-ba64-4058-83cb-affb2d55de78'"
   ]
  },
  {
   "cell_type": "markdown",
   "metadata": {},
   "source": [
    "* # Error Examples:"
   ]
  },
  {
   "cell_type": "code",
   "execution_count": null,
   "metadata": {},
   "outputs": [],
   "source": [
    "###################################################################################################################    \n",
    "\n",
    "\"\"\"Error 1: empty inputs\"\"\"\n",
    "\n",
    "Input:\n",
    "    \n",
    "        hostname = \"\" # Can not be null.\n",
    "    \n",
    "Response:\n",
    "    \n",
    "    \"Get Device Configuration failed! - \n",
    "    {\n",
    "        \"statusCode\":791000,\n",
    "        \"statusDescription\":\"Null parameter: the parameter 'hostname' cannot be null.\"\n",
    "    }\"\n",
    "\n",
    "###################################################################################################################    \n",
    "\n",
    "\"\"\"Error 1: empty inputs\"\"\"\n",
    "\n",
    "Input:\n",
    "    \n",
    "        hostname = \"hahahaah\" # On device called \"hahahaah\"\n",
    "    \n",
    "Response:\n",
    "    \n",
    "    \"Get Device Configuration failed! - \n",
    "        {\n",
    "            \"statusCode\":791006,\n",
    "            \"statusDescription\":\" Device Name is not in domain: hahahaah does not exist. \n",
    "                                \" Device Name is not in domain: hahahaah\"\n",
    "        }\""
   ]
  }
 ],
 "metadata": {
  "kernelspec": {
   "display_name": "Python 3",
   "language": "python",
   "name": "python3"
  },
  "language_info": {
   "codemirror_mode": {
    "name": "ipython",
    "version": 3
   },
   "file_extension": ".py",
   "mimetype": "text/x-python",
   "name": "python",
   "nbconvert_exporter": "python",
   "pygments_lexer": "ipython3",
   "version": "3.7.1"
  }
 },
 "nbformat": 4,
 "nbformat_minor": 2
}
