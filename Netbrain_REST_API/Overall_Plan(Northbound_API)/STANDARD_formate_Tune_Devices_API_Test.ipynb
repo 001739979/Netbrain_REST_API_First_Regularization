{
 "cells": [
  {
   "cell_type": "markdown",
   "metadata": {},
   "source": [
    "# Tune Device API Design"
   ]
  },
  {
   "cell_type": "markdown",
   "metadata": {},
   "source": [
    "## ***POST*** /V1/CMDB/Roles{?IsCheckPing}&{?IsCheckSnmp}&{?IsCheckCliLogin}&{?IsCheckCliEnable}&{?Hostnames}\n",
    "Calling this API to start a tune devies task.\n",
    "\n",
    "* ## Detail Information\n",
    "\n",
    "> **Title** : Tune Devices API<br>\n",
    "\n",
    "> **Version** : 02/06/2019.\n",
    "\n",
    "> **API Server URL** : http(s):// IP address of your NetBrain Web API Server /ServicesAPI/API/V1/CMDB/TuneDevices\n",
    "\n",
    "> **Authentication** : \n",
    "\n",
    ">|**Type**|**In**|**Name**|\n",
    "|------|------|------|\n",
    "|<img width=100/>|<img width=100/>|<img width=500/>|\n",
    "|Bearer Authentication| Parameters | Authentication token | \n",
    "\n",
    "* ## Request body(****required***)\n",
    "\n",
    ">No request body.\n",
    "\n",
    "* ## Query Parameters(****required***)\n",
    "\n",
    "> |**Name**|**Type**|**Description**|\n",
    "|------|------|------|\n",
    "|<img width=100/>|<img width=100/>|<img width=500/>|\n",
    "| IsCheckPing | bool  | If ping the IP when tuning a device. |\n",
    "| IsCheckSnmp | bool  | If do snmp on the device when tuning a device. |\n",
    "| IsCheckCliLogin | bool  | If check cli login when tuning a device. |\n",
    "| IsCheckCliEnable | bool  | If check enable priority when tuning a device. |\n",
    "| Hostnames | list of string | List all devices that need to be tuned, no value means all devices. |\n",
    "\n",
    "* ## Headers\n",
    "\n",
    "> **Data Format Headers**\n",
    "\n",
    "> |**Name**|**Type**|**Description**|\n",
    "|------|------|------|\n",
    "|<img width=100/>|<img width=100/>|<img width=500/>|\n",
    "| Content-Type | string  | support \"application/json\" |\n",
    "| Accept | string  | support \"application/json\" |\n",
    "\n",
    "> **Authorization Headers**\n",
    "\n",
    ">|**Name**|**Type**|**Description**|\n",
    "|------|------|------|\n",
    "|<img width=100/>|<img width=100/>|<img width=500/>|\n",
    "| token* | string  | Authentication token, get from login API. |\n",
    "\n",
    "* ## Response\n",
    "\n",
    ">|**Name**|**Type**|**Description**|\n",
    "|------|------|------|\n",
    "|<img width=100/>|<img width=100/>|<img width=500/>|\n",
    "|taskId| string | Tune device task ID, which can be use to query task status later on. |\n",
    "|statusCode| integer | Code issued by NetBrain server indicating the execution result.  |\n",
    "|statusDescription| string | The explanation of the status code. |\n",
    "\n",
    "> ***Example***"
   ]
  },
  {
   "cell_type": "code",
   "execution_count": null,
   "metadata": {},
   "outputs": [],
   "source": [
    "'''Can not get any result follow the documantation, '''\n",
    "\n",
    "{\n",
    "    \"status\": false,\n",
    "    \"statusCode\": 791000,\n",
    "    \"statusDescription\": \"Null parameter: the parameter 'options' cannot be null.\"\n",
    "}"
   ]
  }
 ],
 "metadata": {
  "kernelspec": {
   "display_name": "Python 3",
   "language": "python",
   "name": "python3"
  },
  "language_info": {
   "codemirror_mode": {
    "name": "ipython",
    "version": 3
   },
   "file_extension": ".py",
   "mimetype": "text/x-python",
   "name": "python",
   "nbconvert_exporter": "python",
   "pygments_lexer": "ipython3",
   "version": "3.7.1"
  }
 },
 "nbformat": 4,
 "nbformat_minor": 2
}
