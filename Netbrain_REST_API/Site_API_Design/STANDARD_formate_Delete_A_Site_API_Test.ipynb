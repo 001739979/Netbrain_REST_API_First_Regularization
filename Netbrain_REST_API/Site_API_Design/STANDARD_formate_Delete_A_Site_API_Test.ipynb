{
 "cells": [
  {
   "cell_type": "markdown",
   "metadata": {},
   "source": [
    "# Site API Design"
   ]
  },
  {
   "cell_type": "markdown",
   "metadata": {},
   "source": [
    "## ***DELETE*** /V1/CMDB/Sites{?sitePath}|{?siteId}\n",
    "Calling this API to delete one specified site by site ID or site path. If the site is a container site(parent site), all child sites will be deleted at same time.\n",
    "\n",
    "Note: this API call needs to be invoked in a site transaction.\n",
    "\n",
    "* ## Detail Information\n",
    "\n",
    "> **Title** : Delete A Sites API<br>\n",
    "\n",
    "> **Version** : 02/04/2019.\n",
    "\n",
    "> **API Server URL** : http(s)://IP address of NetBrain Web API Server/ServicesAPI/API/V1/CMDB/Sites\n",
    "\n",
    "> **Authentication** : \n",
    "\n",
    ">|**Type**|**In**|**Name**|\n",
    "|------|------|------|\n",
    "|<img width=100/>|<img width=100/>|<img width=500/>|\n",
    "|Bearer Authentication| Headers | Authentication token | \n",
    "\n",
    "* ## Request body(****required***)\n",
    "\n",
    ">No request body.\n",
    "\n",
    "* ## Query Parameters(****required***)\n",
    "\n",
    ">|**Name**|**Type**|**Description**|\n",
    "|------|------|------|\n",
    "|<img width=100/>|<img width=100/>|<img width=500/>|\n",
    "|sitePath^ | string  | Full path name of a site. For example, 'My Network/Site1/Boston/Dev'. |\n",
    "|siteId^ | string  | Guid of this site to be deleted. Optional. However, parameter must be siteId or sitePath, use siteId if both set. |\n",
    ">>**Note :** ^ required if the other parameter is null.\n",
    "\n",
    "* ## Headers\n",
    "\n",
    "> **Data Format Headers**\n",
    "\n",
    "> |**Name**|**Type**|**Description**|\n",
    "|------|------|------|\n",
    "|<img width=100/>|<img width=100/>|<img width=500/>|\n",
    "| Content-Type | string  | support \"application/json\" |\n",
    "| Accept | string  | support \"application/json\" |\n",
    "\n",
    "> **Authorization Headers**\n",
    "\n",
    "> |**Name**|**Type**|**Description**|\n",
    "|------|------|------|\n",
    "|<img width=100/>|<img width=100/>|<img width=500/>|\n",
    "| token | string  | Authentication token, get from login API. |\n",
    "\n",
    "* ## Response\n",
    "\n",
    ">|**Name**|**Type**|**Description**|\n",
    "|------|------|------|\n",
    "|<img width=100/>|<img width=100/>|<img width=500/>|\n",
    "|statusCode| integer | The returned status code of executing the API.  |\n",
    "|statusDescription| string | The explanation of the status code.  |\n",
    "\n",
    "> ***Example***"
   ]
  },
  {
   "cell_type": "code",
   "execution_count": null,
   "metadata": {},
   "outputs": [],
   "source": [
    "{\n",
    "    \"statusCode\": 790200,\n",
    "    \"statusDescription\": \"Success.\"\n",
    "}"
   ]
  },
  {
   "cell_type": "markdown",
   "metadata": {},
   "source": [
    "* # Full Examples:"
   ]
  },
  {
   "cell_type": "code",
   "execution_count": 4,
   "metadata": {},
   "outputs": [
    {
     "name": "stdout",
     "output_type": "stream",
     "text": [
      "{'statusCode': 790200, 'statusDescription': 'Success.'}\n"
     ]
    }
   ],
   "source": [
    "# import python modules \n",
    "import requests\n",
    "import time\n",
    "import urllib3\n",
    "import pprint\n",
    "import json\n",
    "urllib3.disable_warnings(urllib3.exceptions.InsecureRequestWarning)\n",
    "\n",
    "# Set the request inputs\n",
    "token = \"1c52cd65-3247-44ad-91e6-cd73fc6c64a6\"\n",
    "nb_url = \"http://192.168.28.79\"\n",
    "full_url = nb_url + \"/ServicesAPI/API/V1/CMDB/Sites\"\n",
    "headers = {'Content-Type': 'application/json', 'Accept': 'application/json'}\n",
    "headers[\"Token\"] = token\n",
    "\n",
    "sitePath = \"My Network/Site1\"\n",
    "siteId = \"\"\n",
    "\n",
    "data = {\n",
    "           \"sitePath\" : sitePath\n",
    "            #\"siteId\": siteId\n",
    "        } \n",
    "\n",
    "try:\n",
    "    response = requests.delete(full_url, params = data, headers = headers, verify = False)\n",
    "    #response = requests.delete(full_url, headers = headers, verify = False)\n",
    "    if response.status_code == 200:\n",
    "        result = response.json()\n",
    "        print (result)\n",
    "    else:\n",
    "        print (\"Site Created Failed! - \" + str(response.text))\n",
    "    \n",
    "except Exception as e:\n",
    "    print (str(e)) "
   ]
  },
  {
   "cell_type": "markdown",
   "metadata": {},
   "source": [
    "* # cURL Code from Postman:"
   ]
  },
  {
   "cell_type": "code",
   "execution_count": null,
   "metadata": {},
   "outputs": [],
   "source": [
    "curl -X DELETE \\\n",
    "  'http://192.168.28.79/ServicesAPI/API/V1/CMDB/Sites?sitePath=My%20Network/Site1' \\\n",
    "  -H 'Postman-Token: 11f365ff-de38-420e-8de0-2ff47d3367ba' \\\n",
    "  -H 'cache-control: no-cache' \\\n",
    "  -H 'token: 1c52cd65-3247-44ad-91e6-cd73fc6c64a6'"
   ]
  },
  {
   "cell_type": "markdown",
   "metadata": {},
   "source": [
    "* # Error Examples:"
   ]
  },
  {
   "cell_type": "code",
   "execution_count": null,
   "metadata": {},
   "outputs": [],
   "source": [
    "###################################################################################################################    \n",
    "\n",
    "\"\"\"Error 1: empty input\"\"\"\n",
    "\n",
    "Input:\n",
    "        \n",
    "        sitePath = \"\"\n",
    "        \n",
    "Response:\n",
    "\n",
    "    \"Site Created Failed! - \n",
    "        {\n",
    "            \"statusCode\":791000,\n",
    "            \"statusDescription\":\"Null parameter: the parameter 'siteId and sitePath' cannot be null.\"\n",
    "        }\"\n",
    "        \n",
    "###################################################################################################################    \n",
    "\n",
    "\"\"\"Error 1: wrong input\"\"\"\n",
    "\n",
    "Input:\n",
    "        \n",
    "        siteId = \"1123456789\" # not site has a Id like this.\n",
    "        \n",
    "Response:\n",
    "\n",
    "    \"Site Created Failed! - \n",
    "        {\n",
    "            \"statusCode\":793000,\n",
    "            \"statusDescription\":\"Unexpected Error.\"\n",
    "        }\"\n",
    "        \n",
    "#-----------------------------------------------------------------------------------------------------------------        \n",
    "\n",
    "Input:\n",
    "        \n",
    "        sitePath = \"111/222/333/44\" # no such site path exist.\n",
    "        ##OR##\n",
    "        sitePath = \"My Network/Site1\" # the site with site path \"My Network/Site1\" has already been deleted.\n",
    "        \n",
    "Response:\n",
    "\n",
    "    \"Site Created Failed! - \n",
    "        {\n",
    "            \"statusCode\":791006,\n",
    "            \"statusDescription\":\"site with path 111/222/333/44 does not exist.\"\n",
    "        }\"        "
   ]
  },
  {
   "cell_type": "code",
   "execution_count": null,
   "metadata": {},
   "outputs": [],
   "source": [
    "'''\n",
    "Some Issues:\n",
    "\n",
    "        1) Success response too simple.\n",
    "        \n",
    "        2) How to get the corresponding site Id for each site?\n",
    "        \n",
    "        3) The response of first wrong input error not reasonable.\n",
    "        \n",
    "        \n",
    "        \n",
    "'''"
   ]
  }
 ],
 "metadata": {
  "kernelspec": {
   "display_name": "Python 3",
   "language": "python",
   "name": "python3"
  },
  "language_info": {
   "codemirror_mode": {
    "name": "ipython",
    "version": 3
   },
   "file_extension": ".py",
   "mimetype": "text/x-python",
   "name": "python",
   "nbconvert_exporter": "python",
   "pygments_lexer": "ipython3",
   "version": "3.7.1"
  }
 },
 "nbformat": 4,
 "nbformat_minor": 2
}
