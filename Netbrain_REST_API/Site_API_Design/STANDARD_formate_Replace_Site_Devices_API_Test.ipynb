{
 "cells": [
  {
   "cell_type": "markdown",
   "metadata": {},
   "source": [
    "# Site API Design"
   ]
  },
  {
   "cell_type": "markdown",
   "metadata": {},
   "source": [
    "## ***PUT*** /V1/CMDB/Sites/Devices\n",
    "Calling this API to remove all existing devices from the site which specified by site name or site Id and add new devices provided in the devices  parameter. \n",
    " \n",
    "Note: this API call needs to be invoked in a site transaction.\n",
    "\n",
    "* ## Detail Information\n",
    "\n",
    "> **Title** : Replace Site Devices API<br>\n",
    "\n",
    "> **Version** : 02/04/2019.\n",
    "\n",
    "> **API Server URL** : http(s)://IP address of NetBrain Web API Server/ServicesAPI/API/V1/CMDB/Sites/Devices\n",
    "\n",
    "> **Authentication** : \n",
    "\n",
    ">|**Type**|**In**|**Name**|\n",
    "|------|------|------|\n",
    "|<img width=100/>|<img width=100/>|<img width=500/>|\n",
    "|Bearer Authentication| Headers | Authentication token | \n",
    "\n",
    "\n",
    "* ## Request body(****required***)\n",
    "\n",
    ">|**Name**|**Type**|**Description**|\n",
    "|------|------|------|\n",
    "|<img width=100/>|<img width=100/>|<img width=500/>|\n",
    "|sitesId^ | string  | Key of this site to be deleted. Optional. However, parameter must be siteId or sitePath, use siteId if both set.  |\n",
    "|sitePath^ | string  | Full path name of a site. For example, 'My Network/Site1/Boston'.  |\n",
    "|devices* | list of string  | List of device hostnames.  |\n",
    "\n",
    "> ***Example***"
   ]
  },
  {
   "cell_type": "code",
   "execution_count": null,
   "metadata": {},
   "outputs": [],
   "source": [
    "{\n",
    "    \"sitePath\": \"XXXXXXX\",\n",
    "    \"Devices\": [\n",
    "        \"Bos-Core1\"\n",
    "    ]\n",
    "}\n",
    " \n",
    "##OR##\n",
    "\n",
    "{\n",
    "    \"siteId\": \"XXXXXXX\",\n",
    "    \"Devices\": [\n",
    "        \"Bos-Core1\"\n",
    "    ]\n",
    "}"
   ]
  },
  {
   "cell_type": "markdown",
   "metadata": {},
   "source": [
    "* ## Parameters(****required***)\n",
    "\n",
    ">No parameters required.\n",
    "\n",
    "* ## Headers\n",
    "\n",
    "> **Data Format Headers**\n",
    "\n",
    "> |**Name**|**Type**|**Description**|\n",
    "|------|------|------|\n",
    "|<img width=100/>|<img width=100/>|<img width=500/>|\n",
    "| Content-Type | string  | support \"application/json\" |\n",
    "| Accept | string  | support \"application/json\" |\n",
    "\n",
    "> **Authorization Headers**\n",
    "\n",
    "> |**Name**|**Type**|**Description**|\n",
    "|------|------|------|\n",
    "|<img width=100/>|<img width=100/>|<img width=500/>|\n",
    "| token | string  | Authentication token, get from login API. |\n",
    "\n",
    "* ## Response\n",
    "\n",
    ">|**Name**|**Type**|**Description**|\n",
    "|------|------|------|\n",
    "|<img width=100/>|<img width=100/>|<img width=500/>|\n",
    "|statusCode| integer | The returned status code of executing the API.  |\n",
    "|statusDescription| string | The explanation of the status code.  |\n",
    "\n",
    "> ***Example***"
   ]
  },
  {
   "cell_type": "code",
   "execution_count": null,
   "metadata": {},
   "outputs": [],
   "source": [
    "{\n",
    "    \"statusCode\": 790200,\n",
    "    \"statusDescription\": \"Success.\"\n",
    "}"
   ]
  },
  {
   "cell_type": "markdown",
   "metadata": {},
   "source": [
    "* # Full Example:"
   ]
  },
  {
   "cell_type": "code",
   "execution_count": 1,
   "metadata": {},
   "outputs": [
    {
     "name": "stdout",
     "output_type": "stream",
     "text": [
      "{'statusCode': 790200, 'statusDescription': 'Success.'}\n"
     ]
    }
   ],
   "source": [
    "# import python modules \n",
    "import requests\n",
    "import time\n",
    "import urllib3\n",
    "import pprint\n",
    "import json\n",
    "urllib3.disable_warnings(urllib3.exceptions.InsecureRequestWarning)\n",
    "\n",
    "# Set the request inputs\n",
    "token = \"1cde0ef4-4956-43ce-9e24-96d9a471e4fd\"\n",
    "nb_url = \"http://192.168.28.79\"\n",
    "full_url = nb_url + \"/ServicesAPI/API/V1/CMDB/Sites/Devices\"\n",
    "headers = {'Content-Type': 'application/json', 'Accept': 'application/json'}\n",
    "headers[\"Token\"] = token\n",
    "\n",
    "sitePath = \"testSite1/testSiteLeaf\"\n",
    "##OR##\n",
    "#sitId = \"37965f93-377c-46b9-852c-193870bb5933\"\n",
    "devices = [\"R1\", \"R10\", \"R11\", \"R12\"]\n",
    "\n",
    "body = {\n",
    "           \"sitePath\" : sitePath,\n",
    "           \"Devices\": devices\n",
    "    }         \n",
    "\n",
    "try:\n",
    "    response = requests.put(full_url, data = json.dumps(body), headers = headers, verify = False)\n",
    "    if response.status_code == 200:\n",
    "        result = response.json()\n",
    "        print (result)\n",
    "    else:\n",
    "        print (\"Devices added Fail! - \" + str(response.text))\n",
    "    \n",
    "except Exception as e:\n",
    "    print (str(e)) "
   ]
  },
  {
   "cell_type": "markdown",
   "metadata": {},
   "source": [
    "* # cURL Code from Postman:"
   ]
  },
  {
   "cell_type": "code",
   "execution_count": null,
   "metadata": {},
   "outputs": [],
   "source": [
    "curl -X PUT \\\n",
    "  http://192.168.28.79/ServicesAPI/API/V1/CMDB/Sites/Devices \\\n",
    "  -H 'Content-Type: application/json' \\\n",
    "  -H 'Postman-Token: 18a526a2-7c9a-4e18-8c7b-d8d8906b3efe' \\\n",
    "  -H 'cache-control: no-cache' \\\n",
    "  -H 'token: 1cde0ef4-4956-43ce-9e24-96d9a471e4fd' \\\n",
    "  -d '{\n",
    "        \"sitePath\":\"testSite1/testSiteLeaf\",\n",
    "        \"devices\": [\"R1\", \"R10\", \"R11\", \"R12\"]\n",
    "\n",
    "    }'"
   ]
  },
  {
   "cell_type": "markdown",
   "metadata": {},
   "source": [
    "* # Error Examples:\n",
    "Same with \"Add Site Devices API\" "
   ]
  },
  {
   "cell_type": "code",
   "execution_count": null,
   "metadata": {},
   "outputs": [],
   "source": [
    "'''\n",
    "Some Issues:\n",
    "\n",
    "        1) Too simple success response.\n",
    "        \n",
    "        2) Not working although the response shows success.\n",
    "        \n",
    "        3) Same Devices List also can be update, no efficency.\n",
    "'''"
   ]
  }
 ],
 "metadata": {
  "kernelspec": {
   "display_name": "Python 3",
   "language": "python",
   "name": "python3"
  },
  "language_info": {
   "codemirror_mode": {
    "name": "ipython",
    "version": 3
   },
   "file_extension": ".py",
   "mimetype": "text/x-python",
   "name": "python",
   "nbconvert_exporter": "python",
   "pygments_lexer": "ipython3",
   "version": "3.7.1"
  }
 },
 "nbformat": 4,
 "nbformat_minor": 2
}
