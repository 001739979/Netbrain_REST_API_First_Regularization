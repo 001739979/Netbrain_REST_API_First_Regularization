{
 "cells": [
  {
   "cell_type": "markdown",
   "metadata": {},
   "source": [
    "# Site API Design"
   ]
  },
  {
   "cell_type": "markdown",
   "metadata": {},
   "source": [
    "## ***GET*** /V1/CMDB/Sites/ChildSites{?sitePath}|{?siteId}\n",
    "Calling this API to  get all descedant sites of a container site. Return error if it is a leaf site.\n",
    "\n",
    "* ## Detail Information\n",
    "\n",
    "> **Title** : Create Sites API<br>\n",
    "\n",
    "> **Version** : 02/04/2019.\n",
    "\n",
    "> **API Server URL** : http(s)://IP address of NetBrain Web API Server/ServicesAPI/API/V1/CMDB/Sites/ChildSites\n",
    "\n",
    "> **Authentication** : \n",
    "\n",
    ">|**Type**|**In**|**Name**|\n",
    "|------|------|------|\n",
    "|<img width=100/>|<img width=100/>|<img width=500/>|\n",
    "|Bearer Authentication| Headers | Authentication token | \n",
    "\n",
    "\n",
    "* ## Request body(****required***)\n",
    "\n",
    "> No request body.\n",
    "\n",
    "* ## Query Parameters(****required***)\n",
    "\n",
    ">|**Name**|**Type**|**Description**|\n",
    "|------|------|------|\n",
    "|<img width=100/>|<img width=100/>|<img width=500/>|\n",
    "|sitePath^ | string  | Full path name of a site. For example, 'My Network/Site1/Boston/Dev'. |\n",
    "|siteId^ | string  | Key of this site to be deleted. Optional. However, parameter must be siteId or sitePath, use siteId if both set. |\n",
    ">>**Note :** ^ required if the other parameter is null.\n",
    "\n",
    "* ## Headers\n",
    "\n",
    "> **Data Format Headers**\n",
    "\n",
    "> |**Name**|**Type**|**Description**|\n",
    "|------|------|------|\n",
    "|<img width=100/>|<img width=100/>|<img width=500/>|\n",
    "| Content-Type | string  | support \"application/json\" |\n",
    "| Accept | string  | support \"application/json\" |\n",
    "\n",
    "> **Authorization Headers**\n",
    "\n",
    "> |**Name**|**Type**|**Description**|\n",
    "|------|------|------|\n",
    "|<img width=100/>|<img width=100/>|<img width=500/>|\n",
    "| token | string  | Authentication token, get from login API. |\n",
    "\n",
    "* ## Response\n",
    "\n",
    ">|**Name**|**Type**|**Description**|\n",
    "|------|------|------|\n",
    "|<img width=100/>|<img width=100/>|<img width=500/>|\n",
    "|sites | list of obeject | A list of all child sites.  |\n",
    "|sites.siteId| string | Id of site.  |\n",
    "|sites.sitePath| string | Full path of site. |\n",
    "|sites.isContainer| bool | If this site is a container site. |\n",
    "|sites.children| list of string | Id list of immediate child site if this site is a container site. |\n",
    "|statusCode| integer | The returned status code of executing the API.  |\n",
    "|statusDescription| string | The explanation of the status code.  |\n",
    "\n",
    "> ***Example***"
   ]
  },
  {
   "cell_type": "code",
   "execution_count": null,
   "metadata": {},
   "outputs": [],
   "source": [
    "{\n",
    "    \"sites\": [\n",
    "        {\n",
    "            \"siteId\": \"47e5d1c1-5ddc-4e5f-b37c-21616193dd36\",\n",
    "            \"sitePath\": \"My Network/C0/L4\",\n",
    "            \"isContainer\": false,\n",
    "            \"siteType\": 2\n",
    "        },\n",
    "      {\n",
    "            \"siteId\": \"020cb2a2-d192-4c29-a9bd-53787d866f85\",\n",
    "            \"sitePath\": \"My Network/C0\",\n",
    "            \"isContainer\": true,\n",
    "            \"children\": [\n",
    "                \"47e5d1c1-5ddc-4e5f-b37c-21616193dd36\",\n",
    "                \"16d1cd8e-eb8e-42ca-a19d-54d7a7fbd2a2\",\n",
    "                \"c36eb043-a30f-4b58-b05f-957f845c40e3\",\n",
    "                \"688bc6b2-3b34-42ff-96a2-c06687d2c03a\",\n",
    "                \"6348e733-1c6b-4d76-8926-2d20622cf164\",\n",
    "                \"3ed2ccba-9a00-48d7-9af0-a17e9aa8ccfb\"\n",
    "            ],\n",
    "            \"siteType\": 1\n",
    "        }\n",
    "    ],\n",
    "    \"statusCode\": 790200,\n",
    "    \"statusDescription\": \"Success.\"\n",
    "}"
   ]
  },
  {
   "cell_type": "markdown",
   "metadata": {},
   "source": [
    "* # Full Example:"
   ]
  },
  {
   "cell_type": "code",
   "execution_count": 2,
   "metadata": {},
   "outputs": [
    {
     "name": "stdout",
     "output_type": "stream",
     "text": [
      "{'sites': [{'siteId': '37965f93-377c-46b9-852c-193870bb5933', 'sitePath': 'My Network/Americas', 'isContainer': True, 'children': ['e109a735-752a-41bf-ae22-ddf9c6a2a09f'], 'siteType': 1}, {'siteId': 'e109a735-752a-41bf-ae22-ddf9c6a2a09f', 'sitePath': 'My Network/Americas/Argentina', 'isContainer': True, 'children': ['bd85e5ba-453c-4a91-9204-9b0a75a923d9'], 'siteType': 1}, {'siteId': 'bd85e5ba-453c-4a91-9204-9b0a75a923d9', 'sitePath': 'My Network/Americas/Argentina/Provincia de Buenos Aires', 'isContainer': True, 'children': ['ae1a0cd5-c9cb-4821-a40e-f3441ad71a23'], 'siteType': 1}, {'siteId': 'ae1a0cd5-c9cb-4821-a40e-f3441ad71a23', 'sitePath': 'My Network/Americas/Argentina/Provincia de Buenos Aires/Benavidez', 'isContainer': True, 'children': ['e762eaa7-507f-4c02-9d40-c616f6d64702'], 'siteType': 1}, {'siteId': 'e762eaa7-507f-4c02-9d40-c616f6d64702', 'sitePath': 'My Network/Americas/Argentina/Provincia de Buenos Aires/Benavidez/AM-ARG-BA-BEN-1621-KM375RAM1618', 'isContainer': False, 'siteType': 2}, {'siteId': '732e8ab6-6b69-417d-ad03-2cc447100166', 'sitePath': 'My Network', 'isContainer': True, 'children': ['37965f93-377c-46b9-852c-193870bb5933'], 'siteType': 0}], 'statusCode': 790200, 'statusDescription': 'Success.'}\n"
     ]
    }
   ],
   "source": [
    "# import python modules \n",
    "import requests\n",
    "import time\n",
    "import urllib3\n",
    "import pprint\n",
    "import json\n",
    "urllib3.disable_warnings(urllib3.exceptions.InsecureRequestWarning)\n",
    "\n",
    "# Set the request inputs\n",
    "token = \"9603ce1d-8271-4f77-a2df-0b748ef32084\"\n",
    "nb_url = \"http://192.168.28.79\"\n",
    "full_url = nb_url + \"/ServicesAPI/API/V1/CMDB/Sites/ChildSites\"\n",
    "headers = {'Content-Type': 'application/json', 'Accept': 'application/json'}\n",
    "headers[\"Token\"] = token\n",
    "\n",
    "sitePath = \"My Network\"\n",
    "siteId = \"\"\n",
    "\n",
    "data = {\n",
    "           \"sitePath\" : sitePath\n",
    "            #\"siteId\": siteId\n",
    "        } \n",
    "\n",
    "try:\n",
    "    response = requests.get(full_url, params = data, headers = headers, verify = False)\n",
    "    #response = requests.delete(full_url, headers = headers, verify = False)\n",
    "    if response.status_code == 200:\n",
    "        result = response.json()\n",
    "        print (result)\n",
    "    else:\n",
    "        print (\"Site Created Failed! - \" + str(response.text))\n",
    "    \n",
    "except Exception as e:\n",
    "    print (str(e)) "
   ]
  },
  {
   "cell_type": "markdown",
   "metadata": {},
   "source": [
    "* # cURL Code from Postman"
   ]
  },
  {
   "cell_type": "code",
   "execution_count": null,
   "metadata": {},
   "outputs": [],
   "source": [
    "curl -X GET \\\n",
    "  'http://192.168.28.79/ServicesAPI/API/V1/CMDB/Sites/ChildSites?sitePath=My%20Network' \\\n",
    "  -H 'Postman-Token: 9305ea5d-3241-40dd-9943-978c19bca9fe' \\\n",
    "  -H 'cache-control: no-cache' \\\n",
    "  -H 'token: 9603ce1d-8271-4f77-a2df-0b748ef32084'"
   ]
  },
  {
   "cell_type": "markdown",
   "metadata": {},
   "source": [
    "* # Error Examples:\n",
    "Same with \"Delete Site API\""
   ]
  },
  {
   "cell_type": "code",
   "execution_count": null,
   "metadata": {},
   "outputs": [],
   "source": [
    "'''\n",
    "No issues so far\n",
    "\n",
    "'''"
   ]
  }
 ],
 "metadata": {
  "kernelspec": {
   "display_name": "Python 3",
   "language": "python",
   "name": "python3"
  },
  "language_info": {
   "codemirror_mode": {
    "name": "ipython",
    "version": 3
   },
   "file_extension": ".py",
   "mimetype": "text/x-python",
   "name": "python",
   "nbconvert_exporter": "python",
   "pygments_lexer": "ipython3",
   "version": "3.7.1"
  },
  "widgets": {
   "application/vnd.jupyter.widget-state+json": {
    "state": {},
    "version_major": 2,
    "version_minor": 0
   }
  }
 },
 "nbformat": 4,
 "nbformat_minor": 2
}
