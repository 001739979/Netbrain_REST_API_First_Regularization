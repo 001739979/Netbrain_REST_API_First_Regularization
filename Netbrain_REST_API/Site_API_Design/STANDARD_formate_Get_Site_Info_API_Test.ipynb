{
 "cells": [
  {
   "cell_type": "markdown",
   "metadata": {},
   "source": [
    "# Site API Design"
   ]
  },
  {
   "cell_type": "markdown",
   "metadata": {},
   "source": [
    "## ***GET*** /V1/CMDB/Sites/SiteInfo{?sitePath}|{?siteId}\n",
    "Calling this API to get the basic information of a site by site path or ID.\n",
    "\n",
    "* ## Detail Information\n",
    "\n",
    "> **Title** : Get Site Info API<br>\n",
    "\n",
    "> **Version** : 02/04/2019.\n",
    "\n",
    "> **API Server URL** : http(s)://IP address of NetBrain Web API Server/ServicesAPI/API/V1/CMDB/Sites/SiteInfo\n",
    "\n",
    "> **Authentication** : \n",
    "\n",
    ">|**Type**|**In**|**Name**|\n",
    "|------|------|------|\n",
    "|<img width=100/>|<img width=100/>|<img width=500/>|\n",
    "|Bearer Authentication| Headers | Authentication token | \n",
    "\n",
    "* ## Request body(****required***)\n",
    "\n",
    ">No request body.\n",
    "\n",
    "* ## Query Parameters(****required***)\n",
    "\n",
    ">|**Name**|**Type**|**Description**|\n",
    "|------|------|------|\n",
    "|<img width=100/>|<img width=100/>|<img width=500/>|\n",
    "|sitePath^ | string  | Full path name of a site. For example, 'My Network/Site1/Boston/Dev'. |\n",
    "|siteId^ | string  | Guid of this site to be deleted. Optional. However, parameter must be siteId or sitePath, use siteId if both set. |\n",
    ">>**Note :** ^ required if the other parameter is null.\n",
    "\n",
    "* ## Headers\n",
    "\n",
    "> **Data Format Headers**\n",
    "\n",
    "> |**Name**|**Type**|**Description**|\n",
    "|------|------|------|\n",
    "|<img width=100/>|<img width=100/>|<img width=500/>|\n",
    "| Content-Type | string  | support \"application/json\" |\n",
    "| Accept | string  | support \"application/json\" |\n",
    "\n",
    "> **Authorization Headers**\n",
    "\n",
    "> |**Name**|**Type**|**Description**|\n",
    "|------|------|------|\n",
    "|<img width=100/>|<img width=100/>|<img width=500/>|\n",
    "| token | string  | Authentication token, get from login API. |\n",
    "\n",
    "* ## Response\n",
    "\n",
    ">|**Name**|**Type**|**Description**|\n",
    "|------|------|------|\n",
    "|<img width=100/>|<img width=100/>|<img width=500/>|\n",
    "|statusCode| integer | The returned status code of executing the API.  |\n",
    "|statusDescription| string | The explanation of the status code.  |\n",
    "|siteInfo | object | An object with the basic information of a site.  |\n",
    "|siteInfo.sitePath | string | Full path of site.  |\n",
    "|siteInfo.siteId| string | Id of site. This is the only way to get the id of root site. |\n",
    "|siteInfo.siteType| integer | Type of this site, 0 root site, 1 container site, 2 leaf site.  |\n",
    "\n",
    "> ***Example***"
   ]
  },
  {
   "cell_type": "code",
   "execution_count": null,
   "metadata": {},
   "outputs": [],
   "source": [
    "{\n",
    "  \"siteInfo\": [\n",
    "    {\n",
    "      \"siteId\": \"1da4fda8-5d04-491b-8bb0-2e9abb989a60\",\n",
    "      \"sitePath\": \"My Network/NA/US\",\n",
    "      \"isContainer\": true,\n",
    "      \"siteType\": 0\n",
    "    }\n",
    "  ]\n",
    "}"
   ]
  },
  {
   "cell_type": "code",
   "execution_count": 4,
   "metadata": {},
   "outputs": [
    {
     "name": "stdout",
     "output_type": "stream",
     "text": [
      "Site Created Failed! - {\"statusCode\":791006,\"statusDescription\":\"site with path My Network/Site2 does not exist.\"}\n"
     ]
    }
   ],
   "source": [
    "# import python modules \n",
    "import requests\n",
    "import time\n",
    "import urllib3\n",
    "import pprint\n",
    "import json\n",
    "urllib3.disable_warnings(urllib3.exceptions.InsecureRequestWarning)\n",
    "\n",
    "# Set the request inputs\n",
    "token = \"9603ce1d-8271-4f77-a2df-0b748ef32084\"\n",
    "nb_url = \"http://192.168.28.79\"\n",
    "full_url = nb_url + \"/ServicesAPI/API/V1/CMDB/Sites/SiteInfo\"\n",
    "headers = {'Content-Type': 'application/json', 'Accept': 'application/json'}\n",
    "headers[\"Token\"] = token\n",
    "\n",
    "sitePath = \"My Network/Site2\"\n",
    "siteId = \"\"\n",
    "\n",
    "data = {\n",
    "           \"sitePath\" : sitePath\n",
    "            #\"siteId\": siteId\n",
    "        } \n",
    "\n",
    "try:\n",
    "    response = requests.get(full_url, params = data, headers = headers, verify = False)\n",
    "    #response = requests.delete(full_url, headers = headers, verify = False)\n",
    "    if response.status_code == 200:\n",
    "        result = response.json()\n",
    "        print (result)\n",
    "    else:\n",
    "        print (\"Site Created Failed! - \" + str(response.text))\n",
    "    \n",
    "except Exception as e:\n",
    "    print (str(e)) "
   ]
  },
  {
   "cell_type": "markdown",
   "metadata": {},
   "source": [
    "* # cURL Code from Postman: "
   ]
  },
  {
   "cell_type": "code",
   "execution_count": null,
   "metadata": {},
   "outputs": [],
   "source": [
    "curl -X GET \\\n",
    "  'http://192.168.28.79/ServicesAPI/API/V1/CMDB/Sites/SiteInfo?sitePath=My%20Network/Site2' \\\n",
    "  -H 'Postman-Token: e76aaf99-8664-4018-81db-9166ec56ef7c' \\\n",
    "  -H 'cache-control: no-cache' \\\n",
    "  -H 'token: 9603ce1d-8271-4f77-a2df-0b748ef32084'"
   ]
  },
  {
   "cell_type": "markdown",
   "metadata": {},
   "source": [
    "* # Error Examples：\n",
    "Same errors with \"Delete Site API\""
   ]
  },
  {
   "cell_type": "code",
   "execution_count": null,
   "metadata": {},
   "outputs": [],
   "source": [
    "'''\n",
    "Some Issues:\n",
    "\n",
    "        1) In order to calling this API successfully, I called the \"Create Site Transaction API\" first then called the \"Create \n",
    "           Site API\" and both of them shows \"Success\", then I put the path which i used in \"Create Site API\" into get info API\n",
    "           want to get the detail information of the new site i just created. But the resposne shows up there.That is very \n",
    "           confused.\n",
    "           \n",
    "        2) From previous Site APIs, in my opinion, the most important feature of get info API is it can return the value of \n",
    "           Site Id, then the site Id also can be consider as a input for this API. That is odd. And as my concern, in success \n",
    "           response of three create site APIs, we must return the detail information of each site to users, at least the siteIds. \n",
    "           Or that is very unreasonable to use the siteId as a key input for many API functions.\n",
    "           \n",
    "        3) My concern, should we provide an API to return all Sites the user have.\n",
    "           \n",
    "'''"
   ]
  }
 ],
 "metadata": {
  "kernelspec": {
   "display_name": "Python 3",
   "language": "python",
   "name": "python3"
  },
  "language_info": {
   "codemirror_mode": {
    "name": "ipython",
    "version": 3
   },
   "file_extension": ".py",
   "mimetype": "text/x-python",
   "name": "python",
   "nbconvert_exporter": "python",
   "pygments_lexer": "ipython3",
   "version": "3.7.1"
  }
 },
 "nbformat": 4,
 "nbformat_minor": 2
}
