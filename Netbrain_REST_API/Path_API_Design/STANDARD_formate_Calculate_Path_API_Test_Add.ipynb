{
 "cells": [
  {
   "cell_type": "code",
   "execution_count": 19,
   "metadata": {},
   "outputs": [
    {
     "name": "stdout",
     "output_type": "stream",
     "text": [
      "{'taskID': 'f285a378-721c-4c3f-a1c6-b94debba4699', 'statusCode': 790200, 'statusDescription': 'Success.'}\n"
     ]
    }
   ],
   "source": [
    "# import python modules \n",
    "import requests\n",
    "import time\n",
    "import urllib3\n",
    "import pprint\n",
    "import json\n",
    "urllib3.disable_warnings(urllib3.exceptions.InsecureRequestWarning)\n",
    "\n",
    "# Set the request inputs\n",
    "token = \"0930eb5a-133d-46cf-93cf-2ab15fd858dd\"\n",
    "nb_url = \"http://192.168.28.79\"\n",
    "full_url = nb_url + \"/ServicesAPI/API/V1/CMDB/Path/Calculation\"\n",
    "headers = {'Content-Type': 'application/json', 'Accept': 'application/json'}\n",
    "headers[\"Token\"] = token\n",
    "\n",
    "'''sourceIP = \"10.10.3.253\"\n",
    "sourcePort = 0\n",
    "sourceGwIP = \"10.10.3.253\"\n",
    "sourceGwDev = \"GW2Lab\"\n",
    "sourceGwIntf =  \"Ethernet0/0\"\n",
    "destIP = \"172.24.32.225\"\n",
    "destPort = 0\n",
    "pathAnalysisSet = 1\n",
    "protocol = 4\n",
    "isLive = 1'''\n",
    "\n",
    "sourceIP = \"10.10.3.253\"\n",
    "sourcePort = 0\n",
    "sourceGwIP = \"10.10.3.253\"\n",
    "sourceGwDev = \"GW2Lab\"\n",
    "sourceGwIntf =  \"GigabitEthernet0/0.10\"\n",
    "destIP = \"172.24.32.225\"\n",
    "destPort = 0\n",
    "pathAnalysisSet = 1\n",
    "protocol = 4\n",
    "isLive = 1\n",
    "\n",
    "body = {\n",
    "            \"sourceIP\" : sourceIP,                # IP address of the source device.\n",
    "            \"sourcePort\" : sourcePort,\n",
    "            \"sourceGwDev\" : sourceGwDev,          # Hostname of the gateway device.\n",
    "            \"sourceGwIP\" : sourceGwIP,            # Ip address of the gateway device.\n",
    "            \"sourceGwIntf\" : sourceGwIntf,        # Name of the gateway interface.\n",
    "            \"destIP\" : destIP,                    # IP address of the destination device.\n",
    "            \"destPort\" : destPort,\n",
    "            \"pathAnalysisSet\" : pathAnalysisSet,  # 1:L3 Path; 2:L2 Path; 3:L3 Active Path\n",
    "            \"protocol\" : protocol,                # Specify the application protocol, check online help, such as 4 for IPv4.\n",
    "            \"isLive\" : isLive                     # False: Current Baseline; True: Live access\n",
    "    } \n",
    "\n",
    "try:\n",
    "    response = requests.post(full_url, data = json.dumps(body), headers = headers, verify = False)\n",
    "    if response.status_code == 200:\n",
    "        result = response.json()\n",
    "        print (result)\n",
    "    else:\n",
    "        print (\"Create module attribute failed! - \" + str(response.text))\n",
    "    \n",
    "except Exception as e:\n",
    "    print (str(e)) "
   ]
  },
  {
   "cell_type": "code",
   "execution_count": null,
   "metadata": {},
   "outputs": [],
   "source": []
  }
 ],
 "metadata": {
  "kernelspec": {
   "display_name": "Python 3",
   "language": "python",
   "name": "python3"
  },
  "language_info": {
   "codemirror_mode": {
    "name": "ipython",
    "version": 3
   },
   "file_extension": ".py",
   "mimetype": "text/x-python",
   "name": "python",
   "nbconvert_exporter": "python",
   "pygments_lexer": "ipython3",
   "version": "3.7.1"
  }
 },
 "nbformat": 4,
 "nbformat_minor": 2
}
