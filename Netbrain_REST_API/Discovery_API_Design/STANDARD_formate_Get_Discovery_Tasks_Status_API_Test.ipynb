{
 "cells": [
  {
   "cell_type": "markdown",
   "metadata": {},
   "source": [
    "# Discovery API Design"
   ]
  },
  {
   "cell_type": "markdown",
   "metadata": {},
   "source": [
    "## ***GET*** /V1/CMDB/Discovery/Tasks/{taskId or taskName}/Status\n",
    "Call this API to get all discovered devices (successfully or failed) for a  discovery task.\n",
    "\n",
    "> **Caution :** If too many devices would be discovered (for example, up to 50,000 network devices), this API may return a large amount of data and have the performance issue. \n",
    "\n",
    "* ## Detail Information\n",
    "\n",
    "> **Title** : Get Discovery Task Status API<br>\n",
    "\n",
    "> **Version** : 01/28/2019.\n",
    "\n",
    "> **API Server URL** : http(s)://IP address of NetBrain Web API Server/ServicesAPI/API/V1/CMDB/Discovery/Tasks/{taskId or taskName}/Status\n",
    "\n",
    "> **Authentication** : \n",
    "\n",
    ">|**Type**|**In**|**Name**|\n",
    "|------|------|------|\n",
    "|<img width=100/>|<img width=100/>|<img width=500/>|\n",
    "|Bearer Authentication| Headers | Authentication token | \n",
    "\n",
    "* ## Request body(****required***)\n",
    "\n",
    ">No request body.\n",
    "\n",
    "* ## Path Parameters(****required***)\n",
    "\n",
    "> |**Name**|**Type**|**Description**|\n",
    "|------|------|------|\n",
    "|<img width=100/>|<img width=100/>|<img width=500/>|\n",
    "|tasks.id*| string | The ID of a discovery task.  |\n",
    "|tasks.name*| string | The name of a discovery task. |\n",
    "\n",
    ">>**Note:** two parameters can only provide one to call this API and must provide one parameter.\n",
    "\n",
    "* ## Headers\n",
    "\n",
    "> **Data Format Headers**\n",
    "\n",
    "> |**Name**|**Type**|**Description**|\n",
    "|------|------|------|\n",
    "|<img width=100/>|<img width=100/>|<img width=500/>|\n",
    "| Content-Type | string  | support \"application/json\" |\n",
    "| Accept | string  | support \"application/json\" |\n",
    "\n",
    "> **Authorization Headers**\n",
    "\n",
    "> |**Name**|**Type**|**Description**|\n",
    "|------|------|------|\n",
    "|<img width=100/>|<img width=100/>|<img width=500/>|\n",
    "| token | string  | Authentication token, get from login API. |\n",
    "\n",
    "* ## Response\n",
    "\n",
    ">|**Name**|**Type**|**Description**|\n",
    "|------|------|------|\n",
    "|<img width=100/>|<img width=100/>|<img width=500/>|\n",
    "|statusCode| integer | The returned status code of executing the API.  |\n",
    "|statusDescription| string | The explanation of the status code.  |\n",
    "|taskStatus| integer | The status of the task. The status has the following values: <br> ▪ -1: Unknown <br> ▪ 0: Never run<br> ▪ 2: Running<br> ▪ 10: Succeeded<br> ▪ 11: Succeeded with warnings<br> ▪ 20: Failed<br> ▪ 30: Manually stopped<br> ▪ 31: Automatically stopped due to timeout set by users or another system setting. |\n",
    "\n",
    "> ***Example***"
   ]
  },
  {
   "cell_type": "code",
   "execution_count": null,
   "metadata": {},
   "outputs": [],
   "source": [
    "{\n",
    "    \"taskStatus\": 0,\n",
    "    \"statusCode\": 790200,\n",
    "    \"statusDescription\": \"Success.\"\n",
    "}"
   ]
  },
  {
   "cell_type": "markdown",
   "metadata": {},
   "source": [
    "* # Full Example:"
   ]
  },
  {
   "cell_type": "code",
   "execution_count": 2,
   "metadata": {},
   "outputs": [
    {
     "name": "stdout",
     "output_type": "stream",
     "text": [
      "{'taskStatus': 0, 'statusCode': 790200, 'statusDescription': 'Success.'}\n"
     ]
    }
   ],
   "source": [
    "# import python modules \n",
    "import requests\n",
    "import time\n",
    "import urllib3\n",
    "import pprint\n",
    "import json\n",
    "urllib3.disable_warnings(urllib3.exceptions.InsecureRequestWarning)\n",
    "\n",
    "# Set the request inputs\n",
    "token = \"fd8b3f95-adc6-406d-9c18-bdb155de2ced\"\n",
    "nb_url = \"http://192.168.28.79\"\n",
    "\n",
    "#taskID = \"34124e63-31d6-dfad-f5fa-05ae0ebb4b49\"\n",
    "##OR##\n",
    "taskName = \"testGDL_DT1\"\n",
    "\n",
    "headers = {'Content-Type': 'application/json', 'Accept': 'application/json'}\n",
    "headers[\"Token\"]=token\n",
    "\n",
    "#full_url= nb_url + \"/ServicesAPI/API/V1/CMDB/Discovery/Tasks/\"+str(taskID)+\"/Status\"\n",
    "##OR##\n",
    "full_url= nb_url + \"/ServicesAPI/API/V1/CMDB/Discovery/Tasks/\"+str(taskName)+\"/Status\"\n",
    "    \n",
    "try:\n",
    "    # Do the HTTP request\n",
    "    response = requests.get(full_url, headers=headers, verify=False)\n",
    "    # Check for HTTP codes other than 200\n",
    "    if response.status_code == 200:\n",
    "        # Decode the JSON response into a dictionary and use the data\n",
    "        result = response.json()\n",
    "        print (result)\n",
    "    else:\n",
    "        print(\"Get Running Status failed - \" + str(response.text))\n",
    "\n",
    "except Exception as e:\n",
    "    print (str(e)) "
   ]
  },
  {
   "cell_type": "markdown",
   "metadata": {},
   "source": [
    "* # cURL Code from Postman"
   ]
  },
  {
   "cell_type": "code",
   "execution_count": null,
   "metadata": {},
   "outputs": [],
   "source": [
    "curl -X GET \\\n",
    "  http://192.168.28.79/ServicesAPI/API/V1/CMDB/Discovery/Tasks/e86e73da-1829-fd8e-4f83-98f524533779/Status \\\n",
    "  -H 'Postman-Token: 749cc9f7-b13f-499b-8da0-d91b03c83322' \\\n",
    "  -H 'cache-control: no-cache' \\\n",
    "  -H 'token: fd8b3f95-adc6-406d-9c18-bdb155de2ced'"
   ]
  },
  {
   "cell_type": "markdown",
   "metadata": {},
   "source": [
    "* # Error Examples:"
   ]
  },
  {
   "cell_type": "code",
   "execution_count": null,
   "metadata": {},
   "outputs": [],
   "source": [
    "###################################################################################################################    \n",
    "\n",
    "\"\"\"Error 1: empty inputs\"\"\"\n",
    "\n",
    "Input:\n",
    "    \n",
    "        taskID = \"\"\n",
    "        taskName = \"\"\n",
    "\n",
    "Response:\n",
    "    \n",
    "    \"Get Running Status failed - \n",
    "        {\n",
    "            \"statusCode\":793404,\n",
    "            \"statusDescription\":\"No resource\"\n",
    "        }\"\n",
    "\n",
    "###################################################################################################################    \n",
    "\n",
    "\"\"\"Error 2: taskId or taskName dose not exist\"\"\"\n",
    "\n",
    "Input:\n",
    "     \n",
    "        taskID = \"34124e63-31d6-dfad-f5fa\" # it should be \"34124e63-31d6-dfad-f5fa-05ae0ebb4b49\"\n",
    "        ##OR##\n",
    "        taskName = \"blahblahblah\"# it should be \"testGDL_DT1\"\n",
    "\n",
    "\n",
    "Response:\n",
    "    \n",
    "    \"Get Running Status failed - \n",
    "        {\n",
    "            \"taskStatus\":0,\n",
    "            \"statusCode\":794004,\n",
    "            \"statusDescription\":\"Task 'blahblahblah' does not exist.\"\n",
    "        }\"\n",
    "        \n",
    "    ##OR##\n",
    "    \"Get Running Status failed - \n",
    "        {\n",
    "            \"taskStatus\":0,\n",
    "            \"statusCode\":794004,\n",
    "            \"statusDescription\":\"Task '34124e63-31d6-dfad-f5fa' does not exist.\"\n",
    "        }\"\n",
    "        "
   ]
  }
 ],
 "metadata": {
  "kernelspec": {
   "display_name": "Python 3",
   "language": "python",
   "name": "python3"
  },
  "language_info": {
   "codemirror_mode": {
    "name": "ipython",
    "version": 3
   },
   "file_extension": ".py",
   "mimetype": "text/x-python",
   "name": "python",
   "nbconvert_exporter": "python",
   "pygments_lexer": "ipython3",
   "version": "3.7.1"
  }
 },
 "nbformat": 4,
 "nbformat_minor": 2
}
