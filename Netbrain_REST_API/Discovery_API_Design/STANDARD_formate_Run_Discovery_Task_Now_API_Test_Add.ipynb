{
 "cells": [
  {
   "cell_type": "code",
   "execution_count": 22,
   "metadata": {},
   "outputs": [
    {
     "name": "stdout",
     "output_type": "stream",
     "text": [
      "Run Discovery Task failed - {\"statusCode\":791006,\"statusDescription\":\"task 34124e63-31d6-dfad-f5fa does not exist.\"}\n"
     ]
    }
   ],
   "source": [
    "# import python modules \n",
    "import requests\n",
    "import time\n",
    "import urllib3\n",
    "import pprint\n",
    "import json\n",
    "urllib3.disable_warnings(urllib3.exceptions.InsecureRequestWarning)\n",
    "\n",
    "# Set the request inputs\n",
    "token = \"c4fcb468-bc36-4cca-acc8-2c863de34ed2\"\n",
    "nb_url = \"http://192.168.28.79\"\n",
    "\n",
    "taskID = \"34124e63-31d6-dfad-f5fa\"\n",
    "#taskID = \"34124e63-31d6-dfad-f5fa-05ae0ebb4b49\"\n",
    "#taskID = \"a8e8904c-574b-07c3-5caf-07fc7584e4f8\"\n",
    "##OR##\n",
    "#taskName = \"testGDL_DT1\"\n",
    "\n",
    "headers = {'Content-Type': 'application/json', 'Accept': 'application/json'}\n",
    "headers[\"Token\"]=token\n",
    "\n",
    "full_url= nb_url + \"/ServicesAPI/API/V1/CMDB/Discovery/Tasks/\"+str(taskID)+\"/Run\"\n",
    "##OR##\n",
    "#full_url= nb_url + \"/ServicesAPI/API//V1/CMDB/Discovery/Tasks/\"+str(taskName)+\"/Run\"\n",
    "\n",
    "try:\n",
    "    # Do the HTTP request\n",
    "    response = requests.post(full_url, headers=headers, verify=False)\n",
    "    # Check for HTTP codes other than 200\n",
    "    if response.status_code == 200:\n",
    "        # Decode the JSON response into a dictionary and use the data\n",
    "        result = response.json()\n",
    "        print (result)\n",
    "    else:\n",
    "        print (\"Run Discovery Task failed - \" + str(response.text))\n",
    "\n",
    "except Exception as e:\n",
    "    print (str(e)) "
   ]
  },
  {
   "cell_type": "code",
   "execution_count": 20,
   "metadata": {},
   "outputs": [
    {
     "name": "stdout",
     "output_type": "stream",
     "text": [
      "Run Discovery Task failed - {\"statusCode\":794001,\"statusDescription\":\"The task is running.\"}\n"
     ]
    }
   ],
   "source": [
    "# Do the HTTP request\n",
    "response = requests.post(full_url, headers=headers, verify=False)\n",
    "# Check for HTTP codes other than 200\n",
    "if response.status_code == 200:\n",
    "    # Decode the JSON response into a dictionary and use the data\n",
    "    result = response.json()\n",
    "    print (result)\n",
    "else:\n",
    "    print (\"Run Discovery Task failed - \" + str(response.text))"
   ]
  },
  {
   "cell_type": "code",
   "execution_count": 18,
   "metadata": {},
   "outputs": [
    {
     "name": "stdout",
     "output_type": "stream",
     "text": [
      "0 s\n",
      "{'taskStatus': 2, 'statusCode': 790200, 'statusDescription': 'Success.'}\n",
      "1 s\n",
      "{'taskStatus': 2, 'statusCode': 790200, 'statusDescription': 'Success.'}\n",
      "2 s\n",
      "{'taskStatus': 2, 'statusCode': 790200, 'statusDescription': 'Success.'}\n",
      "3 s\n",
      "{'taskStatus': 10, 'statusCode': 790200, 'statusDescription': 'Success.'}\n",
      "4 s\n",
      "{'taskStatus': 10, 'statusCode': 790200, 'statusDescription': 'Success.'}\n",
      "5 s\n",
      "{'taskStatus': 10, 'statusCode': 790200, 'statusDescription': 'Success.'}\n",
      "6 s\n",
      "{'taskStatus': 10, 'statusCode': 790200, 'statusDescription': 'Success.'}\n",
      "7 s\n",
      "{'taskStatus': 10, 'statusCode': 790200, 'statusDescription': 'Success.'}\n",
      "8 s\n",
      "{'taskStatus': 10, 'statusCode': 790200, 'statusDescription': 'Success.'}\n",
      "9 s\n",
      "{'taskStatus': 10, 'statusCode': 790200, 'statusDescription': 'Success.'}\n"
     ]
    }
   ],
   "source": [
    "import time\n",
    "\n",
    "full_url1 = nb_url + \"/ServicesAPI/API/V1/CMDB/Discovery/Tasks/\"+str(taskID)+\"/Status\"\n",
    "##OR##\n",
    "#full_url= nb_url + \"/ServicesAPI/API/V1/CMDB/Discovery/Tasks/\"+str(taskName)+\"/Status\"\n",
    "\n",
    "for i in range(10): \n",
    "    \n",
    "    now = time.time()\n",
    "    print(str(i) + \" s\")\n",
    "    # Do the HTTP request\n",
    "    response = requests.get(full_url1, headers=headers, verify=False)\n",
    "    # Check for HTTP codes other than 200\n",
    "    if response.status_code == 200:\n",
    "        # Decode the JSON response into a dictionary and use the data\n",
    "        result = response.json()\n",
    "        print (result)\n",
    "    else:\n",
    "        print(\"Get Running Status failed - \" + str(response.text))\n",
    "    \n",
    "    elapsed = time.time() - now  # how long was it running?\n",
    "    \n",
    "    time.sleep(1.-elapsed)       # sleep accordingly so the full iteration takes 1 second\n",
    "   \n",
    "        "
   ]
  },
  {
   "cell_type": "code",
   "execution_count": 13,
   "metadata": {},
   "outputs": [
    {
     "name": "stdout",
     "output_type": "stream",
     "text": [
      "{'taskStatus': 10, 'statusCode': 790200, 'statusDescription': 'Success.'}\n"
     ]
    }
   ],
   "source": [
    "#full_url1 = nb_url + \"/ServicesAPI/API/V1/CMDB/Discovery/Tasks/\"+str(taskID)+\"/Status\"\n",
    "##OR##\n",
    "#full_url= nb_url + \"/ServicesAPI/API/V1/CMDB/Discovery/Tasks/\"+str(taskName)+\"/Status\"\n",
    "   \n",
    "try:\n",
    "    # Do the HTTP request\n",
    "    response = requests.get(full_url1, headers=headers, verify=False)\n",
    "    # Check for HTTP codes other than 200\n",
    "    if response.status_code == 200:\n",
    "        # Decode the JSON response into a dictionary and use the data\n",
    "        result = response.json()\n",
    "        print (result)\n",
    "    else:\n",
    "        print(\"Get Running Status failed - \" + str(response.text))\n",
    "\n",
    "except Exception as e:\n",
    "    print (str(e)) "
   ]
  },
  {
   "cell_type": "code",
   "execution_count": null,
   "metadata": {},
   "outputs": [],
   "source": []
  }
 ],
 "metadata": {
  "kernelspec": {
   "display_name": "Python 3",
   "language": "python",
   "name": "python3"
  },
  "language_info": {
   "codemirror_mode": {
    "name": "ipython",
    "version": 3
   },
   "file_extension": ".py",
   "mimetype": "text/x-python",
   "name": "python",
   "nbconvert_exporter": "python",
   "pygments_lexer": "ipython3",
   "version": "3.7.1"
  }
 },
 "nbformat": 4,
 "nbformat_minor": 2
}
