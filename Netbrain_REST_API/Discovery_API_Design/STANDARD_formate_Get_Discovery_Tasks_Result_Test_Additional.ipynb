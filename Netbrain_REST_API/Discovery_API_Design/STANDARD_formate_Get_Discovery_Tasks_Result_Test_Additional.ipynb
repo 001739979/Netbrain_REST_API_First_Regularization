{
 "cells": [
  {
   "cell_type": "code",
   "execution_count": 19,
   "metadata": {},
   "outputs": [
    {
     "name": "stdout",
     "output_type": "stream",
     "text": [
      "{'devices': [{'mgmtIP': '123.20.1.3', 'source': 'Scan 123.20.1.3/32', 'hostname': 'SW5', 'frontServerOrGroupId': 'NetBrainServer', 'ping': 'Succeeded', 'SNMP': 'nb', 'vendor': 'Cisco', 'oid': '1.3.6.1.4.1.9.1.1227', 'type': 'Cisco IOS Switch', 'config': 'Succeeded', 'telnetSSH': 'Succeeded'}, {'mgmtIP': '123.1.1.1', 'source': 'Scan 123.1.1.1/32', 'hostname': 'R1', 'frontServerOrGroupId': 'NetBrainServer', 'ping': 'Succeeded', 'SNMP': 'nb', 'vendor': 'Cisco', 'oid': '1.3.6.1.4.1.9.1.1', 'type': 'Cisco Router', 'config': 'Succeeded', 'telnetSSH': 'Succeeded'}, {'mgmtIP': '10.1.14.2', 'source': 'Scan 10.1.14.2/32', 'hostname': 'Client3', 'frontServerOrGroupId': 'NetBrainServer', 'ping': 'Succeeded', 'SNMP': 'nb', 'vendor': 'Cisco', 'oid': '1.3.6.1.4.1.9.1.1', 'type': 'Cisco Router', 'config': 'Succeeded', 'telnetSSH': 'Succeeded'}, {'mgmtIP': '123.203.3.3', 'source': 'Scan 123.203.3.3/32', 'hostname': 'SW3', 'frontServerOrGroupId': 'NetBrainServer', 'ping': 'Succeeded', 'SNMP': 'nb', 'vendor': 'Cisco', 'oid': '1.3.6.1.4.1.9.1.1227', 'type': 'Cisco IOS Switch', 'config': 'Succeeded', 'telnetSSH': 'Succeeded'}, {'mgmtIP': '10.1.13.2', 'source': 'Scan 10.1.13.2/32', 'hostname': 'Client2', 'frontServerOrGroupId': 'NetBrainServer', 'ping': 'Succeeded', 'SNMP': 'nb', 'vendor': 'Cisco', 'oid': '1.3.6.1.4.1.9.1.1', 'type': 'Cisco Router', 'config': 'Succeeded', 'telnetSSH': 'Succeeded'}, {'mgmtIP': '123.204.4.4', 'source': 'Scan 123.204.4.4/32', 'hostname': 'SW4', 'frontServerOrGroupId': 'NetBrainServer', 'ping': 'Succeeded', 'SNMP': 'nb', 'vendor': 'Cisco', 'oid': '1.3.6.1.4.1.9.1.1227', 'type': 'Cisco IOS Switch', 'config': 'Succeeded', 'telnetSSH': 'Succeeded'}], 'statusCode': 790200, 'statusDescription': 'Success.'}\n"
     ]
    }
   ],
   "source": [
    "# import python modules \n",
    "import requests\n",
    "import time\n",
    "import urllib3\n",
    "import pprint\n",
    "import json\n",
    "urllib3.disable_warnings(urllib3.exceptions.InsecureRequestWarning)\n",
    "\n",
    "# Set the request inputs\n",
    "token = \"855b2da0-306b-4c29-b37f-be09e33e2d02\"\n",
    "nb_url = \"http://192.168.28.79\"\n",
    "\n",
    "taskID = \"34124e63-31d6-dfad-f5fa-05ae0ebb4b49\"\n",
    "##OR##\n",
    "#taskName = \"testGDL_DT1\"\n",
    "#data = {\"ips\" : [\"123.1.1.0\"]}\n",
    "\n",
    "# Set proper headers\n",
    "headers = {'Content-Type': 'application/json', 'Accept': 'application/json'}\n",
    "headers[\"Token\"]=token\n",
    "full_url= nb_url + \"/ServicesAPI/API/V1/CMDB/Discovery/Tasks/\"+str(taskID)+\"/Results\"\n",
    "    \n",
    "try:\n",
    "    # Do the HTTP request\n",
    "    #response = requests.get(full_url, headers=headers, params = data, verify=False)\n",
    "    response = requests.get(full_url, headers=headers, verify=False)\n",
    "    # Check for HTTP codes other than 200\n",
    "    if response.status_code == 200:\n",
    "        # Decode the JSON response into a dictionary and use the data\n",
    "        result = response.json()\n",
    "        print (result)\n",
    "    else:\n",
    "        print(\"Get discovery results failed - \" + str(response.text))\n",
    "    \n",
    "except Exception as e:\n",
    "    print (str(e)) "
   ]
  },
  {
   "cell_type": "code",
   "execution_count": null,
   "metadata": {},
   "outputs": [],
   "source": []
  }
 ],
 "metadata": {
  "kernelspec": {
   "display_name": "Python 3",
   "language": "python",
   "name": "python3"
  },
  "language_info": {
   "codemirror_mode": {
    "name": "ipython",
    "version": 3
   },
   "file_extension": ".py",
   "mimetype": "text/x-python",
   "name": "python",
   "nbconvert_exporter": "python",
   "pygments_lexer": "ipython3",
   "version": "3.7.1"
  }
 },
 "nbformat": 4,
 "nbformat_minor": 2
}
