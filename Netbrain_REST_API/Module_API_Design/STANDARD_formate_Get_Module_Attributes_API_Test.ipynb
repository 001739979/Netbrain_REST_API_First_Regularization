{
 "cells": [
  {
   "cell_type": "markdown",
   "metadata": {},
   "source": [
    "# Module API Design"
   ]
  },
  {
   "cell_type": "markdown",
   "metadata": {},
   "source": [
    "## ***GET*** /V1/CMDB/Modules/Attributes{?hostname}&{?attributeName}&{?moduleName}\n",
    "Call this API to get the value for a specified attribute of a device interface, get all attributes if the attribute name is not specifed.\n",
    "\n",
    "* ## Detail Information\n",
    "\n",
    "> **Title** : Get Module Attributes API<br>\n",
    "\n",
    "> **Version** : 01/30/2019.\n",
    "\n",
    "> **API Server URL** : http(s)://IP address of NetBrain Web API Server/ServicesAPI/API/V1/CMDB/Modules/Attributes\n",
    "    \n",
    "> **Authentication** : \n",
    "\n",
    ">|**Type**|**In**|**Name**|\n",
    "|------|------|------|\n",
    "|<img width=100/>|<img width=100/>|<img width=500/>|\n",
    "|Bearer Authentication| Headers | Authentication token | \n",
    "\n",
    "* ## Request body(****required***)\n",
    "\n",
    ">No request body.\n",
    "\n",
    "* ## Query arameters(****required***)\n",
    "\n",
    ">|**Name**|**Type**|**Description**|\n",
    "|------|------|------|\n",
    "|<img width=100/>|<img width=100/>|<img width=500/>|\n",
    "|hostname* | string  | The hostname of the target device.  |\n",
    "|moduleName* | string  | Input the full name of the module. |\n",
    "|attributeName | string  | Optional. The name of the attribute that you want to get its value,, get all attributes if the attribute name is not specifed.<br>Please note that the attribute name here is case sensitive and not the name displayed in the Device Details pane of NetBrain IE system. See Applicable Module Attributes for system built-in module attributes.  |\n",
    "\n",
    "* ## Headers\n",
    "\n",
    "> **Data Format Headers**\n",
    "\n",
    "> |**Name**|**Type**|**Description**|\n",
    "|------|------|------|\n",
    "|<img width=100/>|<img width=100/>|<img width=500/>|\n",
    "| Content-Type | string  | support \"application/json\" |\n",
    "| Accept | string  | support \"application/json\" |\n",
    "\n",
    "> **Authorization Headers**\n",
    "\n",
    "> |**Name**|**Type**|**Description**|\n",
    "|------|------|------|\n",
    "|<img width=100/>|<img width=100/>|<img width=500/>|\n",
    "| token | string  | Authentication token, get from login API. |\n",
    "\n",
    "* ## Response\n",
    "\n",
    ">|**Name**|**Type**|**Description**|\n",
    "|------|------|------|\n",
    "|<img width=100/>|<img width=100/>|<img width=500/>|\n",
    "|attributeName | string | The name of the attribute.  |\n",
    "|moduleAttributeValue| string | The returned attribute value.  |\n",
    "|hostname| string | The hostname of the returned device. |\n",
    "|statusCode| integer | Code issued by NetBrain server indicating the execution result.  |\n",
    "|statusDescription| string | The explanation of the status code. |\n",
    "\n",
    "> ***Example***"
   ]
  },
  {
   "cell_type": "code",
   "execution_count": null,
   "metadata": {},
   "outputs": [],
   "source": [
    "{\n",
    "      \"statusCode\": 790200,\n",
    "      \"statusDescription\": \"success\",\n",
    "      \"hostname\": \"Bos-Core-1\",\n",
    "      \"attributeName\": \"newAttribute\",\n",
    "      \"moduleAttributeValue\": \"newAttribute\"\n",
    "}"
   ]
  },
  {
   "cell_type": "markdown",
   "metadata": {},
   "source": [
    "* # Full Example:"
   ]
  },
  {
   "cell_type": "code",
   "execution_count": 3,
   "metadata": {},
   "outputs": [
    {
     "name": "stdout",
     "output_type": "stream",
     "text": [
      "Get module attributes failed! - {\"statusCode\":793001,\"statusDescription\":\"Inner exception. please check system log(default location: log/NgThirdAPI.log)\"}\n"
     ]
    }
   ],
   "source": [
    "# import python modules \n",
    "import requests\n",
    "import time\n",
    "import urllib3\n",
    "import pprint\n",
    "import json\n",
    "urllib3.disable_warnings(urllib3.exceptions.InsecureRequestWarning)\n",
    "\n",
    "# Set the request inputs\n",
    "token = \"9c717c9a-4302-45b5-a068-2a3e9c4ea1a3\"\n",
    "nb_url = \"http://192.168.28.79\"\n",
    "full_url = nb_url + \"/ServicesAPI/API/V1/CMDB/Modules/Attributes\"\n",
    "headers = {'Content-Type': 'application/json', 'Accept': 'application/json'}\n",
    "headers[\"Token\"] = token\n",
    "\n",
    "attributeName = \"Module_newAtt\"\n",
    "moduleName = \"newModule\"\n",
    "hostname = \"R1\"\n",
    "\n",
    "data = {\n",
    "        \"hostname\":hostname,\n",
    "        \"moduleName\":moduleName, \n",
    "        \"attributeName\":attributeName\n",
    "    }\n",
    "\n",
    "try:\n",
    "    response = requests.get(full_url, params=data, headers=headers, verify=False)\n",
    "    if response.status_code == 200:\n",
    "        result = response.json()\n",
    "        print (\"Module Attributes :\"+str(result))\n",
    "    else:\n",
    "        print (\"Get module attributes failed! - \" + str(response.text))\n",
    "    \n",
    "except Exception as e:\n",
    "    print (str(e))  "
   ]
  },
  {
   "cell_type": "markdown",
   "metadata": {},
   "source": [
    "* # cURL Code from Postman"
   ]
  },
  {
   "cell_type": "code",
   "execution_count": null,
   "metadata": {},
   "outputs": [],
   "source": [
    "curl -X GET \\\n",
    "  'http://192.168.28.79/ServicesAPI/API/V1/CMDB/Modules/Attributes?attributeName=Module_newAtt&moduleName=newModule&hostname=R1' \\\n",
    "  -H 'Postman-Token: e4e03449-689b-4732-af30-0e4e2ef6360e' \\\n",
    "  -H 'cache-control: no-cache' \\\n",
    "  -H 'token: 9c717c9a-4302-45b5-a068-2a3e9c4ea1a3'"
   ]
  },
  {
   "cell_type": "code",
   "execution_count": null,
   "metadata": {},
   "outputs": [],
   "source": [
    "'''\n",
    "Some Issues:\n",
    "        1) The response is not accuracy, as shown in Full Example.\n",
    "'''"
   ]
  }
 ],
 "metadata": {
  "kernelspec": {
   "display_name": "Python 3",
   "language": "python",
   "name": "python3"
  },
  "language_info": {
   "codemirror_mode": {
    "name": "ipython",
    "version": 3
   },
   "file_extension": ".py",
   "mimetype": "text/x-python",
   "name": "python",
   "nbconvert_exporter": "python",
   "pygments_lexer": "ipython3",
   "version": "3.7.1"
  }
 },
 "nbformat": 4,
 "nbformat_minor": 2
}
