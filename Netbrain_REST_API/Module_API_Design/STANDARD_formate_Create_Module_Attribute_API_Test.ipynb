{
 "cells": [
  {
   "cell_type": "markdown",
   "metadata": {},
   "source": [
    "# Module API Design"
   ]
  },
  {
   "cell_type": "markdown",
   "metadata": {},
   "source": [
    "## ***POST*** /V1/CMDB/Modules/Attributes\n",
    "Call this API to create a customized module attribute for certain device types. You can use the SetModuleAttribute API to set a value for the created attribute.\n",
    "\n",
    "* ## Detail Information\n",
    "\n",
    "> **Title** : Create Module Attribute API<br>\n",
    "\n",
    "> **Version** : 01/30/2019.\n",
    "\n",
    "> **API Server URL** : http(s)://IP address of NetBrain Web API Server/ServicesAPI/API/V1/CMDB/Modules/Attributes\n",
    "    \n",
    "> **Authentication** : \n",
    "\n",
    ">|**Type**|**In**|**Name**|\n",
    "|------|------|------|\n",
    "|<img width=100/>|<img width=100/>|<img width=500/>|\n",
    "|Bearer Authentication| Headers | Authentication token | \n",
    "\n",
    "* ## Request body(****required***)\n",
    "\n",
    ">|**Name**|**Type**|**Description**|\n",
    "|------|------|------|\n",
    "|<img width=100/>|<img width=100/>|<img width=500/>|\n",
    "|attributeName* | string  | The name of the attribute.  |\n",
    "|deviceTypeNames* | string  | The device types that the created attribute applies to. If set to null, it will apply to all device types. See Device Type Name and ID for available device types. |\n",
    "|subDataType | string  | Only available for list or table type property.<br>▪ The data type of each value in a list type property.<br>▪ If the data type is table, specify the sub properties of table type property as follows:<br>\"name\" - the sub property name (displayed as a column header).<br>\"displayName\" - the display name (alias) of the sub property (can be null).<br>\"dataType\" - the data type of the sub property.<br>\"isKey\" (bool) - control whether to use the sub property as the key when comparing the table type property. The default value is false.  |\n",
    "|dataType* | string  | The data type of the attribute.  |\n",
    "|attributeDisplayName | string  | The display name of the attribute in Device Details pane of NetBrain IE system. |\n",
    "|isFullSearch*|bool|Set whether to use the property as an index in full scope search, including extended search and default search.|\n",
    "\n",
    "> ***Example***"
   ]
  },
  {
   "cell_type": "code",
   "execution_count": null,
   "metadata": {},
   "outputs": [],
   "source": [
    "{\n",
    "      \"attributeName\": \"newAttribute\",\n",
    "      \"attributeDisplayName\": \"New Attribute\",\n",
    "      \"deviceTypeNames\": \"null\",\n",
    "      \"dataType\": \"string\",\n",
    "      \"subDataType\": \"null\",\n",
    "      \"isFullSearch\": true\n",
    "}"
   ]
  },
  {
   "cell_type": "markdown",
   "metadata": {},
   "source": [
    "* ## Parameters(****required***)\n",
    "\n",
    ">No parameters required.\n",
    "\n",
    "* ## Headers\n",
    "\n",
    "> **Data Format Headers**\n",
    "\n",
    "> |**Name**|**Type**|**Description**|\n",
    "|------|------|------|\n",
    "|<img width=100/>|<img width=100/>|<img width=500/>|\n",
    "| Content-Type | string  | support \"application/json\" |\n",
    "| Accept | string  | support \"application/json\" |\n",
    "\n",
    "> **Authorization Headers**\n",
    "\n",
    "> |**Name**|**Type**|**Description**|\n",
    "|------|------|------|\n",
    "|<img width=100/>|<img width=100/>|<img width=500/>|\n",
    "| token | string  | Authentication token, get from login API. |\n",
    "\n",
    "* ## Response\n",
    "\n",
    ">|**Name**|**Type**|**Description**|\n",
    "|------|------|------|\n",
    "|<img width=100/>|<img width=100/>|<img width=500/>|\n",
    "|statusCode| integer | The returned status code of executing the API.  |\n",
    "|statusDescription| string | The explanation of the status code.  |\n",
    "\n",
    "> ***Example***"
   ]
  },
  {
   "cell_type": "code",
   "execution_count": null,
   "metadata": {},
   "outputs": [],
   "source": [
    "{\n",
    "    'statusCode': 790200, \n",
    "    'statusDescription': 'Success.'\n",
    "}"
   ]
  },
  {
   "cell_type": "markdown",
   "metadata": {},
   "source": [
    "* # Full Example:"
   ]
  },
  {
   "cell_type": "code",
   "execution_count": 1,
   "metadata": {},
   "outputs": [
    {
     "name": "stdout",
     "output_type": "stream",
     "text": [
      "{'statusCode': 790200, 'statusDescription': 'Success.'}\n"
     ]
    }
   ],
   "source": [
    "# import python modules \n",
    "import requests\n",
    "import time\n",
    "import urllib3\n",
    "import pprint\n",
    "import json\n",
    "urllib3.disable_warnings(urllib3.exceptions.InsecureRequestWarning)\n",
    "\n",
    "# Set the request inputs\n",
    "token = \"9c717c9a-4302-45b5-a068-2a3e9c4ea1a3\"\n",
    "nb_url = \"http://192.168.28.79\"\n",
    "full_url = nb_url + \"/ServicesAPI/API/V1/CMDB/Modules/Attributes\"\n",
    "headers = {'Content-Type': 'application/json', 'Accept': 'application/json'}\n",
    "headers[\"Token\"] = token\n",
    "\n",
    "attributeName = \"Module_newAtt\"\n",
    "attributeDisplayName = \"Module newAtt\"\n",
    "deviceTypeNames = \"null\"\n",
    "dataType = \"string\"\n",
    "subDataType = \"null\"\n",
    "isFullSearch = True\n",
    "\n",
    "body = {\n",
    "      \"attributeName\": attributeName,\n",
    "      \"attributeDisplayName\": attributeDisplayName,\n",
    "      \"deviceTypeNames\": deviceTypeNames,\n",
    "      \"dataType\": dataType,\n",
    "      \"subDataType\": subDataType,\n",
    "      \"isFullSearch\": isFullSearch\n",
    "}\n",
    "\n",
    "try:\n",
    "    response = requests.post(full_url, data=json.dumps(body), headers=headers, verify=False)\n",
    "    if response.status_code == 200:\n",
    "        result = response.json()\n",
    "        print (result)\n",
    "    else:\n",
    "        print (\"Create module attribute failed! - \" + str(response.text))\n",
    "    \n",
    "except Exception as e:\n",
    "    print (str(e)) "
   ]
  },
  {
   "cell_type": "markdown",
   "metadata": {},
   "source": [
    "* # cURL Code from Postman"
   ]
  },
  {
   "cell_type": "code",
   "execution_count": null,
   "metadata": {},
   "outputs": [],
   "source": [
    "curl -X POST \\\n",
    "  http://192.168.28.79/ServicesAPI/API/V1/CMDB/Modules/Attributes \\\n",
    "  -H 'Content-Type: application/json' \\\n",
    "  -H 'Postman-Token: 1c0f98f1-7a9b-4877-a19b-96b5a6cb2c84' \\\n",
    "  -H 'cache-control: no-cache' \\\n",
    "  -H 'token: b56ed962-8ccd-4b2d-a7c1-7d97fff51321' \\\n",
    "  -d '{\n",
    "        \"attributeName\" : \"Module_newAtt1\",\n",
    "        \"attributeDisplayName\" : \"Module newAtt1\",\n",
    "        \"deviceTypeNames\" : \"null\",\n",
    "        \"dataType\" : \"string\",\n",
    "        \"subDataType\" : \"null\",\n",
    "        \"isFullSearch\" : \"True\"\n",
    "    }'"
   ]
  },
  {
   "cell_type": "markdown",
   "metadata": {},
   "source": [
    "* # Error Examples:"
   ]
  },
  {
   "cell_type": "code",
   "execution_count": null,
   "metadata": {},
   "outputs": [],
   "source": [
    "###################################################################################################################    \n",
    "\n",
    "\"\"\"Error 1: empty inputs\"\"\"\n",
    "\n",
    "Input:\n",
    "    \n",
    "        attributeName = \"\" # cannot be null\n",
    "        attributeDisplayName = \"\"\n",
    "        deviceTypeNames = \"\"\n",
    "        dataType = \"\" # cannot be null\n",
    "        subDataType = \"\"\n",
    "        isFullSearch = \"\"\n",
    "        \n",
    "Response:\n",
    "    \n",
    "    \"Create module attribute failed! - \n",
    "    {\n",
    "        \"statusCode\":791000,\n",
    "        \"statusDescription\":\"Null parameter: the parameter 'attributeName' cannot be null.\"\n",
    "    }\n",
    "\n",
    "    Create module attribute failed! - \n",
    "    {\n",
    "        \"statusCode\":791000,\n",
    "        \"statusDescription\":\"Null parameter: the parameter 'dataType' cannot be null.\"\n",
    "    }\"\n",
    "    \n",
    "###################################################################################################################    \n",
    "\n",
    "\"\"\"Error 1: duplicate \"attributeName\" \"\"\"\n",
    "\n",
    "Input:\n",
    "    \n",
    "        attributeName = \"Module_newAtt\" # atrribute with \"attributeName\" already exist in domain.\n",
    "        attributeDisplayName = \"\"\n",
    "        deviceTypeNames = \"\"\n",
    "        dataType = \"string\" # cannot be null\n",
    "        subDataType = \"\"\n",
    "        isFullSearch = \"\"\n",
    "        \n",
    "Response:\n",
    "    \n",
    "    \"Create module attribute failed! - \n",
    "        {\n",
    "            \"statusCode\":793001,\n",
    "            \"statusDescription\":\"Inner exception. Insert: Device Schema already exists, ID = modules.Module_newAtt\"\n",
    "        }\"\n",
    "        \n",
    "###################################################################################################################    \n",
    "\n",
    "\"\"\"Error 1: duplicate \"attributeName\" \"\"\"\n",
    "\n",
    "Input:\n",
    "    \n",
    "        attributeName = \"Module_newAtt22\" \n",
    "        attributeDisplayName = \"\"\n",
    "        deviceTypeNames = \"\"\n",
    "        dataType = \"hahaha\" # wrong input of data type\n",
    "        subDataType = \"\"\n",
    "        isFullSearch = \"\"\n",
    "        \n",
    "Response:\n",
    "    \n",
    "    \"Create module attribute failed! - \n",
    "        {\n",
    "            \"statusCode\":791002,\n",
    "            \"statusDescription\":\"Invalid value the dataType value is invalid.\"\n",
    "        }\""
   ]
  },
  {
   "cell_type": "code",
   "execution_count": null,
   "metadata": {},
   "outputs": [],
   "source": [
    "'''\n",
    "Some Isuess:\n",
    "        1) The information of required inputs in paramater table is not accuracy.\n",
    "        \n",
    "        2) Success response too simple, at least a message should provided, return whole attribute body would be the best.\n",
    "        \n",
    "        3) Why we must have two names for one attribute. That is very unconvnience.\n",
    "'''"
   ]
  }
 ],
 "metadata": {
  "kernelspec": {
   "display_name": "Python 3",
   "language": "python",
   "name": "python3"
  },
  "language_info": {
   "codemirror_mode": {
    "name": "ipython",
    "version": 3
   },
   "file_extension": ".py",
   "mimetype": "text/x-python",
   "name": "python",
   "nbconvert_exporter": "python",
   "pygments_lexer": "ipython3",
   "version": "3.7.1"
  }
 },
 "nbformat": 4,
 "nbformat_minor": 2
}
