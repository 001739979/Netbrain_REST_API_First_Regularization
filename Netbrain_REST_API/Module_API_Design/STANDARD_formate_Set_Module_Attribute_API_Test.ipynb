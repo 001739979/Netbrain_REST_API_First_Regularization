{
 "cells": [
  {
   "cell_type": "markdown",
   "metadata": {},
   "source": [
    "# Module API Design"
   ]
  },
  {
   "cell_type": "markdown",
   "metadata": {},
   "source": [
    "## ***PUT*** /V1/CMDB/Modules/Attributes\n",
    "Call this API to set a value for the specific property of a device module.\n",
    "\n",
    "* ## Detail Information\n",
    "\n",
    "> **Title** : Set Module Attribute API<br>\n",
    "\n",
    "> **Version** : 01/31/2019.\n",
    "\n",
    "> **API Server URL** : http(s)://IP address of NetBrain Web API Server/ServicesAPI/API/V1/CMDB/Modules/Attributes\n",
    "    \n",
    "> **Authentication** : \n",
    "\n",
    ">|**Type**|**In**|**Name**|\n",
    "|------|------|------|\n",
    "|<img width=100/>|<img width=100/>|<img width=500/>|\n",
    "|Bearer Authentication| Headers | Authentication token | \n",
    "\n",
    "* ## Request body(****required***)\n",
    "\n",
    ">|**Name**|**Type**|**Description**|\n",
    "|------|------|------|\n",
    "|<img width=100/>|<img width=100/>|<img width=500/>|\n",
    "|attributeName* | string  | The name of the attribute. Please note that the slot name cannot be set. |\n",
    "|attributeValue* | string/int/double  | The value for the attribute.  |\n",
    "|hostname* | string  | The hostname of the device. |\n",
    "|moduleName* | string  | The full name of the module.  |\n",
    "\n",
    "> **Note:** Applicable Module Attribute\n",
    ">>  |**Property Name**|**Display Name in Device Detail Pane**|**Description**|\n",
    "|------|------|------|\n",
    "| type | Module Type  | The port counts of a module. |\n",
    "| ports | Ports  | The module type of a module. |\n",
    "| sn | Module Serial Number  | The serial number of a module. |\n",
    "| hwrev | HW Rev  | The hardware revision of a module. |\n",
    "| fwrev | FW Rev  | The firmware revision of a module. |\n",
    "| swrev | SW Rev  | The software revision of a module. |\n",
    "| descr | Description  | The description of a module. |\n",
    "\n",
    "> ***Example***"
   ]
  },
  {
   "cell_type": "code",
   "execution_count": null,
   "metadata": {},
   "outputs": [],
   "source": [
    "{\n",
    "      \"attributeName\": \"newAtt11\",\n",
    "      \"attributeValue\": \"Boston\",\n",
    "      \"hostname\": \"Bos-Core1\",\n",
    "      \"moduleName\": \"slot1\"\n",
    "}"
   ]
  },
  {
   "cell_type": "markdown",
   "metadata": {},
   "source": [
    "* ## Parameters(****required***)\n",
    "\n",
    ">No parameters required.\n",
    "\n",
    "* ## Headers\n",
    "\n",
    "> **Data Format Headers**\n",
    "\n",
    "> |**Name**|**Type**|**Description**|\n",
    "|------|------|------|\n",
    "|<img width=100/>|<img width=100/>|<img width=500/>|\n",
    "| Content-Type | string  | support \"application/json\" |\n",
    "| Accept | string  | support \"application/json\" |\n",
    "\n",
    "> **Authorization Headers**\n",
    "\n",
    "> |**Name**|**Type**|**Description**|\n",
    "|------|------|------|\n",
    "|<img width=100/>|<img width=100/>|<img width=500/>|\n",
    "| token | string  | Authentication token, get from login API. |\n",
    "\n",
    "* ## Response\n",
    "\n",
    ">|**Name**|**Type**|**Description**|\n",
    "|------|------|------|\n",
    "|<img width=100/>|<img width=100/>|<img width=500/>|\n",
    "|statusCode| integer | The returned status code of executing the API.  |\n",
    "|statusDescription| string | The explanation of the status code.  |\n",
    "\n",
    "> ***Example***"
   ]
  },
  {
   "cell_type": "code",
   "execution_count": null,
   "metadata": {},
   "outputs": [],
   "source": [
    "{\n",
    "    'statusCode': 790200, \n",
    "    'statusDescription': 'Success.'\n",
    "}"
   ]
  },
  {
   "cell_type": "markdown",
   "metadata": {},
   "source": [
    "* # Full Examples:"
   ]
  },
  {
   "cell_type": "code",
   "execution_count": 4,
   "metadata": {},
   "outputs": [
    {
     "name": "stdout",
     "output_type": "stream",
     "text": [
      "Set module attribute failed! - {\"statusCode\":791000,\"statusDescription\":\"Null parameter: the parameter 'moduleName' cannot be null.\"}\n"
     ]
    }
   ],
   "source": [
    "# import python modules \n",
    "import requests\n",
    "import time\n",
    "import urllib3\n",
    "import pprint\n",
    "import json\n",
    "urllib3.disable_warnings(urllib3.exceptions.InsecureRequestWarning)\n",
    "\n",
    "# Set the request inputs\n",
    "token = \"9c717c9a-4302-45b5-a068-2a3e9c4ea1a3\"\n",
    "nb_url = \"http://192.168.28.79\"\n",
    "full_url = nb_url + \"/ServicesAPI/API/V1/CMDB/Modules/Attributes\"\n",
    "headers = {'Content-Type': 'application/json', 'Accept': 'application/json'}\n",
    "headers[\"Token\"] = token\n",
    "\n",
    "attributeName = \"Module_newAtt\"\n",
    "attributeValue = \"10\"\n",
    "hostname = \"R1\"\n",
    "moduleName = \"\"\n",
    "\n",
    "body = {\n",
    "        \"hostname\": hostname,\n",
    "        \"attributeName\": attributeName,\n",
    "        \"attributeValue\": attributeValue, \n",
    "        \"moduleName\":moduleName\n",
    "    }\n",
    "\n",
    "try:\n",
    "    response = requests.put(full_url, data=json.dumps(body), headers=headers, verify=False)\n",
    "    if response.status_code == 200:\n",
    "        result = response.json()\n",
    "        print (result)\n",
    "    else:\n",
    "        print (\"Set module attribute failed! - \" + str(response.text))\n",
    "\n",
    "except Exception as e:\n",
    "    print (str(e))     "
   ]
  },
  {
   "cell_type": "markdown",
   "metadata": {},
   "source": [
    "* # cURL Code From Postman"
   ]
  },
  {
   "cell_type": "code",
   "execution_count": null,
   "metadata": {},
   "outputs": [],
   "source": [
    "curl -X PUT \\\n",
    "  http://192.168.28.79/ServicesAPI/API/V1/CMDB/Modules/Attributes \\\n",
    "  -H 'Content-Type: application/json' \\\n",
    "  -H 'Postman-Token: ec5e4492-8129-4157-ab4a-1e3cc2d10371' \\\n",
    "  -H 'cache-control: no-cache' \\\n",
    "  -H 'token: 9c717c9a-4302-45b5-a068-2a3e9c4ea1a3' \\\n",
    "  -d '{\n",
    "        \"hostname\": \"Module_newAtt\",\n",
    "        \"attributeName\": \"10\",\n",
    "        \"attributeValue\": \"R1\", \n",
    "        \"moduleName\":\"\"\n",
    "\n",
    "    }'"
   ]
  },
  {
   "cell_type": "markdown",
   "metadata": {},
   "source": [
    "* # Error Examples:"
   ]
  },
  {
   "cell_type": "code",
   "execution_count": null,
   "metadata": {},
   "outputs": [],
   "source": [
    "###################################################################################################################    \n",
    "\n",
    "\"\"\"Error 1: empty inputs\"\"\"\n",
    "\n",
    "Input:\n",
    "    \n",
    "        attributeName = \"\"\n",
    "        attributeValue = \"\"\n",
    "        hostname = \"\"\n",
    "        moduleName = \"\"\n",
    "        \n",
    "Response:\n",
    "    \n",
    "    # Set all Attributes as null\n",
    "    \"Set module attribute failed! - \n",
    "        {\n",
    "            \"statusCode\":791000,\n",
    "            \"statusDescription\":\"Null parameter: the parameter 'hostname' cannot be null.\"\n",
    "        }\n",
    "\n",
    "    # Only set hostname not null\n",
    "    Set module attribute failed! - \n",
    "        {\n",
    "            \"statusCode\":791000,\n",
    "            \"statusDescription\":\"Null parameter: the parameter 'attributeName' cannot be null.\"\n",
    "        }\n",
    "    \n",
    "    # Set hostname and attributeName not null\n",
    "    Set module attribute failed! - \n",
    "        {\n",
    "            \"statusCode\":791000,\n",
    "            \"statusDescription\":\"Null parameter: the parameter 'moduleName' cannot be null.\"\n",
    "        }\n",
    "        \n",
    "    # Only set attribute value as null\n",
    "    Set module attribute failed! - \"\"\"\"\"\"\"\"\"\"\"\"\"\"\"\"\"\"\"\"\"\"\"\"\"\"\"\"\"\"\"\"\"\"\"\"\"\"\"\"\"\"\"\"\"\"\"\"\"\"\"\"\"\"\"\"\"\"\"\"\"\"\"\"\"\"\"\"\"\"\"\"\"\"\"\"\"\"\n",
    "        {\n",
    "            \"statusCode\":791006,\n",
    "            \"statusDescription\":\"attribute modules.New does not exist.\"\n",
    "        }\"\n",
    "        'Interestingly, the module i provided is not exist, the response should shows the module not exist.'\n",
    "    \n",
    "###################################################################################################################    \n",
    "\n",
    "\"\"\"Error 1: Set hostname wrong\"\"\"\n",
    "\n",
    "Input:\n",
    "    \n",
    "        attributeName = \"\"\n",
    "        attributeValue = \"\"\n",
    "        hostname = \"RRRRRRRRRRRRRRRRRRRRRRR1\" # No device name as \"RRRRRRRRRRRRRRRRRRRRRRR1\"\n",
    "        moduleName = \"\"\n",
    "        \n",
    "Response:\n",
    "    \n",
    "    \"Set module attribute failed! - \n",
    "        {\n",
    "            \"statusCode\":791006,\n",
    "            \"statusDescription\":\"device RRRRRRRRRRRRRRRRRr1 does not exist.\"\n",
    "        }\""
   ]
  },
  {
   "cell_type": "code",
   "execution_count": null,
   "metadata": {},
   "outputs": [],
   "source": [
    "'''\n",
    "Some Issues:\n",
    "        1) The success response too simple, return the module body should be the best.\n",
    "        \n",
    "        2) The response of empty input is not accuracy,as shown in error examples.\n",
    "        \n",
    "        3) No devices have modules, hard to test more.\n",
    "'''"
   ]
  }
 ],
 "metadata": {
  "kernelspec": {
   "display_name": "Python 3",
   "language": "python",
   "name": "python3"
  },
  "language_info": {
   "codemirror_mode": {
    "name": "ipython",
    "version": 3
   },
   "file_extension": ".py",
   "mimetype": "text/x-python",
   "name": "python",
   "nbconvert_exporter": "python",
   "pygments_lexer": "ipython3",
   "version": "3.7.1"
  }
 },
 "nbformat": 4,
 "nbformat_minor": 2
}
