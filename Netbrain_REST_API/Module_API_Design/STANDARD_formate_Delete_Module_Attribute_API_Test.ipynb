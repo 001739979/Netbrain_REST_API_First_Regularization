{
 "cells": [
  {
   "cell_type": "markdown",
   "metadata": {},
   "source": [
    "# Module API Design"
   ]
  },
  {
   "cell_type": "markdown",
   "metadata": {},
   "source": [
    "## ***DELETE*** /V1/CMDB/Modules/Attributes\n",
    "Call this API to delete an module attribute (property) from device schema.\n",
    "\n",
    "* ## Detail Information\n",
    "\n",
    "> **Title** : Delete Module Attribute API<br>\n",
    "\n",
    "> **Version** : 01/30/2019.\n",
    "\n",
    "> **API Server URL** : http(s)://IP address of NetBrain Web API Server/ServicesAPI/API/V1/CMDB/Modules/Attributes\n",
    "    \n",
    "> **Authentication** : \n",
    "\n",
    ">|**Type**|**In**|**Name**|\n",
    "|------|------|------|\n",
    "|<img width=100/>|<img width=100/>|<img width=500/>|\n",
    "|Bearer Authentication| Headers | Authentication token | \n",
    "\n",
    "* ## Request body(****required***)\n",
    "\n",
    "> No request body.\n",
    "\n",
    "* ## Query Parameters(****required***)\n",
    "\n",
    "> |**Name**|**Type**|**Description**|\n",
    "|------|------|------|\n",
    "|<img width=100/>|<img width=100/>|<img width=500/>|\n",
    "|attributeName* | string  | The name of the attribute that you want to delete. Please note that the attribute name here is case sensitive.  |\n",
    "\n",
    "* ## Headers\n",
    "\n",
    "> **Data Format Headers**\n",
    "\n",
    "> |**Name**|**Type**|**Description**|\n",
    "|------|------|------|\n",
    "|<img width=100/>|<img width=100/>|<img width=500/>|\n",
    "| Content-Type | string  | support \"application/json\" |\n",
    "| Accept | string  | support \"application/json\" |\n",
    "\n",
    "> **Authorization Headers**\n",
    "\n",
    "> |**Name**|**Type**|**Description**|\n",
    "|------|------|------|\n",
    "|<img width=100/>|<img width=100/>|<img width=500/>|\n",
    "| token | string  | Authentication token, get from login API. |\n",
    "\n",
    "* ## Response\n",
    "\n",
    ">|**Name**|**Type**|**Description**|\n",
    "|------|------|------|\n",
    "|<img width=100/>|<img width=100/>|<img width=500/>|\n",
    "|statusCode| integer | The returned status code of executing the API.  |\n",
    "|statusDescription| string | The explanation of the status code.  |\n",
    "\n",
    "> ***Example***"
   ]
  },
  {
   "cell_type": "code",
   "execution_count": null,
   "metadata": {},
   "outputs": [],
   "source": [
    "{\n",
    "    'statusCode': 790200, \n",
    "    'statusDescription': 'Success.'\n",
    "}"
   ]
  },
  {
   "cell_type": "markdown",
   "metadata": {},
   "source": [
    "* # Full Example:"
   ]
  },
  {
   "cell_type": "code",
   "execution_count": 1,
   "metadata": {},
   "outputs": [
    {
     "name": "stdout",
     "output_type": "stream",
     "text": [
      "Delete module attribute :{'statusCode': 790200, 'statusDescription': 'Success.'}\n"
     ]
    }
   ],
   "source": [
    "# import python modules \n",
    "import requests\n",
    "import time\n",
    "import urllib3\n",
    "import pprint\n",
    "import json\n",
    "urllib3.disable_warnings(urllib3.exceptions.InsecureRequestWarning)\n",
    "\n",
    "# Set the request inputs\n",
    "token = \"9c717c9a-4302-45b5-a068-2a3e9c4ea1a3\"\n",
    "nb_url = \"http://192.168.28.79\"\n",
    "full_url = nb_url + \"/ServicesAPI/API/V1/CMDB/Modules/Attributes\"\n",
    "headers = {'Content-Type': 'application/json', 'Accept': 'application/json'}\n",
    "headers[\"Token\"] = token\n",
    "\n",
    "attributeName = \"Module_newAtt\"\n",
    "\n",
    "body={\"attributeName\": attributeName} # Why set \"attributeName\" as a body parameter?\n",
    "\n",
    "try:\n",
    "    response = requests.delete(full_url, data=json.dumps(body),headers=headers, verify=False)\n",
    "    if response.status_code == 200:\n",
    "        result = response.json()\n",
    "        print (\"Delete module attribute :\"+str(result))\n",
    "    else:\n",
    "        print (\"Delete module attribute failed! - \" + str(response.text))\n",
    "\n",
    "except Exception as e:\n",
    "    print (str(e))       "
   ]
  },
  {
   "cell_type": "markdown",
   "metadata": {},
   "source": [
    "* # cURL Code from Postman:"
   ]
  },
  {
   "cell_type": "code",
   "execution_count": null,
   "metadata": {},
   "outputs": [],
   "source": [
    "curl -X DELETE \\\n",
    "  http://192.168.28.79/ServicesAPI/API/V1/CMDB/Modules/Attributes \\\n",
    "  -H 'Content-Type: application/json' \\\n",
    "  -H 'Postman-Token: 61103f33-dd90-4ad6-8745-d524a8696dd3' \\\n",
    "  -H 'cache-control: no-cache' \\\n",
    "  -H 'token: 9c717c9a-4302-45b5-a068-2a3e9c4ea1a3' \\\n",
    "  -d '{\n",
    "        \"attributeName\" : \"newAttribute\"\n",
    "    }'"
   ]
  },
  {
   "cell_type": "markdown",
   "metadata": {},
   "source": [
    "* # Error Examples:"
   ]
  },
  {
   "cell_type": "code",
   "execution_count": null,
   "metadata": {},
   "outputs": [],
   "source": [
    "###################################################################################################################    \n",
    "\n",
    "\"\"\"Error 1: empty inputs\"\"\"\n",
    "\n",
    "Input:\n",
    "    \n",
    "        attributeName = \"\"\n",
    "        \n",
    "Response:\n",
    "    \n",
    "    \"Delete module attribute failed! - \n",
    "        {\n",
    "            \"statusCode\":791000,\n",
    "            \"statusDescription\":\"Null parameter: the parameter 'attributeName' cannot be null.\"\n",
    "        }\"\n",
    "        \n",
    "###################################################################################################################    \n",
    "\n",
    "\"\"\"Error 2: wrong attribute name provided\"\"\"\n",
    "\n",
    "Input:\n",
    "    \n",
    "        attributeName = \"hahahahahahahaha\" # No attribute named as \"hahahahahahahaha\".\n",
    "        \n",
    "Response:\n",
    "    \n",
    "    \"Delete module attribute failed! - \n",
    "        {\n",
    "            \"statusCode\":791006,\n",
    "            \"statusDescription\":\"attribute hahahahahahahaha does not exist.\"\n",
    "        }\" \n",
    "        \n",
    "###################################################################################################################    \n",
    "\n",
    "\"\"\"Error 3: duplicate deletion\"\"\"\n",
    "\n",
    "Input:\n",
    "    \n",
    "        attributeName = \"hahahahahahahaha\" # No attribute named as \"hahahahahahahaha\".\n",
    "        \n",
    "Response:\n",
    "    \n",
    "    \"Delete module attribute failed! - \n",
    "        {\n",
    "            \"statusCode\":791006,\n",
    "            \"statusDescription\":\"attribute Module_newAtt1 does not exist.\"\n",
    "        }\" \n",
    "\n"
   ]
  },
  {
   "cell_type": "code",
   "execution_count": null,
   "metadata": {},
   "outputs": [],
   "source": [
    "'''\n",
    "Some Issues:\n",
    "        1) The input parameter shouldn't be set as a body parameter.\n",
    "        \n",
    "        2) The success response too simple, a message about which attribute has been deleted is needed.\n",
    "        \n",
    "        3) We should mention users that the input \"attributeName\" is the property name shown in 'GDR Data Configuration'\n",
    "           not the name shown in the Netbrain desktop.\n",
    "'''"
   ]
  }
 ],
 "metadata": {
  "kernelspec": {
   "display_name": "Python 3",
   "language": "python",
   "name": "python3"
  },
  "language_info": {
   "codemirror_mode": {
    "name": "ipython",
    "version": 3
   },
   "file_extension": ".py",
   "mimetype": "text/x-python",
   "name": "python",
   "nbconvert_exporter": "python",
   "pygments_lexer": "ipython3",
   "version": "3.7.1"
  }
 },
 "nbformat": 4,
 "nbformat_minor": 2
}
