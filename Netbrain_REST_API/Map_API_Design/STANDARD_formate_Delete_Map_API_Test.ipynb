{
 "cells": [
  {
   "cell_type": "markdown",
   "metadata": {},
   "source": [
    "# Map API Design"
   ]
  },
  {
   "cell_type": "markdown",
   "metadata": {},
   "source": [
    "## ***DELETE*** /V1/CMDB/Maps/{?url}\n",
    "Call this API to delete a map from system.\n",
    "\n",
    "* ## Detail Information\n",
    "\n",
    "> **Title** : Delete Map API<br>\n",
    "\n",
    "> **Version** : 01/30/2019.\n",
    "\n",
    "> **API Server URL** : http(s)://IP address of NetBrain Web API Server/ServicesAPI/API/V1/CMDB/Maps\n",
    "\n",
    "> **Authentication** : \n",
    "\n",
    ">|**Type**|**In**|**Name**|\n",
    "|------|------|------|\n",
    "|<img width=100/>|<img width=100/>|<img width=500/>|\n",
    "|Bearer Authentication| Headers | Authentication token | \n",
    "\n",
    "* ## Request body(****required***)\n",
    "\n",
    "> No request body.\n",
    "\n",
    "* ## Query Parameters(****required***)\n",
    "\n",
    ">|**Name**|**Type**|**Description**|\n",
    "|------|------|------|\n",
    "|<img width=100/>|<img width=100/>|<img width=500/>|\n",
    "|url* | string  | The url of the map that you will export.  |\n",
    "\n",
    "* ## Headers\n",
    "\n",
    "> **Data Format Headers**\n",
    "\n",
    "> |**Name**|**Type**|**Description**|\n",
    "|------|------|------|\n",
    "|<img width=100/>|<img width=100/>|<img width=500/>|\n",
    "| Content-Type | string  | support \"application/json\" |\n",
    "| Accept | string  | support \"application/json\" |\n",
    "\n",
    "> **Authorization Headers**\n",
    "\n",
    "> |**Name**|**Type**|**Description**|\n",
    "|------|------|------|\n",
    "|<img width=100/>|<img width=100/>|<img width=500/>|\n",
    "| token | string  | Authentication token, get from login API. |\n",
    "\n",
    "* ## Response\n",
    "\n",
    ">|**Name**|**Type**|**Description**|\n",
    "|------|------|------|\n",
    "|<img width=100/>|<img width=100/>|<img width=500/>|\n",
    "|statusCode| integer | The returned status code of executing the API.  |\n",
    "|statusDescription| string | The explanation of the status code.  |\n",
    "\n",
    "> ***Example***\n"
   ]
  },
  {
   "cell_type": "code",
   "execution_count": null,
   "metadata": {},
   "outputs": [],
   "source": [
    "{\n",
    "    'statusCode': 790200, \n",
    "    'statusDescription': 'Success.'\n",
    "}"
   ]
  },
  {
   "cell_type": "markdown",
   "metadata": {},
   "source": [
    "* # Full Examples:"
   ]
  },
  {
   "cell_type": "code",
   "execution_count": 1,
   "metadata": {},
   "outputs": [
    {
     "name": "stdout",
     "output_type": "stream",
     "text": [
      "{'statusCode': 790200, 'statusDescription': 'Success.'}\n"
     ]
    }
   ],
   "source": [
    "# import python modules \n",
    "import requests\n",
    "import time\n",
    "import urllib3\n",
    "import pprint\n",
    "import json\n",
    "urllib3.disable_warnings(urllib3.exceptions.InsecureRequestWarning)\n",
    "\n",
    "# Set the request inputs\n",
    "token = \"b56ed962-8ccd-4b2d-a7c1-7d97fff51321\"\n",
    "nb_url = \"http://192.168.28.79\"\n",
    "full_url = nb_url + \"/ServicesAPI/API/V1/CMDB/Maps\"\n",
    "headers = {'Content-Type': 'application/json', 'Accept': 'application/json'}\n",
    "headers[\"Token\"] = token\n",
    "\n",
    "map_url = \"http://192.168.28.79/map.html?t=fb24f3f0-81a7-1929-4b8f-99106c23fa5b&d=0201adc4-ae96-46f0-ae3d-01cdba9e41d6&id=7f713c38-10fa-295a-3721-35d1b6d9fa5b\"\n",
    "data = {\n",
    "        \"url\": map_url\n",
    "    }\n",
    "\n",
    "try:\n",
    "    response = requests.delete(full_url, params=data, headers=headers, verify=False)\n",
    "    if response.status_code == 200:\n",
    "        result = response.json()\n",
    "        #map_data = result[\"fileData\"]\n",
    "        print (result)\n",
    "    elif response.status_code != 200:\n",
    "        print (\"Export map failed! - \" + str(response.text))\n",
    "    \n",
    "except Exception as e:\n",
    "    print (str(e))"
   ]
  },
  {
   "cell_type": "markdown",
   "metadata": {},
   "source": [
    "* # cURL from Postman:"
   ]
  },
  {
   "cell_type": "code",
   "execution_count": null,
   "metadata": {},
   "outputs": [],
   "source": [
    "curl -X DELETE \\\n",
    "  'http://192.168.28.79/ServicesAPI/API/V1/CMDB/Maps?url=http://192.168.28.79/map.html?t=fb24f3f0-81a7-1929-4b8f-99106c23fa5b&d=0201adc4-ae96-46f0-ae3d-01cdba9e41d6&id=7f713c38-10fa-295a-3721-35d1b6d9fa5b' \\\n",
    "  -H 'Postman-Token: 9bf74a3f-96df-4b5c-a399-238f3a2b8c3c' \\\n",
    "  -H 'cache-control: no-cache' \\\n",
    "  -H 'token: b56ed962-8ccd-4b2d-a7c1-7d97fff51321'"
   ]
  },
  {
   "cell_type": "markdown",
   "metadata": {},
   "source": [
    "* # Error Examples:"
   ]
  },
  {
   "cell_type": "code",
   "execution_count": null,
   "metadata": {},
   "outputs": [],
   "source": [
    "###################################################################################################################    \n",
    "\n",
    "\"\"\"Error 1: empty inputs\"\"\"\n",
    "\n",
    "Input:\n",
    "    \n",
    "        map_url = \"\"\n",
    "        \n",
    "Response:\n",
    "    \n",
    "    \"Export map failed! - \n",
    "        {\n",
    "            \"statusCode\":791000,\n",
    "            \"statusDescription\":\"Null parameter: the parameter 'url' cannot be null.\"\n",
    "        }\"\n",
    "\"\"  \n",
    "###################################################################################################################    \n",
    "\n",
    "\"\"\"Error 2: wrong inputs\"\"\"\n",
    "\n",
    "Input:\n",
    "    \n",
    "        map_url = \"http://192.168.28.79/map.html?t=fb24f3f0-81a7-1929-4b8f-99106c23fa5b\"\n",
    "        # it shoudld be \"http://192.168.28.79/map.html?t=fb24f3f0-81a7-1929-4b8f-99106c23fa5b&d=0201adc4-ae96-46f0-ae3d-01cdba9e41d6&id=7f713c38-10fa-295a-3721-35d1b6d9fa5b\"\n",
    "\n",
    "        \n",
    "Response:\n",
    "    \n",
    "    \"Export map failed! - \n",
    "        {\n",
    "            \"statusCode\":793001,\n",
    "            \"statusDescription\":\"Inner exception. please check system log(default location: log/NgThirdAPI.log)\"\n",
    "        }\"\n",
    "\"\"  \n",
    "###################################################################################################################    \n",
    "\n",
    "\"\"\"Error 3: double delete one map\"\"\"\n",
    "\n",
    "Input:\n",
    "    \n",
    "        map_url = \"http://192.168.28.79/map.html?t=fb24f3f0-81a7-1929-4b8f-99106c23fa5b&d=0201adc4-ae96-46f0-ae3d-01cdba9e41d6&id=7f713c38-10fa-295a-3721-35d1b6d9fa5b\"\n",
    "        # the map with this usrl has been deleted already.\n",
    "Response:\n",
    "    \n",
    "    \"Export map failed! - \n",
    "        {\n",
    "            \"statusCode\":792010,\n",
    "            \"statusDescription\":\"The map file does not exist in the tenant and domain.\"\n",
    "        }\"\n",
    "  "
   ]
  },
  {
   "cell_type": "code",
   "execution_count": null,
   "metadata": {},
   "outputs": [],
   "source": [
    "'''\n",
    "Some issues:\n",
    "        1) The \"url\" input should be set as a path parameter i think.\n",
    "        \n",
    "        2) This API still cannot be called successfully through Postman. \n",
    "           But in Python it always working.\n",
    "           \n",
    "        3) The succesful response is too simple. We should provide a message to show which map has been deleted.\n",
    "           If we can present the name of the map in response than it would be much better.\n",
    "'''"
   ]
  }
 ],
 "metadata": {
  "kernelspec": {
   "display_name": "Python 3",
   "language": "python",
   "name": "python3"
  },
  "language_info": {
   "codemirror_mode": {
    "name": "ipython",
    "version": 3
   },
   "file_extension": ".py",
   "mimetype": "text/x-python",
   "name": "python",
   "nbconvert_exporter": "python",
   "pygments_lexer": "ipython3",
   "version": "3.7.1"
  }
 },
 "nbformat": 4,
 "nbformat_minor": 2
}
