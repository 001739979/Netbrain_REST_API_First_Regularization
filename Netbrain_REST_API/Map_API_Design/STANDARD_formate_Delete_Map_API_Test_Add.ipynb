{
 "cells": [
  {
   "cell_type": "code",
   "execution_count": 3,
   "metadata": {},
   "outputs": [
    {
     "name": "stdout",
     "output_type": "stream",
     "text": [
      "Export map failed! - {\"statusCode\":792010,\"statusDescription\":\"The map file does not exist in the tenant and domain.\"}\n"
     ]
    }
   ],
   "source": [
    "# import python modules \n",
    "import requests\n",
    "import time\n",
    "import urllib3\n",
    "import pprint\n",
    "import json\n",
    "urllib3.disable_warnings(urllib3.exceptions.InsecureRequestWarning)\n",
    "\n",
    "# Set the request inputs\n",
    "token = \"b56ed962-8ccd-4b2d-a7c1-7d97fff51321\"\n",
    "nb_url = \"http://192.168.28.79\"\n",
    "full_url = nb_url + \"/ServicesAPI/API/V1/CMDB/Maps\"\n",
    "headers = {'Content-Type': 'application/json', 'Accept': 'application/json'}\n",
    "headers[\"Token\"] = token\n",
    "\n",
    "map_url = \"http://192.168.28.79/map.html?t=fb24f3f0-81a7-1929-4b8f-99106c23fa5b&d=0201adc4-ae96-46f0-ae3d-01cdba9e41d6&id=7f713c38-10fa-295a-3721-35d1b6d9fa5b\"\n",
    "#map_url = \"http://192.168.28.79/map.html?t=fb24f3f0-81a7-1929-4b8f-99106c23fa5b\"\n",
    "data = {\n",
    "        \"url\": map_url\n",
    "    }\n",
    "\n",
    "try:\n",
    "    response = requests.delete(full_url, params=data, headers=headers, verify=False)\n",
    "    if response.status_code == 200:\n",
    "        result = response.json()\n",
    "        #map_data = result[\"fileData\"]\n",
    "        print (result)\n",
    "    elif response.status_code != 200:\n",
    "        print (\"Export map failed! - \" + str(response.text))\n",
    "    \n",
    "except Exception as e:\n",
    "    print (str(e))"
   ]
  },
  {
   "cell_type": "code",
   "execution_count": null,
   "metadata": {},
   "outputs": [],
   "source": []
  }
 ],
 "metadata": {
  "kernelspec": {
   "display_name": "Python 3",
   "language": "python",
   "name": "python3"
  },
  "language_info": {
   "codemirror_mode": {
    "name": "ipython",
    "version": 3
   },
   "file_extension": ".py",
   "mimetype": "text/x-python",
   "name": "python",
   "nbconvert_exporter": "python",
   "pygments_lexer": "ipython3",
   "version": "3.7.1"
  }
 },
 "nbformat": 4,
 "nbformat_minor": 2
}
