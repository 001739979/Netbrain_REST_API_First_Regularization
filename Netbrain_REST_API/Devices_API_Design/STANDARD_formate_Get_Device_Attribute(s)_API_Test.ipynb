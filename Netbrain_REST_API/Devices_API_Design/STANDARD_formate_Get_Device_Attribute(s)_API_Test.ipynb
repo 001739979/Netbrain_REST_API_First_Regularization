{
 "cells": [
  {
   "cell_type": "markdown",
   "metadata": {},
   "source": [
    "# Device API Design"
   ]
  },
  {
   "cell_type": "markdown",
   "metadata": {},
   "source": [
    "## ***GET*** /V1/CMDB/Devices/Attributes/{?hostname}/{?attributeName}\n",
    "Call this API to get the value for an attribute of a device, get all attributes if attribute name is not specifed.\n",
    "\n",
    "* ## Detail Information\n",
    "\n",
    "> **Title** : Get Device Attribute API<br>\n",
    "\n",
    "> **Version** : 01/28/2019.\n",
    "\n",
    "> **API Server URL** : http(s)://IP address of NetBrain Web API Server/ServicesAPI/API/V1/CMDB/Devices/Attributes\n",
    "\n",
    "> **Authentication** : \n",
    "\n",
    ">|**Type**|**In**|**Name**|\n",
    "|------|------|------|\n",
    "|<img width=100/>|<img width=100/>|<img width=500/>|\n",
    "|Bearer Authentication| Headers | Authentication token | \n",
    "\n",
    "* ## Request body(****required***)\n",
    "\n",
    ">No request body.\n",
    "\n",
    "* ## Query Parameters(****required***)\n",
    "\n",
    "> |**Name**|**Type**|**Description**|\n",
    "|------|------|------|\n",
    "|<img width=100/>|<img width=100/>|<img width=500/>|\n",
    "|hostname* | string  | The hostname of the target device.  |\n",
    "|attributeName | string  | Optionnal. The name of the attribute that you want to get its value, get all attributes if the attribute name is not specifed.<br>Please note that the attribute name here is case sensitive and not the name displayed in the Device Details pane of NetBrain IE system. See Applicable Device Attributes for system built-in device attributes. |\n",
    "\n",
    "* ## Headers\n",
    "\n",
    "> **Data Format Headers**\n",
    "\n",
    "> |**Name**|**Type**|**Description**|\n",
    "|------|------|------|\n",
    "|<img width=100/>|<img width=100/>|<img width=500/>|\n",
    "| Content-Type | string  | support \"application/json\" |\n",
    "| Accept | string  | support \"application/json\" |\n",
    "\n",
    "> **Authorization Headers**\n",
    "\n",
    "> |**Name**|**Type**|**Description**|\n",
    "|------|------|------|\n",
    "|<img width=100/>|<img width=100/>|<img width=500/>|\n",
    "| token | string  | Authentication token, get from login API. |\n",
    "\n",
    "* ## Response\n",
    "\n",
    "> |**Name**|**Type**|**Description**|\n",
    "|------|------|------|\n",
    "|<img width=100/>|<img width=100/>|<img width=500/>|\n",
    "|attributes | object | attributes set  |\n",
    "|attributeName| string | The name of the attribute.  |\n",
    "|hostname| string | The hostname of returned device. |\n",
    "|statusCode| integer | Code issued by NetBrain server indicating the execution result.  |\n",
    "|statusDescription| string | The explanation of the status code. |\n",
    "\n",
    "> ***Example***"
   ]
  },
  {
   "cell_type": "code",
   "execution_count": null,
   "metadata": {},
   "outputs": [],
   "source": [
    "{\n",
    "    \"hostname\": \"R20\",\n",
    "    \"attributes\": {\n",
    "        \"name\": \"R20\",\n",
    "        \"mgmtIP\": \"123.20.20.20\",\n",
    "        \"mgmtIntf\": \"Loopback0\",\n",
    "        \"subTypeName\": \"Cisco Router\",\n",
    "        \"vendor\": \"Cisco\",\n",
    "        \"model\": \"DEVELOPMENT TEST SOFTWARE\",\n",
    "        \"ver\": \"15.4(2)T4\",\n",
    "        \"sn\": \"71372834\",\n",
    "        \"site\": \"My Network\\\\Unassigned\",\n",
    "        \"loc\": \"\",\n",
    "        \"contact\": \"\",\n",
    "        \"mem\": \"356640420\",\n",
    "        \"assetTag\": \"\",\n",
    "        \"layer\": \"\",\n",
    "        \"descr\": \"\",\n",
    "        \"oid\": \"1.3.6.1.4.1.9.1.1\",\n",
    "        \"driverName\": \"Cisco Router\",\n",
    "        \"fDiscoveryTime\": {\n",
    "            \"$date\": 1547572719000\n",
    "        },\n",
    "        \"lDiscoveryTime\": {\n",
    "            \"$date\": 1547572719000\n",
    "        },\n",
    "        \"assignTags\": \"\",\n",
    "        \"hasBGPConfig\": true,\n",
    "        \"hasOSPFConfig\": false,\n",
    "        \"hasEIGRPConfig\": false,\n",
    "        \"hasISISConfig\": false,\n",
    "        \"hasMulticastConfig\": false,\n",
    "        \"TestTable\": \"\",\n",
    "        \"newAttribute\": \"20\",\n",
    "        \"attributeName\": \"\"\n",
    "    },\n",
    "    \"statusCode\": 790200,\n",
    "    \"statusDescription\": \"Success.\"\n",
    "}"
   ]
  },
  {
   "cell_type": "markdown",
   "metadata": {},
   "source": [
    "* # Full Example:"
   ]
  },
  {
   "cell_type": "code",
   "execution_count": 8,
   "metadata": {},
   "outputs": [
    {
     "name": "stdout",
     "output_type": "stream",
     "text": [
      "{'hostname': 'R20', 'attributes': {}, 'statusCode': 790200, 'statusDescription': 'Success.'}\n"
     ]
    }
   ],
   "source": [
    "# import python modules \n",
    "import requests\n",
    "import time\n",
    "import urllib3\n",
    "import pprint\n",
    "import json\n",
    "urllib3.disable_warnings(urllib3.exceptions.InsecureRequestWarning)\n",
    "\n",
    "# Set the request inputs\n",
    "token = \"855b2da0-306b-4c29-b37f-be09e33e2d02\"\n",
    "nb_url = \"http://192.168.28.79\"\n",
    "\n",
    "hostname = \"R20\"\n",
    "attributeName = \"kkkkk\" # Set attributeName as null to present all attributes of device \"R20\"\n",
    "\n",
    "headers = {'Content-Type': 'application/json', 'Accept': 'application/json'}\n",
    "headers[\"Token\"]=token\n",
    "full_url= nb_url + \"/ServicesAPI/API/V1/CMDB/Devices/Attributes\"\n",
    "\n",
    "body={\n",
    "        \"hostname\":hostname, \n",
    "        \"attributeName\":attributeName\n",
    "    }\n",
    "\n",
    "try:\n",
    "    response = requests.get(full_url, params=body, headers=headers, verify=False)\n",
    "    if response.status_code == 200:\n",
    "        result = response.json()\n",
    "        print (result)\n",
    "    else:\n",
    "        print (\"Get device attributes failed! - \" + str(response.text))\n",
    "\n",
    "except Exception as e:\n",
    "    print (str(e))   "
   ]
  },
  {
   "cell_type": "code",
   "execution_count": 3,
   "metadata": {},
   "outputs": [
    {
     "name": "stdout",
     "output_type": "stream",
     "text": [
      "{'hostname': 'R20', 'attributes': {'mgmtIP': '123.20.20.20'}, 'statusCode': 790200, 'statusDescription': 'Success.'}\n"
     ]
    }
   ],
   "source": [
    "hostname = \"R20\"\n",
    "attributeName = \"mgmtIP\" # Set attributeName as \"mgmIP\" to get the mgmIP value of device \"R20\"\n",
    "\n",
    "headers = {'Content-Type': 'application/json', 'Accept': 'application/json'}\n",
    "headers[\"Token\"]=token\n",
    "full_url= nb_url + \"/ServicesAPI/API/V1/CMDB/Devices/Attributes\"\n",
    "\n",
    "body={\n",
    "        \"hostname\":hostname, \n",
    "        \"attributeName\":attributeName\n",
    "    }\n",
    "\n",
    "try:\n",
    "    response = requests.get(full_url, params=body, headers=headers, verify=False)\n",
    "    if response.status_code == 200:\n",
    "        result = response.json()\n",
    "        print (result)\n",
    "    else:\n",
    "        print (\"Get device attributes failed! - \" + str(response.text))\n",
    "\n",
    "except Exception as e:\n",
    "    print (str(e))   "
   ]
  },
  {
   "cell_type": "markdown",
   "metadata": {},
   "source": [
    "* # cURL Code from Postman"
   ]
  },
  {
   "cell_type": "code",
   "execution_count": null,
   "metadata": {},
   "outputs": [],
   "source": [
    "curl -X GET \\\n",
    "  'http://192.168.28.79/ServicesAPI/API/V1/CMDB/Devices/Attributes?hostname=R20&attributeName=' \\\n",
    "  -H 'Postman-Token: 3dbeaeff-9328-4154-814c-d2fbad2332a7' \\\n",
    "  -H 'cache-control: no-cache' \\\n",
    "  -H 'token: 13c7ed6e-781d-4b22-83e7-b1722de4e31d'"
   ]
  },
  {
   "cell_type": "markdown",
   "metadata": {},
   "source": [
    "* # Error Examples:"
   ]
  },
  {
   "cell_type": "code",
   "execution_count": null,
   "metadata": {},
   "outputs": [],
   "source": [
    "###################################################################################################################    \n",
    "\n",
    "\"\"\"Error 1: set hostname as empty\"\"\"\n",
    "\n",
    "Input:\n",
    "    \n",
    "        hostname = \"\"\n",
    "\n",
    "Response:\n",
    "    \n",
    "    \"Get device attributes failed! - \n",
    "        {\n",
    "            \"statusCode\":791000,\n",
    "            \"statusDescription\":\"Null parameter: the parameter 'hostname' cannot be null.\"\n",
    "        }\"\n",
    "        \n",
    "###################################################################################################################    \n",
    "\n",
    "\"\"\"Error 1: hostname does not exist\"\"\"\n",
    "\n",
    "Input:\n",
    "    \n",
    "        hostname = \"blahblahblah\"\n",
    "\n",
    "Response:\n",
    "    \n",
    "    \"Get device attributes failed! - \n",
    "        {\n",
    "            \"statusCode\":791006,\n",
    "            \"statusDescription\":\"device does not exist.\"\n",
    "        }\"\n",
    "        \n",
    "###################################################################################################################    \n",
    "\n",
    "\"\"\"Error 1: attributeName does not exist in specified device\"\"\"\n",
    "\n",
    "Input:\n",
    "    \n",
    "        attributeName = \"blahblahblah\"\n",
    "\n",
    "Response:\n",
    "    \n",
    "    \"{\n",
    "        'hostname': 'R20', \n",
    "        'attributes': {}, \n",
    "        'statusCode': 790200, \n",
    "        'statusDescription': 'Success.'\n",
    "    }\""
   ]
  }
 ],
 "metadata": {
  "kernelspec": {
   "display_name": "Python 3",
   "language": "python",
   "name": "python3"
  },
  "language_info": {
   "codemirror_mode": {
    "name": "ipython",
    "version": 3
   },
   "file_extension": ".py",
   "mimetype": "text/x-python",
   "name": "python",
   "nbconvert_exporter": "python",
   "pygments_lexer": "ipython3",
   "version": "3.7.1"
  }
 },
 "nbformat": 4,
 "nbformat_minor": 2
}
