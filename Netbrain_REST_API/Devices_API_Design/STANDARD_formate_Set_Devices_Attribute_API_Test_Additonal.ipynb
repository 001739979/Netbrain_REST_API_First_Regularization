{
 "cells": [
  {
   "cell_type": "code",
   "execution_count": 7,
   "metadata": {},
   "outputs": [
    {
     "name": "stdout",
     "output_type": "stream",
     "text": [
      "Set device attribute failed! - {\"statusCode\":791006,\"statusDescription\":\"attribute blahblahblah does not exist.\"}\n"
     ]
    }
   ],
   "source": [
    "# import python modules \n",
    "import requests\n",
    "import time\n",
    "import urllib3\n",
    "import pprint\n",
    "import json\n",
    "urllib3.disable_warnings(urllib3.exceptions.InsecureRequestWarning)\n",
    "\n",
    "# Set the request inputs\n",
    "token = \"6e1f5fdd-247c-4710-91bb-2cbd3f737489\"\n",
    "nb_url = \"http://192.168.28.79\"\n",
    "\n",
    "attributeName = \"blahblahblah\"\n",
    "attributeValue = \"20\"\n",
    "hostname = \"R20\"\n",
    "\n",
    "body = {\n",
    "            \"hostname\": hostname,\n",
    "            \"attributeName\": attributeName,\n",
    "            \"attributeValue\": attributeValue\n",
    "        }\n",
    "\n",
    "headers = {'Content-Type': 'application/json', 'Accept': 'application/json'}\n",
    "headers[\"Token\"] = token\n",
    "full_url = nb_url + \"/ServicesAPI/API/V1/CMDB/Devices/Attributes\"\n",
    "    \n",
    "try:\n",
    "    response = requests.put(full_url, data=json.dumps(body), headers=headers, verify=False)\n",
    "    if response.status_code == 200:\n",
    "        result = response.json()\n",
    "        print (result)\n",
    "    else:\n",
    "        print (\"Set device attribute failed! - \" + str(response.text))\n",
    "\n",
    "except Exception as e:\n",
    "        print (str(e)) "
   ]
  },
  {
   "cell_type": "code",
   "execution_count": null,
   "metadata": {},
   "outputs": [],
   "source": []
  }
 ],
 "metadata": {
  "kernelspec": {
   "display_name": "Python 3",
   "language": "python",
   "name": "python3"
  },
  "language_info": {
   "codemirror_mode": {
    "name": "ipython",
    "version": 3
   },
   "file_extension": ".py",
   "mimetype": "text/x-python",
   "name": "python",
   "nbconvert_exporter": "python",
   "pygments_lexer": "ipython3",
   "version": "3.7.1"
  }
 },
 "nbformat": 4,
 "nbformat_minor": 2
}
