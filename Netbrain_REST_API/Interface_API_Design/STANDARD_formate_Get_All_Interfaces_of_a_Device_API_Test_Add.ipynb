{
 "cells": [
  {
   "cell_type": "code",
   "execution_count": 3,
   "metadata": {},
   "outputs": [
    {
     "name": "stdout",
     "output_type": "stream",
     "text": [
      "Get interfaces failed! - {\"statusCode\":791006,\"statusDescription\":\"device blahblahblah does not exist.\"}\n"
     ]
    }
   ],
   "source": [
    "# import python modules \n",
    "import requests\n",
    "import time\n",
    "import urllib3\n",
    "import pprint\n",
    "import json\n",
    "urllib3.disable_warnings(urllib3.exceptions.InsecureRequestWarning)\n",
    "\n",
    "# Set the request inputs\n",
    "token = \"ff389578-87ef-45b6-b42c-7bd98c91d1a9\"\n",
    "nb_url = \"http://192.168.28.79\"\n",
    "\n",
    "#hostname = \"SW5\"\n",
    "#data = {\"hostname\" : hostname}\n",
    "hostname = \"blahblahblah\"\n",
    "\n",
    "headers = {'Content-Type': 'application/json', 'Accept': 'application/json'}\n",
    "headers[\"Token\"]=token\n",
    "full_url= nb_url + \"/ServicesAPI/API/V1/CMDB/Interfaces\"\n",
    "\n",
    "try:\n",
    "    # Do the HTTP request\n",
    "    response = requests.get(full_url, headers=headers, params = {\"hostname\" : hostname}, verify=False)\n",
    "    # Check for HTTP codes other than 200\n",
    "    if response.status_code == 200:\n",
    "        # Decode the JSON response into a dictionary and use the data\n",
    "        result = response.json()\n",
    "        print (result)\n",
    "    else:\n",
    "        print (\"Get interfaces failed! - \" + str(response.text))\n",
    "\n",
    "except Exception as e:\n",
    "    print (str(e)) "
   ]
  },
  {
   "cell_type": "code",
   "execution_count": null,
   "metadata": {},
   "outputs": [],
   "source": []
  }
 ],
 "metadata": {
  "kernelspec": {
   "display_name": "Python 3",
   "language": "python",
   "name": "python3"
  },
  "language_info": {
   "codemirror_mode": {
    "name": "ipython",
    "version": 3
   },
   "file_extension": ".py",
   "mimetype": "text/x-python",
   "name": "python",
   "nbconvert_exporter": "python",
   "pygments_lexer": "ipython3",
   "version": "3.7.1"
  }
 },
 "nbformat": 4,
 "nbformat_minor": 2
}
