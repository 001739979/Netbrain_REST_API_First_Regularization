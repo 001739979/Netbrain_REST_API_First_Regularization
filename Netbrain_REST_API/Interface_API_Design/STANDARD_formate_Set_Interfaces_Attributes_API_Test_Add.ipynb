{
 "cells": [
  {
   "cell_type": "code",
   "execution_count": 7,
   "metadata": {},
   "outputs": [
    {
     "name": "stdout",
     "output_type": "stream",
     "text": [
      "Set interface attribute failed! - {\"statusCode\":791006,\"statusDescription\":\"interface Ethernet0/33333 does not exist.\"}\n"
     ]
    }
   ],
   "source": [
    "# import python modules \n",
    "import requests\n",
    "import time\n",
    "import urllib3\n",
    "import pprint\n",
    "import json\n",
    "urllib3.disable_warnings(urllib3.exceptions.InsecureRequestWarning)\n",
    "\n",
    "# Set the request inputs\n",
    "token = \"ff389578-87ef-45b6-b42c-7bd98c91d1a9\"\n",
    "nb_url = \"http://192.168.28.79\"\n",
    "headers = {'Content-Type': 'application/json', 'Accept': 'application/json'}\n",
    "headers[\"Token\"] = token\n",
    "full_url = nb_url + \"/ServicesAPI/API/V1/CMDB/Interfaces/Attributes\"\n",
    "\n",
    "'''attributeName = \"bandwidth\"\n",
    "attributeValue = \"10000\"\n",
    "interfaceName = \"Ethernet0/3\"\n",
    "hostname = \"R1\"\n",
    "'''\n",
    "attributeName = \"bandwidth\"\n",
    "attributeValue = \"\"\n",
    "interfaceName = \"Ethernet0/33333\"\n",
    "hostname = \"R1\"\n",
    "\n",
    "\n",
    "body = {\n",
    "        \"hostname\": hostname,\n",
    "        \"attributeName\": attributeName,\n",
    "        \"attributeValue\": attributeValue, \n",
    "        \"interfaceName\":interfaceName\n",
    "    }\n",
    "\n",
    "try:\n",
    "    response = requests.put(full_url, data=json.dumps(body), headers=headers, verify=False)\n",
    "    if response.status_code == 200:\n",
    "        result = response.json()\n",
    "        print (result)\n",
    "    else:\n",
    "        print (\"Set interface attribute failed! - \" + str(response.text))\n",
    "    \n",
    "except Exception as e:\n",
    "    print (str(e)) "
   ]
  },
  {
   "cell_type": "code",
   "execution_count": null,
   "metadata": {},
   "outputs": [],
   "source": [
    "Set interface attribute failed! - \n",
    "{\"statusCode\":791000,\"statusDescription\":\"Null parameter: the parameter 'hostname' cannot be null.\"}\n",
    "\n",
    "Set interface attribute failed! - \n",
    "{\"statusCode\":791000,\"statusDescription\":\"Null parameter: the parameter 'attributeName' cannot be null.\"}\n",
    "\n",
    "Set interface attribute failed! - \n",
    "{\"statusCode\":791000,\"statusDescription\":\"Null parameter: the parameter 'interfaceName' cannot be null.\"}\n"
   ]
  }
 ],
 "metadata": {
  "kernelspec": {
   "display_name": "Python 3",
   "language": "python",
   "name": "python3"
  },
  "language_info": {
   "codemirror_mode": {
    "name": "ipython",
    "version": 3
   },
   "file_extension": ".py",
   "mimetype": "text/x-python",
   "name": "python",
   "nbconvert_exporter": "python",
   "pygments_lexer": "ipython3",
   "version": "3.7.1"
  }
 },
 "nbformat": 4,
 "nbformat_minor": 2
}
