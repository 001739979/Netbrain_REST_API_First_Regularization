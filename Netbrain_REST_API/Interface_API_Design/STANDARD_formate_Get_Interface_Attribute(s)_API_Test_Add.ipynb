{
 "cells": [
  {
   "cell_type": "code",
   "execution_count": 8,
   "metadata": {},
   "outputs": [
    {
     "name": "stdout",
     "output_type": "stream",
     "text": [
      "{'statusCode': 790200, 'statusDescription': 'Success.'}\n"
     ]
    }
   ],
   "source": [
    "# import python modules \n",
    "import requests\n",
    "import time\n",
    "import urllib3\n",
    "import pprint\n",
    "import json\n",
    "urllib3.disable_warnings(urllib3.exceptions.InsecureRequestWarning)\n",
    "\n",
    "# Set the request inputs\n",
    "token = \"b56ed962-8ccd-4b2d-a7c1-7d97fff51321\"\n",
    "nb_url = \"http://192.168.28.79\"\n",
    "headers = {'Content-Type': 'application/json', 'Accept': 'application/json'}\n",
    "headers[\"Token\"] = token\n",
    "full_url = nb_url + \"/ServicesAPI/API/V1/CMDB/Interfaces/Attributes\"\n",
    "\n",
    "'''hostname = \"R1\"\n",
    "interfaceName = \"Ethernet0/3\"\n",
    "attributeName = \"\"'''\n",
    "\n",
    "hostname = \"RRRRRRRRRR1\" # Should be \"R1\"\n",
    "interfaceName = \"\"\n",
    "attributeName = \"\"\n",
    "\n",
    "data = {\n",
    "        \"hostname\":hostname,\n",
    "        \"interfaceName\":interfaceName, \n",
    "        \"attributeName\":attributeName\n",
    "    }\n",
    "\n",
    "try:\n",
    "    response = requests.get(full_url, params = data, headers = headers, verify = False)\n",
    "    if response.status_code == 200:\n",
    "        result = response.json()\n",
    "        print (result)\n",
    "    else:\n",
    "        print (\"Get interface attributes failed! - \" + str(response.text))\n",
    "\n",
    "except Exception as e:\n",
    "    print (str(e))  "
   ]
  },
  {
   "cell_type": "code",
   "execution_count": null,
   "metadata": {},
   "outputs": [],
   "source": []
  }
 ],
 "metadata": {
  "kernelspec": {
   "display_name": "Python 3",
   "language": "python",
   "name": "python3"
  },
  "language_info": {
   "codemirror_mode": {
    "name": "ipython",
    "version": 3
   },
   "file_extension": ".py",
   "mimetype": "text/x-python",
   "name": "python",
   "nbconvert_exporter": "python",
   "pygments_lexer": "ipython3",
   "version": "3.7.1"
  }
 },
 "nbformat": 4,
 "nbformat_minor": 2
}
