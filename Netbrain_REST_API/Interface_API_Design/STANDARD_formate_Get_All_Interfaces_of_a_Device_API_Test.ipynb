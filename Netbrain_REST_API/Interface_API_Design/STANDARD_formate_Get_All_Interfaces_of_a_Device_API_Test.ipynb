{
 "cells": [
  {
   "cell_type": "markdown",
   "metadata": {},
   "source": [
    "# Interface API Design"
   ]
  },
  {
   "cell_type": "markdown",
   "metadata": {},
   "source": [
    "## ***GET*** /V1/CMDB/Interface/{?hostname}\n",
    "Call this API to get all interfaces of one device which specified by hostname.\n",
    "\n",
    "* ## Detail Information\n",
    "\n",
    "> **Title** : Get All Interfaces of a Device API<br>\n",
    "\n",
    "> **Version** : 01/29/2019.\n",
    "\n",
    "> **API Server URL** : http(s)://IP address of NetBrain Web API Server/ServicesAPI/API/V1/CMDB/Interfaces\n",
    "\n",
    "> **Authentication** : \n",
    "\n",
    ">|**Type**|**In**|**Name**|\n",
    "|------|------|------|\n",
    "|<img width=100/>|<img width=100/>|<img width=500/>|\n",
    "|Bearer Authentication| Headers | Authentication token | \n",
    "\n",
    "* ## Request body(****required***)\n",
    "\n",
    ">No request body.\n",
    "\n",
    "* ## Query Parameters(****required***)\n",
    "\n",
    "> |**Name**|**Type**|**Description**|\n",
    "|------|------|------|\n",
    "|<img width=100/>|<img width=100/>|<img width=500/>|\n",
    "|hostname*| string | Device hostname.  |\n",
    "\n",
    "* ## Headers\n",
    "\n",
    "> **Data Format Headers**\n",
    "\n",
    "> |**Name**|**Type**|**Description**|\n",
    "|------|------|------|\n",
    "|<img width=100/>|<img width=100/>|<img width=500/>|\n",
    "| Content-Type | string  | support \"application/json\" |\n",
    "| Accept | string  | support \"application/json\" |\n",
    "\n",
    "> **Authorization Headers**\n",
    "\n",
    "> |**Name**|**Type**|**Description**|\n",
    "|------|------|------|\n",
    "|<img width=100/>|<img width=100/>|<img width=500/>|\n",
    "| token | string  | Authentication token, get from login API. |\n",
    "\n",
    "* ## Response\n",
    "\n",
    ">|**Name**|**Type**|**Description**|\n",
    "|------|------|------|\n",
    "|<img width=100/>|<img width=100/>|<img width=500/>|\n",
    "|interfaces| list of string | A list collection of interface names in one device.  |\n",
    "|statusCode| integer | The returned status code of executing the API.  |\n",
    "|statusDescription| string | The explanation of the status code.  |\n",
    "\n",
    "> ***Example***"
   ]
  },
  {
   "cell_type": "code",
   "execution_count": null,
   "metadata": {},
   "outputs": [],
   "source": [
    "{\n",
    "    \"interfaces\": [\n",
    "        \"Loopback0\",\n",
    "        \"Ethernet0/0\",\n",
    "        \"Ethernet0/1\",\n",
    "        \"Ethernet0/2\",\n",
    "        \"Ethernet0/3\",\n",
    "        \"Ethernet1/0\",\n",
    "        \"Ethernet1/1\",\n",
    "        \"Ethernet1/2\",\n",
    "        \"Ethernet1/3\",\n",
    "        \"Ethernet2/0\",\n",
    "        \"Ethernet2/1\",\n",
    "        \"Ethernet2/2\",\n",
    "        \"Ethernet2/3\",\n",
    "        \"Ethernet3/0\",\n",
    "        \"Ethernet3/1\",\n",
    "        \"Ethernet3/2\",\n",
    "        \"Ethernet3/3\",\n",
    "        \"Ethernet4/0\",\n",
    "        \"Ethernet4/1\",\n",
    "        \"Ethernet4/2\",\n",
    "        \"Ethernet4/3\",\n",
    "        \"Vlan5\",\n",
    "        \"Vlan55\"\n",
    "    ],\n",
    "    \"statusCode\": 790200,\n",
    "    \"statusDescription\": \"Success.\"\n",
    "}"
   ]
  },
  {
   "cell_type": "markdown",
   "metadata": {},
   "source": [
    "* # Full Example:"
   ]
  },
  {
   "cell_type": "code",
   "execution_count": 5,
   "metadata": {
    "scrolled": true
   },
   "outputs": [
    {
     "name": "stdout",
     "output_type": "stream",
     "text": [
      "{'interfaces': ['Loopback0', 'Ethernet0/0', 'Ethernet0/1', 'Ethernet0/2', 'Ethernet0/3', 'Ethernet1/0', 'Ethernet1/1', 'Ethernet1/2', 'Ethernet1/3', 'Ethernet2/0', 'Ethernet2/1', 'Ethernet2/2', 'Ethernet2/3', 'Ethernet3/0', 'Ethernet3/1', 'Ethernet3/2', 'Ethernet3/3', 'Ethernet4/0', 'Ethernet4/1', 'Ethernet4/2', 'Ethernet4/3', 'Vlan5', 'Vlan55'], 'statusCode': 790200, 'statusDescription': 'Success.'}\n"
     ]
    }
   ],
   "source": [
    "# import python modules \n",
    "import requests\n",
    "import time\n",
    "import urllib3\n",
    "import pprint\n",
    "import json\n",
    "urllib3.disable_warnings(urllib3.exceptions.InsecureRequestWarning)\n",
    "\n",
    "# Set the request inputs\n",
    "token = \"ff389578-87ef-45b6-b42c-7bd98c91d1a9\"\n",
    "nb_url = \"http://192.168.28.79\"\n",
    "\n",
    "hostname = \"SW5\"\n",
    "#data = {\"hostname\" : hostname}\n",
    "\n",
    "headers = {'Content-Type': 'application/json', 'Accept': 'application/json'}\n",
    "headers[\"Token\"]=token\n",
    "full_url= nb_url + \"/ServicesAPI/API/V1/CMDB/Interfaces\"\n",
    "\n",
    "try:\n",
    "    # Do the HTTP request\n",
    "    response = requests.get(full_url, headers=headers, params = {\"hostname\" : hostname}, verify=False)\n",
    "    # Check for HTTP codes other than 200\n",
    "    if response.status_code == 200:\n",
    "        # Decode the JSON response into a dictionary and use the data\n",
    "        result = response.json()\n",
    "        print (result)\n",
    "    else:\n",
    "        print (\"Get interfaces failed! - \" + str(response.text))\n",
    "\n",
    "except Exception as e:\n",
    "    print (str(e)) "
   ]
  },
  {
   "cell_type": "markdown",
   "metadata": {},
   "source": [
    "* # cURL Code from Postman:"
   ]
  },
  {
   "cell_type": "code",
   "execution_count": null,
   "metadata": {},
   "outputs": [],
   "source": [
    "curl -X GET \\\n",
    "  'http://192.168.28.79/ServicesAPI/API/V1/CMDB/Interfaces?hostname=SW5' \\\n",
    "  -H 'Postman-Token: 384702d0-8a7d-4fd8-80d0-9fc40dc839ad' \\\n",
    "  -H 'cache-control: no-cache' \\\n",
    "  -H 'token: ff389578-87ef-45b6-b42c-7bd98c91d1a9'"
   ]
  },
  {
   "cell_type": "markdown",
   "metadata": {},
   "source": [
    "* # Error Examples:"
   ]
  },
  {
   "cell_type": "code",
   "execution_count": null,
   "metadata": {},
   "outputs": [],
   "source": [
    "###################################################################################################################    \n",
    "\n",
    "\"\"\"Error 1: empty hostname\"\"\"\n",
    "\n",
    "Input:\n",
    "    \n",
    "        hostname = \"\"\n",
    "\n",
    "Response:\n",
    "    \n",
    "    \"Get interfaces failed! - \n",
    "        {\n",
    "            \"statusCode\":791000,\n",
    "            \"statusDescription\":\"Null parameter: the parameter 'hostname' cannot be null.\"\n",
    "        }\"\n",
    "\n",
    "###################################################################################################################    \n",
    "\n",
    "\"\"\"Error 2: hostname not exist in current domain\"\"\"\n",
    "\n",
    "Input:\n",
    "    \n",
    "        hostname = \"blahblahblah\"\n",
    "\n",
    "Response:\n",
    "    \n",
    "    \"Get interfaces failed! - \n",
    "        {\n",
    "            \"statusCode\":791006,\n",
    "            \"statusDescription\":\"device blahblahblah does not exist.\"\n",
    "        }\"\n"
   ]
  },
  {
   "cell_type": "code",
   "execution_count": null,
   "metadata": {},
   "outputs": [],
   "source": [
    "'''\n",
    "Some Issues:\n",
    "        \n",
    "        1) this function can only return all physical interfaces.\n",
    "           \n",
    "'''"
   ]
  }
 ],
 "metadata": {
  "kernelspec": {
   "display_name": "Python 3",
   "language": "python",
   "name": "python3"
  },
  "language_info": {
   "codemirror_mode": {
    "name": "ipython",
    "version": 3
   },
   "file_extension": ".py",
   "mimetype": "text/x-python",
   "name": "python",
   "nbconvert_exporter": "python",
   "pygments_lexer": "ipython3",
   "version": "3.7.1"
  }
 },
 "nbformat": 4,
 "nbformat_minor": 2
}
