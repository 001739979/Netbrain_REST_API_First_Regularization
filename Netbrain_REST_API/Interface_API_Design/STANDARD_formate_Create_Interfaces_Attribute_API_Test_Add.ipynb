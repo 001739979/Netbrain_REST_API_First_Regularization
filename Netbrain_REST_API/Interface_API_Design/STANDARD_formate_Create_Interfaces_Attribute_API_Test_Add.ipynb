{
 "cells": [
  {
   "cell_type": "code",
   "execution_count": 15,
   "metadata": {},
   "outputs": [
    {
     "name": "stdout",
     "output_type": "stream",
     "text": [
      "{'statusCode': 790200, 'statusDescription': 'Success.'}\n"
     ]
    }
   ],
   "source": [
    "# import python modules \n",
    "import requests\n",
    "import time\n",
    "import urllib3\n",
    "import pprint\n",
    "import json\n",
    "urllib3.disable_warnings(urllib3.exceptions.InsecureRequestWarning)\n",
    "\n",
    "# Set the request inputs\n",
    "token = \"ff389578-87ef-45b6-b42c-7bd98c91d1a9\"\n",
    "nb_url = \"http://192.168.28.79\"\n",
    "\n",
    "'''interfaceType = \"ipIntfs \"\n",
    "attributeName = \"newAttribute22\"\n",
    "attributeDisplayName = \"New_Attribute\"\n",
    "deviceTypeNames = \"null\"\n",
    "dataType = \"string\"\n",
    "isFullSearch = True\n",
    "'''\n",
    "interfaceType = \"ipIntfs\"\n",
    "attributeName = \"newAtt11111\"\n",
    "#attributeDisplayName = \"\"\n",
    "#deviceTypeNames = \"\"\n",
    "dataType = \"string\"\n",
    "isFullSearch = \"hahahaha\"\n",
    "\n",
    "full_url= nb_url + \"/ServicesAPI/API/V1/CMDB/Interfaces/Attributes\"\n",
    "headers = {'Content-Type': 'application/json', 'Accept': 'application/json'}\n",
    "headers[\"Token\"]=token\n",
    "\n",
    "body={\n",
    "        \"interfaceType\":interfaceType,\n",
    "        \"attributeName\": attributeName,\n",
    "        \"attributeDisplayName\": attributeDisplayName,\n",
    "        \"deviceTypeNames\": deviceTypeNames, \n",
    "        \"dataType\": dataType,\n",
    "        \"isFullSearch\": isFullSearch\n",
    "    }\n",
    "\n",
    "try:\n",
    "    response = requests.post(full_url, data=json.dumps(body), headers=headers, verify=False)\n",
    "    if response.status_code == 200:\n",
    "        result = response.json()\n",
    "        print (result)\n",
    "    else:\n",
    "        print (\"Create interface attribute failed! - \" + str(response.text))\n",
    "\n",
    "except Exception as e:\n",
    "    print (str(e)) "
   ]
  },
  {
   "cell_type": "code",
   "execution_count": 7,
   "metadata": {},
   "outputs": [
    {
     "ename": "SyntaxError",
     "evalue": "invalid syntax (<ipython-input-7-8c1bde11513b>, line 1)",
     "output_type": "error",
     "traceback": [
      "\u001b[1;36m  File \u001b[1;32m\"<ipython-input-7-8c1bde11513b>\"\u001b[1;36m, line \u001b[1;32m1\u001b[0m\n\u001b[1;33m    Create interface attribute failed! - {\"statusCode\":791000,\"statusDescription\":\"Null parameter: the parameter 'attributeName' cannot be null.\"}\u001b[0m\n\u001b[1;37m                   ^\u001b[0m\n\u001b[1;31mSyntaxError\u001b[0m\u001b[1;31m:\u001b[0m invalid syntax\n"
     ]
    }
   ],
   "source": [
    "Create interface attribute failed! - {\"statusCode\":791000,\"statusDescription\":\"Null parameter: the parameter 'attributeName' cannot be null.\"}\n",
    "Create interface attribute failed! - {\"statusCode\":791000,\"statusDescription\":\"Null parameter: the parameter 'dataType' cannot be null.\"}\n",
    "Create interface attribute failed! - {\"statusCode\":791000,\"statusDescription\":\"Null parameter: the parameter 'interfaceType' cannot be null.\"}"
   ]
  },
  {
   "cell_type": "code",
   "execution_count": null,
   "metadata": {},
   "outputs": [],
   "source": []
  }
 ],
 "metadata": {
  "kernelspec": {
   "display_name": "Python 3",
   "language": "python",
   "name": "python3"
  },
  "language_info": {
   "codemirror_mode": {
    "name": "ipython",
    "version": 3
   },
   "file_extension": ".py",
   "mimetype": "text/x-python",
   "name": "python",
   "nbconvert_exporter": "python",
   "pygments_lexer": "ipython3",
   "version": "3.7.1"
  }
 },
 "nbformat": 4,
 "nbformat_minor": 2
}
