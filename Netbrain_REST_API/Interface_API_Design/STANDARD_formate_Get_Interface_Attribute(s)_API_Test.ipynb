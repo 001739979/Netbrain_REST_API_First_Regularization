{
 "cells": [
  {
   "cell_type": "markdown",
   "metadata": {},
   "source": [
    "# Interface API Design"
   ]
  },
  {
   "cell_type": "markdown",
   "metadata": {},
   "source": [
    "## ***GET*** /V1/CMDB/Interface/Attributes/{?hostname}/{?interfaceName}/{?attributeName}\n",
    "Call this API to get the value for a specified attribute of a device interface, get all attributes if the attribute name is not specifed.\n",
    "\n",
    "* ## Detail Information\n",
    "\n",
    "> **Title** : Get Interface Attribute(s) API<br>\n",
    "\n",
    "> **Version** : 01/29/2019.\n",
    "\n",
    "> **API Server URL** : http(s)://IP address of NetBrain Web API Server/ServicesAPI/API/V1/CMDB/Interfaces/Attributes/{?hostname}/{?interfaceName}/{?attributeName}\n",
    "\n",
    "> **Authentication** : \n",
    "\n",
    ">|**Type**|**In**|**Name**|\n",
    "|------|------|------|\n",
    "|<img width=100/>|<img width=100/>|<img width=500/>|\n",
    "|Bearer Authentication| Headers | Authentication token | \n",
    "\n",
    "* ## Request body(****required***)\n",
    "\n",
    ">No request body.\n",
    "\n",
    "* ## Query Parameters(****required***)\n",
    "\n",
    "> |**Name**|**Type**|**Description**|\n",
    "|------|------|------|\n",
    "|<img width=100/>|<img width=100/>|<img width=500/>|\n",
    "|hostname*| string | Device hostname.  |\n",
    "|interfaceName* | string  | Input the full name of the interface. |\n",
    "|attributeName | string  | Optional. The name of the attribute that you want to get its value,, get all attributes if the attribute name is not specifed.<br>Please note that the attribute name here is case sensitive and not the name displayed in the Device Details pane of NetBrain IE system. See Applicable Interface Attributes for system built-in interface attributes.  |\n",
    "\n",
    "* ## Headers\n",
    "\n",
    "> **Data Format Headers**\n",
    "\n",
    "> |**Name**|**Type**|**Description**|\n",
    "|------|------|------|\n",
    "|<img width=100/>|<img width=100/>|<img width=500/>|\n",
    "| Content-Type | string  | support \"application/json\" |\n",
    "| Accept | string  | support \"application/json\" |\n",
    "\n",
    "> **Authorization Headers**\n",
    "\n",
    "> |**Name**|**Type**|**Description**|\n",
    "|------|------|------|\n",
    "|<img width=100/>|<img width=100/>|<img width=500/>|\n",
    "| token | string  | Authentication token, get from login API. |\n",
    "\n",
    "* ## Response\n",
    "\n",
    ">|**Name**|**Type**|**Description**|\n",
    "|------|------|------|\n",
    "|<img width=100/>|<img width=100/>|<img width=500/>|\n",
    "|attributeName | string | The name of the attribute.  |\n",
    "|interfaceAttributeValue| string | The returned attribute value. |\n",
    "|hostname| string | The hostname of the returned device. |\n",
    "|statusCode| integer | The returned status code of executing the API.  |\n",
    "|statusDescription| string | The explanation of the status code.  |\n",
    "\n",
    "> ***Example***"
   ]
  },
  {
   "cell_type": "code",
   "execution_count": null,
   "metadata": {},
   "outputs": [],
   "source": [
    "{\n",
    "    \"hostname\": \"R1\",\n",
    "    \"attributes\": {\n",
    "        \"Ethernet0/3\": {\n",
    "            \"name\": \"Ethernet0/3\",\n",
    "            \"ips\": \"\",\n",
    "            \"ipv6s\": \"\",\n",
    "            \"ipv6LinkLocalAddress\": \"\",\n",
    "            \"mibIndex\": 4,\n",
    "            \"bandwidth\": 10000,\n",
    "            \"speed\": \"\",\n",
    "            \"duplex\": \"halfDuplex\",\n",
    "            \"intfStatus\": \"up/up\",\n",
    "            \"macAddr\": \"aabb.cc00.0530\",\n",
    "            \"moduleSlot\": \"\",\n",
    "            \"moduleType\": \"\",\n",
    "            \"descr\": \"\",\n",
    "            \"routingProtocol\": \"\",\n",
    "            \"multicastMode\": \"\",\n",
    "            \"mplsVrf\": \"\",\n",
    "            \"inAclName\": \"\",\n",
    "            \"outAclName\": \"\",\n",
    "            \"mode\": \"\",\n",
    "            \"vlan\": \"\",\n",
    "            \"trunkNativeVlan\": \"\",\n",
    "            \"trunkEncapsulation\": \"\",\n",
    "            \"ipUnnumberedIp\": \"\",\n",
    "            \"ss\": \"\"\n",
    "        }\n",
    "    },\n",
    "    \"statusCode\": 790200,\n",
    "    \"statusDescription\": \"Success.\"\n",
    "}"
   ]
  },
  {
   "cell_type": "markdown",
   "metadata": {},
   "source": [
    "* # Full Example:"
   ]
  },
  {
   "cell_type": "code",
   "execution_count": 3,
   "metadata": {},
   "outputs": [
    {
     "name": "stdout",
     "output_type": "stream",
     "text": [
      "{'hostname': 'R1', 'attributes': {'Ethernet0/0': {'name': 'Ethernet0/0', 'ips': '', 'ipv6s': '', 'ipv6LinkLocalAddress': '', 'mibIndex': 1, 'bandwidth': 10000, 'speed': '', 'duplex': 'halfDuplex', 'intfStatus': 'up/up', 'macAddr': 'aabb.cc00.0500', 'moduleSlot': '', 'moduleType': '', 'descr': '', 'routingProtocol': '', 'multicastMode': '', 'mplsVrf': '', 'inAclName': '', 'outAclName': '', 'mode': '', 'vlan': '', 'trunkNativeVlan': '', 'trunkEncapsulation': '', 'ipUnnumberedIp': '', 'ss': ''}, 'Ethernet0/1': {'name': 'Ethernet0/1', 'ips': [{'ip': 2064253189, 'ipLoc': '123.10.1.5/30', 'maskLen': 30}], 'ipv6s': '', 'ipv6LinkLocalAddress': '', 'mibIndex': 8, 'bandwidth': 10000, 'speed': '', 'duplex': 'halfDuplex', 'intfStatus': 'up/up', 'macAddr': 'aabb.cc00.0510', 'moduleSlot': '', 'moduleType': '', 'descr': '', 'routingProtocol': 'OSPF 12345 AREA 0', 'multicastMode': '', 'mplsVrf': '', 'inAclName': '', 'outAclName': '', 'mode': '', 'vlan': '', 'trunkNativeVlan': '', 'trunkEncapsulation': '', 'ipUnnumberedIp': '', 'ss': ''}, 'Ethernet0/2': {'name': 'Ethernet0/2', 'ips': [{'ip': 2064253186, 'ipLoc': '123.10.1.2/30', 'maskLen': 30}], 'ipv6s': '', 'ipv6LinkLocalAddress': '', 'mibIndex': 9, 'bandwidth': 10000, 'speed': '', 'duplex': 'halfDuplex', 'intfStatus': 'up/up', 'macAddr': 'aabb.cc00.0520', 'moduleSlot': '', 'moduleType': '', 'descr': '', 'routingProtocol': 'OSPF 12345 AREA 0', 'multicastMode': '', 'mplsVrf': '', 'inAclName': '', 'outAclName': '', 'mode': '', 'vlan': '', 'trunkNativeVlan': '', 'trunkEncapsulation': '', 'ipUnnumberedIp': '', 'ss': ''}, 'Ethernet0/3': {'name': 'Ethernet0/3', 'ips': '', 'ipv6s': '', 'ipv6LinkLocalAddress': '', 'mibIndex': 4, 'bandwidth': 10000, 'speed': '', 'duplex': 'halfDuplex', 'intfStatus': 'up/up', 'macAddr': 'aabb.cc00.0530', 'moduleSlot': '', 'moduleType': '', 'descr': '', 'routingProtocol': '', 'multicastMode': '', 'mplsVrf': '', 'inAclName': '', 'outAclName': '', 'mode': '', 'vlan': '', 'trunkNativeVlan': '', 'trunkEncapsulation': '', 'ipUnnumberedIp': '', 'ss': ''}, 'Loopback0': {'name': 'Loopback0', 'ips': [{'ip': 2063663361, 'ipLoc': '123.1.1.1/32', 'maskLen': 32}], 'ipv6s': '', 'ipv6LinkLocalAddress': '', 'mibIndex': 7, 'bandwidth': 8000000, 'speed': '', 'duplex': '', 'intfStatus': 'up/up', 'macAddr': '', 'moduleSlot': '', 'moduleType': '', 'descr': '', 'routingProtocol': 'OSPF 12345 AREA 0', 'multicastMode': '', 'mplsVrf': '', 'inAclName': '', 'outAclName': '', 'mode': '', 'vlan': '', 'trunkNativeVlan': '', 'trunkEncapsulation': '', 'ipUnnumberedIp': '', 'ss': ''}}, 'statusCode': 790200, 'statusDescription': 'Success.'}\n"
     ]
    }
   ],
   "source": [
    "# import python modules \n",
    "import requests\n",
    "import time\n",
    "import urllib3\n",
    "import pprint\n",
    "import json\n",
    "urllib3.disable_warnings(urllib3.exceptions.InsecureRequestWarning)\n",
    "\n",
    "# Set the request inputs\n",
    "token = \"b56ed962-8ccd-4b2d-a7c1-7d97fff51321\"\n",
    "nb_url = \"http://192.168.28.79\"\n",
    "headers = {'Content-Type': 'application/json', 'Accept': 'application/json'}\n",
    "headers[\"Token\"] = token\n",
    "full_url = nb_url + \"/ServicesAPI/API/V1/CMDB/Interfaces/Attributes\"\n",
    "\n",
    "hostname = \"R1\"\n",
    "interfaceName = \"\"\n",
    "attributeName = \"\"\n",
    "\n",
    "data = {\n",
    "        \"hostname\":hostname,\n",
    "        \"interfaceName\":interfaceName, \n",
    "        \"attributeName\":attributeName\n",
    "    }\n",
    "\n",
    "try:\n",
    "    response = requests.get(full_url, params = data, headers = headers, verify = False)\n",
    "    if response.status_code == 200:\n",
    "        result = response.json()\n",
    "        print (result)\n",
    "    else:\n",
    "        print (\"Get interface attributes failed! - \" + str(response.text))\n",
    "\n",
    "except Exception as e:\n",
    "    print (str(e))  "
   ]
  },
  {
   "cell_type": "markdown",
   "metadata": {},
   "source": [
    "* # cURL Code from Postman"
   ]
  },
  {
   "cell_type": "code",
   "execution_count": null,
   "metadata": {},
   "outputs": [],
   "source": [
    "curl -X GET \\\n",
    "  'http://192.168.28.79/ServicesAPI/API/V1/CMDB/Interfaces/Attributes?hostname=R1&interfaceName=Ethernet0/3' \\\n",
    "  -H 'Postman-Token: f049a497-1d47-40d9-b76b-8b03f2607b21' \\\n",
    "  -H 'cache-control: no-cache' \\\n",
    "  -H 'token: ff389578-87ef-45b6-b42c-7bd98c91d1a9'"
   ]
  },
  {
   "cell_type": "markdown",
   "metadata": {},
   "source": [
    "* # Error Examples:"
   ]
  },
  {
   "cell_type": "code",
   "execution_count": null,
   "metadata": {},
   "outputs": [],
   "source": [
    "###################################################################################################################    \n",
    "\n",
    "\"\"\"Error 1: empty hostname\"\"\"\n",
    "\n",
    "Input:\n",
    "    \n",
    "        hostname = \"\"\n",
    "        interfaceName = \"\"\n",
    "        attributeName = \"\"\n",
    "\n",
    "Response:\n",
    "    \n",
    "    \"Get interfaces failed! - \n",
    "        {\n",
    "            \"statusCode\":791000,\n",
    "            \"statusDescription\":\"Null parameter: the parameter 'hostname' cannot be null.\"\n",
    "        }\"\n",
    "            \n",
    "###################################################################################################################    \n",
    "\n",
    "\"\"\"Error 2: wrong hostname\"\"\"\"\"\"\"\"\"\"\"\"\"\"\"\"\"\"\"\"\"\"\"\"\"\"\"\"\"\"\"\"\"\"\"\"\"\"\"\"\"\"\"\"\"\"\"\"\"\"\"\"\"\"\"\"\"\"\"\"\"\"\"\"\"\"\"\"\"\"\"\"\"\"\"\"\"\"\"\"\"\"\"\n",
    "\n",
    "Input:\n",
    "    \n",
    "        hostname = \"RRRRRRRRRR1\" # Should be \"R1\"\n",
    "        interfaceName = \"\"\n",
    "        attributeName = \"\"\n",
    "\n",
    "Response:\n",
    "    \n",
    "                    {\n",
    "                        \"statusCode\": 790200,\n",
    "                        \"statusDescription\": \"Success.\"\n",
    "                    }"
   ]
  },
  {
   "cell_type": "code",
   "execution_count": null,
   "metadata": {},
   "outputs": [],
   "source": [
    "'''\n",
    "Some issues:\n",
    "        1) In query parameter table, the \"interfaceName\" attribute is a required input. But when I test this API, \n",
    "           if i don't provide the value of \"interfaceName\", the response will return all interfaces informations of \n",
    "           current device. Surprise.\n",
    "           \n",
    "        2) The response with wrong input of hostname will shows \"Success.\". It is not reasonable. Although there would be \n",
    "           no other informations of the un-exist device.\n",
    "           \n",
    "        3) Same with other get and set function, call this API can only return the inforamtion of physical interfaces,\n",
    "           without Ipv4 Ipv6 and other kinds of interfaces.\n",
    "'''"
   ]
  },
  {
   "cell_type": "code",
   "execution_count": null,
   "metadata": {},
   "outputs": [],
   "source": []
  }
 ],
 "metadata": {
  "kernelspec": {
   "display_name": "Python 3",
   "language": "python",
   "name": "python3"
  },
  "language_info": {
   "codemirror_mode": {
    "name": "ipython",
    "version": 3
   },
   "file_extension": ".py",
   "mimetype": "text/x-python",
   "name": "python",
   "nbconvert_exporter": "python",
   "pygments_lexer": "ipython3",
   "version": "3.7.1"
  }
 },
 "nbformat": 4,
 "nbformat_minor": 2
}
